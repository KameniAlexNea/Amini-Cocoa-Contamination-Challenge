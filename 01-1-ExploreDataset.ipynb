{
 "cells": [
  {
   "cell_type": "code",
   "execution_count": 1,
   "id": "7889ea8a",
   "metadata": {},
   "outputs": [],
   "source": [
    "# /data/home/eak/learning/nganga_ai/AminiCocoa/Amini-Cocoa-Contamination-Challenge/data_exploration.py\n",
    "import pandas as pd\n",
    "import matplotlib.pyplot as plt\n",
    "import seaborn as sns\n",
    "import os\n",
    "import cv2\n",
    "from tqdm import tqdm\n",
    "from IPython.display import display"
   ]
  },
  {
   "cell_type": "code",
   "execution_count": 2,
   "id": "604a3fab",
   "metadata": {},
   "outputs": [],
   "source": [
    "# --- Configuration ---\n",
    "DATA_DIR = \"dataset\"\n",
    "TRAIN_CSV_PATH = os.path.join(DATA_DIR, \"Train_df.csv\")\n",
    "TRAIN_IMAGE_DIR = os.path.join(DATA_DIR, \"images\", \"train\")\n",
    "OUTPUT_DIR = \"exploration_outputs\"  # Directory to save plots"
   ]
  },
  {
   "cell_type": "code",
   "execution_count": 3,
   "id": "43d4a034",
   "metadata": {},
   "outputs": [
    {
     "name": "stdout",
     "output_type": "stream",
     "text": [
      "Loading data from dataset/Train_df.csv...\n",
      "Data loaded successfully.\n",
      "Total number of bounding box entries: 9294\n",
      "Number of unique images: 5252\n"
     ]
    }
   ],
   "source": [
    "# Create output directory if it doesn't exist\n",
    "os.makedirs(OUTPUT_DIR, exist_ok=True)\n",
    "\n",
    "# --- Load Data ---\n",
    "print(f\"Loading data from {TRAIN_CSV_PATH}...\")\n",
    "try:\n",
    "    df = pd.read_csv(TRAIN_CSV_PATH)\n",
    "    print(\"Data loaded successfully.\")\n",
    "    print(f\"Total number of bounding box entries: {len(df)}\")\n",
    "    print(f\"Number of unique images: {df['Image_ID'].nunique()}\")\n",
    "except FileNotFoundError:\n",
    "    print(\n",
    "        f\"Error: {TRAIN_CSV_PATH} not found. Please ensure the dataset is correctly placed.\"\n",
    "    )\n",
    "    exit()"
   ]
  },
  {
   "cell_type": "code",
   "execution_count": 4,
   "id": "49029330",
   "metadata": {},
   "outputs": [
    {
     "name": "stdout",
     "output_type": "stream",
     "text": [
      "\n",
      "--- Basic DataFrame Info ---\n",
      "<class 'pandas.core.frame.DataFrame'>\n",
      "RangeIndex: 9294 entries, 0 to 9293\n",
      "Data columns (total 9 columns):\n",
      " #   Column      Non-Null Count  Dtype  \n",
      "---  ------      --------------  -----  \n",
      " 0   Image_ID    9294 non-null   object \n",
      " 1   class       9294 non-null   object \n",
      " 2   confidence  9294 non-null   float64\n",
      " 3   ymin        9294 non-null   float64\n",
      " 4   xmin        9294 non-null   float64\n",
      " 5   ymax        9294 non-null   float64\n",
      " 6   xmax        9294 non-null   float64\n",
      " 7   class_id    9294 non-null   int64  \n",
      " 8   ImagePath   9294 non-null   object \n",
      "dtypes: float64(5), int64(1), object(3)\n",
      "memory usage: 653.6+ KB\n"
     ]
    },
    {
     "data": {
      "text/plain": [
       "None"
      ]
     },
     "metadata": {},
     "output_type": "display_data"
    },
    {
     "name": "stdout",
     "output_type": "stream",
     "text": [
      "\n",
      "--- First 5 Rows ---\n"
     ]
    },
    {
     "data": {
      "text/html": [
       "<div>\n",
       "<style scoped>\n",
       "    .dataframe tbody tr th:only-of-type {\n",
       "        vertical-align: middle;\n",
       "    }\n",
       "\n",
       "    .dataframe tbody tr th {\n",
       "        vertical-align: top;\n",
       "    }\n",
       "\n",
       "    .dataframe thead th {\n",
       "        text-align: right;\n",
       "    }\n",
       "</style>\n",
       "<table border=\"1\" class=\"dataframe\">\n",
       "  <thead>\n",
       "    <tr style=\"text-align: right;\">\n",
       "      <th></th>\n",
       "      <th>Image_ID</th>\n",
       "      <th>class</th>\n",
       "      <th>confidence</th>\n",
       "      <th>ymin</th>\n",
       "      <th>xmin</th>\n",
       "      <th>ymax</th>\n",
       "      <th>xmax</th>\n",
       "      <th>class_id</th>\n",
       "      <th>ImagePath</th>\n",
       "    </tr>\n",
       "  </thead>\n",
       "  <tbody>\n",
       "    <tr>\n",
       "      <th>0</th>\n",
       "      <td>ID_nBgcAR.jpg</td>\n",
       "      <td>healthy</td>\n",
       "      <td>1.0</td>\n",
       "      <td>75.0</td>\n",
       "      <td>15.0</td>\n",
       "      <td>162.0</td>\n",
       "      <td>195.0</td>\n",
       "      <td>2</td>\n",
       "      <td>dataset/images/train/ID_nBgcAR.jpg</td>\n",
       "    </tr>\n",
       "    <tr>\n",
       "      <th>1</th>\n",
       "      <td>ID_nBgcAR.jpg</td>\n",
       "      <td>healthy</td>\n",
       "      <td>1.0</td>\n",
       "      <td>58.0</td>\n",
       "      <td>1.0</td>\n",
       "      <td>133.0</td>\n",
       "      <td>171.0</td>\n",
       "      <td>2</td>\n",
       "      <td>dataset/images/train/ID_nBgcAR.jpg</td>\n",
       "    </tr>\n",
       "    <tr>\n",
       "      <th>2</th>\n",
       "      <td>ID_nBgcAR.jpg</td>\n",
       "      <td>healthy</td>\n",
       "      <td>1.0</td>\n",
       "      <td>42.0</td>\n",
       "      <td>29.0</td>\n",
       "      <td>377.0</td>\n",
       "      <td>349.0</td>\n",
       "      <td>2</td>\n",
       "      <td>dataset/images/train/ID_nBgcAR.jpg</td>\n",
       "    </tr>\n",
       "    <tr>\n",
       "      <th>3</th>\n",
       "      <td>ID_Kw2v8A.jpg</td>\n",
       "      <td>healthy</td>\n",
       "      <td>1.0</td>\n",
       "      <td>112.0</td>\n",
       "      <td>124.0</td>\n",
       "      <td>404.0</td>\n",
       "      <td>341.0</td>\n",
       "      <td>2</td>\n",
       "      <td>dataset/images/train/ID_Kw2v8A.jpg</td>\n",
       "    </tr>\n",
       "    <tr>\n",
       "      <th>4</th>\n",
       "      <td>ID_Kw2v8A.jpg</td>\n",
       "      <td>healthy</td>\n",
       "      <td>1.0</td>\n",
       "      <td>148.0</td>\n",
       "      <td>259.0</td>\n",
       "      <td>413.0</td>\n",
       "      <td>412.0</td>\n",
       "      <td>2</td>\n",
       "      <td>dataset/images/train/ID_Kw2v8A.jpg</td>\n",
       "    </tr>\n",
       "  </tbody>\n",
       "</table>\n",
       "</div>"
      ],
      "text/plain": [
       "        Image_ID    class  confidence   ymin   xmin   ymax   xmax  class_id  \\\n",
       "0  ID_nBgcAR.jpg  healthy         1.0   75.0   15.0  162.0  195.0         2   \n",
       "1  ID_nBgcAR.jpg  healthy         1.0   58.0    1.0  133.0  171.0         2   \n",
       "2  ID_nBgcAR.jpg  healthy         1.0   42.0   29.0  377.0  349.0         2   \n",
       "3  ID_Kw2v8A.jpg  healthy         1.0  112.0  124.0  404.0  341.0         2   \n",
       "4  ID_Kw2v8A.jpg  healthy         1.0  148.0  259.0  413.0  412.0         2   \n",
       "\n",
       "                            ImagePath  \n",
       "0  dataset/images/train/ID_nBgcAR.jpg  \n",
       "1  dataset/images/train/ID_nBgcAR.jpg  \n",
       "2  dataset/images/train/ID_nBgcAR.jpg  \n",
       "3  dataset/images/train/ID_Kw2v8A.jpg  \n",
       "4  dataset/images/train/ID_Kw2v8A.jpg  "
      ]
     },
     "metadata": {},
     "output_type": "display_data"
    },
    {
     "name": "stdout",
     "output_type": "stream",
     "text": [
      "\n",
      "--- Missing Values ---\n"
     ]
    },
    {
     "data": {
      "text/plain": [
       "Image_ID      0\n",
       "class         0\n",
       "confidence    0\n",
       "ymin          0\n",
       "xmin          0\n",
       "ymax          0\n",
       "xmax          0\n",
       "class_id      0\n",
       "ImagePath     0\n",
       "dtype: int64"
      ]
     },
     "metadata": {},
     "output_type": "display_data"
    }
   ],
   "source": [
    "# --- Basic Info ---\n",
    "print(\"\\n--- Basic DataFrame Info ---\")\n",
    "display(df.info())\n",
    "print(\"\\n--- First 5 Rows ---\")\n",
    "display(df.head())\n",
    "print(\"\\n--- Missing Values ---\")\n",
    "display(df.isnull().sum())  # Check for missing values"
   ]
  },
  {
   "cell_type": "code",
   "execution_count": 5,
   "id": "ebf88a32",
   "metadata": {},
   "outputs": [
    {
     "name": "stdout",
     "output_type": "stream",
     "text": [
      "\n",
      "--- Class Distribution ---\n",
      "class\n",
      "healthy        4061\n",
      "cssvd          3071\n",
      "anthracnose    2162\n",
      "Name: count, dtype: int64\n",
      "Saved class distribution plot to exploration_outputs/class_distribution.png\n"
     ]
    },
    {
     "name": "stderr",
     "output_type": "stream",
     "text": [
      "/tmp/ipykernel_3686090/3688705115.py:7: FutureWarning: \n",
      "\n",
      "Passing `palette` without assigning `hue` is deprecated and will be removed in v0.14.0. Assign the `x` variable to `hue` and set `legend=False` for the same effect.\n",
      "\n",
      "  sns.barplot(x=class_counts.index, y=class_counts.values, palette=\"viridis\")\n"
     ]
    }
   ],
   "source": [
    "# --- Class Distribution ---\n",
    "print(\"\\n--- Class Distribution ---\")\n",
    "class_counts = df[\"class\"].value_counts()\n",
    "print(class_counts)\n",
    "\n",
    "plt.figure(figsize=(10, 6))\n",
    "sns.barplot(x=class_counts.index, y=class_counts.values, palette=\"viridis\")\n",
    "plt.title(\"Class Distribution\")\n",
    "plt.xlabel(\"Class Name\")\n",
    "plt.ylabel(\"Number of Bounding Boxes\")\n",
    "plt.xticks(rotation=45, ha=\"right\")\n",
    "plt.tight_layout()\n",
    "plt.savefig(os.path.join(OUTPUT_DIR, \"class_distribution.png\"))\n",
    "print(\n",
    "    f\"Saved class distribution plot to {os.path.join(OUTPUT_DIR, 'class_distribution.png')}\"\n",
    ")\n",
    "# plt.show() # Optionally display plot interactively\n",
    "plt.close()"
   ]
  },
  {
   "cell_type": "code",
   "execution_count": 6,
   "id": "e30b6af7",
   "metadata": {},
   "outputs": [
    {
     "name": "stdout",
     "output_type": "stream",
     "text": [
      "\n",
      "--- Bounding Box Analysis ---\n",
      "\n",
      "--- Bounding Box Statistics (Width, Height, Area, Aspect Ratio) ---\n",
      "        bbox_width  bbox_height     bbox_area  aspect_ratio\n",
      "count  9294.000000  9294.000000  9.294000e+03   9294.000000\n",
      "mean   1014.680439  1331.383150  1.905404e+06      0.923712\n",
      "std     808.609728  1020.951386  2.498296e+06      0.652592\n",
      "min      16.000000     3.000000  9.600000e+01      0.133588\n",
      "25%     433.000000   554.250000  2.760908e+05      0.547031\n",
      "50%     794.500000  1080.000000  8.530610e+05      0.717549\n",
      "75%    1337.000000  1856.000000  2.403886e+06      1.096320\n",
      "max    4098.000000  4128.000000  1.249744e+07     19.736111\n"
     ]
    }
   ],
   "source": [
    "# --- Bounding Box Analysis ---\n",
    "print(\"\\n--- Bounding Box Analysis ---\")\n",
    "# Calculate width, height, area, aspect ratio\n",
    "df[\"bbox_width\"] = df[\"xmax\"] - df[\"xmin\"]\n",
    "df[\"bbox_height\"] = df[\"ymax\"] - df[\"ymin\"]\n",
    "df[\"bbox_area\"] = df[\"bbox_width\"] * df[\"bbox_height\"]\n",
    "# Avoid division by zero for aspect ratio\n",
    "df[\"aspect_ratio\"] = df[\"bbox_width\"] / (df[\"bbox_height\"] + 1e-6)\n",
    "\n",
    "print(\"\\n--- Bounding Box Statistics (Width, Height, Area, Aspect Ratio) ---\")\n",
    "print(df[[\"bbox_width\", \"bbox_height\", \"bbox_area\", \"aspect_ratio\"]].describe())"
   ]
  },
  {
   "cell_type": "code",
   "execution_count": 7,
   "id": "e4e49ebb",
   "metadata": {},
   "outputs": [
    {
     "name": "stdout",
     "output_type": "stream",
     "text": [
      "Saved bounding box distribution plots to exploration_outputs/bbox_distributions.png\n"
     ]
    }
   ],
   "source": [
    "# Plot distributions\n",
    "fig, axes = plt.subplots(2, 2, figsize=(15, 10))\n",
    "fig.suptitle(\"Bounding Box Distributions\")\n",
    "\n",
    "sns.histplot(df[\"bbox_width\"], kde=True, ax=axes[0, 0])\n",
    "axes[0, 0].set_title(\"Width Distribution\")\n",
    "\n",
    "sns.histplot(df[\"bbox_height\"], kde=True, ax=axes[0, 1])\n",
    "axes[0, 1].set_title(\"Height Distribution\")\n",
    "\n",
    "sns.histplot(df[\"bbox_area\"], kde=True, ax=axes[1, 0])\n",
    "axes[1, 0].set_title(\"Area Distribution\")\n",
    "axes[1, 0].set_yscale(\"log\")  # Use log scale for potentially large range\n",
    "\n",
    "sns.histplot(df[\"aspect_ratio\"], kde=True, ax=axes[1, 1])\n",
    "axes[1, 1].set_title(\"Aspect Ratio Distribution\")\n",
    "# axes[1, 1].set_xscale('log') # Consider log scale if skewed\n",
    "\n",
    "plt.tight_layout(rect=[0, 0.03, 1, 0.95])  # Adjust layout to prevent title overlap\n",
    "plt.savefig(os.path.join(OUTPUT_DIR, \"bbox_distributions.png\"))\n",
    "print(\n",
    "    f\"Saved bounding box distribution plots to {os.path.join(OUTPUT_DIR, 'bbox_distributions.png')}\"\n",
    ")\n",
    "# plt.show()\n",
    "plt.close()"
   ]
  },
  {
   "cell_type": "code",
   "execution_count": 8,
   "id": "ac488475",
   "metadata": {},
   "outputs": [
    {
     "name": "stdout",
     "output_type": "stream",
     "text": [
      "\n",
      "--- Bounding Boxes per Image ---\n",
      "count    5252.000000\n",
      "mean        1.769612\n",
      "std         1.232706\n",
      "min         1.000000\n",
      "25%         1.000000\n",
      "50%         1.000000\n",
      "75%         2.000000\n",
      "max        13.000000\n",
      "dtype: float64\n",
      "Saved bboxes per image plot to exploration_outputs/bboxes_per_image.png\n"
     ]
    }
   ],
   "source": [
    "# --- Bounding Boxes per Image ---\n",
    "print(\"\\n--- Bounding Boxes per Image ---\")\n",
    "bboxes_per_image = df.groupby(\"Image_ID\").size()\n",
    "print(bboxes_per_image.describe())\n",
    "\n",
    "plt.figure(figsize=(10, 6))\n",
    "sns.histplot(\n",
    "    bboxes_per_image, kde=False, bins=max(1, bboxes_per_image.max())\n",
    ")  # Adjust bins\n",
    "plt.title(\"Number of Bounding Boxes per Image\")\n",
    "plt.xlabel(\"Number of Bounding Boxes\")\n",
    "plt.ylabel(\"Number of Images\")\n",
    "plt.yscale(\"log\")  # Often useful for counts\n",
    "plt.tight_layout()\n",
    "plt.savefig(os.path.join(OUTPUT_DIR, \"bboxes_per_image.png\"))\n",
    "print(\n",
    "    f\"Saved bboxes per image plot to {os.path.join(OUTPUT_DIR, 'bboxes_per_image.png')}\"\n",
    ")\n",
    "# plt.show()\n",
    "plt.close()"
   ]
  },
  {
   "cell_type": "code",
   "execution_count": 9,
   "id": "104f6cf6",
   "metadata": {},
   "outputs": [
    {
     "name": "stdout",
     "output_type": "stream",
     "text": [
      "\n",
      "--- Visualizing Sample Images ---\n"
     ]
    }
   ],
   "source": [
    "# --- Visualize Sample Images with Bounding Boxes ---\n",
    "print(\"\\n--- Visualizing Sample Images ---\")\n",
    "num_samples_to_show = 5\n",
    "sample_image_ids = (\n",
    "    df[\"Image_ID\"].drop_duplicates().sample(num_samples_to_show, random_state=42)\n",
    ")"
   ]
  },
  {
   "cell_type": "code",
   "execution_count": 10,
   "id": "2d4700ca",
   "metadata": {},
   "outputs": [],
   "source": [
    "# Define colors for different classes (add more if needed)\n",
    "class_colors = {\n",
    "    \"Healthy\": (0, 255, 0),  # Green\n",
    "    \"Diseased\": (0, 0, 255),  # Red\n",
    "    \"Contaminated\": (255, 0, 0),  # Blue\n",
    "    # Add other classes and their BGR colors here\n",
    "}\n",
    "default_color = (255, 255, 255)  # White for unknown classes"
   ]
  },
  {
   "cell_type": "code",
   "execution_count": 11,
   "id": "a63db5fd",
   "metadata": {},
   "outputs": [
    {
     "name": "stderr",
     "output_type": "stream",
     "text": [
      "Drawing samples: 100%|██████████| 5/5 [00:00<00:00, 10.28it/s]"
     ]
    },
    {
     "name": "stdout",
     "output_type": "stream",
     "text": [
      "\n",
      "Saved 5 sample images with bounding boxes to exploration_outputs\n",
      "\n",
      "--- Data Exploration Complete ---\n"
     ]
    },
    {
     "name": "stderr",
     "output_type": "stream",
     "text": [
      "\n"
     ]
    }
   ],
   "source": [
    "for image_id in tqdm(sample_image_ids, desc=\"Drawing samples\"):\n",
    "    image_path = os.path.join(TRAIN_IMAGE_DIR, image_id)\n",
    "    if not os.path.exists(image_path):\n",
    "        print(f\"Warning: Image not found at {image_path}, skipping visualization.\")\n",
    "        continue\n",
    "\n",
    "    img = cv2.imread(image_path)\n",
    "    if img is None:\n",
    "        print(f\"Warning: Could not read image {image_path}, skipping visualization.\")\n",
    "        continue\n",
    "\n",
    "    bboxes = df[df[\"Image_ID\"] == image_id]\n",
    "\n",
    "    for _, row in bboxes.iterrows():\n",
    "        xmin, ymin, xmax, ymax = (\n",
    "            int(row[\"xmin\"]),\n",
    "            int(row[\"ymin\"]),\n",
    "            int(row[\"xmax\"]),\n",
    "            int(row[\"ymax\"]),\n",
    "        )\n",
    "        class_name = row[\"class\"]\n",
    "        confidence = row[\n",
    "            \"confidence\"\n",
    "        ]  # Although confidence is usually for predictions, it's in the train CSV\n",
    "        color = class_colors.get(class_name, default_color)\n",
    "\n",
    "        # Draw bounding box\n",
    "        cv2.rectangle(img, (xmin, ymin), (xmax, ymax), color, 2)  # Thickness 2\n",
    "\n",
    "        # Put label text\n",
    "        label = f\"{class_name} ({confidence:.2f})\"\n",
    "        (w, h), _ = cv2.getTextSize(label, cv2.FONT_HERSHEY_SIMPLEX, 0.6, 1)\n",
    "        # Ensure text background doesn't go out of bounds\n",
    "        text_ymin = max(ymin - h - 4, 0)\n",
    "        text_ymax = max(ymin, h + 4)  # Use max to handle cases where ymin is small\n",
    "        cv2.rectangle(\n",
    "            img, (xmin, text_ymin), (xmin + w, text_ymax), color, -1\n",
    "        )  # Filled background\n",
    "        cv2.putText(\n",
    "            img,\n",
    "            label,\n",
    "            (xmin, ymin - 4),\n",
    "            cv2.FONT_HERSHEY_SIMPLEX,\n",
    "            0.6,\n",
    "            (255, 255, 255),\n",
    "            1,\n",
    "            cv2.LINE_AA,\n",
    "        )  # White text\n",
    "\n",
    "    output_path = os.path.join(OUTPUT_DIR, f\"sample_{image_id}\")\n",
    "    cv2.imwrite(output_path, img)\n",
    "    # print(f\"Saved sample image with boxes to {output_path}\") # Can be verbose\n",
    "\n",
    "print(\n",
    "    f\"\\nSaved {num_samples_to_show} sample images with bounding boxes to {OUTPUT_DIR}\"\n",
    ")\n",
    "print(\"\\n--- Data Exploration Complete ---\")"
   ]
  },
  {
   "cell_type": "markdown",
   "id": "5645424f",
   "metadata": {},
   "source": [
    "# data_exploration_report.md\n",
    "# Data Exploration Report: Cocoa Contamination Detection\n",
    "\n",
    "This report summarizes the initial exploration of the cocoa bean dataset provided for the contamination detection challenge.\n",
    "\n",
    "## 1. Dataset Overview\n",
    "\n",
    "*   **Training Data CSV:** `dataset/Train_df.csv`\n",
    "*   **Training Images:** `dataset/images/train/`\n",
    "*   **Training Labels:** `dataset/labels/train/` (Note: Primary analysis used the CSV)\n",
    "\n",
    "The `Train_df.csv` contains bounding box annotations for objects within the training images.\n",
    "\n",
    "## 2. Initial Analysis (from `Train_df.csv`)\n",
    "\n",
    "*   **Total Bounding Box Entries:** [Insert Number from Script Output]\n",
    "*   **Number of Unique Images:** [Insert Number from Script Output]\n",
    "*   **Columns:** `Image_ID`, `class`, `confidence`, `ymin`, `xmin`, `ymax`, `xmax`, `class_id`, `ImagePath`\n",
    "*   **Missing Values:** Checked for missing values. [Report if any were found, e.g., \"No missing values found.\" or specify columns/counts].\n",
    "\n",
    "## 3. Class Distribution\n",
    "\n",
    "*   The distribution of bounding boxes per class was analyzed.\n",
    "*   **Counts:**\n",
    "    *   [Class 1 Name]: [Count]\n",
    "    *   [Class 2 Name]: [Count]\n",
    "    *   [Class 3 Name]: [Count]\n",
    "    *   ... (List all classes and their counts from script output)\n",
    "*   **Observations:** [Comment on class balance/imbalance, e.g., \"The dataset shows a significant imbalance, with 'Healthy' beans being the most frequent class.\"]\n",
    "\n",
    "![Class Distribution Plot](exploration_outputs/class_distribution.png)\n",
    "\n",
    "## 4. Bounding Box Analysis\n",
    "\n",
    "Bounding box dimensions (width, height, area) and aspect ratios were calculated and analyzed.\n",
    "\n",
    "*   **Summary Statistics:**\n",
    "    *   **Width:** Mean=[...], Std=[...], Min=[...], Max=[...]\n",
    "    *   **Height:** Mean=[...], Std=[...], Min=[...], Max=[...]\n",
    "    *   **Area:** Mean=[...], Std=[...], Min=[...], Max=[...]\n",
    "    *   **Aspect Ratio:** Mean=[...], Std=[...], Min=[...], Max=[...]\n",
    "    *(Fill in the values from the script's `.describe()` output)*\n",
    "*   **Observations:** [Comment on the typical size and shape of bounding boxes, e.g., \"Bounding boxes vary significantly in size.\", \"Most boxes have an aspect ratio close to 1, suggesting roughly square objects, but there's a long tail.\", \"The area distribution is heavily skewed, suggesting many small objects.\"]\n",
    "\n",
    "![Bounding Box Distributions Plot](exploration_outputs/bbox_distributions.png)\n",
    "\n",
    "## 5. Bounding Boxes per Image\n",
    "\n",
    "The number of bounding boxes annotated in each image was analyzed.\n",
    "\n",
    "*   **Summary Statistics:** Mean=[...], Std=[...], Min=[...], Max=[...]\n",
    "    *(Fill in the values from the script's `.describe()` output for `bboxes_per_image`)*\n",
    "*   **Observations:** [Comment on the density of objects per image, e.g., \"Most images contain a small number of bounding boxes (e.g., 1-5), but some images have a very high density of objects.\", \"The distribution is right-skewed.\"]\n",
    "\n",
    "![Bounding Boxes per Image Plot](exploration_outputs/bboxes_per_image.png)\n",
    "\n",
    "## 6. Sample Visualizations\n",
    "\n",
    "Several sample images were visualized with their corresponding bounding boxes.\n",
    "\n",
    "*   *(Optionally embed or link to a few sample images saved in `exploration_outputs/`)*\n",
    "    *   `exploration_outputs/sample_[image_id_1].jpg`\n",
    "    *   `exploration_outputs/sample_[image_id_2].jpg`\n",
    "    *   ...\n",
    "*   **Observations:** [Comment on visual aspects, e.g., \"Visual inspection confirms annotations generally align with visible objects.\", \"Some images are crowded.\", \"Lighting conditions vary.\", \"Object appearance (e.g., color, texture) differs between classes.\"]\n",
    "\n",
    "## 7. Next Steps & Considerations\n",
    "\n",
    "*   **Class Imbalance:** Address the class imbalance during training (e.g., using weighted loss, over/undersampling, data augmentation).\n",
    "*   **Bounding Box Size Variance:** The wide range of bounding box sizes suggests the need for a model robust to scale variations (e.g., using Feature Pyramid Networks).\n",
    "*   **Anchor Boxes:** The distribution of aspect ratios and sizes can inform the selection or generation of appropriate anchor boxes if using anchor-based detectors.\n",
    "*   **Data Augmentation:** Apply relevant data augmentation techniques (e.g., scaling, rotation, color jitter) to improve model generalization.\n",
    "*   **Confidence Column:** The `confidence` column in the training data is unusual. Investigate its meaning or potentially ignore it if it represents annotation confidence rather than model prediction confidence. If it's annotation confidence, it could potentially be used for weighting samples."
   ]
  }
 ],
 "metadata": {
  "kernelspec": {
   "display_name": ".venv",
   "language": "python",
   "name": "python3"
  },
  "language_info": {
   "codemirror_mode": {
    "name": "ipython",
    "version": 3
   },
   "file_extension": ".py",
   "mimetype": "text/x-python",
   "name": "python",
   "nbconvert_exporter": "python",
   "pygments_lexer": "ipython3",
   "version": "3.10.13"
  }
 },
 "nbformat": 4,
 "nbformat_minor": 5
}
