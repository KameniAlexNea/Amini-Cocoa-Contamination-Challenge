{
 "cells": [
  {
   "cell_type": "code",
   "execution_count": 1,
   "metadata": {},
   "outputs": [],
   "source": [
    "# Import libraries\n",
    "import pandas as pd\n",
    "import os\n",
    "from pathlib import Path\n",
    "import shutil\n",
    "from sklearn.model_selection import train_test_split\n",
    "from tqdm import tqdm\n",
    "import yaml\n",
    "import matplotlib.pyplot as plt\n",
    "import multiprocessing\n",
    "import numpy as np\n",
    "from PIL import Image"
   ]
  },
  {
   "cell_type": "code",
   "execution_count": 2,
   "metadata": {},
   "outputs": [
    {
     "data": {
      "text/plain": [
       "['train.json',\n",
       " 'Test.ipynb',\n",
       " 'predictions',\n",
       " 'SampleSubmission.csv',\n",
       " 'dataset.zip',\n",
       " 'valid.json',\n",
       " 'Test.csv',\n",
       " 'Train.csv',\n",
       " 'Cocoa_Disease_Starter_Notebook.ipynb',\n",
       " 'Train_df.csv',\n",
       " 'images',\n",
       " 'Val_df.csv',\n",
       " 'labels',\n",
       " 'evaluations']"
      ]
     },
     "execution_count": 2,
     "metadata": {},
     "output_type": "execute_result"
    }
   ],
   "source": [
    "# INPUT_DIRS\n",
    "INPUT_DATA_DIR = Path('dataset')\n",
    "\n",
    "os.listdir(INPUT_DATA_DIR)"
   ]
  },
  {
   "cell_type": "code",
   "execution_count": 3,
   "metadata": {},
   "outputs": [
    {
     "data": {
      "text/plain": [
       "PosixPath('dataset')"
      ]
     },
     "execution_count": 3,
     "metadata": {},
     "output_type": "execute_result"
    }
   ],
   "source": [
    "## Drop the Folder if it already exists\n",
    "DATASETS_DIR = Path('dataset')\n",
    "DATASETS_DIR"
   ]
  },
  {
   "cell_type": "code",
   "execution_count": 4,
   "metadata": {},
   "outputs": [],
   "source": [
    "# Image & labels directory\n",
    "TRAIN_IMAGES_DIR = DATASETS_DIR / 'images' / 'train'\n",
    "TRAIN_LABELS_DIR = DATASETS_DIR / 'labels'/ 'train'\n",
    "TEST_IMAGES_DIR = DATASETS_DIR / 'images' / 'test'\n",
    "VAL_IMAGES_DIR = DATASETS_DIR / 'images' /'val'\n",
    "VAL_LABELS_DIR = DATASETS_DIR / 'labels' /'val'"
   ]
  },
  {
   "cell_type": "code",
   "execution_count": 5,
   "metadata": {},
   "outputs": [],
   "source": [
    "# Check if DATASETS_DIR exists, if it does delete it and recreate it\n",
    "for DIR in [\n",
    "    TRAIN_IMAGES_DIR,\n",
    "    VAL_IMAGES_DIR,\n",
    "    TEST_IMAGES_DIR,\n",
    "    VAL_LABELS_DIR,\n",
    "    # DATASETS_DIR,\n",
    "]:\n",
    "    if DIR.exists():\n",
    "        shutil.rmtree(DIR)\n",
    "    DIR.mkdir(parents=True, exist_ok=True)\n",
    "DATASETS_DIR.mkdir(parents=True, exist_ok=True)"
   ]
  },
  {
   "cell_type": "code",
   "execution_count": 6,
   "metadata": {},
   "outputs": [],
   "source": [
    "shutil.unpack_archive(INPUT_DATA_DIR / 'dataset.zip', DATASETS_DIR)"
   ]
  },
  {
   "cell_type": "code",
   "execution_count": 7,
   "metadata": {},
   "outputs": [],
   "source": [
    "def count_files(directory):\n",
    "    total_files = 0\n",
    "    for root, _, files in os.walk(directory):\n",
    "        total_files += len(files)\n",
    "    return total_files"
   ]
  },
  {
   "cell_type": "code",
   "execution_count": 8,
   "metadata": {},
   "outputs": [
    {
     "name": "stdout",
     "output_type": "stream",
     "text": [
      "There are 5529 in dataset/images/train\n"
     ]
    }
   ],
   "source": [
    "## Count the number files in TRAIN_IMAGES_DIR\n",
    "num_train_images = count_files(TRAIN_IMAGES_DIR)\n",
    "print(f\"There are {num_train_images} in {TRAIN_IMAGES_DIR}\")"
   ]
  },
  {
   "cell_type": "code",
   "execution_count": 9,
   "metadata": {},
   "outputs": [
    {
     "name": "stdout",
     "output_type": "stream",
     "text": [
      "There are 1626 in dataset/images/test\n"
     ]
    }
   ],
   "source": [
    "## Count the number of files in TRAIN_LABELS_DIR\n",
    "num_test_labels = count_files(TEST_IMAGES_DIR)\n",
    "print(f\"There are {num_test_labels} in {TEST_IMAGES_DIR}\")"
   ]
  },
  {
   "cell_type": "code",
   "execution_count": 10,
   "metadata": {},
   "outputs": [
    {
     "data": {
      "text/plain": [
       "5529"
      ]
     },
     "execution_count": 10,
     "metadata": {},
     "output_type": "execute_result"
    }
   ],
   "source": [
    "## Get the set of all the stems of the images in TRAIN_IMAGES_DIR\n",
    "train_images_stems = set([str(Path(name).stem) for name in os.listdir(TRAIN_IMAGES_DIR)])\n",
    "len(train_images_stems)"
   ]
  },
  {
   "cell_type": "code",
   "execution_count": 11,
   "metadata": {},
   "outputs": [
    {
     "data": {
      "text/plain": [
       "5529"
      ]
     },
     "execution_count": 11,
     "metadata": {},
     "output_type": "execute_result"
    }
   ],
   "source": [
    "## Get the set of all the stems of the labes in TRAIN_LABELS_DIR\n",
    "train_labels_stems = set([str(Path(name).stem) for name in os.listdir(TRAIN_LABELS_DIR)])\n",
    "len(train_labels_stems)"
   ]
  },
  {
   "cell_type": "code",
   "execution_count": 12,
   "metadata": {},
   "outputs": [
    {
     "data": {
      "text/plain": [
       "True"
      ]
     },
     "execution_count": 12,
     "metadata": {},
     "output_type": "execute_result"
    }
   ],
   "source": [
    "# Check that the two sets are identitical\n",
    "train_images_stems == train_labels_stems"
   ]
  },
  {
   "cell_type": "code",
   "execution_count": 13,
   "metadata": {},
   "outputs": [
    {
     "data": {
      "text/plain": [
       "PosixPath('/data/home/eak/learning/nganga_ai/AminiCocoa/Amini-Cocoa-Contamination-Challenge/dataset/images/train')"
      ]
     },
     "execution_count": 13,
     "metadata": {},
     "output_type": "execute_result"
    }
   ],
   "source": [
    "TRAIN_IMAGES_DIR.absolute()"
   ]
  },
  {
   "cell_type": "code",
   "execution_count": 14,
   "metadata": {},
   "outputs": [],
   "source": [
    "# Load train and test files\n",
    "train = pd.read_csv(INPUT_DATA_DIR / 'Train.csv')\n",
    "test = pd.read_csv(INPUT_DATA_DIR / 'Test.csv')\n",
    "ss = pd.read_csv(INPUT_DATA_DIR / 'SampleSubmission.csv')"
   ]
  },
  {
   "cell_type": "code",
   "execution_count": 15,
   "metadata": {},
   "outputs": [
    {
     "data": {
      "text/html": [
       "<div>\n",
       "<style scoped>\n",
       "    .dataframe tbody tr th:only-of-type {\n",
       "        vertical-align: middle;\n",
       "    }\n",
       "\n",
       "    .dataframe tbody tr th {\n",
       "        vertical-align: top;\n",
       "    }\n",
       "\n",
       "    .dataframe thead th {\n",
       "        text-align: right;\n",
       "    }\n",
       "</style>\n",
       "<table border=\"1\" class=\"dataframe\">\n",
       "  <thead>\n",
       "    <tr style=\"text-align: right;\">\n",
       "      <th></th>\n",
       "      <th>Image_ID</th>\n",
       "      <th>class</th>\n",
       "      <th>confidence</th>\n",
       "      <th>ymin</th>\n",
       "      <th>xmin</th>\n",
       "      <th>ymax</th>\n",
       "      <th>xmax</th>\n",
       "    </tr>\n",
       "  </thead>\n",
       "  <tbody>\n",
       "    <tr>\n",
       "      <th>0</th>\n",
       "      <td>ID_Genxyu.jpg</td>\n",
       "      <td>healthy</td>\n",
       "      <td>0.5</td>\n",
       "      <td>100</td>\n",
       "      <td>100</td>\n",
       "      <td>100</td>\n",
       "      <td>100</td>\n",
       "    </tr>\n",
       "    <tr>\n",
       "      <th>1</th>\n",
       "      <td>ID_svY6TG.jpg</td>\n",
       "      <td>healthy</td>\n",
       "      <td>0.5</td>\n",
       "      <td>100</td>\n",
       "      <td>100</td>\n",
       "      <td>100</td>\n",
       "      <td>100</td>\n",
       "    </tr>\n",
       "    <tr>\n",
       "      <th>2</th>\n",
       "      <td>ID_d0gpda.jpg</td>\n",
       "      <td>healthy</td>\n",
       "      <td>0.5</td>\n",
       "      <td>100</td>\n",
       "      <td>100</td>\n",
       "      <td>100</td>\n",
       "      <td>100</td>\n",
       "    </tr>\n",
       "    <tr>\n",
       "      <th>3</th>\n",
       "      <td>ID_frWmBT.jpg</td>\n",
       "      <td>healthy</td>\n",
       "      <td>0.5</td>\n",
       "      <td>100</td>\n",
       "      <td>100</td>\n",
       "      <td>100</td>\n",
       "      <td>100</td>\n",
       "    </tr>\n",
       "    <tr>\n",
       "      <th>4</th>\n",
       "      <td>ID_TaRW6o.jpg</td>\n",
       "      <td>healthy</td>\n",
       "      <td>0.5</td>\n",
       "      <td>100</td>\n",
       "      <td>100</td>\n",
       "      <td>100</td>\n",
       "      <td>100</td>\n",
       "    </tr>\n",
       "  </tbody>\n",
       "</table>\n",
       "</div>"
      ],
      "text/plain": [
       "        Image_ID    class  confidence  ymin  xmin  ymax  xmax\n",
       "0  ID_Genxyu.jpg  healthy         0.5   100   100   100   100\n",
       "1  ID_svY6TG.jpg  healthy         0.5   100   100   100   100\n",
       "2  ID_d0gpda.jpg  healthy         0.5   100   100   100   100\n",
       "3  ID_frWmBT.jpg  healthy         0.5   100   100   100   100\n",
       "4  ID_TaRW6o.jpg  healthy         0.5   100   100   100   100"
      ]
     },
     "execution_count": 15,
     "metadata": {},
     "output_type": "execute_result"
    }
   ],
   "source": [
    "## Sample submission file\n",
    "ss.head()"
   ]
  },
  {
   "cell_type": "code",
   "execution_count": 16,
   "metadata": {},
   "outputs": [
    {
     "data": {
      "text/html": [
       "<div>\n",
       "<style scoped>\n",
       "    .dataframe tbody tr th:only-of-type {\n",
       "        vertical-align: middle;\n",
       "    }\n",
       "\n",
       "    .dataframe tbody tr th {\n",
       "        vertical-align: top;\n",
       "    }\n",
       "\n",
       "    .dataframe thead th {\n",
       "        text-align: right;\n",
       "    }\n",
       "</style>\n",
       "<table border=\"1\" class=\"dataframe\">\n",
       "  <thead>\n",
       "    <tr style=\"text-align: right;\">\n",
       "      <th></th>\n",
       "      <th>Image_ID</th>\n",
       "      <th>class</th>\n",
       "      <th>confidence</th>\n",
       "      <th>ymin</th>\n",
       "      <th>xmin</th>\n",
       "      <th>ymax</th>\n",
       "      <th>xmax</th>\n",
       "      <th>class_id</th>\n",
       "      <th>ImagePath</th>\n",
       "    </tr>\n",
       "  </thead>\n",
       "  <tbody>\n",
       "    <tr>\n",
       "      <th>0</th>\n",
       "      <td>ID_nBgcAR.jpg</td>\n",
       "      <td>healthy</td>\n",
       "      <td>1.0</td>\n",
       "      <td>75.0</td>\n",
       "      <td>15.0</td>\n",
       "      <td>162.0</td>\n",
       "      <td>195.0</td>\n",
       "      <td>2</td>\n",
       "      <td>dataset/images/train/ID_nBgcAR.jpg</td>\n",
       "    </tr>\n",
       "    <tr>\n",
       "      <th>1</th>\n",
       "      <td>ID_nBgcAR.jpg</td>\n",
       "      <td>healthy</td>\n",
       "      <td>1.0</td>\n",
       "      <td>58.0</td>\n",
       "      <td>1.0</td>\n",
       "      <td>133.0</td>\n",
       "      <td>171.0</td>\n",
       "      <td>2</td>\n",
       "      <td>dataset/images/train/ID_nBgcAR.jpg</td>\n",
       "    </tr>\n",
       "    <tr>\n",
       "      <th>2</th>\n",
       "      <td>ID_nBgcAR.jpg</td>\n",
       "      <td>healthy</td>\n",
       "      <td>1.0</td>\n",
       "      <td>42.0</td>\n",
       "      <td>29.0</td>\n",
       "      <td>377.0</td>\n",
       "      <td>349.0</td>\n",
       "      <td>2</td>\n",
       "      <td>dataset/images/train/ID_nBgcAR.jpg</td>\n",
       "    </tr>\n",
       "    <tr>\n",
       "      <th>3</th>\n",
       "      <td>ID_Kw2v8A.jpg</td>\n",
       "      <td>healthy</td>\n",
       "      <td>1.0</td>\n",
       "      <td>112.0</td>\n",
       "      <td>124.0</td>\n",
       "      <td>404.0</td>\n",
       "      <td>341.0</td>\n",
       "      <td>2</td>\n",
       "      <td>dataset/images/train/ID_Kw2v8A.jpg</td>\n",
       "    </tr>\n",
       "    <tr>\n",
       "      <th>4</th>\n",
       "      <td>ID_Kw2v8A.jpg</td>\n",
       "      <td>healthy</td>\n",
       "      <td>1.0</td>\n",
       "      <td>148.0</td>\n",
       "      <td>259.0</td>\n",
       "      <td>413.0</td>\n",
       "      <td>412.0</td>\n",
       "      <td>2</td>\n",
       "      <td>dataset/images/train/ID_Kw2v8A.jpg</td>\n",
       "    </tr>\n",
       "  </tbody>\n",
       "</table>\n",
       "</div>"
      ],
      "text/plain": [
       "        Image_ID    class  confidence   ymin   xmin   ymax   xmax  class_id  \\\n",
       "0  ID_nBgcAR.jpg  healthy         1.0   75.0   15.0  162.0  195.0         2   \n",
       "1  ID_nBgcAR.jpg  healthy         1.0   58.0    1.0  133.0  171.0         2   \n",
       "2  ID_nBgcAR.jpg  healthy         1.0   42.0   29.0  377.0  349.0         2   \n",
       "3  ID_Kw2v8A.jpg  healthy         1.0  112.0  124.0  404.0  341.0         2   \n",
       "4  ID_Kw2v8A.jpg  healthy         1.0  148.0  259.0  413.0  412.0         2   \n",
       "\n",
       "                            ImagePath  \n",
       "0  dataset/images/train/ID_nBgcAR.jpg  \n",
       "1  dataset/images/train/ID_nBgcAR.jpg  \n",
       "2  dataset/images/train/ID_nBgcAR.jpg  \n",
       "3  dataset/images/train/ID_Kw2v8A.jpg  \n",
       "4  dataset/images/train/ID_Kw2v8A.jpg  "
      ]
     },
     "execution_count": 16,
     "metadata": {},
     "output_type": "execute_result"
    }
   ],
   "source": [
    "train.head()"
   ]
  },
  {
   "cell_type": "code",
   "execution_count": 17,
   "metadata": {},
   "outputs": [
    {
     "data": {
      "text/plain": [
       "array(['healthy', 'anthracnose', 'cssvd'], dtype=object)"
      ]
     },
     "execution_count": 17,
     "metadata": {},
     "output_type": "execute_result"
    }
   ],
   "source": [
    "train['class'].unique()"
   ]
  },
  {
   "cell_type": "code",
   "execution_count": 18,
   "metadata": {},
   "outputs": [
    {
     "data": {
      "text/plain": [
       "array([2, 0, 1])"
      ]
     },
     "execution_count": 18,
     "metadata": {},
     "output_type": "execute_result"
    }
   ],
   "source": [
    "train['class_id'].unique()"
   ]
  },
  {
   "cell_type": "code",
   "execution_count": 19,
   "metadata": {},
   "outputs": [
    {
     "data": {
      "text/plain": [
       "class        class_id\n",
       "healthy      2           4279\n",
       "cssvd        1           3223\n",
       "anthracnose  0           2271\n",
       "cssvd        0             18\n",
       "healthy      1              1\n",
       "Name: count, dtype: int64"
      ]
     },
     "execution_count": 19,
     "metadata": {},
     "output_type": "execute_result"
    }
   ],
   "source": [
    "train[['class', 'class_id']].value_counts()"
   ]
  },
  {
   "cell_type": "code",
   "execution_count": 20,
   "metadata": {},
   "outputs": [
    {
     "data": {
      "text/plain": [
       "{'anthracnose': 0, 'cssvd': 1, 'healthy': 2}"
      ]
     },
     "execution_count": 20,
     "metadata": {},
     "output_type": "execute_result"
    }
   ],
   "source": [
    "class_map = {cls: i for i, cls in enumerate(sorted(train['class'].unique().tolist()))}\n",
    "class_map"
   ]
  },
  {
   "cell_type": "code",
   "execution_count": 21,
   "metadata": {},
   "outputs": [],
   "source": [
    "# Strip any spacing from the class item and make sure that it is a str\n",
    "train['class'] = train['class'].str.strip()\n",
    "\n",
    "# Map {'healthy': 2, 'cssvd': 1, anthracnose: 0}\n",
    "train['class_id'] = train['class'].map(class_map)"
   ]
  },
  {
   "cell_type": "code",
   "execution_count": 22,
   "metadata": {},
   "outputs": [
    {
     "data": {
      "text/plain": [
       "class        class_id\n",
       "healthy      2           4280\n",
       "cssvd        1           3241\n",
       "anthracnose  0           2271\n",
       "Name: count, dtype: int64"
      ]
     },
     "execution_count": 22,
     "metadata": {},
     "output_type": "execute_result"
    }
   ],
   "source": [
    "train[['class', 'class_id']].value_counts()"
   ]
  },
  {
   "cell_type": "code",
   "execution_count": 23,
   "metadata": {},
   "outputs": [
    {
     "data": {
      "text/plain": [
       "5529"
      ]
     },
     "execution_count": 23,
     "metadata": {},
     "output_type": "execute_result"
    }
   ],
   "source": [
    "# Number of unique images path\n",
    "train['ImagePath'].nunique()"
   ]
  },
  {
   "cell_type": "code",
   "execution_count": 24,
   "metadata": {},
   "outputs": [
    {
     "data": {
      "text/plain": [
       "5529"
      ]
     },
     "execution_count": 24,
     "metadata": {},
     "output_type": "execute_result"
    }
   ],
   "source": [
    "unique_train = train.drop_duplicates(subset=[\"Image_ID\"])\n",
    "len(unique_train)"
   ]
  },
  {
   "cell_type": "code",
   "execution_count": 25,
   "metadata": {},
   "outputs": [
    {
     "name": "stdout",
     "output_type": "stream",
     "text": [
      "Validation data already exists, loading from CSV\n"
     ]
    }
   ],
   "source": [
    "# # Split the train dataset into train_df & val_df\n",
    "# train_names, val_names = train_test_split(\n",
    "#     unique_train[\"Image_ID\"].values,\n",
    "#     stratify=unique_train[\"class_id\"],\n",
    "#     test_size=0.01,\n",
    "#     random_state=42,\n",
    "# )\n",
    "if os.path.exists(INPUT_DATA_DIR / \"Val_df.csv\"):\n",
    "    print(\"Validation data already exists, loading from CSV\")\n",
    "    val_df = pd.read_csv(INPUT_DATA_DIR / \"Val_df.csv\")\n",
    "    train_df = pd.read_csv(INPUT_DATA_DIR / \"Train_df.csv\")\n",
    "    train_names = train_df[\"Image_ID\"].unique()\n",
    "    val_names = val_df[\"Image_ID\"].unique()\n",
    "else:\n",
    "    train_names, val_names = train_test_split(\n",
    "        unique_train[\"Image_ID\"].values,\n",
    "        stratify=unique_train[\"class_id\"],\n",
    "        test_size=0.01,\n",
    "        random_state=42,\n",
    "    )\n",
    "    train_df = train[train[\"Image_ID\"].isin(train_names)]\n",
    "    val_df = train[train[\"Image_ID\"].isin(val_names)]"
   ]
  },
  {
   "cell_type": "code",
   "execution_count": 26,
   "metadata": {},
   "outputs": [
    {
     "data": {
      "text/html": [
       "<div>\n",
       "<style scoped>\n",
       "    .dataframe tbody tr th:only-of-type {\n",
       "        vertical-align: middle;\n",
       "    }\n",
       "\n",
       "    .dataframe tbody tr th {\n",
       "        vertical-align: top;\n",
       "    }\n",
       "\n",
       "    .dataframe thead th {\n",
       "        text-align: right;\n",
       "    }\n",
       "</style>\n",
       "<table border=\"1\" class=\"dataframe\">\n",
       "  <thead>\n",
       "    <tr style=\"text-align: right;\">\n",
       "      <th></th>\n",
       "      <th>Image_ID</th>\n",
       "      <th>class</th>\n",
       "      <th>confidence</th>\n",
       "      <th>ymin</th>\n",
       "      <th>xmin</th>\n",
       "      <th>ymax</th>\n",
       "      <th>xmax</th>\n",
       "      <th>class_id</th>\n",
       "      <th>ImagePath</th>\n",
       "    </tr>\n",
       "  </thead>\n",
       "  <tbody>\n",
       "    <tr>\n",
       "      <th>0</th>\n",
       "      <td>ID_nBgcAR.jpg</td>\n",
       "      <td>healthy</td>\n",
       "      <td>1.0</td>\n",
       "      <td>75.0</td>\n",
       "      <td>15.0</td>\n",
       "      <td>162.0</td>\n",
       "      <td>195.0</td>\n",
       "      <td>2</td>\n",
       "      <td>dataset/images/train/ID_nBgcAR.jpg</td>\n",
       "    </tr>\n",
       "    <tr>\n",
       "      <th>1</th>\n",
       "      <td>ID_nBgcAR.jpg</td>\n",
       "      <td>healthy</td>\n",
       "      <td>1.0</td>\n",
       "      <td>58.0</td>\n",
       "      <td>1.0</td>\n",
       "      <td>133.0</td>\n",
       "      <td>171.0</td>\n",
       "      <td>2</td>\n",
       "      <td>dataset/images/train/ID_nBgcAR.jpg</td>\n",
       "    </tr>\n",
       "    <tr>\n",
       "      <th>2</th>\n",
       "      <td>ID_nBgcAR.jpg</td>\n",
       "      <td>healthy</td>\n",
       "      <td>1.0</td>\n",
       "      <td>42.0</td>\n",
       "      <td>29.0</td>\n",
       "      <td>377.0</td>\n",
       "      <td>349.0</td>\n",
       "      <td>2</td>\n",
       "      <td>dataset/images/train/ID_nBgcAR.jpg</td>\n",
       "    </tr>\n",
       "    <tr>\n",
       "      <th>3</th>\n",
       "      <td>ID_Kw2v8A.jpg</td>\n",
       "      <td>healthy</td>\n",
       "      <td>1.0</td>\n",
       "      <td>112.0</td>\n",
       "      <td>124.0</td>\n",
       "      <td>404.0</td>\n",
       "      <td>341.0</td>\n",
       "      <td>2</td>\n",
       "      <td>dataset/images/train/ID_Kw2v8A.jpg</td>\n",
       "    </tr>\n",
       "    <tr>\n",
       "      <th>4</th>\n",
       "      <td>ID_Kw2v8A.jpg</td>\n",
       "      <td>healthy</td>\n",
       "      <td>1.0</td>\n",
       "      <td>148.0</td>\n",
       "      <td>259.0</td>\n",
       "      <td>413.0</td>\n",
       "      <td>412.0</td>\n",
       "      <td>2</td>\n",
       "      <td>dataset/images/train/ID_Kw2v8A.jpg</td>\n",
       "    </tr>\n",
       "  </tbody>\n",
       "</table>\n",
       "</div>"
      ],
      "text/plain": [
       "        Image_ID    class  confidence   ymin   xmin   ymax   xmax  class_id  \\\n",
       "0  ID_nBgcAR.jpg  healthy         1.0   75.0   15.0  162.0  195.0         2   \n",
       "1  ID_nBgcAR.jpg  healthy         1.0   58.0    1.0  133.0  171.0         2   \n",
       "2  ID_nBgcAR.jpg  healthy         1.0   42.0   29.0  377.0  349.0         2   \n",
       "3  ID_Kw2v8A.jpg  healthy         1.0  112.0  124.0  404.0  341.0         2   \n",
       "4  ID_Kw2v8A.jpg  healthy         1.0  148.0  259.0  413.0  412.0         2   \n",
       "\n",
       "                            ImagePath  \n",
       "0  dataset/images/train/ID_nBgcAR.jpg  \n",
       "1  dataset/images/train/ID_nBgcAR.jpg  \n",
       "2  dataset/images/train/ID_nBgcAR.jpg  \n",
       "3  dataset/images/train/ID_Kw2v8A.jpg  \n",
       "4  dataset/images/train/ID_Kw2v8A.jpg  "
      ]
     },
     "execution_count": 26,
     "metadata": {},
     "output_type": "execute_result"
    }
   ],
   "source": [
    "train_df.head()"
   ]
  },
  {
   "cell_type": "code",
   "execution_count": 27,
   "metadata": {},
   "outputs": [
    {
     "data": {
      "text/plain": [
       "((9697, 9), (95, 9), (1626, 9))"
      ]
     },
     "execution_count": 27,
     "metadata": {},
     "output_type": "execute_result"
    }
   ],
   "source": [
    "train_df.shape, val_df.shape, test.shape"
   ]
  },
  {
   "cell_type": "code",
   "execution_count": 28,
   "metadata": {},
   "outputs": [
    {
     "data": {
      "text/html": [
       "<div>\n",
       "<style scoped>\n",
       "    .dataframe tbody tr th:only-of-type {\n",
       "        vertical-align: middle;\n",
       "    }\n",
       "\n",
       "    .dataframe tbody tr th {\n",
       "        vertical-align: top;\n",
       "    }\n",
       "\n",
       "    .dataframe thead th {\n",
       "        text-align: right;\n",
       "    }\n",
       "</style>\n",
       "<table border=\"1\" class=\"dataframe\">\n",
       "  <thead>\n",
       "    <tr style=\"text-align: right;\">\n",
       "      <th></th>\n",
       "      <th>Image_ID</th>\n",
       "      <th>class</th>\n",
       "      <th>confidence</th>\n",
       "      <th>ymin</th>\n",
       "      <th>xmin</th>\n",
       "      <th>ymax</th>\n",
       "      <th>xmax</th>\n",
       "    </tr>\n",
       "  </thead>\n",
       "  <tbody>\n",
       "    <tr>\n",
       "      <th>0</th>\n",
       "      <td>ID_Genxyu.jpg</td>\n",
       "      <td>healthy</td>\n",
       "      <td>0.5</td>\n",
       "      <td>100</td>\n",
       "      <td>100</td>\n",
       "      <td>100</td>\n",
       "      <td>100</td>\n",
       "    </tr>\n",
       "    <tr>\n",
       "      <th>1</th>\n",
       "      <td>ID_svY6TG.jpg</td>\n",
       "      <td>healthy</td>\n",
       "      <td>0.5</td>\n",
       "      <td>100</td>\n",
       "      <td>100</td>\n",
       "      <td>100</td>\n",
       "      <td>100</td>\n",
       "    </tr>\n",
       "    <tr>\n",
       "      <th>2</th>\n",
       "      <td>ID_d0gpda.jpg</td>\n",
       "      <td>healthy</td>\n",
       "      <td>0.5</td>\n",
       "      <td>100</td>\n",
       "      <td>100</td>\n",
       "      <td>100</td>\n",
       "      <td>100</td>\n",
       "    </tr>\n",
       "    <tr>\n",
       "      <th>3</th>\n",
       "      <td>ID_frWmBT.jpg</td>\n",
       "      <td>healthy</td>\n",
       "      <td>0.5</td>\n",
       "      <td>100</td>\n",
       "      <td>100</td>\n",
       "      <td>100</td>\n",
       "      <td>100</td>\n",
       "    </tr>\n",
       "    <tr>\n",
       "      <th>4</th>\n",
       "      <td>ID_TaRW6o.jpg</td>\n",
       "      <td>healthy</td>\n",
       "      <td>0.5</td>\n",
       "      <td>100</td>\n",
       "      <td>100</td>\n",
       "      <td>100</td>\n",
       "      <td>100</td>\n",
       "    </tr>\n",
       "  </tbody>\n",
       "</table>\n",
       "</div>"
      ],
      "text/plain": [
       "        Image_ID    class  confidence  ymin  xmin  ymax  xmax\n",
       "0  ID_Genxyu.jpg  healthy         0.5   100   100   100   100\n",
       "1  ID_svY6TG.jpg  healthy         0.5   100   100   100   100\n",
       "2  ID_d0gpda.jpg  healthy         0.5   100   100   100   100\n",
       "3  ID_frWmBT.jpg  healthy         0.5   100   100   100   100\n",
       "4  ID_TaRW6o.jpg  healthy         0.5   100   100   100   100"
      ]
     },
     "execution_count": 28,
     "metadata": {},
     "output_type": "execute_result"
    }
   ],
   "source": [
    "ss.head()"
   ]
  },
  {
   "cell_type": "code",
   "execution_count": 29,
   "metadata": {},
   "outputs": [
    {
     "data": {
      "image/png": "[encoded data removed]",
      "text/plain": [
       "<Figure size 640x480 with 1 Axes>"
      ]
     },
     "metadata": {},
     "output_type": "display_data"
    }
   ],
   "source": [
    "# Preview target distribution, seems there a class imbalance that needs to be handled\n",
    "train['class'].value_counts().plot(kind='bar')\n",
    "plt.title('Train-Val Class Distribution')\n",
    "plt.show()"
   ]
  },
  {
   "cell_type": "code",
   "execution_count": 30,
   "metadata": {},
   "outputs": [
    {
     "data": {
      "image/png": "[encoded data removed]",
      "text/plain": [
       "<Figure size 640x480 with 1 Axes>"
      ]
     },
     "metadata": {},
     "output_type": "display_data"
    }
   ],
   "source": [
    "train_df['class'].value_counts().plot(kind='bar')\n",
    "plt.title('Train - Class Distribution')\n",
    "plt.show()"
   ]
  },
  {
   "cell_type": "code",
   "execution_count": 31,
   "metadata": {},
   "outputs": [
    {
     "data": {
      "image/png": "[encoded data removed]",
      "text/plain": [
       "<Figure size 640x480 with 1 Axes>"
      ]
     },
     "metadata": {},
     "output_type": "display_data"
    }
   ],
   "source": [
    "val_df['class'].value_counts().plot(kind='bar')\n",
    "plt.title('Val - Class Distribution')\n",
    "plt.show()"
   ]
  },
  {
   "cell_type": "code",
   "execution_count": 32,
   "metadata": {},
   "outputs": [
    {
     "data": {
      "text/plain": [
       "{'path': '/data/home/eak/learning/nganga_ai/AminiCocoa/Amini-Cocoa-Contamination-Challenge/dataset',\n",
       " 'train': '/data/home/eak/learning/nganga_ai/AminiCocoa/Amini-Cocoa-Contamination-Challenge/dataset/images/train',\n",
       " 'val': '/data/home/eak/learning/nganga_ai/AminiCocoa/Amini-Cocoa-Contamination-Challenge/dataset/images/val',\n",
       " 'test': '/data/home/eak/learning/nganga_ai/AminiCocoa/Amini-Cocoa-Contamination-Challenge/dataset/images/test',\n",
       " 'nc': 3,\n",
       " 'names': ['anthracnose', 'cssvd', 'healthy']}"
      ]
     },
     "execution_count": 32,
     "metadata": {},
     "output_type": "execute_result"
    }
   ],
   "source": [
    "# Create a data.yaml file required by yolo\n",
    "class_names = sorted(train['class'].unique().tolist())\n",
    "num_classes = len(class_names)\n",
    "\n",
    "data_yaml = {\n",
    "    \"path\" : str(DATASETS_DIR.absolute()),\n",
    "    'train': str(TRAIN_IMAGES_DIR.absolute()),\n",
    "    'val': str(VAL_IMAGES_DIR.absolute()),\n",
    "    'test': str(TEST_IMAGES_DIR.absolute()),\n",
    "    'nc': num_classes,\n",
    "    'names': class_names\n",
    "}\n",
    "\n",
    "yaml_path = 'data.yaml'\n",
    "with open(yaml_path, 'w') as file:\n",
    "    yaml.dump(data_yaml, file, default_flow_style=False)\n",
    "\n",
    "# Preview data yaml file\n",
    "data_yaml"
   ]
  },
  {
   "cell_type": "code",
   "execution_count": 33,
   "metadata": {},
   "outputs": [
    {
     "data": {
      "text/plain": [
       "(56, 56)"
      ]
     },
     "execution_count": 33,
     "metadata": {},
     "output_type": "execute_result"
    }
   ],
   "source": [
    "len(val_names), len(set(val_names))"
   ]
  },
  {
   "cell_type": "code",
   "execution_count": 34,
   "metadata": {},
   "outputs": [],
   "source": [
    "val_image_names = [str(Path(name).stem) for name in val_df['Image_ID'].unique()]"
   ]
  },
  {
   "cell_type": "code",
   "execution_count": 35,
   "metadata": {},
   "outputs": [
    {
     "data": {
      "text/plain": [
       "56"
      ]
     },
     "execution_count": 35,
     "metadata": {},
     "output_type": "execute_result"
    }
   ],
   "source": [
    "len(val_image_names)"
   ]
  },
  {
   "cell_type": "code",
   "execution_count": 36,
   "metadata": {},
   "outputs": [
    {
     "data": {
      "text/plain": [
       "(5529, 5473)"
      ]
     },
     "execution_count": 36,
     "metadata": {},
     "output_type": "execute_result"
    }
   ],
   "source": [
    "# list of images in TRAIN_IMAGES_DIR\n",
    "images_in_train_dir = os.listdir(TRAIN_IMAGES_DIR)\n",
    "len(images_in_train_dir), len(train_names)"
   ]
  },
  {
   "cell_type": "code",
   "execution_count": 37,
   "metadata": {},
   "outputs": [],
   "source": [
    "train_image_names = [str(Path(name).stem) for name in train['ImagePath'].unique()]"
   ]
  },
  {
   "cell_type": "code",
   "execution_count": 38,
   "metadata": {},
   "outputs": [
    {
     "data": {
      "text/plain": [
       "5529"
      ]
     },
     "execution_count": 38,
     "metadata": {},
     "output_type": "execute_result"
    }
   ],
   "source": [
    "len(train_image_names)"
   ]
  },
  {
   "cell_type": "code",
   "execution_count": 39,
   "metadata": {},
   "outputs": [],
   "source": [
    "# Check that VAL_IMAGES_DIR & VAL_LABELS_DIR exist if not create them\n",
    "for DIR in [VAL_IMAGES_DIR, VAL_LABELS_DIR]:\n",
    "    if not DIR.exists():\n",
    "        DIR.mkdir(parents=True, exist_ok=True)"
   ]
  },
  {
   "cell_type": "code",
   "execution_count": 40,
   "metadata": {},
   "outputs": [
    {
     "name": "stderr",
     "output_type": "stream",
     "text": [
      "100%|██████████| 56/56 [00:00<00:00, 7926.87it/s]\n"
     ]
    }
   ],
   "source": [
    "# Copy images in val_names to dataset/val and do the same with the labels\n",
    "for image_name in tqdm(val_names):\n",
    "    if os.path.exists(TRAIN_IMAGES_DIR / image_name):\n",
    "        shutil.move(TRAIN_IMAGES_DIR / image_name, VAL_IMAGES_DIR / image_name)\n",
    "        img_ext = image_name.split('.')[-1]\n",
    "        label_name = image_name.replace(f'.{img_ext}', '.txt')\n",
    "        shutil.move(TRAIN_LABELS_DIR / label_name, VAL_LABELS_DIR / label_name)"
   ]
  },
  {
   "cell_type": "code",
   "execution_count": 41,
   "metadata": {},
   "outputs": [
    {
     "data": {
      "text/html": [
       "<div>\n",
       "<style scoped>\n",
       "    .dataframe tbody tr th:only-of-type {\n",
       "        vertical-align: middle;\n",
       "    }\n",
       "\n",
       "    .dataframe tbody tr th {\n",
       "        vertical-align: top;\n",
       "    }\n",
       "\n",
       "    .dataframe thead th {\n",
       "        text-align: right;\n",
       "    }\n",
       "</style>\n",
       "<table border=\"1\" class=\"dataframe\">\n",
       "  <thead>\n",
       "    <tr style=\"text-align: right;\">\n",
       "      <th></th>\n",
       "      <th>Image_ID</th>\n",
       "      <th>class</th>\n",
       "      <th>confidence</th>\n",
       "      <th>ymin</th>\n",
       "      <th>xmin</th>\n",
       "      <th>ymax</th>\n",
       "      <th>xmax</th>\n",
       "      <th>class_id</th>\n",
       "      <th>ImagePath</th>\n",
       "    </tr>\n",
       "  </thead>\n",
       "  <tbody>\n",
       "    <tr>\n",
       "      <th>733</th>\n",
       "      <td>ID_q89lMO.jpg</td>\n",
       "      <td>healthy</td>\n",
       "      <td>1.0</td>\n",
       "      <td>609.0</td>\n",
       "      <td>0.0</td>\n",
       "      <td>2079.0</td>\n",
       "      <td>506.0</td>\n",
       "      <td>2</td>\n",
       "      <td>dataset/images/train/ID_q89lMO.jpg</td>\n",
       "    </tr>\n",
       "    <tr>\n",
       "      <th>6809</th>\n",
       "      <td>ID_V0q4kT.jpg</td>\n",
       "      <td>cssvd</td>\n",
       "      <td>1.0</td>\n",
       "      <td>1005.0</td>\n",
       "      <td>698.0</td>\n",
       "      <td>1770.0</td>\n",
       "      <td>1262.0</td>\n",
       "      <td>1</td>\n",
       "      <td>dataset/images/train/ID_V0q4kT.jpg</td>\n",
       "    </tr>\n",
       "    <tr>\n",
       "      <th>2034</th>\n",
       "      <td>ID_YAyY9r.jpeg</td>\n",
       "      <td>anthracnose</td>\n",
       "      <td>1.0</td>\n",
       "      <td>77.0</td>\n",
       "      <td>81.0</td>\n",
       "      <td>1052.0</td>\n",
       "      <td>576.0</td>\n",
       "      <td>0</td>\n",
       "      <td>dataset/images/train/ID_YAyY9r.jpeg</td>\n",
       "    </tr>\n",
       "    <tr>\n",
       "      <th>6638</th>\n",
       "      <td>ID_D6zlHH.jpg</td>\n",
       "      <td>cssvd</td>\n",
       "      <td>1.0</td>\n",
       "      <td>801.0</td>\n",
       "      <td>668.0</td>\n",
       "      <td>2049.0</td>\n",
       "      <td>1529.0</td>\n",
       "      <td>1</td>\n",
       "      <td>dataset/images/train/ID_D6zlHH.jpg</td>\n",
       "    </tr>\n",
       "    <tr>\n",
       "      <th>6559</th>\n",
       "      <td>ID_I0EEW1.jpg</td>\n",
       "      <td>cssvd</td>\n",
       "      <td>1.0</td>\n",
       "      <td>511.0</td>\n",
       "      <td>511.0</td>\n",
       "      <td>1158.0</td>\n",
       "      <td>1567.0</td>\n",
       "      <td>1</td>\n",
       "      <td>dataset/images/train/ID_I0EEW1.jpg</td>\n",
       "    </tr>\n",
       "  </tbody>\n",
       "</table>\n",
       "</div>"
      ],
      "text/plain": [
       "            Image_ID        class  confidence    ymin   xmin    ymax    xmax  \\\n",
       "733    ID_q89lMO.jpg      healthy         1.0   609.0    0.0  2079.0   506.0   \n",
       "6809   ID_V0q4kT.jpg        cssvd         1.0  1005.0  698.0  1770.0  1262.0   \n",
       "2034  ID_YAyY9r.jpeg  anthracnose         1.0    77.0   81.0  1052.0   576.0   \n",
       "6638   ID_D6zlHH.jpg        cssvd         1.0   801.0  668.0  2049.0  1529.0   \n",
       "6559   ID_I0EEW1.jpg        cssvd         1.0   511.0  511.0  1158.0  1567.0   \n",
       "\n",
       "      class_id                            ImagePath  \n",
       "733          2   dataset/images/train/ID_q89lMO.jpg  \n",
       "6809         1   dataset/images/train/ID_V0q4kT.jpg  \n",
       "2034         0  dataset/images/train/ID_YAyY9r.jpeg  \n",
       "6638         1   dataset/images/train/ID_D6zlHH.jpg  \n",
       "6559         1   dataset/images/train/ID_I0EEW1.jpg  "
      ]
     },
     "execution_count": 41,
     "metadata": {},
     "output_type": "execute_result"
    }
   ],
   "source": [
    "train.sample(5)"
   ]
  },
  {
   "cell_type": "code",
   "execution_count": 42,
   "metadata": {},
   "outputs": [],
   "source": [
    "train_df.to_csv(INPUT_DATA_DIR / \"Train_df.csv\", index=False)\n",
    "val_df.to_csv(INPUT_DATA_DIR / \"Val_df.csv\", index=False)"
   ]
  },
  {
   "cell_type": "code",
   "execution_count": null,
   "metadata": {},
   "outputs": [],
   "source": []
  }
 ],
 "metadata": {
  "kernelspec": {
   "display_name": ".venv",
   "language": "python",
   "name": "python3"
  },
  "language_info": {
   "codemirror_mode": {
    "name": "ipython",
    "version": 3
   },
   "file_extension": ".py",
   "mimetype": "text/x-python",
   "name": "python",
   "nbconvert_exporter": "python",
   "pygments_lexer": "ipython3",
   "version": "3.10.13"
  }
 },
 "nbformat": 4,
 "nbformat_minor": 2
}
