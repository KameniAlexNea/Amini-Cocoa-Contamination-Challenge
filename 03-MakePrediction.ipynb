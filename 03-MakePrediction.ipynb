{
 "cells": [
  {
   "cell_type": "code",
   "execution_count": 1,
   "metadata": {},
   "outputs": [],
   "source": [
    "# Import libraries\n",
    "import pandas as pd\n",
    "import os\n",
    "from pathlib import Path\n",
    "from tqdm import tqdm\n",
    "import yaml\n",
    "import matplotlib.pyplot as plt\n",
    "from ultralytics.engine.results import Results\n",
    "from ultralytics import YOLO\n",
    "import numpy as np\n",
    "from PIL import Image, ExifTags\n",
    "import torch"
   ]
  },
  {
   "cell_type": "code",
   "execution_count": 2,
   "metadata": {},
   "outputs": [],
   "source": [
    "# INPUT_DIRS\n",
    "INPUT_DATA_DIR = Path('dataset')\n",
    "## Drop the Folder if it already exists\n",
    "DATASETS_DIR = Path('dataset')\n",
    "# Image & labels directory\n",
    "TRAIN_IMAGES_DIR = DATASETS_DIR / 'images' / 'train'\n",
    "TRAIN_LABELS_DIR = DATASETS_DIR / 'labels'/ 'train'\n",
    "TEST_IMAGES_DIR = DATASETS_DIR / 'images' / 'test'\n",
    "VAL_IMAGES_DIR = DATASETS_DIR / 'images' /'val'\n",
    "VAL_LABELS_DIR = DATASETS_DIR / 'labels' /'val'\n",
    "\n",
    "# Load train and test files\n",
    "train = pd.read_csv(INPUT_DATA_DIR / 'Train_df.csv')\n",
    "val = pd.read_csv(INPUT_DATA_DIR / 'Val_df.csv')\n",
    "test = pd.read_csv(INPUT_DATA_DIR / 'Test.csv')\n",
    "ss = pd.read_csv(INPUT_DATA_DIR / 'SampleSubmission.csv')\n",
    "\n",
    "class_map = {cls: i for i, cls in enumerate(sorted(train['class'].unique().tolist()))}\n",
    "# Strip any spacing from the class item and make sure that it is a str\n",
    "train['class'] = train['class'].str.strip()\n",
    "\n",
    "# Map {'healthy': 2, 'cssvd': 1, anthracnose: 0}\n",
    "train['class_id'] = train['class'].map(class_map)\n",
    "\n",
    "train_df = train\n",
    "val_df = val\n",
    "\n",
    "# Create a data.yaml file required by yolo\n",
    "class_names = sorted(train['class'].unique().tolist())\n",
    "num_classes = len(class_names)\n",
    "data_yaml = {\n",
    "    \"path\" : str(DATASETS_DIR.absolute()),\n",
    "    'train': str(TRAIN_IMAGES_DIR.absolute()),\n",
    "    'val': str(VAL_IMAGES_DIR.absolute()),\n",
    "    'test': str(TEST_IMAGES_DIR.absolute()),\n",
    "    'nc': num_classes,\n",
    "    'names': class_names\n",
    "}\n",
    "\n",
    "val_image_names = [str(Path(name).stem) for name in val_df['Image_ID'].unique()]\n",
    "train_image_names = [str(Path(name).stem) for name in train['ImagePath'].unique()]"
   ]
  },
  {
   "cell_type": "code",
   "execution_count": 3,
   "metadata": {},
   "outputs": [
    {
     "data": {
      "text/plain": [
       "'runs/detect/train3/weights/best.pt'"
      ]
     },
     "execution_count": 3,
     "metadata": {},
     "output_type": "execute_result"
    }
   ],
   "source": [
    "from glob import glob\n",
    "\n",
    "# Validate the model on the validation set\n",
    "BEST_PATH = sorted(glob(\"runs/detect/train*/weights/best.pt\"))[-1]\n",
    "BEST_PATH = \"runs/detect/train3/weights/best.pt\"\n",
    "BEST_PATH"
   ]
  },
  {
   "cell_type": "code",
   "execution_count": 4,
   "metadata": {},
   "outputs": [
    {
     "data": {
      "text/plain": [
       "274"
      ]
     },
     "execution_count": 4,
     "metadata": {},
     "output_type": "execute_result"
    }
   ],
   "source": [
    "for flag, v in ExifTags.TAGS.items():\n",
    "    if v == \"Orientation\":\n",
    "        break\n",
    "\n",
    "\n",
    "def load_image(filepath):\n",
    "    image = Image.open(filepath)\n",
    "\n",
    "    exif = image._getexif()\n",
    "    if exif is None:\n",
    "        return image\n",
    "\n",
    "    orientation_value = exif.get(flag, None)\n",
    "\n",
    "    if orientation_value == 3:\n",
    "        image = image.rotate(180, expand=True)\n",
    "    elif orientation_value == 6:\n",
    "        image = image.rotate(270, expand=True)\n",
    "    elif orientation_value == 8:\n",
    "        image = image.rotate(90, expand=True)\n",
    "    return image\n",
    "\n",
    "\n",
    "flag"
   ]
  },
  {
   "cell_type": "code",
   "execution_count": 5,
   "metadata": {},
   "outputs": [
    {
     "name": "stderr",
     "output_type": "stream",
     "text": [
      "100%|██████████| 1626/1626 [03:35<00:00,  7.53it/s]\n"
     ]
    }
   ],
   "source": [
    "# Load the trained YOLO model\n",
    "model = YOLO(BEST_PATH)\n",
    "\n",
    "# Path to the test images directory\n",
    "test_dir_path = TEST_IMAGES_DIR\n",
    "\n",
    "# Get a list of all image files in the test directory\n",
    "image_files = os.listdir(test_dir_path)\n",
    "\n",
    "# Initialize an empty list to store the results for all images\n",
    "all_data = []\n",
    "\n",
    "# Initialize an empty list to store the results for all images\n",
    "all_data = []\n",
    "\n",
    "# Iterate through each image in the directory\n",
    "for image_file in tqdm(image_files):\n",
    "    # Full path to the image\n",
    "    img_path = os.path.join(test_dir_path, image_file)\n",
    "\n",
    "    # Make predictions on the image\n",
    "    results: list[Results] = model(\n",
    "        load_image(img_path),\n",
    "        conf=0.0,\n",
    "        imgsz=1024,\n",
    "        max_det=30,\n",
    "        verbose=False,\n",
    "        # nms=True,\n",
    "    )\n",
    "\n",
    "    # Extract bounding boxes, confidence scores, and class labels\n",
    "    boxes = (\n",
    "        results[0].boxes.xyxy.tolist() if results[0].boxes else []\n",
    "    )  # Bounding boxes in xyxy format\n",
    "    classes = results[0].boxes.cls.tolist() if results[0].boxes else []  # Class indices\n",
    "    confidences = (\n",
    "        results[0].boxes.conf.tolist() if results[0].boxes else []\n",
    "    )  # Confidence scores\n",
    "    names = results[0].names  # Class names dictionary\n",
    "\n",
    "    if boxes:  # If detections are found\n",
    "        for box, cls, conf in zip(boxes, classes, confidences):\n",
    "            x1, y1, x2, y2 = box\n",
    "            detected_class = names[\n",
    "                int(cls)\n",
    "            ]  # Get the class name from the names dictionary\n",
    "\n",
    "            # Add the result to the all_data list\n",
    "            all_data.append(\n",
    "                {\n",
    "                    \"Image_ID\": str(image_file),\n",
    "                    \"class\": detected_class,\n",
    "                    \"confidence\": conf,\n",
    "                    \"ymin\": y1,\n",
    "                    \"xmin\": x1,\n",
    "                    \"ymax\": y2,\n",
    "                    \"xmax\": x2,\n",
    "                }\n",
    "            )\n",
    "    else:  # If no objects are detected\n",
    "        all_data.append(\n",
    "            {\n",
    "                \"Image_ID\": str(image_file),\n",
    "                \"class\": None,\n",
    "                \"confidence\": None,\n",
    "                \"ymin\": None,\n",
    "                \"xmin\": None,\n",
    "                \"ymax\": None,\n",
    "                \"xmax\": None,\n",
    "            }\n",
    "        )"
   ]
  },
  {
   "cell_type": "code",
   "execution_count": 6,
   "metadata": {},
   "outputs": [],
   "source": [
    "# Convert the list to a DataFrame for all images\n",
    "sub = pd.DataFrame(all_data)"
   ]
  },
  {
   "cell_type": "code",
   "execution_count": 7,
   "metadata": {},
   "outputs": [
    {
     "data": {
      "text/html": [
       "<div>\n",
       "<style scoped>\n",
       "    .dataframe tbody tr th:only-of-type {\n",
       "        vertical-align: middle;\n",
       "    }\n",
       "\n",
       "    .dataframe tbody tr th {\n",
       "        vertical-align: top;\n",
       "    }\n",
       "\n",
       "    .dataframe thead th {\n",
       "        text-align: right;\n",
       "    }\n",
       "</style>\n",
       "<table border=\"1\" class=\"dataframe\">\n",
       "  <thead>\n",
       "    <tr style=\"text-align: right;\">\n",
       "      <th></th>\n",
       "      <th>Image_ID</th>\n",
       "      <th>class</th>\n",
       "      <th>confidence</th>\n",
       "      <th>ymin</th>\n",
       "      <th>xmin</th>\n",
       "      <th>ymax</th>\n",
       "      <th>xmax</th>\n",
       "    </tr>\n",
       "  </thead>\n",
       "  <tbody>\n",
       "    <tr>\n",
       "      <th>0</th>\n",
       "      <td>ID_cWEAQI.jpeg</td>\n",
       "      <td>healthy</td>\n",
       "      <td>0.587939</td>\n",
       "      <td>196.297638</td>\n",
       "      <td>10.367512</td>\n",
       "      <td>3934.849121</td>\n",
       "      <td>1636.239014</td>\n",
       "    </tr>\n",
       "    <tr>\n",
       "      <th>1</th>\n",
       "      <td>ID_cWEAQI.jpeg</td>\n",
       "      <td>healthy</td>\n",
       "      <td>0.041469</td>\n",
       "      <td>174.486389</td>\n",
       "      <td>0.000000</td>\n",
       "      <td>1687.742798</td>\n",
       "      <td>498.413879</td>\n",
       "    </tr>\n",
       "    <tr>\n",
       "      <th>2</th>\n",
       "      <td>ID_cWEAQI.jpeg</td>\n",
       "      <td>healthy</td>\n",
       "      <td>0.030204</td>\n",
       "      <td>349.489777</td>\n",
       "      <td>1338.696899</td>\n",
       "      <td>1136.139893</td>\n",
       "      <td>1795.408813</td>\n",
       "    </tr>\n",
       "    <tr>\n",
       "      <th>3</th>\n",
       "      <td>ID_cWEAQI.jpeg</td>\n",
       "      <td>healthy</td>\n",
       "      <td>0.020180</td>\n",
       "      <td>101.959702</td>\n",
       "      <td>1.075506</td>\n",
       "      <td>2287.603271</td>\n",
       "      <td>567.269043</td>\n",
       "    </tr>\n",
       "    <tr>\n",
       "      <th>4</th>\n",
       "      <td>ID_cWEAQI.jpeg</td>\n",
       "      <td>healthy</td>\n",
       "      <td>0.014658</td>\n",
       "      <td>0.958770</td>\n",
       "      <td>1253.013062</td>\n",
       "      <td>477.129944</td>\n",
       "      <td>1795.990356</td>\n",
       "    </tr>\n",
       "  </tbody>\n",
       "</table>\n",
       "</div>"
      ],
      "text/plain": [
       "         Image_ID    class  confidence        ymin         xmin         ymax  \\\n",
       "0  ID_cWEAQI.jpeg  healthy    0.587939  196.297638    10.367512  3934.849121   \n",
       "1  ID_cWEAQI.jpeg  healthy    0.041469  174.486389     0.000000  1687.742798   \n",
       "2  ID_cWEAQI.jpeg  healthy    0.030204  349.489777  1338.696899  1136.139893   \n",
       "3  ID_cWEAQI.jpeg  healthy    0.020180  101.959702     1.075506  2287.603271   \n",
       "4  ID_cWEAQI.jpeg  healthy    0.014658    0.958770  1253.013062   477.129944   \n",
       "\n",
       "          xmax  \n",
       "0  1636.239014  \n",
       "1   498.413879  \n",
       "2  1795.408813  \n",
       "3   567.269043  \n",
       "4  1795.990356  "
      ]
     },
     "execution_count": 7,
     "metadata": {},
     "output_type": "execute_result"
    }
   ],
   "source": [
    "sub.head()"
   ]
  },
  {
   "cell_type": "code",
   "execution_count": 8,
   "metadata": {},
   "outputs": [
    {
     "data": {
      "text/html": [
       "<div>\n",
       "<style scoped>\n",
       "    .dataframe tbody tr th:only-of-type {\n",
       "        vertical-align: middle;\n",
       "    }\n",
       "\n",
       "    .dataframe tbody tr th {\n",
       "        vertical-align: top;\n",
       "    }\n",
       "\n",
       "    .dataframe thead th {\n",
       "        text-align: right;\n",
       "    }\n",
       "</style>\n",
       "<table border=\"1\" class=\"dataframe\">\n",
       "  <thead>\n",
       "    <tr style=\"text-align: right;\">\n",
       "      <th></th>\n",
       "      <th>confidence</th>\n",
       "      <th>ymin</th>\n",
       "      <th>xmin</th>\n",
       "      <th>ymax</th>\n",
       "      <th>xmax</th>\n",
       "    </tr>\n",
       "  </thead>\n",
       "  <tbody>\n",
       "    <tr>\n",
       "      <th>count</th>\n",
       "      <td>48780.000000</td>\n",
       "      <td>48780.000000</td>\n",
       "      <td>48780.000000</td>\n",
       "      <td>48780.000000</td>\n",
       "      <td>48780.000000</td>\n",
       "    </tr>\n",
       "    <tr>\n",
       "      <th>mean</th>\n",
       "      <td>0.044775</td>\n",
       "      <td>601.289915</td>\n",
       "      <td>590.529700</td>\n",
       "      <td>1459.358144</td>\n",
       "      <td>1270.730227</td>\n",
       "    </tr>\n",
       "    <tr>\n",
       "      <th>std</th>\n",
       "      <td>0.140986</td>\n",
       "      <td>830.659779</td>\n",
       "      <td>785.794356</td>\n",
       "      <td>1147.139502</td>\n",
       "      <td>989.155295</td>\n",
       "    </tr>\n",
       "    <tr>\n",
       "      <th>min</th>\n",
       "      <td>0.000151</td>\n",
       "      <td>0.000000</td>\n",
       "      <td>0.000000</td>\n",
       "      <td>11.972401</td>\n",
       "      <td>16.580347</td>\n",
       "    </tr>\n",
       "    <tr>\n",
       "      <th>25%</th>\n",
       "      <td>0.001779</td>\n",
       "      <td>0.453291</td>\n",
       "      <td>0.567805</td>\n",
       "      <td>510.987267</td>\n",
       "      <td>474.298698</td>\n",
       "    </tr>\n",
       "    <tr>\n",
       "      <th>50%</th>\n",
       "      <td>0.004242</td>\n",
       "      <td>197.447174</td>\n",
       "      <td>244.482697</td>\n",
       "      <td>1102.946167</td>\n",
       "      <td>959.843231</td>\n",
       "    </tr>\n",
       "    <tr>\n",
       "      <th>75%</th>\n",
       "      <td>0.012456</td>\n",
       "      <td>921.049561</td>\n",
       "      <td>858.602966</td>\n",
       "      <td>2071.401001</td>\n",
       "      <td>1801.543732</td>\n",
       "    </tr>\n",
       "    <tr>\n",
       "      <th>max</th>\n",
       "      <td>0.882056</td>\n",
       "      <td>3933.594482</td>\n",
       "      <td>3918.724854</td>\n",
       "      <td>4128.000000</td>\n",
       "      <td>4128.000000</td>\n",
       "    </tr>\n",
       "  </tbody>\n",
       "</table>\n",
       "</div>"
      ],
      "text/plain": [
       "         confidence          ymin          xmin          ymax          xmax\n",
       "count  48780.000000  48780.000000  48780.000000  48780.000000  48780.000000\n",
       "mean       0.044775    601.289915    590.529700   1459.358144   1270.730227\n",
       "std        0.140986    830.659779    785.794356   1147.139502    989.155295\n",
       "min        0.000151      0.000000      0.000000     11.972401     16.580347\n",
       "25%        0.001779      0.453291      0.567805    510.987267    474.298698\n",
       "50%        0.004242    197.447174    244.482697   1102.946167    959.843231\n",
       "75%        0.012456    921.049561    858.602966   2071.401001   1801.543732\n",
       "max        0.882056   3933.594482   3918.724854   4128.000000   4128.000000"
      ]
     },
     "execution_count": 8,
     "metadata": {},
     "output_type": "execute_result"
    }
   ],
   "source": [
    "sub.describe()"
   ]
  },
  {
   "cell_type": "code",
   "execution_count": 9,
   "metadata": {},
   "outputs": [
    {
     "data": {
      "text/plain": [
       "class\n",
       "healthy        20672\n",
       "cssvd          15481\n",
       "anthracnose    12627\n",
       "Name: count, dtype: int64"
      ]
     },
     "execution_count": 9,
     "metadata": {},
     "output_type": "execute_result"
    }
   ],
   "source": [
    "sub['class'].value_counts()"
   ]
  },
  {
   "cell_type": "code",
   "execution_count": 10,
   "metadata": {},
   "outputs": [
    {
     "data": {
      "text/plain": [
       "Image_ID      0\n",
       "class         0\n",
       "confidence    0\n",
       "ymin          0\n",
       "xmin          0\n",
       "ymax          0\n",
       "xmax          0\n",
       "dtype: int64"
      ]
     },
     "execution_count": 10,
     "metadata": {},
     "output_type": "execute_result"
    }
   ],
   "source": [
    "sub.isna().sum()"
   ]
  },
  {
   "cell_type": "markdown",
   "metadata": {},
   "source": [
    "class\n",
    "healthy        1153\n",
    "cssvd           801\n",
    "anthracnose     694\n",
    "None             57\n",
    "Name: count, dtype: int6"
   ]
  },
  {
   "cell_type": "code",
   "execution_count": 11,
   "metadata": {},
   "outputs": [],
   "source": [
    "sub.to_csv(\"dataset/predictions/02-predictions.csv\", index=False)"
   ]
  },
  {
   "cell_type": "code",
   "execution_count": 12,
   "metadata": {},
   "outputs": [
    {
     "data": {
      "text/plain": [
       "count    48780.000000\n",
       "mean         0.044775\n",
       "std          0.140986\n",
       "min          0.000151\n",
       "25%          0.001779\n",
       "50%          0.004242\n",
       "75%          0.012456\n",
       "max          0.882056\n",
       "Name: confidence, dtype: float64"
      ]
     },
     "execution_count": 12,
     "metadata": {},
     "output_type": "execute_result"
    }
   ],
   "source": [
    "sub[\"confidence\"].describe()"
   ]
  },
  {
   "cell_type": "code",
   "execution_count": 13,
   "metadata": {},
   "outputs": [
    {
     "data": {
      "text/html": [
       "<div>\n",
       "<style scoped>\n",
       "    .dataframe tbody tr th:only-of-type {\n",
       "        vertical-align: middle;\n",
       "    }\n",
       "\n",
       "    .dataframe tbody tr th {\n",
       "        vertical-align: top;\n",
       "    }\n",
       "\n",
       "    .dataframe thead th {\n",
       "        text-align: right;\n",
       "    }\n",
       "</style>\n",
       "<table border=\"1\" class=\"dataframe\">\n",
       "  <thead>\n",
       "    <tr style=\"text-align: right;\">\n",
       "      <th></th>\n",
       "      <th>Image_ID</th>\n",
       "      <th>class</th>\n",
       "      <th>confidence</th>\n",
       "      <th>ymin</th>\n",
       "      <th>xmin</th>\n",
       "      <th>ymax</th>\n",
       "      <th>xmax</th>\n",
       "    </tr>\n",
       "  </thead>\n",
       "  <tbody>\n",
       "    <tr>\n",
       "      <th>33677</th>\n",
       "      <td>ID_xy2IQY.jpg</td>\n",
       "      <td>anthracnose</td>\n",
       "      <td>0.003350</td>\n",
       "      <td>0.000000</td>\n",
       "      <td>0.000000</td>\n",
       "      <td>593.430298</td>\n",
       "      <td>575.294617</td>\n",
       "    </tr>\n",
       "    <tr>\n",
       "      <th>24557</th>\n",
       "      <td>ID_ZwY4OM.jpg</td>\n",
       "      <td>healthy</td>\n",
       "      <td>0.004151</td>\n",
       "      <td>0.317456</td>\n",
       "      <td>0.000000</td>\n",
       "      <td>767.924744</td>\n",
       "      <td>492.427124</td>\n",
       "    </tr>\n",
       "    <tr>\n",
       "      <th>40849</th>\n",
       "      <td>ID_RDuHV3.jpg</td>\n",
       "      <td>cssvd</td>\n",
       "      <td>0.004660</td>\n",
       "      <td>4.808149</td>\n",
       "      <td>700.730286</td>\n",
       "      <td>856.552368</td>\n",
       "      <td>809.913330</td>\n",
       "    </tr>\n",
       "    <tr>\n",
       "      <th>14773</th>\n",
       "      <td>ID_rgDeQr.jpg</td>\n",
       "      <td>healthy</td>\n",
       "      <td>0.004727</td>\n",
       "      <td>0.159482</td>\n",
       "      <td>100.877838</td>\n",
       "      <td>504.040161</td>\n",
       "      <td>1173.864502</td>\n",
       "    </tr>\n",
       "    <tr>\n",
       "      <th>18323</th>\n",
       "      <td>ID_Kwu8Oa.jpg</td>\n",
       "      <td>healthy</td>\n",
       "      <td>0.001682</td>\n",
       "      <td>117.706451</td>\n",
       "      <td>182.313721</td>\n",
       "      <td>231.762497</td>\n",
       "      <td>285.270203</td>\n",
       "    </tr>\n",
       "    <tr>\n",
       "      <th>9464</th>\n",
       "      <td>ID_Z7ar8k.jpg</td>\n",
       "      <td>healthy</td>\n",
       "      <td>0.001420</td>\n",
       "      <td>31.147079</td>\n",
       "      <td>0.090029</td>\n",
       "      <td>272.535675</td>\n",
       "      <td>38.211124</td>\n",
       "    </tr>\n",
       "  </tbody>\n",
       "</table>\n",
       "</div>"
      ],
      "text/plain": [
       "            Image_ID        class  confidence        ymin        xmin  \\\n",
       "33677  ID_xy2IQY.jpg  anthracnose    0.003350    0.000000    0.000000   \n",
       "24557  ID_ZwY4OM.jpg      healthy    0.004151    0.317456    0.000000   \n",
       "40849  ID_RDuHV3.jpg        cssvd    0.004660    4.808149  700.730286   \n",
       "14773  ID_rgDeQr.jpg      healthy    0.004727    0.159482  100.877838   \n",
       "18323  ID_Kwu8Oa.jpg      healthy    0.001682  117.706451  182.313721   \n",
       "9464   ID_Z7ar8k.jpg      healthy    0.001420   31.147079    0.090029   \n",
       "\n",
       "             ymax         xmax  \n",
       "33677  593.430298   575.294617  \n",
       "24557  767.924744   492.427124  \n",
       "40849  856.552368   809.913330  \n",
       "14773  504.040161  1173.864502  \n",
       "18323  231.762497   285.270203  \n",
       "9464   272.535675    38.211124  "
      ]
     },
     "execution_count": 13,
     "metadata": {},
     "output_type": "execute_result"
    }
   ],
   "source": [
    "import pandas as pd\n",
    "\n",
    "sub = pd.read_csv('dataset/predictions/02-predictions.csv')\n",
    "\n",
    "sub.sample(6)"
   ]
  },
  {
   "cell_type": "code",
   "execution_count": 14,
   "metadata": {},
   "outputs": [
    {
     "data": {
      "text/plain": [
       "count    1626.0\n",
       "mean       30.0\n",
       "std         0.0\n",
       "min        30.0\n",
       "25%        30.0\n",
       "50%        30.0\n",
       "75%        30.0\n",
       "max        30.0\n",
       "Name: count, dtype: float64"
      ]
     },
     "execution_count": 14,
     "metadata": {},
     "output_type": "execute_result"
    }
   ],
   "source": [
    "sub[\"Image_ID\"].value_counts().describe()"
   ]
  },
  {
   "cell_type": "code",
   "execution_count": 15,
   "metadata": {},
   "outputs": [
    {
     "data": {
      "text/plain": [
       "1626"
      ]
     },
     "execution_count": 15,
     "metadata": {},
     "output_type": "execute_result"
    }
   ],
   "source": [
    "sub[\"Image_ID\"].nunique()"
   ]
  },
  {
   "cell_type": "code",
   "execution_count": 16,
   "metadata": {},
   "outputs": [
    {
     "data": {
      "text/plain": [
       "Image_ID      0\n",
       "class         0\n",
       "confidence    0\n",
       "ymin          0\n",
       "xmin          0\n",
       "ymax          0\n",
       "xmax          0\n",
       "dtype: int64"
      ]
     },
     "execution_count": 16,
     "metadata": {},
     "output_type": "execute_result"
    }
   ],
   "source": [
    "sub.isna().sum()"
   ]
  },
  {
   "cell_type": "code",
   "execution_count": null,
   "metadata": {},
   "outputs": [],
   "source": []
  },
  {
   "cell_type": "code",
   "execution_count": null,
   "metadata": {},
   "outputs": [],
   "source": []
  }
 ],
 "metadata": {
  "kernelspec": {
   "display_name": ".venv",
   "language": "python",
   "name": "python3"
  },
  "language_info": {
   "codemirror_mode": {
    "name": "ipython",
    "version": 3
   },
   "file_extension": ".py",
   "mimetype": "text/x-python",
   "name": "python",
   "nbconvert_exporter": "python",
   "pygments_lexer": "ipython3",
   "version": "3.10.13"
  }
 },
 "nbformat": 4,
 "nbformat_minor": 2
}
