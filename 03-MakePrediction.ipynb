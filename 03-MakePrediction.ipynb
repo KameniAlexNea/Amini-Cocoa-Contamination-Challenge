{
 "cells": [
  {
   "cell_type": "code",
   "execution_count": 1,
   "metadata": {},
   "outputs": [],
   "source": [
    "# Import libraries\n",
    "import pandas as pd\n",
    "import os\n",
    "from pathlib import Path\n",
    "from tqdm import tqdm\n",
    "import yaml\n",
    "import matplotlib.pyplot as plt\n",
    "from ultralytics.engine.results import Results\n",
    "from ultralytics import YOLO\n",
    "import numpy as np\n",
    "from PIL import Image, ExifTags\n",
    "import torch"
   ]
  },
  {
   "cell_type": "code",
   "execution_count": 2,
   "metadata": {},
   "outputs": [],
   "source": [
    "# INPUT_DIRS\n",
    "INPUT_DATA_DIR = Path('dataset')\n",
    "## Drop the Folder if it already exists\n",
    "DATASETS_DIR = Path('dataset')\n",
    "# Image & labels directory\n",
    "TRAIN_IMAGES_DIR = DATASETS_DIR / 'images' / 'train'\n",
    "TRAIN_LABELS_DIR = DATASETS_DIR / 'labels'/ 'train'\n",
    "TEST_IMAGES_DIR = DATASETS_DIR / 'images' / 'test'\n",
    "VAL_IMAGES_DIR = DATASETS_DIR / 'images' /'val'\n",
    "VAL_LABELS_DIR = DATASETS_DIR / 'labels' /'val'\n",
    "\n",
    "# Load train and test files\n",
    "train = pd.read_csv(INPUT_DATA_DIR / 'Train_df.csv')\n",
    "val = pd.read_csv(INPUT_DATA_DIR / 'Val_df.csv')\n",
    "test = pd.read_csv(INPUT_DATA_DIR / 'Test.csv')\n",
    "ss = pd.read_csv(INPUT_DATA_DIR / 'SampleSubmission.csv')\n",
    "\n",
    "class_map = {cls: i for i, cls in enumerate(sorted(train['class'].unique().tolist()))}\n",
    "# Strip any spacing from the class item and make sure that it is a str\n",
    "train['class'] = train['class'].str.strip()\n",
    "\n",
    "# Map {'healthy': 2, 'cssvd': 1, anthracnose: 0}\n",
    "train['class_id'] = train['class'].map(class_map)\n",
    "\n",
    "train_df = train\n",
    "val_df = val\n",
    "\n",
    "# Create a data.yaml file required by yolo\n",
    "class_names = sorted(train['class'].unique().tolist())\n",
    "num_classes = len(class_names)\n",
    "data_yaml = {\n",
    "    \"path\" : str(DATASETS_DIR.absolute()),\n",
    "    'train': str(TRAIN_IMAGES_DIR.absolute()),\n",
    "    'val': str(VAL_IMAGES_DIR.absolute()),\n",
    "    'test': str(TEST_IMAGES_DIR.absolute()),\n",
    "    'nc': num_classes,\n",
    "    'names': class_names\n",
    "}\n",
    "\n",
    "val_image_names = [str(Path(name).stem) for name in val_df['Image_ID'].unique()]\n",
    "train_image_names = [str(Path(name).stem) for name in train['ImagePath'].unique()]"
   ]
  },
  {
   "cell_type": "code",
   "execution_count": 3,
   "metadata": {},
   "outputs": [
    {
     "data": {
      "text/plain": [
       "'runs/detect/train2/weights/best.pt'"
      ]
     },
     "execution_count": 3,
     "metadata": {},
     "output_type": "execute_result"
    }
   ],
   "source": [
    "from glob import glob\n",
    "\n",
    "# Validate the model on the validation set\n",
    "BEST_PATH = sorted(glob(\"runs/detect/train*/weights/best.pt\"))[-1]\n",
    "# BEST_PATH = \"runs/detect/train3/weights/best.pt\"\n",
    "BEST_PATH"
   ]
  },
  {
   "cell_type": "code",
   "execution_count": 4,
   "metadata": {},
   "outputs": [
    {
     "data": {
      "text/plain": [
       "274"
      ]
     },
     "execution_count": 4,
     "metadata": {},
     "output_type": "execute_result"
    }
   ],
   "source": [
    "for flag, v in ExifTags.TAGS.items():\n",
    "    if v == \"Orientation\":\n",
    "        break\n",
    "\n",
    "\n",
    "def load_image(filepath):\n",
    "    image = Image.open(filepath)\n",
    "    return image\n",
    "\n",
    "    exif = image._getexif()\n",
    "    if exif is None:\n",
    "        return image\n",
    "\n",
    "    orientation_value = exif.get(flag, None)\n",
    "\n",
    "    if orientation_value == 3:\n",
    "        image = image.rotate(180, expand=True)\n",
    "    elif orientation_value == 6:\n",
    "        image = image.rotate(270, expand=True)\n",
    "    elif orientation_value == 8:\n",
    "        image = image.rotate(90, expand=True)\n",
    "    return image\n",
    "\n",
    "\n",
    "flag"
   ]
  },
  {
   "cell_type": "code",
   "execution_count": 5,
   "metadata": {},
   "outputs": [],
   "source": [
    "from ultralytics.engine.predictor import BasePredictor\n",
    "\n",
    "BEST_CONFIG = sorted(glob(\"runs/detect/train*/args.yaml\"))[-1]\n",
    "predictor = BasePredictor(BEST_CONFIG)"
   ]
  },
  {
   "cell_type": "code",
   "execution_count": null,
   "metadata": {},
   "outputs": [
    {
     "name": "stderr",
     "output_type": "stream",
     "text": [
      "100%|██████████| 1626/1626 [03:15<00:00,  8.30it/s]\n"
     ]
    }
   ],
   "source": [
    "# Load the trained YOLO model\n",
    "model = YOLO(BEST_PATH)\n",
    "\n",
    "# Path to the test images directory\n",
    "test_dir_path = TEST_IMAGES_DIR\n",
    "\n",
    "# Get a list of all image files in the test directory\n",
    "image_files = os.listdir(test_dir_path)\n",
    "\n",
    "# Initialize an empty list to store the results for all images\n",
    "all_data = []\n",
    "\n",
    "# Initialize an empty list to store the results for all images\n",
    "all_data = []\n",
    "\n",
    "# Iterate through each image in the directory\n",
    "for image_file in tqdm(image_files):\n",
    "    # Full path to the image\n",
    "    img_path = os.path.join(test_dir_path, image_file)\n",
    "\n",
    "    # Make predictions on the image\n",
    "    results: list[Results] = model.predict(\n",
    "        load_image(img_path),\n",
    "        conf=0.0,\n",
    "        imgsz=1024,\n",
    "        # max_det=100,\n",
    "        verbose=False,\n",
    "        nms=True,\n",
    "        iou=0.7,\n",
    "        # nbs=64,\n",
    "        device=\"cuda:0\",\n",
    "    )\n",
    "\n",
    "    # Extract bounding boxes, confidence scores, and class labels\n",
    "    boxes = (\n",
    "        results[0].boxes.xyxy.tolist() if results[0].boxes else []\n",
    "    )  # Bounding boxes in xyxy format\n",
    "    classes = results[0].boxes.cls.tolist() if results[0].boxes else []  # Class indices\n",
    "    confidences = (\n",
    "        results[0].boxes.conf.tolist() if results[0].boxes else []\n",
    "    )  # Confidence scores\n",
    "    names = results[0].names  # Class names dictionary\n",
    "\n",
    "    if boxes:  # If detections are found\n",
    "        for box, cls, conf in zip(boxes, classes, confidences):\n",
    "            x1, y1, x2, y2 = box\n",
    "            detected_class = names[\n",
    "                int(cls)\n",
    "            ]  # Get the class name from the names dictionary\n",
    "\n",
    "            # Add the result to the all_data list\n",
    "            all_data.append(\n",
    "                {\n",
    "                    \"Image_ID\": str(image_file),\n",
    "                    \"class\": detected_class,\n",
    "                    \"confidence\": conf,\n",
    "                    \"ymin\": y1,\n",
    "                    \"xmin\": x1,\n",
    "                    \"ymax\": y2,\n",
    "                    \"xmax\": x2,\n",
    "                }\n",
    "            )\n",
    "    else:  # If no objects are detected\n",
    "        all_data.append(\n",
    "            {\n",
    "                \"Image_ID\": str(image_file),\n",
    "                \"class\": None,\n",
    "                \"confidence\": None,\n",
    "                \"ymin\": None,\n",
    "                \"xmin\": None,\n",
    "                \"ymax\": None,\n",
    "                \"xmax\": None,\n",
    "            }\n",
    "        )"
   ]
  },
  {
   "cell_type": "code",
   "execution_count": 7,
   "metadata": {},
   "outputs": [],
   "source": [
    "# Convert the list to a DataFrame for all images\n",
    "sub = pd.DataFrame(all_data)"
   ]
  },
  {
   "cell_type": "code",
   "execution_count": 8,
   "metadata": {},
   "outputs": [
    {
     "data": {
      "text/html": [
       "<div>\n",
       "<style scoped>\n",
       "    .dataframe tbody tr th:only-of-type {\n",
       "        vertical-align: middle;\n",
       "    }\n",
       "\n",
       "    .dataframe tbody tr th {\n",
       "        vertical-align: top;\n",
       "    }\n",
       "\n",
       "    .dataframe thead th {\n",
       "        text-align: right;\n",
       "    }\n",
       "</style>\n",
       "<table border=\"1\" class=\"dataframe\">\n",
       "  <thead>\n",
       "    <tr style=\"text-align: right;\">\n",
       "      <th></th>\n",
       "      <th>Image_ID</th>\n",
       "      <th>class</th>\n",
       "      <th>confidence</th>\n",
       "      <th>ymin</th>\n",
       "      <th>xmin</th>\n",
       "      <th>ymax</th>\n",
       "      <th>xmax</th>\n",
       "    </tr>\n",
       "  </thead>\n",
       "  <tbody>\n",
       "    <tr>\n",
       "      <th>0</th>\n",
       "      <td>ID_cWEAQI.jpeg</td>\n",
       "      <td>healthy</td>\n",
       "      <td>0.544732</td>\n",
       "      <td>0.000000</td>\n",
       "      <td>0.000000</td>\n",
       "      <td>3671.547607</td>\n",
       "      <td>1677.223511</td>\n",
       "    </tr>\n",
       "    <tr>\n",
       "      <th>1</th>\n",
       "      <td>ID_cWEAQI.jpeg</td>\n",
       "      <td>healthy</td>\n",
       "      <td>0.011575</td>\n",
       "      <td>319.800598</td>\n",
       "      <td>1257.447021</td>\n",
       "      <td>1133.294067</td>\n",
       "      <td>1794.507324</td>\n",
       "    </tr>\n",
       "    <tr>\n",
       "      <th>2</th>\n",
       "      <td>ID_cWEAQI.jpeg</td>\n",
       "      <td>cssvd</td>\n",
       "      <td>0.010274</td>\n",
       "      <td>2121.080322</td>\n",
       "      <td>25.210379</td>\n",
       "      <td>3996.958008</td>\n",
       "      <td>1582.924072</td>\n",
       "    </tr>\n",
       "    <tr>\n",
       "      <th>3</th>\n",
       "      <td>ID_cWEAQI.jpeg</td>\n",
       "      <td>healthy</td>\n",
       "      <td>0.008656</td>\n",
       "      <td>1568.007812</td>\n",
       "      <td>16.477583</td>\n",
       "      <td>3980.346924</td>\n",
       "      <td>1614.395996</td>\n",
       "    </tr>\n",
       "    <tr>\n",
       "      <th>4</th>\n",
       "      <td>ID_cWEAQI.jpeg</td>\n",
       "      <td>anthracnose</td>\n",
       "      <td>0.007832</td>\n",
       "      <td>2376.124756</td>\n",
       "      <td>12.456416</td>\n",
       "      <td>3995.283447</td>\n",
       "      <td>1585.965576</td>\n",
       "    </tr>\n",
       "  </tbody>\n",
       "</table>\n",
       "</div>"
      ],
      "text/plain": [
       "         Image_ID        class  confidence         ymin         xmin  \\\n",
       "0  ID_cWEAQI.jpeg      healthy    0.544732     0.000000     0.000000   \n",
       "1  ID_cWEAQI.jpeg      healthy    0.011575   319.800598  1257.447021   \n",
       "2  ID_cWEAQI.jpeg        cssvd    0.010274  2121.080322    25.210379   \n",
       "3  ID_cWEAQI.jpeg      healthy    0.008656  1568.007812    16.477583   \n",
       "4  ID_cWEAQI.jpeg  anthracnose    0.007832  2376.124756    12.456416   \n",
       "\n",
       "          ymax         xmax  \n",
       "0  3671.547607  1677.223511  \n",
       "1  1133.294067  1794.507324  \n",
       "2  3996.958008  1582.924072  \n",
       "3  3980.346924  1614.395996  \n",
       "4  3995.283447  1585.965576  "
      ]
     },
     "execution_count": 8,
     "metadata": {},
     "output_type": "execute_result"
    }
   ],
   "source": [
    "sub.head()"
   ]
  },
  {
   "cell_type": "code",
   "execution_count": 9,
   "metadata": {},
   "outputs": [
    {
     "data": {
      "text/html": [
       "<div>\n",
       "<style scoped>\n",
       "    .dataframe tbody tr th:only-of-type {\n",
       "        vertical-align: middle;\n",
       "    }\n",
       "\n",
       "    .dataframe tbody tr th {\n",
       "        vertical-align: top;\n",
       "    }\n",
       "\n",
       "    .dataframe thead th {\n",
       "        text-align: right;\n",
       "    }\n",
       "</style>\n",
       "<table border=\"1\" class=\"dataframe\">\n",
       "  <thead>\n",
       "    <tr style=\"text-align: right;\">\n",
       "      <th></th>\n",
       "      <th>confidence</th>\n",
       "      <th>ymin</th>\n",
       "      <th>xmin</th>\n",
       "      <th>ymax</th>\n",
       "      <th>xmax</th>\n",
       "    </tr>\n",
       "  </thead>\n",
       "  <tbody>\n",
       "    <tr>\n",
       "      <th>count</th>\n",
       "      <td>487800.000000</td>\n",
       "      <td>487800.000000</td>\n",
       "      <td>487800.000000</td>\n",
       "      <td>487800.000000</td>\n",
       "      <td>487800.000000</td>\n",
       "    </tr>\n",
       "    <tr>\n",
       "      <th>mean</th>\n",
       "      <td>0.004946</td>\n",
       "      <td>774.200170</td>\n",
       "      <td>696.899026</td>\n",
       "      <td>1399.405646</td>\n",
       "      <td>1216.761743</td>\n",
       "    </tr>\n",
       "    <tr>\n",
       "      <th>std</th>\n",
       "      <td>0.041294</td>\n",
       "      <td>955.919460</td>\n",
       "      <td>838.080582</td>\n",
       "      <td>1164.923586</td>\n",
       "      <td>989.669973</td>\n",
       "    </tr>\n",
       "    <tr>\n",
       "      <th>min</th>\n",
       "      <td>0.000009</td>\n",
       "      <td>0.000000</td>\n",
       "      <td>0.000000</td>\n",
       "      <td>2.183855</td>\n",
       "      <td>6.420255</td>\n",
       "    </tr>\n",
       "    <tr>\n",
       "      <th>25%</th>\n",
       "      <td>0.000202</td>\n",
       "      <td>3.771681</td>\n",
       "      <td>4.735268</td>\n",
       "      <td>416.000000</td>\n",
       "      <td>415.793793</td>\n",
       "    </tr>\n",
       "    <tr>\n",
       "      <th>50%</th>\n",
       "      <td>0.000432</td>\n",
       "      <td>390.323761</td>\n",
       "      <td>386.498703</td>\n",
       "      <td>1079.765869</td>\n",
       "      <td>951.745758</td>\n",
       "    </tr>\n",
       "    <tr>\n",
       "      <th>75%</th>\n",
       "      <td>0.001110</td>\n",
       "      <td>1156.936432</td>\n",
       "      <td>1024.987030</td>\n",
       "      <td>2048.000000</td>\n",
       "      <td>1798.047943</td>\n",
       "    </tr>\n",
       "    <tr>\n",
       "      <th>max</th>\n",
       "      <td>0.894790</td>\n",
       "      <td>4034.561768</td>\n",
       "      <td>4047.558105</td>\n",
       "      <td>4128.000000</td>\n",
       "      <td>4128.000000</td>\n",
       "    </tr>\n",
       "  </tbody>\n",
       "</table>\n",
       "</div>"
      ],
      "text/plain": [
       "          confidence           ymin           xmin           ymax  \\\n",
       "count  487800.000000  487800.000000  487800.000000  487800.000000   \n",
       "mean        0.004946     774.200170     696.899026    1399.405646   \n",
       "std         0.041294     955.919460     838.080582    1164.923586   \n",
       "min         0.000009       0.000000       0.000000       2.183855   \n",
       "25%         0.000202       3.771681       4.735268     416.000000   \n",
       "50%         0.000432     390.323761     386.498703    1079.765869   \n",
       "75%         0.001110    1156.936432    1024.987030    2048.000000   \n",
       "max         0.894790    4034.561768    4047.558105    4128.000000   \n",
       "\n",
       "                xmax  \n",
       "count  487800.000000  \n",
       "mean     1216.761743  \n",
       "std       989.669973  \n",
       "min         6.420255  \n",
       "25%       415.793793  \n",
       "50%       951.745758  \n",
       "75%      1798.047943  \n",
       "max      4128.000000  "
      ]
     },
     "execution_count": 9,
     "metadata": {},
     "output_type": "execute_result"
    }
   ],
   "source": [
    "sub.describe()"
   ]
  },
  {
   "cell_type": "code",
   "execution_count": 10,
   "metadata": {},
   "outputs": [
    {
     "data": {
      "text/plain": [
       "class\n",
       "cssvd          179064\n",
       "healthy        158489\n",
       "anthracnose    150247\n",
       "Name: count, dtype: int64"
      ]
     },
     "execution_count": 10,
     "metadata": {},
     "output_type": "execute_result"
    }
   ],
   "source": [
    "sub['class'].value_counts()"
   ]
  },
  {
   "cell_type": "code",
   "execution_count": 11,
   "metadata": {},
   "outputs": [
    {
     "data": {
      "text/plain": [
       "Image_ID      0\n",
       "class         0\n",
       "confidence    0\n",
       "ymin          0\n",
       "xmin          0\n",
       "ymax          0\n",
       "xmax          0\n",
       "dtype: int64"
      ]
     },
     "execution_count": 11,
     "metadata": {},
     "output_type": "execute_result"
    }
   ],
   "source": [
    "sub.isna().sum()"
   ]
  },
  {
   "cell_type": "markdown",
   "metadata": {},
   "source": [
    "class\n",
    "healthy        1153\n",
    "cssvd           801\n",
    "anthracnose     694\n",
    "None             57\n",
    "Name: count, dtype: int6"
   ]
  },
  {
   "cell_type": "code",
   "execution_count": 12,
   "metadata": {},
   "outputs": [],
   "source": [
    "sub.to_csv(\"dataset/predictions/03-predictions.csv\", index=False)"
   ]
  },
  {
   "cell_type": "code",
   "execution_count": 13,
   "metadata": {},
   "outputs": [
    {
     "data": {
      "text/plain": [
       "count    487800.000000\n",
       "mean          0.004946\n",
       "std           0.041294\n",
       "min           0.000009\n",
       "25%           0.000202\n",
       "50%           0.000432\n",
       "75%           0.001110\n",
       "max           0.894790\n",
       "Name: confidence, dtype: float64"
      ]
     },
     "execution_count": 13,
     "metadata": {},
     "output_type": "execute_result"
    }
   ],
   "source": [
    "sub[\"confidence\"].describe()"
   ]
  },
  {
   "cell_type": "code",
   "execution_count": 14,
   "metadata": {},
   "outputs": [
    {
     "data": {
      "text/html": [
       "<div>\n",
       "<style scoped>\n",
       "    .dataframe tbody tr th:only-of-type {\n",
       "        vertical-align: middle;\n",
       "    }\n",
       "\n",
       "    .dataframe tbody tr th {\n",
       "        vertical-align: top;\n",
       "    }\n",
       "\n",
       "    .dataframe thead th {\n",
       "        text-align: right;\n",
       "    }\n",
       "</style>\n",
       "<table border=\"1\" class=\"dataframe\">\n",
       "  <thead>\n",
       "    <tr style=\"text-align: right;\">\n",
       "      <th></th>\n",
       "      <th>Image_ID</th>\n",
       "      <th>class</th>\n",
       "      <th>confidence</th>\n",
       "      <th>ymin</th>\n",
       "      <th>xmin</th>\n",
       "      <th>ymax</th>\n",
       "      <th>xmax</th>\n",
       "    </tr>\n",
       "  </thead>\n",
       "  <tbody>\n",
       "    <tr>\n",
       "      <th>366005</th>\n",
       "      <td>ID_ZNueIB.jpg</td>\n",
       "      <td>cssvd</td>\n",
       "      <td>0.018313</td>\n",
       "      <td>0.000000</td>\n",
       "      <td>18.791580</td>\n",
       "      <td>369.739136</td>\n",
       "      <td>728.420044</td>\n",
       "    </tr>\n",
       "    <tr>\n",
       "      <th>293914</th>\n",
       "      <td>ID_VEfmr3.jpeg</td>\n",
       "      <td>healthy</td>\n",
       "      <td>0.000792</td>\n",
       "      <td>1680.510132</td>\n",
       "      <td>3.630003</td>\n",
       "      <td>2486.222412</td>\n",
       "      <td>700.189880</td>\n",
       "    </tr>\n",
       "    <tr>\n",
       "      <th>421633</th>\n",
       "      <td>ID_d7p17d.jpeg</td>\n",
       "      <td>anthracnose</td>\n",
       "      <td>0.000529</td>\n",
       "      <td>1377.809082</td>\n",
       "      <td>2760.769531</td>\n",
       "      <td>2958.419678</td>\n",
       "      <td>3024.000000</td>\n",
       "    </tr>\n",
       "    <tr>\n",
       "      <th>59961</th>\n",
       "      <td>ID_yAA9sh.jpeg</td>\n",
       "      <td>cssvd</td>\n",
       "      <td>0.000365</td>\n",
       "      <td>173.717880</td>\n",
       "      <td>0.000000</td>\n",
       "      <td>1310.096069</td>\n",
       "      <td>270.039886</td>\n",
       "    </tr>\n",
       "    <tr>\n",
       "      <th>455206</th>\n",
       "      <td>ID_kEdXYw.jpg</td>\n",
       "      <td>anthracnose</td>\n",
       "      <td>0.000787</td>\n",
       "      <td>565.797607</td>\n",
       "      <td>0.000000</td>\n",
       "      <td>2024.513428</td>\n",
       "      <td>395.216431</td>\n",
       "    </tr>\n",
       "    <tr>\n",
       "      <th>205422</th>\n",
       "      <td>ID_XUxHSs.jpg</td>\n",
       "      <td>cssvd</td>\n",
       "      <td>0.000040</td>\n",
       "      <td>4.428606</td>\n",
       "      <td>324.185638</td>\n",
       "      <td>150.299423</td>\n",
       "      <td>815.499756</td>\n",
       "    </tr>\n",
       "  </tbody>\n",
       "</table>\n",
       "</div>"
      ],
      "text/plain": [
       "              Image_ID        class  confidence         ymin         xmin  \\\n",
       "366005   ID_ZNueIB.jpg        cssvd    0.018313     0.000000    18.791580   \n",
       "293914  ID_VEfmr3.jpeg      healthy    0.000792  1680.510132     3.630003   \n",
       "421633  ID_d7p17d.jpeg  anthracnose    0.000529  1377.809082  2760.769531   \n",
       "59961   ID_yAA9sh.jpeg        cssvd    0.000365   173.717880     0.000000   \n",
       "455206   ID_kEdXYw.jpg  anthracnose    0.000787   565.797607     0.000000   \n",
       "205422   ID_XUxHSs.jpg        cssvd    0.000040     4.428606   324.185638   \n",
       "\n",
       "               ymax         xmax  \n",
       "366005   369.739136   728.420044  \n",
       "293914  2486.222412   700.189880  \n",
       "421633  2958.419678  3024.000000  \n",
       "59961   1310.096069   270.039886  \n",
       "455206  2024.513428   395.216431  \n",
       "205422   150.299423   815.499756  "
      ]
     },
     "execution_count": 14,
     "metadata": {},
     "output_type": "execute_result"
    }
   ],
   "source": [
    "import pandas as pd\n",
    "\n",
    "sub = pd.read_csv('dataset/predictions/03-predictions.csv')\n",
    "\n",
    "sub.sample(6)"
   ]
  },
  {
   "cell_type": "code",
   "execution_count": 15,
   "metadata": {},
   "outputs": [
    {
     "data": {
      "text/plain": [
       "count    1626.0\n",
       "mean      300.0\n",
       "std         0.0\n",
       "min       300.0\n",
       "25%       300.0\n",
       "50%       300.0\n",
       "75%       300.0\n",
       "max       300.0\n",
       "Name: count, dtype: float64"
      ]
     },
     "execution_count": 15,
     "metadata": {},
     "output_type": "execute_result"
    }
   ],
   "source": [
    "sub[\"Image_ID\"].value_counts().describe()"
   ]
  },
  {
   "cell_type": "code",
   "execution_count": 16,
   "metadata": {},
   "outputs": [
    {
     "data": {
      "text/plain": [
       "1626"
      ]
     },
     "execution_count": 16,
     "metadata": {},
     "output_type": "execute_result"
    }
   ],
   "source": [
    "sub[\"Image_ID\"].nunique()"
   ]
  },
  {
   "cell_type": "code",
   "execution_count": 17,
   "metadata": {},
   "outputs": [
    {
     "data": {
      "text/plain": [
       "Image_ID      0\n",
       "class         0\n",
       "confidence    0\n",
       "ymin          0\n",
       "xmin          0\n",
       "ymax          0\n",
       "xmax          0\n",
       "dtype: int64"
      ]
     },
     "execution_count": 17,
     "metadata": {},
     "output_type": "execute_result"
    }
   ],
   "source": [
    "sub.isna().sum()"
   ]
  },
  {
   "cell_type": "code",
   "execution_count": null,
   "metadata": {},
   "outputs": [],
   "source": []
  },
  {
   "cell_type": "code",
   "execution_count": null,
   "metadata": {},
   "outputs": [],
   "source": []
  }
 ],
 "metadata": {
  "kernelspec": {
   "display_name": ".venv",
   "language": "python",
   "name": "python3"
  },
  "language_info": {
   "codemirror_mode": {
    "name": "ipython",
    "version": 3
   },
   "file_extension": ".py",
   "mimetype": "text/x-python",
   "name": "python",
   "nbconvert_exporter": "python",
   "pygments_lexer": "ipython3",
   "version": "3.10.13"
  }
 },
 "nbformat": 4,
 "nbformat_minor": 2
}
