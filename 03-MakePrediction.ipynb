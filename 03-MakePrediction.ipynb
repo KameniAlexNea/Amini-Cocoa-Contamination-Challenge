{
 "cells": [
  {
   "cell_type": "code",
   "execution_count": 1,
   "metadata": {},
   "outputs": [],
   "source": [
    "# Import libraries\n",
    "import pandas as pd\n",
    "import os\n",
    "from pathlib import Path\n",
    "from tqdm import tqdm\n",
    "import yaml\n",
    "import matplotlib.pyplot as plt\n",
    "from ultralytics.engine.results import Results\n",
    "from ultralytics import YOLO\n",
    "import numpy as np\n",
    "from PIL import Image, ExifTags\n",
    "import torch"
   ]
  },
  {
   "cell_type": "code",
   "execution_count": 2,
   "metadata": {},
   "outputs": [],
   "source": [
    "# INPUT_DIRS\n",
    "INPUT_DATA_DIR = Path('dataset')\n",
    "## Drop the Folder if it already exists\n",
    "DATASETS_DIR = Path('dataset')\n",
    "# Image & labels directory\n",
    "TRAIN_IMAGES_DIR = DATASETS_DIR / 'images' / 'train'\n",
    "TRAIN_LABELS_DIR = DATASETS_DIR / 'labels'/ 'train'\n",
    "TEST_IMAGES_DIR = DATASETS_DIR / 'images' / 'test'\n",
    "VAL_IMAGES_DIR = DATASETS_DIR / 'images' /'val'\n",
    "VAL_LABELS_DIR = DATASETS_DIR / 'labels' /'val'\n",
    "\n",
    "# Load train and test files\n",
    "train = pd.read_csv(INPUT_DATA_DIR / 'Train_df.csv')\n",
    "val = pd.read_csv(INPUT_DATA_DIR / 'Val_df.csv')\n",
    "test = pd.read_csv(INPUT_DATA_DIR / 'Test.csv')\n",
    "ss = pd.read_csv(INPUT_DATA_DIR / 'SampleSubmission.csv')\n",
    "\n",
    "class_map = {cls: i for i, cls in enumerate(sorted(train['class'].unique().tolist()))}\n",
    "# Strip any spacing from the class item and make sure that it is a str\n",
    "train['class'] = train['class'].str.strip()\n",
    "\n",
    "# Map {'healthy': 2, 'cssvd': 1, anthracnose: 0}\n",
    "train['class_id'] = train['class'].map(class_map)\n",
    "\n",
    "train_df = train\n",
    "val_df = val\n",
    "\n",
    "# Create a data.yaml file required by yolo\n",
    "class_names = sorted(train['class'].unique().tolist())\n",
    "num_classes = len(class_names)\n",
    "data_yaml = {\n",
    "    \"path\" : str(DATASETS_DIR.absolute()),\n",
    "    'train': str(TRAIN_IMAGES_DIR.absolute()),\n",
    "    'val': str(VAL_IMAGES_DIR.absolute()),\n",
    "    'test': str(TEST_IMAGES_DIR.absolute()),\n",
    "    'nc': num_classes,\n",
    "    'names': class_names\n",
    "}\n",
    "\n",
    "val_image_names = [str(Path(name).stem) for name in val_df['Image_ID'].unique()]\n",
    "train_image_names = [str(Path(name).stem) for name in train['ImagePath'].unique()]"
   ]
  },
  {
   "cell_type": "code",
   "execution_count": 3,
   "metadata": {},
   "outputs": [
    {
     "data": {
      "text/plain": [
       "'runs/detect/train5/weights/best.pt'"
      ]
     },
     "execution_count": 3,
     "metadata": {},
     "output_type": "execute_result"
    }
   ],
   "source": [
    "from glob import glob\n",
    "\n",
    "# Validate the model on the validation set\n",
    "BEST_PATH = sorted(glob(\"runs/detect/train*/weights/best.pt\"))[-1]\n",
    "BEST_PATH"
   ]
  },
  {
   "cell_type": "code",
   "execution_count": 4,
   "metadata": {},
   "outputs": [
    {
     "data": {
      "text/plain": [
       "274"
      ]
     },
     "execution_count": 4,
     "metadata": {},
     "output_type": "execute_result"
    }
   ],
   "source": [
    "for flag, v in ExifTags.TAGS.items():\n",
    "    if v == \"Orientation\":\n",
    "        break\n",
    "\n",
    "\n",
    "def load_image(filepath):\n",
    "    image = Image.open(filepath)\n",
    "\n",
    "    exif = image._getexif()\n",
    "    if exif is None:\n",
    "        return image\n",
    "\n",
    "    orientation_value = exif.get(flag, None)\n",
    "\n",
    "    if orientation_value == 3:\n",
    "        image = image.rotate(180, expand=True)\n",
    "    elif orientation_value == 6:\n",
    "        image = image.rotate(270, expand=True)\n",
    "    elif orientation_value == 8:\n",
    "        image = image.rotate(90, expand=True)\n",
    "    return image\n",
    "\n",
    "\n",
    "flag"
   ]
  },
  {
   "cell_type": "code",
   "execution_count": 5,
   "metadata": {},
   "outputs": [
    {
     "name": "stderr",
     "output_type": "stream",
     "text": [
      "100%|██████████| 1626/1626 [03:31<00:00,  7.70it/s]\n"
     ]
    }
   ],
   "source": [
    "# Load the trained YOLO model\n",
    "model = YOLO(BEST_PATH)\n",
    "\n",
    "# Path to the test images directory\n",
    "test_dir_path = TEST_IMAGES_DIR\n",
    "\n",
    "# Get a list of all image files in the test directory\n",
    "image_files = os.listdir(test_dir_path)\n",
    "\n",
    "# Initialize an empty list to store the results for all images\n",
    "all_data = []\n",
    "\n",
    "# Initialize an empty list to store the results for all images\n",
    "all_data = []\n",
    "\n",
    "# Iterate through each image in the directory\n",
    "for image_file in tqdm(image_files):\n",
    "    # Full path to the image\n",
    "    img_path = os.path.join(test_dir_path, image_file)\n",
    "\n",
    "    # Make predictions on the image\n",
    "    results: list[Results] = model(\n",
    "        load_image(img_path),\n",
    "        conf=0.0,\n",
    "        imgsz=1024,\n",
    "        max_det=30,\n",
    "        verbose=False,\n",
    "    )\n",
    "\n",
    "    # Extract bounding boxes, confidence scores, and class labels\n",
    "    boxes = (\n",
    "        results[0].boxes.xyxy.tolist() if results[0].boxes else []\n",
    "    )  # Bounding boxes in xyxy format\n",
    "    classes = results[0].boxes.cls.tolist() if results[0].boxes else []  # Class indices\n",
    "    confidences = (\n",
    "        results[0].boxes.conf.tolist() if results[0].boxes else []\n",
    "    )  # Confidence scores\n",
    "    names = results[0].names  # Class names dictionary\n",
    "\n",
    "    if boxes:  # If detections are found\n",
    "        for box, cls, conf in zip(boxes, classes, confidences):\n",
    "            x1, y1, x2, y2 = box\n",
    "            detected_class = names[\n",
    "                int(cls)\n",
    "            ]  # Get the class name from the names dictionary\n",
    "\n",
    "            # Add the result to the all_data list\n",
    "            all_data.append(\n",
    "                {\n",
    "                    \"Image_ID\": str(image_file),\n",
    "                    \"class\": detected_class,\n",
    "                    \"confidence\": conf,\n",
    "                    \"ymin\": y1,\n",
    "                    \"xmin\": x1,\n",
    "                    \"ymax\": y2,\n",
    "                    \"xmax\": x2,\n",
    "                }\n",
    "            )\n",
    "    else:  # If no objects are detected\n",
    "        all_data.append(\n",
    "            {\n",
    "                \"Image_ID\": str(image_file),\n",
    "                \"class\": None,\n",
    "                \"confidence\": None,\n",
    "                \"ymin\": None,\n",
    "                \"xmin\": None,\n",
    "                \"ymax\": None,\n",
    "                \"xmax\": None,\n",
    "            }\n",
    "        )"
   ]
  },
  {
   "cell_type": "code",
   "execution_count": 6,
   "metadata": {},
   "outputs": [],
   "source": [
    "# Convert the list to a DataFrame for all images\n",
    "sub = pd.DataFrame(all_data)"
   ]
  },
  {
   "cell_type": "code",
   "execution_count": 7,
   "metadata": {},
   "outputs": [
    {
     "data": {
      "text/html": [
       "<div>\n",
       "<style scoped>\n",
       "    .dataframe tbody tr th:only-of-type {\n",
       "        vertical-align: middle;\n",
       "    }\n",
       "\n",
       "    .dataframe tbody tr th {\n",
       "        vertical-align: top;\n",
       "    }\n",
       "\n",
       "    .dataframe thead th {\n",
       "        text-align: right;\n",
       "    }\n",
       "</style>\n",
       "<table border=\"1\" class=\"dataframe\">\n",
       "  <thead>\n",
       "    <tr style=\"text-align: right;\">\n",
       "      <th></th>\n",
       "      <th>Image_ID</th>\n",
       "      <th>class</th>\n",
       "      <th>confidence</th>\n",
       "      <th>ymin</th>\n",
       "      <th>xmin</th>\n",
       "      <th>ymax</th>\n",
       "      <th>xmax</th>\n",
       "    </tr>\n",
       "  </thead>\n",
       "  <tbody>\n",
       "    <tr>\n",
       "      <th>0</th>\n",
       "      <td>ID_cWEAQI.jpeg</td>\n",
       "      <td>healthy</td>\n",
       "      <td>0.725997</td>\n",
       "      <td>65.496201</td>\n",
       "      <td>3.566622</td>\n",
       "      <td>3809.929688</td>\n",
       "      <td>1677.347778</td>\n",
       "    </tr>\n",
       "    <tr>\n",
       "      <th>1</th>\n",
       "      <td>ID_cWEAQI.jpeg</td>\n",
       "      <td>healthy</td>\n",
       "      <td>0.087389</td>\n",
       "      <td>187.336441</td>\n",
       "      <td>5.244195</td>\n",
       "      <td>1441.073364</td>\n",
       "      <td>472.208466</td>\n",
       "    </tr>\n",
       "    <tr>\n",
       "      <th>2</th>\n",
       "      <td>ID_cWEAQI.jpeg</td>\n",
       "      <td>healthy</td>\n",
       "      <td>0.012052</td>\n",
       "      <td>245.344498</td>\n",
       "      <td>11.928021</td>\n",
       "      <td>1187.613770</td>\n",
       "      <td>593.236511</td>\n",
       "    </tr>\n",
       "    <tr>\n",
       "      <th>3</th>\n",
       "      <td>ID_cWEAQI.jpeg</td>\n",
       "      <td>healthy</td>\n",
       "      <td>0.008435</td>\n",
       "      <td>143.887268</td>\n",
       "      <td>4.444718</td>\n",
       "      <td>1956.317017</td>\n",
       "      <td>531.991089</td>\n",
       "    </tr>\n",
       "    <tr>\n",
       "      <th>4</th>\n",
       "      <td>ID_cWEAQI.jpeg</td>\n",
       "      <td>healthy</td>\n",
       "      <td>0.005113</td>\n",
       "      <td>338.875488</td>\n",
       "      <td>1350.859375</td>\n",
       "      <td>1167.488037</td>\n",
       "      <td>1797.457764</td>\n",
       "    </tr>\n",
       "  </tbody>\n",
       "</table>\n",
       "</div>"
      ],
      "text/plain": [
       "         Image_ID    class  confidence        ymin         xmin         ymax  \\\n",
       "0  ID_cWEAQI.jpeg  healthy    0.725997   65.496201     3.566622  3809.929688   \n",
       "1  ID_cWEAQI.jpeg  healthy    0.087389  187.336441     5.244195  1441.073364   \n",
       "2  ID_cWEAQI.jpeg  healthy    0.012052  245.344498    11.928021  1187.613770   \n",
       "3  ID_cWEAQI.jpeg  healthy    0.008435  143.887268     4.444718  1956.317017   \n",
       "4  ID_cWEAQI.jpeg  healthy    0.005113  338.875488  1350.859375  1167.488037   \n",
       "\n",
       "          xmax  \n",
       "0  1677.347778  \n",
       "1   472.208466  \n",
       "2   593.236511  \n",
       "3   531.991089  \n",
       "4  1797.457764  "
      ]
     },
     "execution_count": 7,
     "metadata": {},
     "output_type": "execute_result"
    }
   ],
   "source": [
    "sub.head()"
   ]
  },
  {
   "cell_type": "code",
   "execution_count": 8,
   "metadata": {},
   "outputs": [
    {
     "data": {
      "text/html": [
       "<div>\n",
       "<style scoped>\n",
       "    .dataframe tbody tr th:only-of-type {\n",
       "        vertical-align: middle;\n",
       "    }\n",
       "\n",
       "    .dataframe tbody tr th {\n",
       "        vertical-align: top;\n",
       "    }\n",
       "\n",
       "    .dataframe thead th {\n",
       "        text-align: right;\n",
       "    }\n",
       "</style>\n",
       "<table border=\"1\" class=\"dataframe\">\n",
       "  <thead>\n",
       "    <tr style=\"text-align: right;\">\n",
       "      <th></th>\n",
       "      <th>confidence</th>\n",
       "      <th>ymin</th>\n",
       "      <th>xmin</th>\n",
       "      <th>ymax</th>\n",
       "      <th>xmax</th>\n",
       "    </tr>\n",
       "  </thead>\n",
       "  <tbody>\n",
       "    <tr>\n",
       "      <th>count</th>\n",
       "      <td>48780.000000</td>\n",
       "      <td>48780.000000</td>\n",
       "      <td>48780.000000</td>\n",
       "      <td>48780.000000</td>\n",
       "      <td>48780.000000</td>\n",
       "    </tr>\n",
       "    <tr>\n",
       "      <th>mean</th>\n",
       "      <td>0.046722</td>\n",
       "      <td>638.084714</td>\n",
       "      <td>643.439096</td>\n",
       "      <td>1448.241103</td>\n",
       "      <td>1258.090383</td>\n",
       "    </tr>\n",
       "    <tr>\n",
       "      <th>std</th>\n",
       "      <td>0.150417</td>\n",
       "      <td>872.602811</td>\n",
       "      <td>817.941180</td>\n",
       "      <td>1152.983540</td>\n",
       "      <td>1007.268527</td>\n",
       "    </tr>\n",
       "    <tr>\n",
       "      <th>min</th>\n",
       "      <td>0.000059</td>\n",
       "      <td>0.000000</td>\n",
       "      <td>0.000000</td>\n",
       "      <td>7.934352</td>\n",
       "      <td>12.008354</td>\n",
       "    </tr>\n",
       "    <tr>\n",
       "      <th>25%</th>\n",
       "      <td>0.001457</td>\n",
       "      <td>0.479921</td>\n",
       "      <td>0.446976</td>\n",
       "      <td>490.952324</td>\n",
       "      <td>416.000000</td>\n",
       "    </tr>\n",
       "    <tr>\n",
       "      <th>50%</th>\n",
       "      <td>0.003626</td>\n",
       "      <td>220.597099</td>\n",
       "      <td>316.739685</td>\n",
       "      <td>1101.279175</td>\n",
       "      <td>959.972443</td>\n",
       "    </tr>\n",
       "    <tr>\n",
       "      <th>75%</th>\n",
       "      <td>0.011210</td>\n",
       "      <td>971.389771</td>\n",
       "      <td>937.063843</td>\n",
       "      <td>2068.005920</td>\n",
       "      <td>1839.627808</td>\n",
       "    </tr>\n",
       "    <tr>\n",
       "      <th>max</th>\n",
       "      <td>0.913472</td>\n",
       "      <td>3936.517578</td>\n",
       "      <td>3974.330322</td>\n",
       "      <td>4128.000000</td>\n",
       "      <td>4128.000000</td>\n",
       "    </tr>\n",
       "  </tbody>\n",
       "</table>\n",
       "</div>"
      ],
      "text/plain": [
       "         confidence          ymin          xmin          ymax          xmax\n",
       "count  48780.000000  48780.000000  48780.000000  48780.000000  48780.000000\n",
       "mean       0.046722    638.084714    643.439096   1448.241103   1258.090383\n",
       "std        0.150417    872.602811    817.941180   1152.983540   1007.268527\n",
       "min        0.000059      0.000000      0.000000      7.934352     12.008354\n",
       "25%        0.001457      0.479921      0.446976    490.952324    416.000000\n",
       "50%        0.003626    220.597099    316.739685   1101.279175    959.972443\n",
       "75%        0.011210    971.389771    937.063843   2068.005920   1839.627808\n",
       "max        0.913472   3936.517578   3974.330322   4128.000000   4128.000000"
      ]
     },
     "execution_count": 8,
     "metadata": {},
     "output_type": "execute_result"
    }
   ],
   "source": [
    "sub.describe()"
   ]
  },
  {
   "cell_type": "code",
   "execution_count": 9,
   "metadata": {},
   "outputs": [
    {
     "data": {
      "text/plain": [
       "class\n",
       "healthy        17787\n",
       "cssvd          17571\n",
       "anthracnose    13422\n",
       "Name: count, dtype: int64"
      ]
     },
     "execution_count": 9,
     "metadata": {},
     "output_type": "execute_result"
    }
   ],
   "source": [
    "sub['class'].value_counts()"
   ]
  },
  {
   "cell_type": "code",
   "execution_count": 10,
   "metadata": {},
   "outputs": [
    {
     "data": {
      "text/plain": [
       "Image_ID      0\n",
       "class         0\n",
       "confidence    0\n",
       "ymin          0\n",
       "xmin          0\n",
       "ymax          0\n",
       "xmax          0\n",
       "dtype: int64"
      ]
     },
     "execution_count": 10,
     "metadata": {},
     "output_type": "execute_result"
    }
   ],
   "source": [
    "sub.isna().sum()"
   ]
  },
  {
   "cell_type": "markdown",
   "metadata": {},
   "source": [
    "class\n",
    "healthy        1153\n",
    "cssvd           801\n",
    "anthracnose     694\n",
    "None             57\n",
    "Name: count, dtype: int6"
   ]
  },
  {
   "cell_type": "code",
   "execution_count": 11,
   "metadata": {},
   "outputs": [],
   "source": [
    "sub.to_csv(\"dataset/predictions/02-predictions.csv\", index=False)"
   ]
  },
  {
   "cell_type": "code",
   "execution_count": 12,
   "metadata": {},
   "outputs": [
    {
     "data": {
      "text/plain": [
       "count    48780.000000\n",
       "mean         0.046722\n",
       "std          0.150417\n",
       "min          0.000059\n",
       "25%          0.001457\n",
       "50%          0.003626\n",
       "75%          0.011210\n",
       "max          0.913472\n",
       "Name: confidence, dtype: float64"
      ]
     },
     "execution_count": 12,
     "metadata": {},
     "output_type": "execute_result"
    }
   ],
   "source": [
    "sub[\"confidence\"].describe()"
   ]
  },
  {
   "cell_type": "code",
   "execution_count": 13,
   "metadata": {},
   "outputs": [
    {
     "data": {
      "text/html": [
       "<div>\n",
       "<style scoped>\n",
       "    .dataframe tbody tr th:only-of-type {\n",
       "        vertical-align: middle;\n",
       "    }\n",
       "\n",
       "    .dataframe tbody tr th {\n",
       "        vertical-align: top;\n",
       "    }\n",
       "\n",
       "    .dataframe thead th {\n",
       "        text-align: right;\n",
       "    }\n",
       "</style>\n",
       "<table border=\"1\" class=\"dataframe\">\n",
       "  <thead>\n",
       "    <tr style=\"text-align: right;\">\n",
       "      <th></th>\n",
       "      <th>Image_ID</th>\n",
       "      <th>class</th>\n",
       "      <th>confidence</th>\n",
       "      <th>ymin</th>\n",
       "      <th>xmin</th>\n",
       "      <th>ymax</th>\n",
       "      <th>xmax</th>\n",
       "    </tr>\n",
       "  </thead>\n",
       "  <tbody>\n",
       "    <tr>\n",
       "      <th>33626</th>\n",
       "      <td>ID_y1htIj.jpeg</td>\n",
       "      <td>anthracnose</td>\n",
       "      <td>0.001147</td>\n",
       "      <td>2510.420898</td>\n",
       "      <td>3.925003</td>\n",
       "      <td>3359.287598</td>\n",
       "      <td>2196.992676</td>\n",
       "    </tr>\n",
       "    <tr>\n",
       "      <th>21564</th>\n",
       "      <td>ID_r5wbRA.jpeg</td>\n",
       "      <td>healthy</td>\n",
       "      <td>0.003873</td>\n",
       "      <td>0.272049</td>\n",
       "      <td>113.893456</td>\n",
       "      <td>295.757812</td>\n",
       "      <td>1547.685425</td>\n",
       "    </tr>\n",
       "    <tr>\n",
       "      <th>43632</th>\n",
       "      <td>ID_rGRsVE.jpg</td>\n",
       "      <td>cssvd</td>\n",
       "      <td>0.001658</td>\n",
       "      <td>0.150242</td>\n",
       "      <td>386.230164</td>\n",
       "      <td>297.761475</td>\n",
       "      <td>959.511108</td>\n",
       "    </tr>\n",
       "    <tr>\n",
       "      <th>28734</th>\n",
       "      <td>ID_pvsYXM.jpeg</td>\n",
       "      <td>cssvd</td>\n",
       "      <td>0.000425</td>\n",
       "      <td>160.695541</td>\n",
       "      <td>277.496796</td>\n",
       "      <td>1268.076050</td>\n",
       "      <td>1486.927124</td>\n",
       "    </tr>\n",
       "    <tr>\n",
       "      <th>12464</th>\n",
       "      <td>ID_TkQFgc.jpg</td>\n",
       "      <td>healthy</td>\n",
       "      <td>0.013485</td>\n",
       "      <td>0.000000</td>\n",
       "      <td>0.000000</td>\n",
       "      <td>442.127350</td>\n",
       "      <td>115.041840</td>\n",
       "    </tr>\n",
       "    <tr>\n",
       "      <th>2444</th>\n",
       "      <td>ID_slp0C2.jpg</td>\n",
       "      <td>anthracnose</td>\n",
       "      <td>0.002921</td>\n",
       "      <td>12.973633</td>\n",
       "      <td>0.000000</td>\n",
       "      <td>1532.167725</td>\n",
       "      <td>605.140503</td>\n",
       "    </tr>\n",
       "  </tbody>\n",
       "</table>\n",
       "</div>"
      ],
      "text/plain": [
       "             Image_ID        class  confidence         ymin        xmin  \\\n",
       "33626  ID_y1htIj.jpeg  anthracnose    0.001147  2510.420898    3.925003   \n",
       "21564  ID_r5wbRA.jpeg      healthy    0.003873     0.272049  113.893456   \n",
       "43632   ID_rGRsVE.jpg        cssvd    0.001658     0.150242  386.230164   \n",
       "28734  ID_pvsYXM.jpeg        cssvd    0.000425   160.695541  277.496796   \n",
       "12464   ID_TkQFgc.jpg      healthy    0.013485     0.000000    0.000000   \n",
       "2444    ID_slp0C2.jpg  anthracnose    0.002921    12.973633    0.000000   \n",
       "\n",
       "              ymax         xmax  \n",
       "33626  3359.287598  2196.992676  \n",
       "21564   295.757812  1547.685425  \n",
       "43632   297.761475   959.511108  \n",
       "28734  1268.076050  1486.927124  \n",
       "12464   442.127350   115.041840  \n",
       "2444   1532.167725   605.140503  "
      ]
     },
     "execution_count": 13,
     "metadata": {},
     "output_type": "execute_result"
    }
   ],
   "source": [
    "import pandas as pd\n",
    "\n",
    "sub = pd.read_csv('dataset/predictions/02-predictions.csv')\n",
    "\n",
    "sub.sample(6)"
   ]
  },
  {
   "cell_type": "code",
   "execution_count": 14,
   "metadata": {},
   "outputs": [
    {
     "data": {
      "text/plain": [
       "count    1626.0\n",
       "mean       30.0\n",
       "std         0.0\n",
       "min        30.0\n",
       "25%        30.0\n",
       "50%        30.0\n",
       "75%        30.0\n",
       "max        30.0\n",
       "Name: count, dtype: float64"
      ]
     },
     "execution_count": 14,
     "metadata": {},
     "output_type": "execute_result"
    }
   ],
   "source": [
    "sub[\"Image_ID\"].value_counts().describe()"
   ]
  },
  {
   "cell_type": "code",
   "execution_count": 15,
   "metadata": {},
   "outputs": [
    {
     "data": {
      "text/plain": [
       "1626"
      ]
     },
     "execution_count": 15,
     "metadata": {},
     "output_type": "execute_result"
    }
   ],
   "source": [
    "sub[\"Image_ID\"].nunique()"
   ]
  },
  {
   "cell_type": "code",
   "execution_count": 16,
   "metadata": {},
   "outputs": [
    {
     "data": {
      "text/plain": [
       "Image_ID      0\n",
       "class         0\n",
       "confidence    0\n",
       "ymin          0\n",
       "xmin          0\n",
       "ymax          0\n",
       "xmax          0\n",
       "dtype: int64"
      ]
     },
     "execution_count": 16,
     "metadata": {},
     "output_type": "execute_result"
    }
   ],
   "source": [
    "sub.isna().sum()"
   ]
  },
  {
   "cell_type": "code",
   "execution_count": null,
   "metadata": {},
   "outputs": [],
   "source": []
  },
  {
   "cell_type": "code",
   "execution_count": null,
   "metadata": {},
   "outputs": [],
   "source": []
  }
 ],
 "metadata": {
  "kernelspec": {
   "display_name": ".venv",
   "language": "python",
   "name": "python3"
  },
  "language_info": {
   "codemirror_mode": {
    "name": "ipython",
    "version": 3
   },
   "file_extension": ".py",
   "mimetype": "text/x-python",
   "name": "python",
   "nbconvert_exporter": "python",
   "pygments_lexer": "ipython3",
   "version": "3.10.13"
  }
 },
 "nbformat": 4,
 "nbformat_minor": 2
}
