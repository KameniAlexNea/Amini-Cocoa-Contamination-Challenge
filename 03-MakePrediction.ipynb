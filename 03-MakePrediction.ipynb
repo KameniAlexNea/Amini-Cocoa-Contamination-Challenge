{
 "cells": [
  {
   "cell_type": "code",
   "execution_count": 1,
   "metadata": {},
   "outputs": [],
   "source": [
    "# Import libraries\n",
    "import pandas as pd\n",
    "import os\n",
    "from pathlib import Path\n",
    "from tqdm import tqdm\n",
    "import yaml\n",
    "import matplotlib.pyplot as plt\n",
    "from ultralytics.engine.results import Results\n",
    "from ultralytics import YOLO\n",
    "import numpy as np\n",
    "from PIL import Image, ImageOps\n",
    "import torch\n",
    "from ultralytics.utils.patches import imread\n",
    "import cv2"
   ]
  },
  {
   "cell_type": "code",
   "execution_count": 2,
   "metadata": {},
   "outputs": [],
   "source": [
    "# INPUT_DIRS\n",
    "INPUT_DATA_DIR = Path('dataset')\n",
    "## Drop the Folder if it already exists\n",
    "DATASETS_DIR = Path('dataset')\n",
    "# Image & labels directory\n",
    "TRAIN_IMAGES_DIR = DATASETS_DIR / 'images' / 'train'\n",
    "TRAIN_LABELS_DIR = DATASETS_DIR / 'labels'/ 'train'\n",
    "TEST_IMAGES_DIR = DATASETS_DIR / 'images' / 'test'\n",
    "VAL_IMAGES_DIR = DATASETS_DIR / 'images' /'val'\n",
    "VAL_LABELS_DIR = DATASETS_DIR / 'labels' /'val'\n",
    "\n",
    "# Load train and test files\n",
    "train = pd.read_csv(INPUT_DATA_DIR / 'Train_df.csv')\n",
    "val = pd.read_csv(INPUT_DATA_DIR / 'Val_df.csv')\n",
    "test = pd.read_csv(INPUT_DATA_DIR / 'Test.csv')\n",
    "ss = pd.read_csv(INPUT_DATA_DIR / 'SampleSubmission.csv')\n",
    "\n",
    "class_map = {cls: i for i, cls in enumerate(sorted(train['class'].unique().tolist()))}\n",
    "# Strip any spacing from the class item and make sure that it is a str\n",
    "train['class'] = train['class'].str.strip()\n",
    "\n",
    "# Map {'healthy': 2, 'cssvd': 1, anthracnose: 0}\n",
    "train['class_id'] = train['class'].map(class_map)\n",
    "\n",
    "train_df = train\n",
    "val_df = val\n",
    "\n",
    "# Create a data.yaml file required by yolo\n",
    "class_names = sorted(train['class'].unique().tolist())\n",
    "num_classes = len(class_names)\n",
    "data_yaml = {\n",
    "\t\"path\" : str(DATASETS_DIR.absolute()),\n",
    "\t'train': str(TRAIN_IMAGES_DIR.absolute()),\n",
    "\t'val': str(VAL_IMAGES_DIR.absolute()),\n",
    "\t'test': str(TEST_IMAGES_DIR.absolute()),\n",
    "\t'nc': num_classes,\n",
    "\t'names': class_names\n",
    "}\n",
    "\n",
    "val_image_names = [str(Path(name).stem) for name in val_df['Image_ID'].unique()]\n",
    "train_image_names = [str(Path(name).stem) for name in train['ImagePath'].unique()]"
   ]
  },
  {
   "cell_type": "code",
   "execution_count": 3,
   "metadata": {},
   "outputs": [
    {
     "data": {
      "text/plain": [
       "'zindi_challenge_cacao_stage2/train10/weights/best.pt'"
      ]
     },
     "execution_count": 3,
     "metadata": {},
     "output_type": "execute_result"
    }
   ],
   "source": [
    "from glob import glob\n",
    "\n",
    "latest_run_dir = sorted(glob(\"zindi_challenge_cacao_stage2/train*\"), key=lambda x: int(x.split('train')[-1]))[-1]\n",
    "\n",
    "# Validate the model on the validation set\n",
    "BEST_PATH = f\"{latest_run_dir}/weights/best.pt\"\n",
    "# BEST_PATH = 'zindi_challenge_cacao_stage2/train10/weights/best.pt'\n",
    "BEST_PATH"
   ]
  },
  {
   "cell_type": "code",
   "execution_count": 4,
   "metadata": {},
   "outputs": [],
   "source": [
    "from concurrent.futures import ThreadPoolExecutor\n",
    "\n",
    "def load_image_(filepath):\n",
    "\timage = Image.open(filepath)\n",
    "\t# return image\n",
    "\ttry:\n",
    "\t\treturn ImageOps.exif_transpose(image)\n",
    "\texcept Exception:\n",
    "\t\tpass\n",
    "\treturn image\n",
    "\n",
    "\n",
    "def load_image(filepath):\n",
    "\treturn load_image_(filepath)\n",
    "\t# return load_image_(filepath)\n",
    "\treturn imread(filepath, cv2.IMREAD_COLOR)\n",
    "\n",
    "def load_images(filepaths):\n",
    "\twith ThreadPoolExecutor() as executor:\n",
    "\t\timages = list(executor.map(load_image_, filepaths))\n",
    "\treturn images"
   ]
  },
  {
   "cell_type": "code",
   "execution_count": 5,
   "metadata": {},
   "outputs": [
    {
     "data": {
      "text/plain": [
       "'zindi_challenge_cacao_stage2/train10/args.yaml'"
      ]
     },
     "execution_count": 5,
     "metadata": {},
     "output_type": "execute_result"
    }
   ],
   "source": [
    "# Validate the model on the validation set\n",
    "BEST_CFG = f\"{latest_run_dir}/args.yaml\"\n",
    "# BEST_CFG = 'zindi_challenge_cacao_stage2/train10/args.yaml'\n",
    "BEST_CFG"
   ]
  },
  {
   "cell_type": "code",
   "execution_count": 6,
   "metadata": {},
   "outputs": [
    {
     "name": "stdout",
     "output_type": "stream",
     "text": [
      "{'task': 'detect', 'mode': 'train', 'model': 'zindi_challenge_cacao_stage2/train10/weights/last.pt', 'data': 'data.yaml', 'epochs': 136, 'time': 4.5, 'patience': 30, 'batch': 12, 'imgsz': 1024, 'save': True, 'save_period': -1, 'cache': False, 'device': '0,1', 'workers': 4, 'project': 'zindi_challenge_cacao_stage2', 'name': 'train10', 'exist_ok': False, 'pretrained': True, 'optimizer': 'auto', 'verbose': True, 'seed': 0, 'deterministic': False, 'single_cls': False, 'rect': False, 'cos_lr': False, 'close_mosaic': 10, 'resume': 'zindi_challenge_cacao_stage2/train10/weights/last.pt', 'amp': True, 'fraction': 1.0, 'profile': False, 'freeze': None, 'multi_scale': True, 'overlap_mask': True, 'mask_ratio': 4, 'dropout': 0.1, 'val': True, 'split': 'val', 'save_json': False, 'conf': None, 'iou': 0.6, 'max_det': 150, 'half': False, 'dnn': False, 'plots': True, 'source': None, 'vid_stride': 1, 'stream_buffer': False, 'visualize': False, 'augment': True, 'agnostic_nms': False, 'classes': None, 'retina_masks': False, 'embed': None, 'show': False, 'save_frames': False, 'save_txt': False, 'save_conf': False, 'save_crop': False, 'show_labels': True, 'show_conf': True, 'show_boxes': True, 'line_width': None, 'format': 'torchscript', 'keras': False, 'optimize': False, 'int8': False, 'dynamic': False, 'simplify': True, 'opset': None, 'workspace': None, 'nms': True, 'lr0': 0.01, 'lrf': 0.01, 'momentum': 0.937, 'weight_decay': 0.0005, 'warmup_epochs': 3.0, 'warmup_momentum': 0.8, 'warmup_bias_lr': 0.0, 'box': 7.5, 'cls': 1.0, 'dfl': 1.5, 'pose': 12.0, 'kobj': 1.0, 'nbs': 64, 'hsv_h': 0.015, 'hsv_s': 0.7, 'hsv_v': 0.4, 'degrees': 0.0, 'translate': 0.1, 'scale': 0.5, 'shear': 0.0, 'perspective': 0.0, 'flipud': 0.3, 'fliplr': 0.5, 'bgr': 0.0, 'mosaic': 1.0, 'mixup': 0.1, 'cutmix': 0.0, 'copy_paste': 0.1, 'copy_paste_mode': 'mixup', 'auto_augment': 'augmix', 'erasing': 0.4, 'cfg': None, 'tracker': 'botsort.yaml', 'save_dir': 'zindi_challenge_cacao_stage2/train10'}\n"
     ]
    }
   ],
   "source": [
    "with open(BEST_CFG, 'r') as f:\n",
    "\tcfg: dict = yaml.safe_load(f)\n",
    "\tprint(cfg)"
   ]
  },
  {
   "cell_type": "code",
   "execution_count": 7,
   "metadata": {},
   "outputs": [
    {
     "name": "stdout",
     "output_type": "stream",
     "text": [
      "{'model': 'predict', 'batch': 8, 'imgsz': 1024, 'cache': False, 'device': 'cuda', 'verbose': False, 'seed': 0, 'single_cls': False, 'rect': False, 'close_mosaic': 10, 'amp': True, 'fraction': 1.0, 'freeze': None, 'multi_scale': True, 'overlap_mask': True, 'mask_ratio': 4, 'dropout': 0.1, 'val': True, 'split': 'val', 'conf': 0.0, 'iou': 0.6, 'max_det': 150, 'half': False, 'dnn': False, 'vid_stride': 1, 'stream_buffer': False, 'augment': True, 'agnostic_nms': False, 'classes': None, 'retina_masks': False, 'embed': None, 'line_width': None, 'format': 'torchscript', 'keras': False, 'optimize': False, 'int8': False, 'dynamic': False, 'simplify': True, 'opset': None, 'workspace': None, 'nms': True, 'box': 7.5, 'cls': 1.0, 'dfl': 1.5, 'pose': 12.0, 'kobj': 1.0, 'nbs': 64, 'hsv_h': 0.015, 'hsv_s': 0.7, 'hsv_v': 0.4, 'degrees': 0.0, 'translate': 0.1, 'scale': 0.5, 'shear': 0.0, 'perspective': 0.0, 'flipud': 0.3, 'bgr': 0.0, 'mosaic': 1.0, 'mixup': 0.1, 'cutmix': 0.0, 'copy_paste': 0.1, 'copy_paste_mode': 'mixup', 'auto_augment': 'augmix', 'erasing': 0.4}\n"
     ]
    }
   ],
   "source": [
    "# Batch size for predictions\n",
    "batch_size = 8\n",
    "\n",
    "cfg[\"device\"] = \"cuda\"\n",
    "cfg[\"batch\"] = batch_size\n",
    "cfg[\"conf\"] = 0.0\n",
    "cfg[\"verbose\"] = False\n",
    "cfg[\"nms\"] = True\n",
    "cfg[\"iou\"] = .6\n",
    "cfg[\"agnostic_nms\"] = False\n",
    "\n",
    "cfg.pop(\"source\", None)\n",
    "# cfg.pop(\"batch_size\")\n",
    "cfg.pop(\"visualize\", None)\n",
    "cfg.pop(\"data\", None)\n",
    "cfg.pop(\"name\", None)\n",
    "# cfg.pop(\"half\", None)\n",
    "\n",
    "cfg[\"model\"] = \"predict\"\n",
    "\n",
    "keys = list(cfg.keys())\n",
    "for col in keys:\n",
    "    if (\n",
    "        \"show\" in col  # Existing: removes show, show_labels, show_conf, show_boxes\n",
    "        or \"save\" in col  # Existing: removes save, save_period, save_json, save_frames, save_txt, save_conf, save_crop, save_dir\n",
    "        # or \"freeze\" in col  # Existing\n",
    "        # Consider `col == 'nms'` instead of `\"nms\" in col` to avoid removing `agnostic_nms`\n",
    "        # `agnostic_nms` is often useful for prediction.\n",
    "        # or col == 'nms' # Removes the general nms flag if present\n",
    "        # or \"multi_scale\" in col  # Existing\n",
    "        or \"plot\" in col  # Existing\n",
    "        # or \"aug\" in col  # Existing: removes augment, auto_augment. Also consider removing individual aug params if TTA is off.\n",
    "        # or \"drop\" in col  # Existing\n",
    "        # or \"iou\" in col  # Existing: removes training iou. Prediction uses its own iou parameter.\n",
    "        or \"lr\" in col  # Existing: removes lr0, lrf, cos_lr, warmup_bias_lr\n",
    "        or \"mom\" in col  # Existing: removes momentum, warmup_momentum\n",
    "        or \"wei\" in col  # Existing: removes weight_decay\n",
    "        # The 'half' parameter is crucial for mixed-precision inference.\n",
    "        # If cfg['half'] is intended for prediction, this condition should not remove it.\n",
    "        # or \"half\" in col # Existing: Problematic if 'half' is needed for prediction.\n",
    "        # or \"nbs\" in col  # Existing\n",
    "        # New conditions:\n",
    "        or \"epoch\" in col  # Removes epochs, warmup_epochs\n",
    "        or col == 'optimizer'\n",
    "        or \"worker\" in col  # Removes workers\n",
    "        # or col == 'val' or col == 'split' # Removes validation config from training\n",
    "        or col == 'project' # Removes experiment project name\n",
    "        # or col in ['box', 'cls', 'dfl', 'pose', 'kobj']  # Removes loss component weights\n",
    "        # or col in ['format', 'keras', 'simplify', 'opset', 'int8', 'dynamic', 'workspace'] # Removes export-related params\n",
    "        or col == 'patience'\n",
    "        # or col == 'cache'\n",
    "        # or col == 'seed'\n",
    "        # or col == 'rect' # Rectangular training\n",
    "        or col == 'resume'\n",
    "        # or col == 'amp' # Training AMP flag (prediction uses 'half')\n",
    "        or col == 'profile'\n",
    "        or col == 'tracker'\n",
    "        or col == 'task'\n",
    "        or col == 'mode' # e.g., mode: train\n",
    "        or col == 'pretrained'\n",
    "        or col == 'deterministic'\n",
    "        or col == 'exist_ok'\n",
    "        # or col == 'single_cls'\n",
    "        or col == 'time' # training time limit\n",
    "        or col == 'cfg' # path to model cfg yaml (e.g., yolov8n.yaml)\n",
    "        # If 'augment' key is removed (disabling Test Time Augmentation),\n",
    "        # you might also want to remove individual augmentation parameters:\n",
    "        # or col in ['degrees', 'translate', 'scale', 'shear', 'perspective', 'flipud', 'fliplr', 'bgr', 'mosaic', 'mixup', 'cutmix', 'copy_paste', 'erasing']\n",
    "        # or col.startswith('hsv_') # hsv_h, hsv_s, hsv_v\n",
    "    ):\n",
    "        cfg.pop(col)\n",
    "\n",
    "print(cfg)"
   ]
  },
  {
   "cell_type": "code",
   "execution_count": null,
   "metadata": {},
   "outputs": [
    {
     "name": "stderr",
     "output_type": "stream",
     "text": [
      "  0%|          | 0/102 [00:00<?, ?it/s]"
     ]
    },
    {
     "name": "stderr",
     "output_type": "stream",
     "text": [
      " 13%|█▎        | 13/102 [00:43<04:32,  3.07s/it]"
     ]
    }
   ],
   "source": [
    "# Load the trained YOLO model\n",
    "model = YOLO(BEST_PATH)\n",
    "\n",
    "# Path to the test images directory\n",
    "test_dir_path = TEST_IMAGES_DIR\n",
    "\n",
    "# Get a list of all image files in the test directory\n",
    "image_files = os.listdir(test_dir_path)\n",
    "\n",
    "# Initialize an empty list to store the results for all images\n",
    "all_data = []\n",
    "\n",
    "# Initialize an empty list to store the results for all images\n",
    "all_data = []\n",
    "\n",
    "# Batch size for predictions\n",
    "batch_size = 16\n",
    "\n",
    "# Process images in batches\n",
    "for i in tqdm(range(0, len(image_files), batch_size)):\n",
    "    batch_files = image_files[i : i + batch_size]\n",
    "    batch_images = load_images(\n",
    "        [os.path.join(test_dir_path, img_file) for img_file in batch_files]\n",
    "    )  # [load_image(os.path.join(test_dir_path, img_file)) for img_file in batch_files]\n",
    "\n",
    "    # Make predictions on the batch of images\n",
    "    results = model.predict(\n",
    "        batch_images,\n",
    "        **cfg,\n",
    "    )\n",
    "\n",
    "    # Iterate through each result in the batch\n",
    "    for img_file, result in zip(batch_files, results):\n",
    "        boxes = (\n",
    "            result.boxes.xyxy.tolist() if result.boxes else []\n",
    "        )  # Bounding boxes in xyxy format\n",
    "        classes = result.boxes.cls.tolist() if result.boxes else []  # Class indices\n",
    "        confidences = (\n",
    "            result.boxes.conf.tolist() if result.boxes else []\n",
    "        )  # Confidence scores\n",
    "        names = result.names  # Class names dictionary\n",
    "\n",
    "        if boxes:  # If detections are found\n",
    "            for box, cls, conf in zip(boxes, classes, confidences):\n",
    "                x1, y1, x2, y2 = box\n",
    "                detected_class = names[\n",
    "                    int(cls)\n",
    "                ]  # Get the class name from the names dictionary\n",
    "\n",
    "                # Add the result to the all_data list\n",
    "                all_data.append(\n",
    "                    {\n",
    "                        \"Image_ID\": str(img_file),\n",
    "                        \"class\": detected_class,\n",
    "                        \"confidence\": conf,\n",
    "                        \"ymin\": y1,\n",
    "                        \"xmin\": x1,\n",
    "                        \"ymax\": y2,\n",
    "                        \"xmax\": x2,\n",
    "                    }\n",
    "                )\n",
    "        else:  # If no objects are detected\n",
    "            all_data.append(\n",
    "                {\n",
    "                    \"Image_ID\": str(img_file),\n",
    "                    \"class\": \"None\",\n",
    "                    \"confidence\": None,\n",
    "                    \"ymin\": None,\n",
    "                    \"xmin\": None,\n",
    "                    \"ymax\": None,\n",
    "                    \"xmax\": None,\n",
    "                }\n",
    "            )"
   ]
  },
  {
   "cell_type": "code",
   "execution_count": null,
   "metadata": {},
   "outputs": [],
   "source": [
    "# Convert the list to a DataFrame for all images\n",
    "sub = pd.DataFrame(all_data)"
   ]
  },
  {
   "cell_type": "code",
   "execution_count": null,
   "metadata": {},
   "outputs": [
    {
     "data": {
      "text/html": [
       "<div>\n",
       "<style scoped>\n",
       "    .dataframe tbody tr th:only-of-type {\n",
       "        vertical-align: middle;\n",
       "    }\n",
       "\n",
       "    .dataframe tbody tr th {\n",
       "        vertical-align: top;\n",
       "    }\n",
       "\n",
       "    .dataframe thead th {\n",
       "        text-align: right;\n",
       "    }\n",
       "</style>\n",
       "<table border=\"1\" class=\"dataframe\">\n",
       "  <thead>\n",
       "    <tr style=\"text-align: right;\">\n",
       "      <th></th>\n",
       "      <th>Image_ID</th>\n",
       "      <th>class</th>\n",
       "      <th>confidence</th>\n",
       "      <th>ymin</th>\n",
       "      <th>xmin</th>\n",
       "      <th>ymax</th>\n",
       "      <th>xmax</th>\n",
       "    </tr>\n",
       "  </thead>\n",
       "  <tbody>\n",
       "    <tr>\n",
       "      <th>0</th>\n",
       "      <td>ID_cWEAQI.jpeg</td>\n",
       "      <td>healthy</td>\n",
       "      <td>0.627020</td>\n",
       "      <td>11.463284</td>\n",
       "      <td>2.905130</td>\n",
       "      <td>3970.572754</td>\n",
       "      <td>1657.665161</td>\n",
       "    </tr>\n",
       "    <tr>\n",
       "      <th>1</th>\n",
       "      <td>ID_cWEAQI.jpeg</td>\n",
       "      <td>healthy</td>\n",
       "      <td>0.070782</td>\n",
       "      <td>183.179245</td>\n",
       "      <td>0.000000</td>\n",
       "      <td>1397.601196</td>\n",
       "      <td>475.406128</td>\n",
       "    </tr>\n",
       "    <tr>\n",
       "      <th>2</th>\n",
       "      <td>ID_cWEAQI.jpeg</td>\n",
       "      <td>healthy</td>\n",
       "      <td>0.037787</td>\n",
       "      <td>343.278229</td>\n",
       "      <td>1375.410278</td>\n",
       "      <td>1119.676636</td>\n",
       "      <td>1796.921387</td>\n",
       "    </tr>\n",
       "    <tr>\n",
       "      <th>3</th>\n",
       "      <td>ID_cWEAQI.jpeg</td>\n",
       "      <td>anthracnose</td>\n",
       "      <td>0.036683</td>\n",
       "      <td>2823.884277</td>\n",
       "      <td>525.201538</td>\n",
       "      <td>3995.499268</td>\n",
       "      <td>1549.878784</td>\n",
       "    </tr>\n",
       "    <tr>\n",
       "      <th>4</th>\n",
       "      <td>ID_cWEAQI.jpeg</td>\n",
       "      <td>anthracnose</td>\n",
       "      <td>0.009041</td>\n",
       "      <td>2251.175781</td>\n",
       "      <td>0.000000</td>\n",
       "      <td>2764.001709</td>\n",
       "      <td>389.630280</td>\n",
       "    </tr>\n",
       "  </tbody>\n",
       "</table>\n",
       "</div>"
      ],
      "text/plain": [
       "         Image_ID        class  confidence         ymin         xmin  \\\n",
       "0  ID_cWEAQI.jpeg      healthy    0.627020    11.463284     2.905130   \n",
       "1  ID_cWEAQI.jpeg      healthy    0.070782   183.179245     0.000000   \n",
       "2  ID_cWEAQI.jpeg      healthy    0.037787   343.278229  1375.410278   \n",
       "3  ID_cWEAQI.jpeg  anthracnose    0.036683  2823.884277   525.201538   \n",
       "4  ID_cWEAQI.jpeg  anthracnose    0.009041  2251.175781     0.000000   \n",
       "\n",
       "          ymax         xmax  \n",
       "0  3970.572754  1657.665161  \n",
       "1  1397.601196   475.406128  \n",
       "2  1119.676636  1796.921387  \n",
       "3  3995.499268  1549.878784  \n",
       "4  2764.001709   389.630280  "
      ]
     },
     "execution_count": 10,
     "metadata": {},
     "output_type": "execute_result"
    }
   ],
   "source": [
    "sub.head()"
   ]
  },
  {
   "cell_type": "code",
   "execution_count": null,
   "metadata": {},
   "outputs": [
    {
     "data": {
      "text/html": [
       "<div>\n",
       "<style scoped>\n",
       "    .dataframe tbody tr th:only-of-type {\n",
       "        vertical-align: middle;\n",
       "    }\n",
       "\n",
       "    .dataframe tbody tr th {\n",
       "        vertical-align: top;\n",
       "    }\n",
       "\n",
       "    .dataframe thead th {\n",
       "        text-align: right;\n",
       "    }\n",
       "</style>\n",
       "<table border=\"1\" class=\"dataframe\">\n",
       "  <thead>\n",
       "    <tr style=\"text-align: right;\">\n",
       "      <th></th>\n",
       "      <th>confidence</th>\n",
       "      <th>ymin</th>\n",
       "      <th>xmin</th>\n",
       "      <th>ymax</th>\n",
       "      <th>xmax</th>\n",
       "    </tr>\n",
       "  </thead>\n",
       "  <tbody>\n",
       "    <tr>\n",
       "      <th>count</th>\n",
       "      <td>162600.000000</td>\n",
       "      <td>162600.000000</td>\n",
       "      <td>162600.000000</td>\n",
       "      <td>162600.000000</td>\n",
       "      <td>162600.000000</td>\n",
       "    </tr>\n",
       "    <tr>\n",
       "      <th>mean</th>\n",
       "      <td>0.015198</td>\n",
       "      <td>744.563120</td>\n",
       "      <td>684.176535</td>\n",
       "      <td>1358.567956</td>\n",
       "      <td>1264.352718</td>\n",
       "    </tr>\n",
       "    <tr>\n",
       "      <th>std</th>\n",
       "      <td>0.092043</td>\n",
       "      <td>954.264246</td>\n",
       "      <td>774.782582</td>\n",
       "      <td>1165.236030</td>\n",
       "      <td>949.777946</td>\n",
       "    </tr>\n",
       "    <tr>\n",
       "      <th>min</th>\n",
       "      <td>0.000008</td>\n",
       "      <td>0.000000</td>\n",
       "      <td>0.000000</td>\n",
       "      <td>0.000000</td>\n",
       "      <td>0.000000</td>\n",
       "    </tr>\n",
       "    <tr>\n",
       "      <th>25%</th>\n",
       "      <td>0.000090</td>\n",
       "      <td>1.853634</td>\n",
       "      <td>50.530201</td>\n",
       "      <td>383.166565</td>\n",
       "      <td>524.856201</td>\n",
       "    </tr>\n",
       "    <tr>\n",
       "      <th>50%</th>\n",
       "      <td>0.000279</td>\n",
       "      <td>338.495468</td>\n",
       "      <td>425.593369</td>\n",
       "      <td>1070.792053</td>\n",
       "      <td>960.000000</td>\n",
       "    </tr>\n",
       "    <tr>\n",
       "      <th>75%</th>\n",
       "      <td>0.001159</td>\n",
       "      <td>1145.714844</td>\n",
       "      <td>1012.358185</td>\n",
       "      <td>2047.754120</td>\n",
       "      <td>1813.651459</td>\n",
       "    </tr>\n",
       "    <tr>\n",
       "      <th>max</th>\n",
       "      <td>0.931821</td>\n",
       "      <td>4064.660400</td>\n",
       "      <td>4051.008789</td>\n",
       "      <td>4128.000000</td>\n",
       "      <td>4128.000000</td>\n",
       "    </tr>\n",
       "  </tbody>\n",
       "</table>\n",
       "</div>"
      ],
      "text/plain": [
       "          confidence           ymin           xmin           ymax  \\\n",
       "count  162600.000000  162600.000000  162600.000000  162600.000000   \n",
       "mean        0.015198     744.563120     684.176535    1358.567956   \n",
       "std         0.092043     954.264246     774.782582    1165.236030   \n",
       "min         0.000008       0.000000       0.000000       0.000000   \n",
       "25%         0.000090       1.853634      50.530201     383.166565   \n",
       "50%         0.000279     338.495468     425.593369    1070.792053   \n",
       "75%         0.001159    1145.714844    1012.358185    2047.754120   \n",
       "max         0.931821    4064.660400    4051.008789    4128.000000   \n",
       "\n",
       "                xmax  \n",
       "count  162600.000000  \n",
       "mean     1264.352718  \n",
       "std       949.777946  \n",
       "min         0.000000  \n",
       "25%       524.856201  \n",
       "50%       960.000000  \n",
       "75%      1813.651459  \n",
       "max      4128.000000  "
      ]
     },
     "execution_count": 11,
     "metadata": {},
     "output_type": "execute_result"
    }
   ],
   "source": [
    "sub.describe()"
   ]
  },
  {
   "cell_type": "code",
   "execution_count": null,
   "metadata": {},
   "outputs": [
    {
     "data": {
      "text/plain": [
       "class\n",
       "cssvd          64732\n",
       "healthy        54884\n",
       "anthracnose    42984\n",
       "Name: count, dtype: int64"
      ]
     },
     "execution_count": 12,
     "metadata": {},
     "output_type": "execute_result"
    }
   ],
   "source": [
    "sub['class'].value_counts()"
   ]
  },
  {
   "cell_type": "code",
   "execution_count": null,
   "metadata": {},
   "outputs": [
    {
     "data": {
      "text/plain": [
       "Image_ID      0\n",
       "class         0\n",
       "confidence    0\n",
       "ymin          0\n",
       "xmin          0\n",
       "ymax          0\n",
       "xmax          0\n",
       "dtype: int64"
      ]
     },
     "execution_count": 13,
     "metadata": {},
     "output_type": "execute_result"
    }
   ],
   "source": [
    "sub.isna().sum()"
   ]
  },
  {
   "cell_type": "markdown",
   "metadata": {},
   "source": [
    "class\n",
    "healthy        1153\n",
    "cssvd           801\n",
    "anthracnose     694\n",
    "None             57\n",
    "Name: count, dtype: int6"
   ]
  },
  {
   "cell_type": "code",
   "execution_count": null,
   "metadata": {},
   "outputs": [],
   "source": [
    "sub.to_csv(\"dataset/predictions/11-predictions.csv\", index=False)"
   ]
  },
  {
   "cell_type": "code",
   "execution_count": null,
   "metadata": {},
   "outputs": [
    {
     "data": {
      "text/plain": [
       "count    162600.000000\n",
       "mean          0.015198\n",
       "std           0.092043\n",
       "min           0.000008\n",
       "25%           0.000090\n",
       "50%           0.000279\n",
       "75%           0.001159\n",
       "max           0.931821\n",
       "Name: confidence, dtype: float64"
      ]
     },
     "execution_count": 15,
     "metadata": {},
     "output_type": "execute_result"
    }
   ],
   "source": [
    "sub[\"confidence\"].describe()"
   ]
  },
  {
   "cell_type": "code",
   "execution_count": null,
   "metadata": {},
   "outputs": [
    {
     "data": {
      "text/html": [
       "<div>\n",
       "<style scoped>\n",
       "    .dataframe tbody tr th:only-of-type {\n",
       "        vertical-align: middle;\n",
       "    }\n",
       "\n",
       "    .dataframe tbody tr th {\n",
       "        vertical-align: top;\n",
       "    }\n",
       "\n",
       "    .dataframe thead th {\n",
       "        text-align: right;\n",
       "    }\n",
       "</style>\n",
       "<table border=\"1\" class=\"dataframe\">\n",
       "  <thead>\n",
       "    <tr style=\"text-align: right;\">\n",
       "      <th></th>\n",
       "      <th>Image_ID</th>\n",
       "      <th>class</th>\n",
       "      <th>confidence</th>\n",
       "      <th>ymin</th>\n",
       "      <th>xmin</th>\n",
       "      <th>ymax</th>\n",
       "      <th>xmax</th>\n",
       "    </tr>\n",
       "  </thead>\n",
       "  <tbody>\n",
       "    <tr>\n",
       "      <th>156801</th>\n",
       "      <td>ID_YX6bNA.jpg</td>\n",
       "      <td>cssvd</td>\n",
       "      <td>0.000405</td>\n",
       "      <td>993.928894</td>\n",
       "      <td>0.000000</td>\n",
       "      <td>1280.000000</td>\n",
       "      <td>0.000000</td>\n",
       "    </tr>\n",
       "    <tr>\n",
       "      <th>38893</th>\n",
       "      <td>ID_hBZYGx.jpg</td>\n",
       "      <td>anthracnose</td>\n",
       "      <td>0.000124</td>\n",
       "      <td>1316.450439</td>\n",
       "      <td>641.409546</td>\n",
       "      <td>2012.599365</td>\n",
       "      <td>1201.425415</td>\n",
       "    </tr>\n",
       "    <tr>\n",
       "      <th>141377</th>\n",
       "      <td>ID_d6gpj1.jpg</td>\n",
       "      <td>cssvd</td>\n",
       "      <td>0.000046</td>\n",
       "      <td>0.000000</td>\n",
       "      <td>443.865082</td>\n",
       "      <td>681.580566</td>\n",
       "      <td>774.209351</td>\n",
       "    </tr>\n",
       "    <tr>\n",
       "      <th>155251</th>\n",
       "      <td>ID_aY2yXb.jpg</td>\n",
       "      <td>anthracnose</td>\n",
       "      <td>0.000384</td>\n",
       "      <td>5.117552</td>\n",
       "      <td>1159.703125</td>\n",
       "      <td>389.365021</td>\n",
       "      <td>1486.335205</td>\n",
       "    </tr>\n",
       "    <tr>\n",
       "      <th>12633</th>\n",
       "      <td>ID_JgQ193.jpg</td>\n",
       "      <td>anthracnose</td>\n",
       "      <td>0.000381</td>\n",
       "      <td>435.697357</td>\n",
       "      <td>740.825317</td>\n",
       "      <td>857.347534</td>\n",
       "      <td>960.000000</td>\n",
       "    </tr>\n",
       "    <tr>\n",
       "      <th>36032</th>\n",
       "      <td>ID_Nbmn82.jpg</td>\n",
       "      <td>cssvd</td>\n",
       "      <td>0.000164</td>\n",
       "      <td>1975.368286</td>\n",
       "      <td>713.659424</td>\n",
       "      <td>2047.494263</td>\n",
       "      <td>1160.406250</td>\n",
       "    </tr>\n",
       "  </tbody>\n",
       "</table>\n",
       "</div>"
      ],
      "text/plain": [
       "             Image_ID        class  confidence         ymin         xmin  \\\n",
       "156801  ID_YX6bNA.jpg        cssvd    0.000405   993.928894     0.000000   \n",
       "38893   ID_hBZYGx.jpg  anthracnose    0.000124  1316.450439   641.409546   \n",
       "141377  ID_d6gpj1.jpg        cssvd    0.000046     0.000000   443.865082   \n",
       "155251  ID_aY2yXb.jpg  anthracnose    0.000384     5.117552  1159.703125   \n",
       "12633   ID_JgQ193.jpg  anthracnose    0.000381   435.697357   740.825317   \n",
       "36032   ID_Nbmn82.jpg        cssvd    0.000164  1975.368286   713.659424   \n",
       "\n",
       "               ymax         xmax  \n",
       "156801  1280.000000     0.000000  \n",
       "38893   2012.599365  1201.425415  \n",
       "141377   681.580566   774.209351  \n",
       "155251   389.365021  1486.335205  \n",
       "12633    857.347534   960.000000  \n",
       "36032   2047.494263  1160.406250  "
      ]
     },
     "execution_count": 16,
     "metadata": {},
     "output_type": "execute_result"
    }
   ],
   "source": [
    "import pandas as pd\n",
    "\n",
    "sub = pd.read_csv('dataset/predictions/11-predictions.csv')\n",
    "\n",
    "sub.sample(6)"
   ]
  },
  {
   "cell_type": "code",
   "execution_count": null,
   "metadata": {},
   "outputs": [
    {
     "data": {
      "text/plain": [
       "count    1626.0\n",
       "mean      100.0\n",
       "std         0.0\n",
       "min       100.0\n",
       "25%       100.0\n",
       "50%       100.0\n",
       "75%       100.0\n",
       "max       100.0\n",
       "Name: count, dtype: float64"
      ]
     },
     "execution_count": 17,
     "metadata": {},
     "output_type": "execute_result"
    }
   ],
   "source": [
    "sub[\"Image_ID\"].value_counts().describe()"
   ]
  },
  {
   "cell_type": "code",
   "execution_count": null,
   "metadata": {},
   "outputs": [
    {
     "data": {
      "text/plain": [
       "1626"
      ]
     },
     "execution_count": 18,
     "metadata": {},
     "output_type": "execute_result"
    }
   ],
   "source": [
    "sub[\"Image_ID\"].nunique()"
   ]
  },
  {
   "cell_type": "code",
   "execution_count": null,
   "metadata": {},
   "outputs": [
    {
     "data": {
      "text/plain": [
       "Image_ID      0\n",
       "class         0\n",
       "confidence    0\n",
       "ymin          0\n",
       "xmin          0\n",
       "ymax          0\n",
       "xmax          0\n",
       "dtype: int64"
      ]
     },
     "execution_count": 19,
     "metadata": {},
     "output_type": "execute_result"
    }
   ],
   "source": [
    "sub.isna().sum()"
   ]
  },
  {
   "cell_type": "code",
   "execution_count": null,
   "metadata": {},
   "outputs": [],
   "source": []
  },
  {
   "cell_type": "code",
   "execution_count": null,
   "metadata": {},
   "outputs": [],
   "source": []
  }
 ],
 "metadata": {
  "kernelspec": {
   "display_name": ".venv",
   "language": "python",
   "name": "python3"
  },
  "language_info": {
   "codemirror_mode": {
    "name": "ipython",
    "version": 3
   },
   "file_extension": ".py",
   "mimetype": "text/x-python",
   "name": "python",
   "nbconvert_exporter": "python",
   "pygments_lexer": "ipython3",
   "version": "3.10.13"
  }
 },
 "nbformat": 4,
 "nbformat_minor": 2
}
