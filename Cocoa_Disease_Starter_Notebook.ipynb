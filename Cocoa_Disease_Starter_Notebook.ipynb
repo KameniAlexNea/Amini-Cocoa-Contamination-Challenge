{
  "cells": [
    {
      "cell_type": "code",
      "execution_count": null,
      "metadata": {
        "colab": {
          "base_uri": "https://localhost:8080/"
        },
        "id": "DQ3u1ftBTH-w",
        "outputId": "c55ea212-b571-4700-a187-7a5508caa86e"
      },
      "outputs": [],
      "source": [
        "# Check GPU type\n",
        "!nvidia-smi"
      ]
    },
    {
      "cell_type": "code",
      "execution_count": null,
      "metadata": {
        "colab": {
          "base_uri": "https://localhost:8080/"
        },
        "id": "OO1HB5PvTRK5",
        "outputId": "a0fb44d2-39b2-476e-ee19-8aa948816859"
      },
      "outputs": [],
      "source": [
        "# Install ultralytics\n",
        "# !pip -q install  ultralytics scikit-learn opencv-python"
      ]
    },
    {
      "cell_type": "code",
      "execution_count": null,
      "metadata": {
        "colab": {
          "base_uri": "https://localhost:8080/"
        },
        "id": "uOcADq55Tg7o",
        "outputId": "b71ba567-4c9f-489c-a938-143bd1ae6b31"
      },
      "outputs": [],
      "source": [
        "# Import libraries\n",
        "import pandas as pd\n",
        "import os\n",
        "from pathlib import Path\n",
        "import shutil\n",
        "from sklearn.model_selection import train_test_split\n",
        "from sklearn.preprocessing import LabelEncoder\n",
        "from tqdm import tqdm\n",
        "import cv2\n",
        "import yaml\n",
        "import matplotlib.pyplot as plt\n",
        "from ultralytics import YOLO\n",
        "import multiprocessing\n",
        "import numpy as np\n",
        "from PIL import Image"
      ]
    },
    {
      "cell_type": "code",
      "execution_count": null,
      "metadata": {},
      "outputs": [],
      "source": [
        "%pwd"
      ]
    },
    {
      "cell_type": "code",
      "execution_count": null,
      "metadata": {
        "id": "rZowroyJTmDj"
      },
      "outputs": [],
      "source": [
        "# INPUT_DIRS\n",
        "INPUT_DATA_DIR = Path('dataset/images')"
      ]
    },
    {
      "cell_type": "code",
      "execution_count": null,
      "metadata": {
        "colab": {
          "base_uri": "https://localhost:8080/"
        },
        "id": "rxdsRckaUEFJ",
        "outputId": "e3608527-6fb9-4055-b405-a196a46678a3"
      },
      "outputs": [],
      "source": [
        "os.listdir(INPUT_DATA_DIR)"
      ]
    },
    {
      "cell_type": "code",
      "execution_count": null,
      "metadata": {
        "colab": {
          "base_uri": "https://localhost:8080/"
        },
        "id": "sNCXMBc8iExH",
        "outputId": "fff8611d-acdf-4d67-c734-790668f754e1"
      },
      "outputs": [],
      "source": [
        "## Drop the Folder if it already exists\n",
        "DATASETS_DIR = Path('dataset/images')\n",
        "DATASETS_DIR"
      ]
    },
    {
      "cell_type": "code",
      "execution_count": null,
      "metadata": {
        "id": "XU-gxiV9lJf8"
      },
      "outputs": [],
      "source": [
        "# Image & labels directory\n",
        "TRAIN_IMAGES_DIR = DATASETS_DIR / 'images' / 'train'\n",
        "TRAIN_LABELS_DIR = DATASETS_DIR / 'labels'/ 'train'\n",
        "TEST_IMAGES_DIR = DATASETS_DIR / 'images' / 'test'\n",
        "VAL_IMAGES_DIR = DATASETS_DIR / 'images' /'val'\n",
        "VAL_LABELS_DIR = DATASETS_DIR / 'labels' /'val'"
      ]
    },
    {
      "cell_type": "code",
      "execution_count": null,
      "metadata": {
        "id": "74G0EgTYjNsa"
      },
      "outputs": [],
      "source": [
        "# # Check if DATASETS_DIR exists, if it does delete it and recreate it\n",
        "# for DIR in [TRAIN_IMAGES_DIR, VAL_IMAGES_DIR, TEST_IMAGES_DIR, VAL_LABELS_DIR, DATASETS_DIR]:\n",
        "#   if DIR.exists():\n",
        "#     shutil.rmtree(DIR)\n",
        "#   DIR.mkdir(parents=True, exist_ok = True)"
      ]
    },
    {
      "cell_type": "code",
      "execution_count": null,
      "metadata": {
        "id": "hm077jWcUIxh"
      },
      "outputs": [],
      "source": [
        "# Unpack the 'dataset.zip'\n",
        "# shutil.unpack_archive(INPUT_DATA_DIR / 'dataset.zip', DATASETS_DIR)"
      ]
    },
    {
      "cell_type": "code",
      "execution_count": null,
      "metadata": {
        "id": "aTlVCAjZ0VlP"
      },
      "outputs": [],
      "source": [
        "def count_files(directory):\n",
        "    total_files = 0\n",
        "    for root, _, files in os.walk(directory):\n",
        "        total_files += len(files)\n",
        "    return total_files"
      ]
    },
    {
      "cell_type": "code",
      "execution_count": null,
      "metadata": {
        "colab": {
          "base_uri": "https://localhost:8080/"
        },
        "id": "Dhktvg3nssaG",
        "outputId": "ed97a307-aded-480c-db18-f1f23fba2353"
      },
      "outputs": [],
      "source": [
        "## Count the number files in TRAIN_IMAGES_DIR\n",
        "num_train_images = count_files(TRAIN_IMAGES_DIR)\n",
        "print(f\"There are {num_train_images} in {TRAIN_IMAGES_DIR}\")"
      ]
    },
    {
      "cell_type": "code",
      "execution_count": null,
      "metadata": {
        "colab": {
          "base_uri": "https://localhost:8080/"
        },
        "id": "qwO7K4pkz8u7",
        "outputId": "023aa958-8ae8-4a3f-b2f2-d2ee1d4b7742"
      },
      "outputs": [],
      "source": [
        "## Count the number of files in TRAIN_LABELS_DIR\n",
        "num_train_labels = count_files(TRAIN_LABELS_DIR)\n",
        "print(f\"There are {num_train_labels} in {TRAIN_LABELS_DIR}\")"
      ]
    },
    {
      "cell_type": "code",
      "execution_count": null,
      "metadata": {
        "colab": {
          "base_uri": "https://localhost:8080/"
        },
        "id": "HJKKWcpV3UBn",
        "outputId": "5bf526ff-bf5e-4bf5-91cc-f9d4b55664c7"
      },
      "outputs": [],
      "source": [
        "## Get the set of all the stems of the images in TRAIN_IMAGES_DIR\n",
        "train_images_stems = set([str(Path(name).stem) for name in os.listdir(TRAIN_IMAGES_DIR)])\n",
        "len(train_images_stems)"
      ]
    },
    {
      "cell_type": "code",
      "execution_count": null,
      "metadata": {
        "colab": {
          "base_uri": "https://localhost:8080/"
        },
        "id": "_dwfSqRs3hVI",
        "outputId": "4755f142-ac5a-4788-c5ed-f865f1dd3926"
      },
      "outputs": [],
      "source": [
        "## Get the set of all the stems of the labes in TRAIN_LABELS_DIR\n",
        "train_labels_stems = set([str(Path(name).stem) for name in os.listdir(TRAIN_LABELS_DIR)])\n",
        "len(train_labels_stems)"
      ]
    },
    {
      "cell_type": "code",
      "execution_count": null,
      "metadata": {
        "colab": {
          "base_uri": "https://localhost:8080/"
        },
        "id": "YqcEdP8t3xpY",
        "outputId": "9a0d1f75-98b2-45b2-d99f-f15d936ef998"
      },
      "outputs": [],
      "source": [
        "# Check that the two sets are identitical\n",
        "train_images_stems == train_labels_stems"
      ]
    },
    {
      "cell_type": "code",
      "execution_count": null,
      "metadata": {
        "colab": {
          "base_uri": "https://localhost:8080/"
        },
        "id": "9rI1T8zcvLNv",
        "outputId": "7bf5a47c-6382-4335-97e5-5a31adb85f0c"
      },
      "outputs": [],
      "source": [
        "TRAIN_IMAGES_DIR.absolute()"
      ]
    },
    {
      "cell_type": "code",
      "execution_count": null,
      "metadata": {
        "id": "t1W9g2MTUhHM"
      },
      "outputs": [],
      "source": [
        "# Load train and test files\n",
        "train = pd.read_csv(INPUT_DATA_DIR / 'Train.csv')\n",
        "test = pd.read_csv(INPUT_DATA_DIR / 'Test.csv')\n",
        "ss = pd.read_csv(INPUT_DATA_DIR / 'SampleSubmission.csv')"
      ]
    },
    {
      "cell_type": "code",
      "execution_count": null,
      "metadata": {
        "colab": {
          "base_uri": "https://localhost:8080/",
          "height": 206
        },
        "id": "ndlrQ_5zf9e-",
        "outputId": "037fca07-cc30-4d0d-f040-6d3ffd58965f"
      },
      "outputs": [],
      "source": [
        "## Sample submission file\n",
        "ss.head()"
      ]
    },
    {
      "cell_type": "code",
      "execution_count": null,
      "metadata": {
        "colab": {
          "base_uri": "https://localhost:8080/",
          "height": 206
        },
        "id": "1do_fHB1Vys3",
        "outputId": "cffb28f1-bf14-4246-82d3-88c0e7d14be8"
      },
      "outputs": [],
      "source": [
        "train.head()"
      ]
    },
    {
      "cell_type": "code",
      "execution_count": null,
      "metadata": {
        "colab": {
          "base_uri": "https://localhost:8080/"
        },
        "id": "3XBsZUWJr-dg",
        "outputId": "d2928c4d-19af-45a7-af9a-d5516d567c84"
      },
      "outputs": [],
      "source": [
        "train['class'].unique()"
      ]
    },
    {
      "cell_type": "code",
      "execution_count": null,
      "metadata": {
        "colab": {
          "base_uri": "https://localhost:8080/"
        },
        "id": "uMSmBJehsGPf",
        "outputId": "ff31b936-92e1-466b-c707-6477388b9b89"
      },
      "outputs": [],
      "source": [
        "train['class_id'].unique()"
      ]
    },
    {
      "cell_type": "code",
      "execution_count": null,
      "metadata": {
        "colab": {
          "base_uri": "https://localhost:8080/",
          "height": 272
        },
        "id": "DhieAs4msND9",
        "outputId": "194d623f-bdab-4766-af57-378594673c03"
      },
      "outputs": [],
      "source": [
        "train[['class', 'class_id']].value_counts()"
      ]
    },
    {
      "cell_type": "code",
      "execution_count": null,
      "metadata": {
        "colab": {
          "base_uri": "https://localhost:8080/"
        },
        "id": "6PHvlO6Duh5F",
        "outputId": "045be12c-d730-4a86-921b-2240b030c733"
      },
      "outputs": [],
      "source": [
        "class_map = {cls: i for i, cls in enumerate(sorted(train['class'].unique().tolist()))}\n",
        "class_map"
      ]
    },
    {
      "cell_type": "code",
      "execution_count": null,
      "metadata": {
        "id": "yZ13rslzsnzX"
      },
      "outputs": [],
      "source": [
        "# Strip any spacing from the class item and make sure that it is a str\n",
        "train['class'] = train['class'].str.strip()\n",
        "\n",
        "# Map {'healthy': 2, 'cssvd': 1, anthracnose: 0}\n",
        "train['class_id'] = train['class'].map(class_map)"
      ]
    },
    {
      "cell_type": "code",
      "execution_count": null,
      "metadata": {
        "colab": {
          "base_uri": "https://localhost:8080/",
          "height": 209
        },
        "id": "BMJQLJdAt5Oy",
        "outputId": "70ab8303-18ff-4570-9a86-a975c184e68f"
      },
      "outputs": [],
      "source": [
        "train[['class', 'class_id']].value_counts()"
      ]
    },
    {
      "cell_type": "code",
      "execution_count": null,
      "metadata": {
        "colab": {
          "base_uri": "https://localhost:8080/"
        },
        "id": "pmkypiGt00Cj",
        "outputId": "13d914d5-0c9e-493a-f54c-72e63cd6df80"
      },
      "outputs": [],
      "source": [
        "# Number of unique images path\n",
        "train['ImagePath'].nunique()"
      ]
    },
    {
      "cell_type": "code",
      "execution_count": null,
      "metadata": {
        "id": "iqBIcEh3Yn7R"
      },
      "outputs": [],
      "source": [
        "# Split the train dataset into train_df & val_df\n",
        "train_names, val_names = train_test_split(train['Image_ID'].unique(), test_size=0.05, random_state=42)\n",
        "\n",
        "train_df = train[train['Image_ID'].isin(train_names)]\n",
        "val_df = train[train['Image_ID'].isin(val_names)]"
      ]
    },
    {
      "cell_type": "code",
      "execution_count": null,
      "metadata": {
        "colab": {
          "base_uri": "https://localhost:8080/",
          "height": 206
        },
        "id": "h1k6HFSQV0KS",
        "outputId": "79891bdb-911b-49b3-d2fe-f53c2f4461de"
      },
      "outputs": [],
      "source": [
        "train_df.head()"
      ]
    },
    {
      "cell_type": "code",
      "execution_count": null,
      "metadata": {
        "colab": {
          "base_uri": "https://localhost:8080/"
        },
        "id": "7CdH8tdKZHRq",
        "outputId": "657880ac-4719-4758-8a0b-cc0b0d6f2476"
      },
      "outputs": [],
      "source": [
        "train_df.shape, val_df.shape, test.shape"
      ]
    },
    {
      "cell_type": "code",
      "execution_count": null,
      "metadata": {
        "colab": {
          "base_uri": "https://localhost:8080/",
          "height": 206
        },
        "id": "rfdGMVyYV9VI",
        "outputId": "d6476477-a648-4e59-9f87-d38bdae14459"
      },
      "outputs": [],
      "source": [
        "ss.head()"
      ]
    },
    {
      "cell_type": "code",
      "execution_count": null,
      "metadata": {
        "colab": {
          "base_uri": "https://localhost:8080/",
          "height": 544
        },
        "id": "IX3U0wYiV_VN",
        "outputId": "476462c3-fb7a-454a-83c8-ee7afe2ef7e6"
      },
      "outputs": [],
      "source": [
        "# Preview target distribution, seems there a class imbalance that needs to be handled\n",
        "train['class'].value_counts().plot(kind='bar')\n",
        "plt.title('Train-Val Class Distribution')\n",
        "plt.show()"
      ]
    },
    {
      "cell_type": "code",
      "execution_count": null,
      "metadata": {
        "colab": {
          "base_uri": "https://localhost:8080/",
          "height": 544
        },
        "id": "EmvTfGXFYhZu",
        "outputId": "36e2439a-ce94-4bce-d94b-e835664abc77"
      },
      "outputs": [],
      "source": [
        "train_df['class'].value_counts().plot(kind='bar')\n",
        "plt.title('Train - Class Distribution')\n",
        "plt.show()"
      ]
    },
    {
      "cell_type": "code",
      "execution_count": null,
      "metadata": {
        "colab": {
          "base_uri": "https://localhost:8080/",
          "height": 544
        },
        "id": "FPisnJkNSKAW",
        "outputId": "331a4356-d83f-4db2-b42f-cba2316c0c31"
      },
      "outputs": [],
      "source": [
        "val_df['class'].value_counts().plot(kind='bar')\n",
        "plt.title('Val - Class Distribution')\n",
        "plt.show()"
      ]
    },
    {
      "cell_type": "code",
      "execution_count": null,
      "metadata": {
        "colab": {
          "base_uri": "https://localhost:8080/"
        },
        "id": "jMadvQbIW8EJ",
        "outputId": "1d702ee3-e54a-44c4-d12d-d9113039d7bd"
      },
      "outputs": [],
      "source": [
        "# Create a data.yaml file required by yolo\n",
        "class_names = sorted(train['class'].unique().tolist())\n",
        "num_classes = len(class_names)\n",
        "\n",
        "data_yaml = {\n",
        "    \"path\" : str(DATASETS_DIR.absolute()),\n",
        "    'train': str(TRAIN_IMAGES_DIR.absolute()),\n",
        "    'val': str(VAL_IMAGES_DIR.absolute()),\n",
        "    'test': str(TEST_IMAGES_DIR.absolute()),\n",
        "    'nc': num_classes,\n",
        "    'names': class_names\n",
        "}\n",
        "\n",
        "yaml_path = 'data.yaml'\n",
        "with open(yaml_path, 'w') as file:\n",
        "    yaml.dump(data_yaml, file, default_flow_style=False)\n",
        "\n",
        "# Preview data yaml file\n",
        "data_yaml"
      ]
    },
    {
      "cell_type": "code",
      "execution_count": null,
      "metadata": {
        "colab": {
          "base_uri": "https://localhost:8080/"
        },
        "id": "I72xPnAFZ3o5",
        "outputId": "17f516ae-77ff-441a-cfeb-1a66fc66e57f"
      },
      "outputs": [],
      "source": [
        "len(val_names), len(set(val_names))"
      ]
    },
    {
      "cell_type": "code",
      "execution_count": null,
      "metadata": {
        "id": "wjP7f8Ze3FZT"
      },
      "outputs": [],
      "source": [
        "val_image_names = [str(Path(name).stem) for name in val_df['Image_ID'].unique()]"
      ]
    },
    {
      "cell_type": "code",
      "execution_count": null,
      "metadata": {
        "colab": {
          "base_uri": "https://localhost:8080/"
        },
        "id": "0vpGHhYL3U_e",
        "outputId": "a3cbd1da-4f30-42c1-b6cc-cfb92a570e14"
      },
      "outputs": [],
      "source": [
        "len(val_image_names)"
      ]
    },
    {
      "cell_type": "code",
      "execution_count": null,
      "metadata": {
        "colab": {
          "base_uri": "https://localhost:8080/"
        },
        "id": "oRxqAY4Jc7FI",
        "outputId": "c3aed995-b008-4ab3-fb91-345b492525b4"
      },
      "outputs": [],
      "source": [
        "# list of images in TRAIN_IMAGES_DIR\n",
        "images_in_train_dir = os.listdir(TRAIN_IMAGES_DIR)\n",
        "len(images_in_train_dir), len(train_names)"
      ]
    },
    {
      "cell_type": "code",
      "execution_count": null,
      "metadata": {
        "id": "67OESHTtdB1-"
      },
      "outputs": [],
      "source": [
        "train_image_names = [str(Path(name).stem) for name in train['ImagePath'].unique()]"
      ]
    },
    {
      "cell_type": "code",
      "execution_count": null,
      "metadata": {
        "colab": {
          "base_uri": "https://localhost:8080/"
        },
        "id": "xC6Gopu4fbsu",
        "outputId": "6dfe8f8b-6169-4f0d-91e3-650d7e59c08f"
      },
      "outputs": [],
      "source": [
        "len(train_image_names)"
      ]
    },
    {
      "cell_type": "code",
      "execution_count": null,
      "metadata": {
        "id": "_2frjjZRba3B"
      },
      "outputs": [],
      "source": [
        "# Check that VAL_IMAGES_DIR & VAL_LABELS_DIR exist if not create them\n",
        "for DIR in [VAL_IMAGES_DIR, VAL_LABELS_DIR]:\n",
        "  if not DIR.exists():\n",
        "    DIR.mkdir(parents=True, exist_ok = True)"
      ]
    },
    {
      "cell_type": "code",
      "execution_count": null,
      "metadata": {
        "colab": {
          "base_uri": "https://localhost:8080/",
          "height": 49,
          "referenced_widgets": [
            "6be33c295bda417eaea76a3c1a2f2943",
            "77d8e3126f634e9bbe9b9f1dfbe46761",
            "5040f897854e4635a43702dc2d20e02f",
            "ed745f4a911848cca6c68bf852ccee99",
            "40f930d60f994da3a27582bb221ce04d",
            "c723097c104c4493a679a1c397128188",
            "a9f2ed5bd1b447c2bb47442c69afb91b",
            "d9e5b2aa2d2d45ad82511ce41b26aabc",
            "3e731050fa85455f8725c07de8d7b028",
            "62b03af1b29c4f1884c26cb43a431ea2",
            "8f83dd082c12406fa3396846fa3f40cf"
          ]
        },
        "id": "J0SXhnnaZiXH",
        "outputId": "6971e6ce-091f-4849-ce23-750c4d24c3e4"
      },
      "outputs": [],
      "source": [
        "# Copy images in val_names to dataset/val and do the same with the labels\n",
        "for image_name in tqdm(val_names):\n",
        "    shutil.move(TRAIN_IMAGES_DIR / image_name, VAL_IMAGES_DIR / image_name)\n",
        "    img_ext = image_name.split('.')[-1]\n",
        "    label_name = image_name.replace(f'.{img_ext}', '.txt')\n",
        "    shutil.move(TRAIN_LABELS_DIR / label_name, VAL_LABELS_DIR / label_name)"
      ]
    },
    {
      "cell_type": "code",
      "execution_count": null,
      "metadata": {
        "colab": {
          "base_uri": "https://localhost:8080/",
          "height": 1000
        },
        "id": "uYVqfVkDZuUX",
        "outputId": "0ae33c8b-3911-404e-e242-1b9502050fb6"
      },
      "outputs": [],
      "source": [
        "# Plot some images and their bboxes to ensure the conversion was done correctly\n",
        "def load_annotations(label_path):\n",
        "    with open(label_path, 'r') as f:\n",
        "        lines = f.readlines()\n",
        "    boxes = []\n",
        "    for line in lines:\n",
        "        class_id, x_center, y_center, width, height = map(float, line.strip().split())\n",
        "        boxes.append((class_id, x_center, y_center, width, height))\n",
        "    return boxes\n",
        "\n",
        "# Function to plot an image with its bounding boxes\n",
        "def plot_image_with_boxes(image_path, boxes):\n",
        "    # Load the image\n",
        "    image = np.array(Image.open(str(image_path)))\n",
        "\n",
        "    # Get image dimensions\n",
        "    h, w, _ = image.shape\n",
        "\n",
        "    # Plot the image\n",
        "    plt.figure(figsize=(10, 10))\n",
        "    plt.imshow(image)\n",
        "\n",
        "    # Plot each bounding box\n",
        "    for box in boxes:\n",
        "        class_id, x_center, y_center, width, height = box\n",
        "        # Convert YOLO format to corner coordinates\n",
        "        xmin = int((x_center - width / 2) * w)\n",
        "        ymin = int((y_center - height / 2) * h)\n",
        "        xmax = int((x_center + width / 2) * w)\n",
        "        ymax = int((y_center + height / 2) * h)\n",
        "\n",
        "        # Draw the bounding box\n",
        "        plt.gca().add_patch(plt.Rectangle((xmin, ymin), xmax - xmin, ymax - ymin,\n",
        "                                          edgecolor='red', facecolor='none', linewidth=2))\n",
        "        plt.text(xmin, ymin - 10, f'Class {int(class_id)}', color='red', fontsize=8, weight='bold')\n",
        "\n",
        "    plt.axis('off')\n",
        "    plt.show()\n",
        "\n",
        "# Directories for images and labels\n",
        "IMAGE_DIR = TRAIN_IMAGES_DIR\n",
        "LABEL_DIR = TRAIN_LABELS_DIR\n",
        "\n",
        "# Plot a few images with their annotations\n",
        "for image_name in os.listdir(IMAGE_DIR)[:5]:\n",
        "    image_path = IMAGE_DIR / image_name\n",
        "    img_ext = image_name.split('.')[-1]\n",
        "    label_path = LABEL_DIR / (image_name.replace(f'.{img_ext}', '.txt'))\n",
        "\n",
        "    if label_path.exists():\n",
        "        boxes = load_annotations(label_path)\n",
        "        print(f\"Plotting {image_name} with {len(boxes)} bounding boxes.\")\n",
        "        plot_image_with_boxes(image_path, boxes)\n",
        "    else:\n",
        "        print(f\"No annotations found for {image_name}.\")\n"
      ]
    },
    {
      "cell_type": "code",
      "execution_count": null,
      "metadata": {
        "colab": {
          "base_uri": "https://localhost:8080/"
        },
        "id": "1OTu0RRDayR6",
        "outputId": "2fd143ad-7c42-49f2-8404-ff7c26aecb11"
      },
      "outputs": [],
      "source": [
        "# Load a yolo pretrained model\n",
        "model = YOLO(\"yolov8n.pt\")\n",
        "\n",
        "# Fine tune model to our data\n",
        "model.train(\n",
        "    data=\"data.yaml\",  # Path to the dataset configuration\n",
        "    epochs=10,  # Number of epochs\n",
        "    imgsz=1024,  # Image size (height, width)\n",
        "    batch=8,  # Batch size\n",
        "    device=\"cuda\",  # Device to use (0 for the first GPU)\n",
        "    patience=5,\n",
        ")"
      ]
    },
    {
      "cell_type": "code",
      "execution_count": null,
      "metadata": {
        "colab": {
          "base_uri": "https://localhost:8080/"
        },
        "id": "BmGpl8Nqa54_",
        "outputId": "cca8a37c-0f6f-4dcc-ebfa-2099d0f23517"
      },
      "outputs": [],
      "source": [
        "# Validate the model on the validation set\n",
        "BEST_PATH = \"runs/detect/train/weights/best.pt\"\n",
        "model = YOLO(BEST_PATH)\n",
        "results = model.val()"
      ]
    },
    {
      "cell_type": "code",
      "execution_count": null,
      "metadata": {
        "colab": {
          "base_uri": "https://localhost:8080/",
          "height": 1000,
          "referenced_widgets": [
            "9d68f6caba744bb1b56d5beb70c1553b",
            "8537c854069349eab163683aecc77559",
            "4bd8beef2e3e4325a41989aba5c02228",
            "10603f8ff7f94d6fabfaa979c5f5b8c4",
            "8a8b996608244def8314c0c2ccf531dd",
            "71780bda7b094558808f47d673b3d859",
            "d473bd2a26234d11b9e80d2f5fcdeb11",
            "d46488c887704f929dabf6063c65168b",
            "b98981f330f8455e979a8ac017f01872",
            "45e2e7bc581d405b9d3281b2535886fc",
            "8583573bc1de42698c2e70875d961ccc"
          ]
        },
        "id": "PsyXThvpbEfZ",
        "outputId": "001ee404-fbfa-4800-99d5-be15b9b39c88"
      },
      "outputs": [],
      "source": [
        "# Load the trained YOLO model\n",
        "model = YOLO(BEST_PATH)\n",
        "\n",
        "# Path to the test images directory\n",
        "test_dir_path = TEST_IMAGES_DIR\n",
        "\n",
        "# Get a list of all image files in the test directory\n",
        "image_files = os.listdir(test_dir_path)\n",
        "\n",
        "# Initialize an empty list to store the results for all images\n",
        "all_data = []\n",
        "\n",
        "# Initialize an empty list to store the results for all images\n",
        "all_data = []\n",
        "\n",
        "# Iterate through each image in the directory\n",
        "for image_file in tqdm(image_files):\n",
        "    # Full path to the image\n",
        "    img_path = os.path.join(test_dir_path, image_file)\n",
        "\n",
        "    # Make predictions on the image\n",
        "    results = model(img_path)\n",
        "\n",
        "    # Extract bounding boxes, confidence scores, and class labels\n",
        "    boxes = results[0].boxes.xyxy.tolist() if results[0].boxes else []  # Bounding boxes in xyxy format\n",
        "    classes = results[0].boxes.cls.tolist() if results[0].boxes else []  # Class indices\n",
        "    confidences = results[0].boxes.conf.tolist() if results[0].boxes else []  # Confidence scores\n",
        "    names = results[0].names  # Class names dictionary\n",
        "\n",
        "    if boxes:  # If detections are found\n",
        "        for box, cls, conf in zip(boxes, classes, confidences):\n",
        "            x1, y1, x2, y2 = box\n",
        "            detected_class = names[int(cls)]  # Get the class name from the names dictionary\n",
        "\n",
        "            # Add the result to the all_data list\n",
        "            all_data.append({\n",
        "                'Image_ID': str(image_file),\n",
        "                'class': detected_class,\n",
        "                'confidence': conf,\n",
        "                'ymin': y1,\n",
        "                'xmin': x1,\n",
        "                'ymax': y2,\n",
        "                'xmax': x2\n",
        "            })\n",
        "    else:  # If no objects are detected\n",
        "        all_data.append({\n",
        "            'Image_ID': str(image_file),\n",
        "            'class': \"None\",\n",
        "            'confidence': None,\n",
        "            'ymin': None,\n",
        "            'xmin': None,\n",
        "            'ymax': None,\n",
        "            'xmax': None\n",
        "        })\n",
        "\n"
      ]
    },
    {
      "cell_type": "code",
      "execution_count": null,
      "metadata": {
        "id": "Yl3WnXCWtNAe"
      },
      "outputs": [],
      "source": [
        "# Convert the list to a DataFrame for all images\n",
        "sub = pd.DataFrame(all_data)"
      ]
    },
    {
      "cell_type": "code",
      "execution_count": null,
      "metadata": {
        "colab": {
          "base_uri": "https://localhost:8080/",
          "height": 206
        },
        "id": "QXtCC-ikxMQ_",
        "outputId": "3c157ed1-9db0-4101-cc8b-24b13c7d5ff6"
      },
      "outputs": [],
      "source": [
        "sub.head()"
      ]
    },
    {
      "cell_type": "code",
      "execution_count": null,
      "metadata": {
        "colab": {
          "base_uri": "https://localhost:8080/",
          "height": 240
        },
        "id": "I-nEc8laxNNE",
        "outputId": "b283355e-f1cf-472f-b0e3-97da575cb1e7"
      },
      "outputs": [],
      "source": [
        "sub['class'].value_counts()"
      ]
    },
    {
      "cell_type": "code",
      "execution_count": null,
      "metadata": {
        "id": "d6sAZFTdxRHZ"
      },
      "outputs": [],
      "source": [
        "# Create submission file to be uploaded to Zindi for scoring\n",
        "sub.to_csv(f'{INPUT_DATA_DIR / \"BenchmarkSubmission.csv\"}', index = False)"
      ]
    },
    {
      "cell_type": "code",
      "execution_count": null,
      "metadata": {
        "colab": {
          "base_uri": "https://localhost:8080/"
        },
        "id": "SdM6PSCPxZ9f",
        "outputId": "7c3959ea-fe28-4469-91c7-6e29a886d77b"
      },
      "outputs": [],
      "source": [
        "train['Image_ID'].nunique(), test['Image_ID'].nunique()"
      ]
    },
    {
      "cell_type": "code",
      "execution_count": null,
      "metadata": {
        "colab": {
          "base_uri": "https://localhost:8080/"
        },
        "id": "V432nQkPqwiI",
        "outputId": "9ddc1ae7-5be9-495f-f4e3-cb97bfda132c"
      },
      "outputs": [],
      "source": [
        "train_df['Image_ID'].nunique() + val_df['Image_ID'].nunique() + test['Image_ID'].nunique()"
      ]
    },
    {
      "cell_type": "code",
      "execution_count": null,
      "metadata": {
        "colab": {
          "base_uri": "https://localhost:8080/",
          "height": 206
        },
        "id": "t2U_-h5Kq3Xq",
        "outputId": "b6ced9de-165d-4711-e9f1-f482aa9e45c5"
      },
      "outputs": [],
      "source": [
        "sub = pd.read_csv(f'{INPUT_DATA_DIR / \"BenchmarkSubmission.csv\"}')\n",
        "sub.head()"
      ]
    },
    {
      "cell_type": "code",
      "execution_count": null,
      "metadata": {
        "colab": {
          "base_uri": "https://localhost:8080/",
          "height": 1000
        },
        "id": "XWVWq85BjtDs",
        "outputId": "908d99f1-b70a-4d7b-b510-90cb0f4d217c"
      },
      "outputs": [],
      "source": [
        "## Make a dataframe from all entries in sub with no detection\n",
        "no_detection = sub[~sub['class'].isin(['cssvd', 'healthy', 'anthracnose'])]\n",
        "no_detection"
      ]
    },
    {
      "cell_type": "code",
      "execution_count": null,
      "metadata": {
        "colab": {
          "base_uri": "https://localhost:8080/",
          "height": 36
        },
        "id": "oPBNIgTVqWOR",
        "outputId": "06d4b9e5-6e9c-458f-ac93-fa3617ae8d44"
      },
      "outputs": [],
      "source": [
        "# Get a random image from no_detection\n",
        "rnd_no_detect_image = no_detection.sample(1)['Image_ID'].values[0]\n",
        "rnd_no_detect_image"
      ]
    },
    {
      "cell_type": "code",
      "execution_count": null,
      "metadata": {
        "colab": {
          "base_uri": "https://localhost:8080/",
          "height": 289
        },
        "id": "NTcTV6xrrHtA",
        "outputId": "96088509-153b-4487-c5f2-0aec2d933045"
      },
      "outputs": [],
      "source": [
        "# Plot the rnd_no_detect_image\n",
        "image_path = TEST_IMAGES_DIR / rnd_no_detect_image\n",
        "image = np.array(Image.open(str(image_path)))\n",
        "plt.imshow(image)"
      ]
    },
    {
      "cell_type": "code",
      "execution_count": null,
      "metadata": {
        "colab": {
          "base_uri": "https://localhost:8080/"
        },
        "id": "5tsJ9IL3uF4x",
        "outputId": "0dcce604-b214-4148-e601-b08658474fbe"
      },
      "outputs": [],
      "source": [
        "no_detection['Image_ID'].unique()"
      ]
    },
    {
      "cell_type": "code",
      "execution_count": null,
      "metadata": {
        "colab": {
          "base_uri": "https://localhost:8080/",
          "height": 1000
        },
        "id": "MMNbWK_grTBH",
        "outputId": "fb15e319-eb8d-49f4-d03b-e49aba4b130c"
      },
      "outputs": [],
      "source": [
        "# Plot each of the image in no_detection dataframe\n",
        "for image_name in no_detection['Image_ID'].unique():\n",
        "    image_path = TEST_IMAGES_DIR / image_name\n",
        "    plt.title(image_name)\n",
        "    image = np.array(Image.open(str(image_path)))\n",
        "    plt.imshow(image)\n",
        "    plt.show()\n",
        "    print('--------------------------------------\\n')"
      ]
    },
    {
      "cell_type": "code",
      "execution_count": null,
      "metadata": {},
      "outputs": [],
      "source": []
    }
  ],
  "metadata": {
    "accelerator": "GPU",
    "colab": {
      "gpuType": "L4",
      "machine_shape": "hm",
      "provenance": []
    },
    "kernelspec": {
      "display_name": ".venv",
      "language": "python",
      "name": "python3"
    },
    "language_info": {
      "codemirror_mode": {
        "name": "ipython",
        "version": 3
      },
      "file_extension": ".py",
      "mimetype": "text/x-python",
      "name": "python",
      "nbconvert_exporter": "python",
      "pygments_lexer": "ipython3",
      "version": "3.10.13"
    },
    "widgets": {
      "application/vnd.jupyter.widget-state+json": {
        "10603f8ff7f94d6fabfaa979c5f5b8c4": {
          "model_module": "@jupyter-widgets/controls",
          "model_module_version": "1.5.0",
          "model_name": "HTMLModel",
          "state": {
            "_dom_classes": [],
            "_model_module": "@jupyter-widgets/controls",
            "_model_module_version": "1.5.0",
            "_model_name": "HTMLModel",
            "_view_count": null,
            "_view_module": "@jupyter-widgets/controls",
            "_view_module_version": "1.5.0",
            "_view_name": "HTMLView",
            "description": "",
            "description_tooltip": null,
            "layout": "IPY_MODEL_45e2e7bc581d405b9d3281b2535886fc",
            "placeholder": "​",
            "style": "IPY_MODEL_8583573bc1de42698c2e70875d961ccc",
            "value": " 1626/1626 [02:01&lt;00:00,  6.81it/s]"
          }
        },
        "3e731050fa85455f8725c07de8d7b028": {
          "model_module": "@jupyter-widgets/controls",
          "model_module_version": "1.5.0",
          "model_name": "ProgressStyleModel",
          "state": {
            "_model_module": "@jupyter-widgets/controls",
            "_model_module_version": "1.5.0",
            "_model_name": "ProgressStyleModel",
            "_view_count": null,
            "_view_module": "@jupyter-widgets/base",
            "_view_module_version": "1.2.0",
            "_view_name": "StyleView",
            "bar_color": null,
            "description_width": ""
          }
        },
        "40f930d60f994da3a27582bb221ce04d": {
          "model_module": "@jupyter-widgets/base",
          "model_module_version": "1.2.0",
          "model_name": "LayoutModel",
          "state": {
            "_model_module": "@jupyter-widgets/base",
            "_model_module_version": "1.2.0",
            "_model_name": "LayoutModel",
            "_view_count": null,
            "_view_module": "@jupyter-widgets/base",
            "_view_module_version": "1.2.0",
            "_view_name": "LayoutView",
            "align_content": null,
            "align_items": null,
            "align_self": null,
            "border": null,
            "bottom": null,
            "display": null,
            "flex": null,
            "flex_flow": null,
            "grid_area": null,
            "grid_auto_columns": null,
            "grid_auto_flow": null,
            "grid_auto_rows": null,
            "grid_column": null,
            "grid_gap": null,
            "grid_row": null,
            "grid_template_areas": null,
            "grid_template_columns": null,
            "grid_template_rows": null,
            "height": null,
            "justify_content": null,
            "justify_items": null,
            "left": null,
            "margin": null,
            "max_height": null,
            "max_width": null,
            "min_height": null,
            "min_width": null,
            "object_fit": null,
            "object_position": null,
            "order": null,
            "overflow": null,
            "overflow_x": null,
            "overflow_y": null,
            "padding": null,
            "right": null,
            "top": null,
            "visibility": null,
            "width": null
          }
        },
        "45e2e7bc581d405b9d3281b2535886fc": {
          "model_module": "@jupyter-widgets/base",
          "model_module_version": "1.2.0",
          "model_name": "LayoutModel",
          "state": {
            "_model_module": "@jupyter-widgets/base",
            "_model_module_version": "1.2.0",
            "_model_name": "LayoutModel",
            "_view_count": null,
            "_view_module": "@jupyter-widgets/base",
            "_view_module_version": "1.2.0",
            "_view_name": "LayoutView",
            "align_content": null,
            "align_items": null,
            "align_self": null,
            "border": null,
            "bottom": null,
            "display": null,
            "flex": null,
            "flex_flow": null,
            "grid_area": null,
            "grid_auto_columns": null,
            "grid_auto_flow": null,
            "grid_auto_rows": null,
            "grid_column": null,
            "grid_gap": null,
            "grid_row": null,
            "grid_template_areas": null,
            "grid_template_columns": null,
            "grid_template_rows": null,
            "height": null,
            "justify_content": null,
            "justify_items": null,
            "left": null,
            "margin": null,
            "max_height": null,
            "max_width": null,
            "min_height": null,
            "min_width": null,
            "object_fit": null,
            "object_position": null,
            "order": null,
            "overflow": null,
            "overflow_x": null,
            "overflow_y": null,
            "padding": null,
            "right": null,
            "top": null,
            "visibility": null,
            "width": null
          }
        },
        "4bd8beef2e3e4325a41989aba5c02228": {
          "model_module": "@jupyter-widgets/controls",
          "model_module_version": "1.5.0",
          "model_name": "FloatProgressModel",
          "state": {
            "_dom_classes": [],
            "_model_module": "@jupyter-widgets/controls",
            "_model_module_version": "1.5.0",
            "_model_name": "FloatProgressModel",
            "_view_count": null,
            "_view_module": "@jupyter-widgets/controls",
            "_view_module_version": "1.5.0",
            "_view_name": "ProgressView",
            "bar_style": "success",
            "description": "",
            "description_tooltip": null,
            "layout": "IPY_MODEL_d46488c887704f929dabf6063c65168b",
            "max": 1626,
            "min": 0,
            "orientation": "horizontal",
            "style": "IPY_MODEL_b98981f330f8455e979a8ac017f01872",
            "value": 1626
          }
        },
        "5040f897854e4635a43702dc2d20e02f": {
          "model_module": "@jupyter-widgets/controls",
          "model_module_version": "1.5.0",
          "model_name": "FloatProgressModel",
          "state": {
            "_dom_classes": [],
            "_model_module": "@jupyter-widgets/controls",
            "_model_module_version": "1.5.0",
            "_model_name": "FloatProgressModel",
            "_view_count": null,
            "_view_module": "@jupyter-widgets/controls",
            "_view_module_version": "1.5.0",
            "_view_name": "ProgressView",
            "bar_style": "success",
            "description": "",
            "description_tooltip": null,
            "layout": "IPY_MODEL_d9e5b2aa2d2d45ad82511ce41b26aabc",
            "max": 830,
            "min": 0,
            "orientation": "horizontal",
            "style": "IPY_MODEL_3e731050fa85455f8725c07de8d7b028",
            "value": 830
          }
        },
        "62b03af1b29c4f1884c26cb43a431ea2": {
          "model_module": "@jupyter-widgets/base",
          "model_module_version": "1.2.0",
          "model_name": "LayoutModel",
          "state": {
            "_model_module": "@jupyter-widgets/base",
            "_model_module_version": "1.2.0",
            "_model_name": "LayoutModel",
            "_view_count": null,
            "_view_module": "@jupyter-widgets/base",
            "_view_module_version": "1.2.0",
            "_view_name": "LayoutView",
            "align_content": null,
            "align_items": null,
            "align_self": null,
            "border": null,
            "bottom": null,
            "display": null,
            "flex": null,
            "flex_flow": null,
            "grid_area": null,
            "grid_auto_columns": null,
            "grid_auto_flow": null,
            "grid_auto_rows": null,
            "grid_column": null,
            "grid_gap": null,
            "grid_row": null,
            "grid_template_areas": null,
            "grid_template_columns": null,
            "grid_template_rows": null,
            "height": null,
            "justify_content": null,
            "justify_items": null,
            "left": null,
            "margin": null,
            "max_height": null,
            "max_width": null,
            "min_height": null,
            "min_width": null,
            "object_fit": null,
            "object_position": null,
            "order": null,
            "overflow": null,
            "overflow_x": null,
            "overflow_y": null,
            "padding": null,
            "right": null,
            "top": null,
            "visibility": null,
            "width": null
          }
        },
        "6be33c295bda417eaea76a3c1a2f2943": {
          "model_module": "@jupyter-widgets/controls",
          "model_module_version": "1.5.0",
          "model_name": "HBoxModel",
          "state": {
            "_dom_classes": [],
            "_model_module": "@jupyter-widgets/controls",
            "_model_module_version": "1.5.0",
            "_model_name": "HBoxModel",
            "_view_count": null,
            "_view_module": "@jupyter-widgets/controls",
            "_view_module_version": "1.5.0",
            "_view_name": "HBoxView",
            "box_style": "",
            "children": [
              "IPY_MODEL_77d8e3126f634e9bbe9b9f1dfbe46761",
              "IPY_MODEL_5040f897854e4635a43702dc2d20e02f",
              "IPY_MODEL_ed745f4a911848cca6c68bf852ccee99"
            ],
            "layout": "IPY_MODEL_40f930d60f994da3a27582bb221ce04d"
          }
        },
        "71780bda7b094558808f47d673b3d859": {
          "model_module": "@jupyter-widgets/base",
          "model_module_version": "1.2.0",
          "model_name": "LayoutModel",
          "state": {
            "_model_module": "@jupyter-widgets/base",
            "_model_module_version": "1.2.0",
            "_model_name": "LayoutModel",
            "_view_count": null,
            "_view_module": "@jupyter-widgets/base",
            "_view_module_version": "1.2.0",
            "_view_name": "LayoutView",
            "align_content": null,
            "align_items": null,
            "align_self": null,
            "border": null,
            "bottom": null,
            "display": null,
            "flex": null,
            "flex_flow": null,
            "grid_area": null,
            "grid_auto_columns": null,
            "grid_auto_flow": null,
            "grid_auto_rows": null,
            "grid_column": null,
            "grid_gap": null,
            "grid_row": null,
            "grid_template_areas": null,
            "grid_template_columns": null,
            "grid_template_rows": null,
            "height": null,
            "justify_content": null,
            "justify_items": null,
            "left": null,
            "margin": null,
            "max_height": null,
            "max_width": null,
            "min_height": null,
            "min_width": null,
            "object_fit": null,
            "object_position": null,
            "order": null,
            "overflow": null,
            "overflow_x": null,
            "overflow_y": null,
            "padding": null,
            "right": null,
            "top": null,
            "visibility": null,
            "width": null
          }
        },
        "77d8e3126f634e9bbe9b9f1dfbe46761": {
          "model_module": "@jupyter-widgets/controls",
          "model_module_version": "1.5.0",
          "model_name": "HTMLModel",
          "state": {
            "_dom_classes": [],
            "_model_module": "@jupyter-widgets/controls",
            "_model_module_version": "1.5.0",
            "_model_name": "HTMLModel",
            "_view_count": null,
            "_view_module": "@jupyter-widgets/controls",
            "_view_module_version": "1.5.0",
            "_view_name": "HTMLView",
            "description": "",
            "description_tooltip": null,
            "layout": "IPY_MODEL_c723097c104c4493a679a1c397128188",
            "placeholder": "​",
            "style": "IPY_MODEL_a9f2ed5bd1b447c2bb47442c69afb91b",
            "value": "100%"
          }
        },
        "8537c854069349eab163683aecc77559": {
          "model_module": "@jupyter-widgets/controls",
          "model_module_version": "1.5.0",
          "model_name": "HTMLModel",
          "state": {
            "_dom_classes": [],
            "_model_module": "@jupyter-widgets/controls",
            "_model_module_version": "1.5.0",
            "_model_name": "HTMLModel",
            "_view_count": null,
            "_view_module": "@jupyter-widgets/controls",
            "_view_module_version": "1.5.0",
            "_view_name": "HTMLView",
            "description": "",
            "description_tooltip": null,
            "layout": "IPY_MODEL_71780bda7b094558808f47d673b3d859",
            "placeholder": "​",
            "style": "IPY_MODEL_d473bd2a26234d11b9e80d2f5fcdeb11",
            "value": "100%"
          }
        },
        "8583573bc1de42698c2e70875d961ccc": {
          "model_module": "@jupyter-widgets/controls",
          "model_module_version": "1.5.0",
          "model_name": "DescriptionStyleModel",
          "state": {
            "_model_module": "@jupyter-widgets/controls",
            "_model_module_version": "1.5.0",
            "_model_name": "DescriptionStyleModel",
            "_view_count": null,
            "_view_module": "@jupyter-widgets/base",
            "_view_module_version": "1.2.0",
            "_view_name": "StyleView",
            "description_width": ""
          }
        },
        "8a8b996608244def8314c0c2ccf531dd": {
          "model_module": "@jupyter-widgets/base",
          "model_module_version": "1.2.0",
          "model_name": "LayoutModel",
          "state": {
            "_model_module": "@jupyter-widgets/base",
            "_model_module_version": "1.2.0",
            "_model_name": "LayoutModel",
            "_view_count": null,
            "_view_module": "@jupyter-widgets/base",
            "_view_module_version": "1.2.0",
            "_view_name": "LayoutView",
            "align_content": null,
            "align_items": null,
            "align_self": null,
            "border": null,
            "bottom": null,
            "display": null,
            "flex": null,
            "flex_flow": null,
            "grid_area": null,
            "grid_auto_columns": null,
            "grid_auto_flow": null,
            "grid_auto_rows": null,
            "grid_column": null,
            "grid_gap": null,
            "grid_row": null,
            "grid_template_areas": null,
            "grid_template_columns": null,
            "grid_template_rows": null,
            "height": null,
            "justify_content": null,
            "justify_items": null,
            "left": null,
            "margin": null,
            "max_height": null,
            "max_width": null,
            "min_height": null,
            "min_width": null,
            "object_fit": null,
            "object_position": null,
            "order": null,
            "overflow": null,
            "overflow_x": null,
            "overflow_y": null,
            "padding": null,
            "right": null,
            "top": null,
            "visibility": null,
            "width": null
          }
        },
        "8f83dd082c12406fa3396846fa3f40cf": {
          "model_module": "@jupyter-widgets/controls",
          "model_module_version": "1.5.0",
          "model_name": "DescriptionStyleModel",
          "state": {
            "_model_module": "@jupyter-widgets/controls",
            "_model_module_version": "1.5.0",
            "_model_name": "DescriptionStyleModel",
            "_view_count": null,
            "_view_module": "@jupyter-widgets/base",
            "_view_module_version": "1.2.0",
            "_view_name": "StyleView",
            "description_width": ""
          }
        },
        "9d68f6caba744bb1b56d5beb70c1553b": {
          "model_module": "@jupyter-widgets/controls",
          "model_module_version": "1.5.0",
          "model_name": "HBoxModel",
          "state": {
            "_dom_classes": [],
            "_model_module": "@jupyter-widgets/controls",
            "_model_module_version": "1.5.0",
            "_model_name": "HBoxModel",
            "_view_count": null,
            "_view_module": "@jupyter-widgets/controls",
            "_view_module_version": "1.5.0",
            "_view_name": "HBoxView",
            "box_style": "",
            "children": [
              "IPY_MODEL_8537c854069349eab163683aecc77559",
              "IPY_MODEL_4bd8beef2e3e4325a41989aba5c02228",
              "IPY_MODEL_10603f8ff7f94d6fabfaa979c5f5b8c4"
            ],
            "layout": "IPY_MODEL_8a8b996608244def8314c0c2ccf531dd"
          }
        },
        "a9f2ed5bd1b447c2bb47442c69afb91b": {
          "model_module": "@jupyter-widgets/controls",
          "model_module_version": "1.5.0",
          "model_name": "DescriptionStyleModel",
          "state": {
            "_model_module": "@jupyter-widgets/controls",
            "_model_module_version": "1.5.0",
            "_model_name": "DescriptionStyleModel",
            "_view_count": null,
            "_view_module": "@jupyter-widgets/base",
            "_view_module_version": "1.2.0",
            "_view_name": "StyleView",
            "description_width": ""
          }
        },
        "b98981f330f8455e979a8ac017f01872": {
          "model_module": "@jupyter-widgets/controls",
          "model_module_version": "1.5.0",
          "model_name": "ProgressStyleModel",
          "state": {
            "_model_module": "@jupyter-widgets/controls",
            "_model_module_version": "1.5.0",
            "_model_name": "ProgressStyleModel",
            "_view_count": null,
            "_view_module": "@jupyter-widgets/base",
            "_view_module_version": "1.2.0",
            "_view_name": "StyleView",
            "bar_color": null,
            "description_width": ""
          }
        },
        "c723097c104c4493a679a1c397128188": {
          "model_module": "@jupyter-widgets/base",
          "model_module_version": "1.2.0",
          "model_name": "LayoutModel",
          "state": {
            "_model_module": "@jupyter-widgets/base",
            "_model_module_version": "1.2.0",
            "_model_name": "LayoutModel",
            "_view_count": null,
            "_view_module": "@jupyter-widgets/base",
            "_view_module_version": "1.2.0",
            "_view_name": "LayoutView",
            "align_content": null,
            "align_items": null,
            "align_self": null,
            "border": null,
            "bottom": null,
            "display": null,
            "flex": null,
            "flex_flow": null,
            "grid_area": null,
            "grid_auto_columns": null,
            "grid_auto_flow": null,
            "grid_auto_rows": null,
            "grid_column": null,
            "grid_gap": null,
            "grid_row": null,
            "grid_template_areas": null,
            "grid_template_columns": null,
            "grid_template_rows": null,
            "height": null,
            "justify_content": null,
            "justify_items": null,
            "left": null,
            "margin": null,
            "max_height": null,
            "max_width": null,
            "min_height": null,
            "min_width": null,
            "object_fit": null,
            "object_position": null,
            "order": null,
            "overflow": null,
            "overflow_x": null,
            "overflow_y": null,
            "padding": null,
            "right": null,
            "top": null,
            "visibility": null,
            "width": null
          }
        },
        "d46488c887704f929dabf6063c65168b": {
          "model_module": "@jupyter-widgets/base",
          "model_module_version": "1.2.0",
          "model_name": "LayoutModel",
          "state": {
            "_model_module": "@jupyter-widgets/base",
            "_model_module_version": "1.2.0",
            "_model_name": "LayoutModel",
            "_view_count": null,
            "_view_module": "@jupyter-widgets/base",
            "_view_module_version": "1.2.0",
            "_view_name": "LayoutView",
            "align_content": null,
            "align_items": null,
            "align_self": null,
            "border": null,
            "bottom": null,
            "display": null,
            "flex": null,
            "flex_flow": null,
            "grid_area": null,
            "grid_auto_columns": null,
            "grid_auto_flow": null,
            "grid_auto_rows": null,
            "grid_column": null,
            "grid_gap": null,
            "grid_row": null,
            "grid_template_areas": null,
            "grid_template_columns": null,
            "grid_template_rows": null,
            "height": null,
            "justify_content": null,
            "justify_items": null,
            "left": null,
            "margin": null,
            "max_height": null,
            "max_width": null,
            "min_height": null,
            "min_width": null,
            "object_fit": null,
            "object_position": null,
            "order": null,
            "overflow": null,
            "overflow_x": null,
            "overflow_y": null,
            "padding": null,
            "right": null,
            "top": null,
            "visibility": null,
            "width": null
          }
        },
        "d473bd2a26234d11b9e80d2f5fcdeb11": {
          "model_module": "@jupyter-widgets/controls",
          "model_module_version": "1.5.0",
          "model_name": "DescriptionStyleModel",
          "state": {
            "_model_module": "@jupyter-widgets/controls",
            "_model_module_version": "1.5.0",
            "_model_name": "DescriptionStyleModel",
            "_view_count": null,
            "_view_module": "@jupyter-widgets/base",
            "_view_module_version": "1.2.0",
            "_view_name": "StyleView",
            "description_width": ""
          }
        },
        "d9e5b2aa2d2d45ad82511ce41b26aabc": {
          "model_module": "@jupyter-widgets/base",
          "model_module_version": "1.2.0",
          "model_name": "LayoutModel",
          "state": {
            "_model_module": "@jupyter-widgets/base",
            "_model_module_version": "1.2.0",
            "_model_name": "LayoutModel",
            "_view_count": null,
            "_view_module": "@jupyter-widgets/base",
            "_view_module_version": "1.2.0",
            "_view_name": "LayoutView",
            "align_content": null,
            "align_items": null,
            "align_self": null,
            "border": null,
            "bottom": null,
            "display": null,
            "flex": null,
            "flex_flow": null,
            "grid_area": null,
            "grid_auto_columns": null,
            "grid_auto_flow": null,
            "grid_auto_rows": null,
            "grid_column": null,
            "grid_gap": null,
            "grid_row": null,
            "grid_template_areas": null,
            "grid_template_columns": null,
            "grid_template_rows": null,
            "height": null,
            "justify_content": null,
            "justify_items": null,
            "left": null,
            "margin": null,
            "max_height": null,
            "max_width": null,
            "min_height": null,
            "min_width": null,
            "object_fit": null,
            "object_position": null,
            "order": null,
            "overflow": null,
            "overflow_x": null,
            "overflow_y": null,
            "padding": null,
            "right": null,
            "top": null,
            "visibility": null,
            "width": null
          }
        },
        "ed745f4a911848cca6c68bf852ccee99": {
          "model_module": "@jupyter-widgets/controls",
          "model_module_version": "1.5.0",
          "model_name": "HTMLModel",
          "state": {
            "_dom_classes": [],
            "_model_module": "@jupyter-widgets/controls",
            "_model_module_version": "1.5.0",
            "_model_name": "HTMLModel",
            "_view_count": null,
            "_view_module": "@jupyter-widgets/controls",
            "_view_module_version": "1.5.0",
            "_view_name": "HTMLView",
            "description": "",
            "description_tooltip": null,
            "layout": "IPY_MODEL_62b03af1b29c4f1884c26cb43a431ea2",
            "placeholder": "​",
            "style": "IPY_MODEL_8f83dd082c12406fa3396846fa3f40cf",
            "value": " 830/830 [00:00&lt;00:00, 12475.98it/s]"
          }
        }
      }
    }
  },
  "nbformat": 4,
  "nbformat_minor": 0
}
