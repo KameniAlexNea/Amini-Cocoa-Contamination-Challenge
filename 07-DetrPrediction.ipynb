{
 "cells": [
  {
   "cell_type": "code",
   "execution_count": null,
   "id": "4bf1fc39",
   "metadata": {},
   "outputs": [],
   "source": [
    "import pandas as pd\n",
    "import numpy as np\n",
    "from PIL import Image, ExifTags\n",
    "import torch\n",
    "from tqdm import tqdm\n",
    "\n",
    "from transformers import AutoModelForObjectDetection, AutoImageProcessor"
   ]
  },
  {
   "cell_type": "code",
   "execution_count": null,
   "id": "6d4478a8",
   "metadata": {},
   "outputs": [],
   "source": [
    "PATH = \"logs/checkpoint-19208\"\n",
    "model = AutoModelForObjectDetection.from_pretrained(PATH)\n",
    "image_processor = AutoImageProcessor.from_pretrained(PATH)\n",
    "model.eval()\n",
    "device = torch.device(\"cuda\" if torch.cuda.is_available() else \"cpu\")\n",
    "model.to(device)\n",
    "\n",
    "for flag in ExifTags.TAGS.keys():\n",
    "\tif ExifTags.TAGS[flag] == \"Orientation\":\n",
    "\t\tbreak\n",
    "\n",
    "\n",
    "def load_image(image_path):\n",
    "\timage = Image.open(image_path)\n",
    "\n",
    "\texif = image._getexif()\n",
    "\tif exif is not None:\n",
    "\t\torientation = exif.get(flag, None)\n",
    "\t\tif orientation == 3:\n",
    "\t\t\timage = image.rotate(180, expand=True)\n",
    "\t\telif orientation == 6:\n",
    "\t\t\timage = image.rotate(270, expand=True)\n",
    "\t\telif orientation == 8:\n",
    "\t\t\timage = image.rotate(90, expand=True)\n",
    "\treturn image"
   ]
  },
  {
   "cell_type": "code",
   "execution_count": null,
   "id": "033f9612",
   "metadata": {},
   "outputs": [],
   "source": [
    "from glob import glob\n",
    "\n",
    "files = glob(\"dataset/images/val/*\")\n",
    "len(files)"
   ]
  },
  {
   "cell_type": "code",
   "execution_count": null,
   "id": "4713bd37",
   "metadata": {},
   "outputs": [],
   "source": [
    "load_image(files[0])"
   ]
  },
  {
   "cell_type": "code",
   "execution_count": null,
   "id": "279fd901",
   "metadata": {},
   "outputs": [],
   "source": [
    "import matplotlib.pyplot as plt\n",
    "import matplotlib.patches as patches\n",
    "from torchvision.ops import nms\n",
    "\n",
    "# Make predictions with thresholds and NMS\n",
    "def predict_image(image_path, confidence_threshold=0.5, iou_threshold=0.5):\n",
    "\t# Load and process image\n",
    "\timage = load_image(image_path)\n",
    "\tinputs = image_processor(images=image, return_tensors=\"pt\").to(device)\n",
    "\t\n",
    "\t# Make prediction\n",
    "\twith torch.no_grad():\n",
    "\t\toutputs = model(**inputs)\n",
    "\t\n",
    "\t# Process outputs with confidence threshold\n",
    "\ttarget_sizes = torch.tensor([image.size[::-1]]).to(device)\n",
    "\tresults = image_processor.post_process_object_detection(\n",
    "\t\toutputs, \n",
    "\t\tthreshold=confidence_threshold,\n",
    "\t\ttarget_sizes=target_sizes\n",
    "\t)[0]\n",
    "\t\n",
    "\t# Apply NMS if needed\n",
    "\tboxes = results['boxes']\n",
    "\tscores = results['scores']\n",
    "\tlabels = results['labels']\n",
    "\t\n",
    "\t# Apply NMS for each class\n",
    "\tkeep_indices = []\n",
    "\tfor label in labels.unique():\n",
    "\t\tclass_mask = (labels == label)\n",
    "\t\tclass_indices = torch.where(class_mask)[0]\n",
    "\t\tclass_boxes = boxes[class_mask]\n",
    "\t\tclass_scores = scores[class_mask]\n",
    "\t\t\n",
    "\t\t# Apply NMS\n",
    "\t\tclass_keep = nms(class_boxes, class_scores, iou_threshold)\n",
    "\t\tkeep_indices.extend(class_indices[class_keep].tolist())\n",
    "\t\n",
    "\t# Extract final detections\n",
    "\tfinal_boxes = boxes[keep_indices].cpu().numpy()\n",
    "\tfinal_scores = scores[keep_indices].cpu().numpy()\n",
    "\tfinal_labels = labels[keep_indices].cpu().numpy()\n",
    "\t\n",
    "\treturn {\n",
    "\t\t'image': image,\n",
    "\t\t'boxes': final_boxes,\n",
    "\t\t'scores': final_scores,\n",
    "\t\t'labels': final_labels\n",
    "\t}\n",
    "\n",
    "# Plot prediction results\n",
    "def plot_predictions(results, figsize=(12, 10)):\n",
    "\timage = results['image']\n",
    "\tboxes = results['boxes']\n",
    "\tscores = results['scores']\n",
    "\tlabels = results['labels']\n",
    "\t\n",
    "\t# Get class names\n",
    "\tid2label = model.config.id2label\n",
    "\t\n",
    "\t# Create figure and axes\n",
    "\tfig, ax = plt.subplots(figsize=figsize)\n",
    "\tax.imshow(image)\n",
    "\t\n",
    "\t# Assign different colors to different classes\n",
    "\tcolors = plt.cm.rainbow(np.linspace(0, 1, len(model.config.id2label)))\n",
    "\t\n",
    "\t# Plot each detection\n",
    "\tfor box, score, label_id in zip(boxes, scores, labels):\n",
    "\t\t# Get color for this class\n",
    "\t\tcolor = colors[int(label_id) % len(colors)]\n",
    "\t\t\n",
    "\t\t# Create rectangle\n",
    "\t\tx1, y1, x2, y2 = box\n",
    "\t\trect = patches.Rectangle(\n",
    "\t\t\t(x1, y1), x2-x1, y2-y1, \n",
    "\t\t\tlinewidth=2, \n",
    "\t\t\tedgecolor=color, \n",
    "\t\t\tfacecolor='none'\n",
    "\t\t)\n",
    "\t\tax.add_patch(rect)\n",
    "\t\t\n",
    "\t\t# Add label and score\n",
    "\t\tlabel_name = id2label[int(label_id)]\n",
    "\t\tax.text(\n",
    "\t\t\tx1, y1-5, \n",
    "\t\t\tf'{label_name}: {score:.2f}',\n",
    "\t\t\tcolor='white', \n",
    "\t\t\tfontsize=10,\n",
    "\t\t\tbbox=dict(facecolor=color, alpha=0.7)\n",
    "\t\t)\n",
    "\t\n",
    "\tplt.axis('off')\n",
    "\tplt.tight_layout()\n",
    "\treturn fig"
   ]
  },
  {
   "cell_type": "code",
   "execution_count": null,
   "id": "ccf89277",
   "metadata": {},
   "outputs": [],
   "source": [
    "# Run prediction and visualization on a single image\n",
    "def predict_and_visualize(image_path, confidence_threshold=0.5, iou_threshold=0.5):\n",
    "\tresults = predict_image(\n",
    "\t\timage_path, \n",
    "\t\tconfidence_threshold=confidence_threshold, \n",
    "\t\tiou_threshold=iou_threshold\n",
    "\t)\n",
    "\tfig = plot_predictions(results)\n",
    "\tplt.title(f'Predictions for {image_path.split(\"/\")[-1]}')\n",
    "\tplt.show()\n",
    "\treturn results\n",
    "\n",
    "# Process multiple images\n",
    "def process_multiple_images(image_paths, confidence_threshold=0.5, iou_threshold=0.5, max_images=5):\n",
    "\t# Process up to max_images\n",
    "\tpaths_to_process = image_paths[:min(max_images, len(image_paths))]\n",
    "\t\n",
    "\tfor image_path in tqdm(paths_to_process):\n",
    "\t\tpredict_and_visualize(\n",
    "\t\t\timage_path, \n",
    "\t\t\tconfidence_threshold=confidence_threshold,\n",
    "\t\t\tiou_threshold=iou_threshold\n",
    "\t\t)"
   ]
  },
  {
   "cell_type": "code",
   "execution_count": null,
   "id": "a70a533a",
   "metadata": {},
   "outputs": [],
   "source": [
    "predict_and_visualize(files[0], confidence_threshold=0.1, iou_threshold=0.7)"
   ]
  },
  {
   "cell_type": "code",
   "execution_count": null,
   "id": "d010d835",
   "metadata": {},
   "outputs": [],
   "source": [
    "predict_and_visualize(files[1], confidence_threshold=0.3, iou_threshold=0.7)"
   ]
  },
  {
   "cell_type": "code",
   "execution_count": null,
   "id": "5d5c1284",
   "metadata": {},
   "outputs": [],
   "source": [
    "from ipywidgets import interact, FloatSlider\n",
    "\n",
    "# Interactive prediction with adjustable thresholds\n",
    "def interactive_prediction(image_path):\n",
    "\tdef predict_with_thresholds(confidence_threshold, iou_threshold):\n",
    "\t\tpredict_and_visualize(\n",
    "\t\t\timage_path, \n",
    "\t\t\tconfidence_threshold=confidence_threshold,\n",
    "\t\t\tiou_threshold=iou_threshold\n",
    "\t\t)\n",
    "\t\n",
    "\t# Create interactive sliders\n",
    "\tinteract(\n",
    "\t\tpredict_with_thresholds,\n",
    "\t\tconfidence_threshold=FloatSlider(min=0.1, max=0.9, step=0.1, value=0.5),\n",
    "\t\tiou_threshold=FloatSlider(min=0.1, max=0.9, step=0.1, value=0.5)\n",
    "\t)\n",
    "\n",
    "# Example usage\n",
    "# Try with a single image\n",
    "sample_image_path = files[0]\n",
    "# predict_and_visualize(sample_image_path, confidence_threshold=0.5, iou_threshold=0.5)\n",
    "\n",
    "# Try interactive prediction\n",
    "interactive_prediction(files[0])\n",
    "\n",
    "# Process multiple images\n",
    "# process_multiple_images(files, confidence_threshold=0.5, iou_threshold=0.5, max_images=3)"
   ]
  },
  {
   "cell_type": "code",
   "execution_count": null,
   "id": "dc48be09",
   "metadata": {},
   "outputs": [],
   "source": [
    "interactive_prediction(files[10])"
   ]
  },
  {
   "cell_type": "code",
   "execution_count": null,
   "id": "16a3ebc4",
   "metadata": {},
   "outputs": [],
   "source": [
    "from torchvision.ops import nms\n",
    "\n",
    "\n",
    "# Make predictions with thresholds and NMS\n",
    "def predict_images(image_paths, confidence_threshold=0.5, iou_threshold=0.5):\n",
    "    # Load and process image\n",
    "    images = [load_image(image_path) for image_path in image_paths]\n",
    "    inputs = image_processor(images=images, return_tensors=\"pt\").to(device)\n",
    "\n",
    "    # Make prediction\n",
    "    with torch.no_grad():\n",
    "        outputs = model(**inputs)\n",
    "\n",
    "    # Process outputs with confidence threshold\n",
    "    target_sizes = torch.tensor([image.size[::-1] for image in images]).to(device)\n",
    "    batch_results = image_processor.post_process_object_detection(\n",
    "        outputs, threshold=confidence_threshold, target_sizes=target_sizes\n",
    "    )\n",
    "\n",
    "    for results, image in zip(batch_results, images):\n",
    "        # Apply NMS if needed\n",
    "        boxes = results[\"boxes\"]\n",
    "        scores = results[\"scores\"]\n",
    "        labels = results[\"labels\"]\n",
    "\n",
    "        # Apply NMS for each class\n",
    "        keep_indices = []\n",
    "        # for label in labels.unique():\n",
    "        # \tclass_mask = (labels == label)\n",
    "        # \tclass_indices = torch.where(class_mask)[0]\n",
    "        # \tclass_boxes = boxes[class_mask]\n",
    "        # \tclass_scores = scores[class_mask]\n",
    "\n",
    "        # Apply NMS\n",
    "        class_keep = nms(boxes, scores, iou_threshold)\n",
    "        keep_indices = class_keep.tolist()\n",
    "\n",
    "        # Extract final detections\n",
    "        final_boxes = boxes[keep_indices].cpu().numpy()\n",
    "        final_scores = scores[keep_indices].cpu().numpy()\n",
    "        final_labels = labels[keep_indices].cpu().numpy()\n",
    "\n",
    "        yield {\n",
    "            \"image\": image,\n",
    "            \"boxes\": final_boxes,\n",
    "            \"scores\": final_scores,\n",
    "            \"labels\": final_labels,\n",
    "        }"
   ]
  },
  {
   "cell_type": "code",
   "execution_count": null,
   "id": "067b47c8",
   "metadata": {},
   "outputs": [],
   "source": [
    "predictions = list(predict_images([files[0], files[1]], confidence_threshold=0.1, iou_threshold=0.3))\n",
    "\n",
    "len(predictions)"
   ]
  },
  {
   "cell_type": "code",
   "execution_count": null,
   "id": "553816ba",
   "metadata": {},
   "outputs": [],
   "source": [
    "predictions[0]"
   ]
  },
  {
   "cell_type": "code",
   "execution_count": null,
   "id": "e2c0edfd",
   "metadata": {},
   "outputs": [],
   "source": [
    "files[:2]"
   ]
  },
  {
   "cell_type": "code",
   "execution_count": null,
   "id": "d42c4af7",
   "metadata": {},
   "outputs": [],
   "source": [
    "batch_size = 16\n",
    "predictions = [\n",
    "    list(predict_images(\n",
    "        files[i : i + batch_size], confidence_threshold=0.05, iou_threshold=0.3\n",
    "    ))\n",
    "    for i in tqdm(range(0, len(files), batch_size))\n",
    "]"
   ]
  },
  {
   "cell_type": "code",
   "execution_count": null,
   "id": "6e8f00cd",
   "metadata": {},
   "outputs": [],
   "source": [
    "predictions = sum(predictions, start=[])\n",
    "\n",
    "len(predictions)"
   ]
  },
  {
   "cell_type": "code",
   "execution_count": null,
   "id": "904e10ff",
   "metadata": {},
   "outputs": [],
   "source": [
    "predictions[0]"
   ]
  },
  {
   "cell_type": "code",
   "execution_count": null,
   "id": "c8242839",
   "metadata": {},
   "outputs": [],
   "source": [
    "type(predictions[0][\"boxes\"])"
   ]
  },
  {
   "cell_type": "code",
   "execution_count": null,
   "id": "f1ee43c3",
   "metadata": {},
   "outputs": [],
   "source": [
    "label2id = {'anthracnose': 0, 'cssvd': 1, 'healthy': 2}\n",
    "id2label = {v: k for k, v in label2id.items()}"
   ]
  },
  {
   "cell_type": "code",
   "execution_count": null,
   "id": "f071f5f9",
   "metadata": {},
   "outputs": [],
   "source": [
    "import pandas as pd\n",
    "import os\n",
    "\n",
    "# Convert predictions into a DataFrame\n",
    "data = []\n",
    "for file, prediction in zip(files, predictions):\n",
    "\tfor box, score, label in zip(prediction['boxes'], prediction['scores'], prediction['labels']):\n",
    "\t\tdata.append({\n",
    "\t\t\t'Image_ID': os.path.basename(file),\n",
    "\t\t\t# 'box': box.tolist(),\n",
    "\t\t\t'confidence': float(score),\n",
    "\t\t\t'class_id': int(label),\n",
    "\t\t\t'class': id2label[int(label)],\n",
    "\t\t\t\"x_min\": float(box[0]),\n",
    "\t\t\t\"y_min\": float(box[1]),\n",
    "\t\t\t\"x_max\": float(box[2]),\n",
    "\t\t\t\"y_max\": float(box[3]),\n",
    "\t\t})\n",
    "\n",
    "df_predictions = pd.DataFrame(data)\n",
    "df_predictions.head()"
   ]
  },
  {
   "cell_type": "code",
   "execution_count": null,
   "id": "0189aa6f",
   "metadata": {},
   "outputs": [],
   "source": [
    "df_predictions[\"Image_ID\"].value_counts().describe()"
   ]
  },
  {
   "cell_type": "code",
   "execution_count": null,
   "id": "82a09921",
   "metadata": {},
   "outputs": [],
   "source": [
    "df_predictions.to_csv(\"dataset/validations/predictions.csv\", index=False)"
   ]
  },
  {
   "cell_type": "code",
   "execution_count": null,
   "id": "bd94ce52",
   "metadata": {},
   "outputs": [],
   "source": []
  }
 ],
 "metadata": {
  "kernelspec": {
   "display_name": ".venv",
   "language": "python",
   "name": "python3"
  },
  "language_info": {
   "codemirror_mode": {
    "name": "ipython",
    "version": 3
   },
   "file_extension": ".py",
   "mimetype": "text/x-python",
   "name": "python",
   "nbconvert_exporter": "python",
   "pygments_lexer": "ipython3",
   "version": "3.10.13"
  }
 },
 "nbformat": 4,
 "nbformat_minor": 5
}
