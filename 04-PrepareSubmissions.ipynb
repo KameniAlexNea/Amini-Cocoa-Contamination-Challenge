{
 "cells": [
  {
   "cell_type": "code",
   "execution_count": 1,
   "metadata": {},
   "outputs": [],
   "source": [
    "# Import libraries\n",
    "import pandas as pd\n",
    "import os\n",
    "from pathlib import Path\n",
    "from tqdm import tqdm\n",
    "import yaml\n",
    "import matplotlib.pyplot as plt\n",
    "import numpy as np\n",
    "from PIL import Image"
   ]
  },
  {
   "cell_type": "code",
   "execution_count": 2,
   "metadata": {},
   "outputs": [],
   "source": [
    "LEARNED_THR = 0.01\n",
    "PREDICTION_PATH = \"dataset/predictions/02-predictions.csv\""
   ]
  },
  {
   "cell_type": "code",
   "execution_count": 3,
   "metadata": {},
   "outputs": [
    {
     "data": {
      "text/html": [
       "<div>\n",
       "<style scoped>\n",
       "    .dataframe tbody tr th:only-of-type {\n",
       "        vertical-align: middle;\n",
       "    }\n",
       "\n",
       "    .dataframe tbody tr th {\n",
       "        vertical-align: top;\n",
       "    }\n",
       "\n",
       "    .dataframe thead th {\n",
       "        text-align: right;\n",
       "    }\n",
       "</style>\n",
       "<table border=\"1\" class=\"dataframe\">\n",
       "  <thead>\n",
       "    <tr style=\"text-align: right;\">\n",
       "      <th></th>\n",
       "      <th>Image_ID</th>\n",
       "      <th>class</th>\n",
       "      <th>confidence</th>\n",
       "      <th>ymin</th>\n",
       "      <th>xmin</th>\n",
       "      <th>ymax</th>\n",
       "      <th>xmax</th>\n",
       "    </tr>\n",
       "  </thead>\n",
       "  <tbody>\n",
       "    <tr>\n",
       "      <th>44712</th>\n",
       "      <td>ID_yFxM4p.jpg</td>\n",
       "      <td>healthy</td>\n",
       "      <td>0.014316</td>\n",
       "      <td>6.191345</td>\n",
       "      <td>2116.682861</td>\n",
       "      <td>1238.720825</td>\n",
       "      <td>2448.000000</td>\n",
       "    </tr>\n",
       "    <tr>\n",
       "      <th>39434</th>\n",
       "      <td>ID_l7Rbyv.jpeg</td>\n",
       "      <td>cssvd</td>\n",
       "      <td>0.000793</td>\n",
       "      <td>64.596001</td>\n",
       "      <td>2509.230957</td>\n",
       "      <td>1260.388550</td>\n",
       "      <td>3024.000000</td>\n",
       "    </tr>\n",
       "    <tr>\n",
       "      <th>28411</th>\n",
       "      <td>ID_Fj6l3x.jpg</td>\n",
       "      <td>cssvd</td>\n",
       "      <td>0.306095</td>\n",
       "      <td>0.079308</td>\n",
       "      <td>652.704163</td>\n",
       "      <td>514.910645</td>\n",
       "      <td>959.039612</td>\n",
       "    </tr>\n",
       "    <tr>\n",
       "      <th>38820</th>\n",
       "      <td>ID_Qxdm0a.jpeg</td>\n",
       "      <td>anthracnose</td>\n",
       "      <td>0.745755</td>\n",
       "      <td>370.932831</td>\n",
       "      <td>503.871155</td>\n",
       "      <td>4010.327637</td>\n",
       "      <td>2143.828857</td>\n",
       "    </tr>\n",
       "    <tr>\n",
       "      <th>6544</th>\n",
       "      <td>ID_kLKJFt.jpg</td>\n",
       "      <td>healthy</td>\n",
       "      <td>0.006553</td>\n",
       "      <td>961.096191</td>\n",
       "      <td>2.923368</td>\n",
       "      <td>1078.991333</td>\n",
       "      <td>136.477936</td>\n",
       "    </tr>\n",
       "  </tbody>\n",
       "</table>\n",
       "</div>"
      ],
      "text/plain": [
       "             Image_ID        class  confidence        ymin         xmin  \\\n",
       "44712   ID_yFxM4p.jpg      healthy    0.014316    6.191345  2116.682861   \n",
       "39434  ID_l7Rbyv.jpeg        cssvd    0.000793   64.596001  2509.230957   \n",
       "28411   ID_Fj6l3x.jpg        cssvd    0.306095    0.079308   652.704163   \n",
       "38820  ID_Qxdm0a.jpeg  anthracnose    0.745755  370.932831   503.871155   \n",
       "6544    ID_kLKJFt.jpg      healthy    0.006553  961.096191     2.923368   \n",
       "\n",
       "              ymax         xmax  \n",
       "44712  1238.720825  2448.000000  \n",
       "39434  1260.388550  3024.000000  \n",
       "28411   514.910645   959.039612  \n",
       "38820  4010.327637  2143.828857  \n",
       "6544   1078.991333   136.477936  "
      ]
     },
     "execution_count": 3,
     "metadata": {},
     "output_type": "execute_result"
    }
   ],
   "source": [
    "PREDICTION_IMAGE_PATH = Path(\"dataset/images/test\")\n",
    "\n",
    "test_df = pd.read_csv(PREDICTION_PATH)\n",
    "test_df.sample(5)"
   ]
  },
  {
   "cell_type": "code",
   "execution_count": 4,
   "metadata": {},
   "outputs": [
    {
     "data": {
      "text/plain": [
       "1626"
      ]
     },
     "execution_count": 4,
     "metadata": {},
     "output_type": "execute_result"
    }
   ],
   "source": [
    "files = list(PREDICTION_IMAGE_PATH.glob(\"*.*\"))\n",
    "len(files)"
   ]
  },
  {
   "cell_type": "code",
   "execution_count": 5,
   "metadata": {},
   "outputs": [
    {
     "name": "stdout",
     "output_type": "stream",
     "text": [
      "Size 48780\n"
     ]
    },
    {
     "data": {
      "text/plain": [
       "13130"
      ]
     },
     "execution_count": 5,
     "metadata": {},
     "output_type": "execute_result"
    }
   ],
   "source": [
    "print(\"Size\", len(test_df))\n",
    "test_df: pd.DataFrame = test_df[test_df[\"confidence\"] > LEARNED_THR]\n",
    "len(test_df)"
   ]
  },
  {
   "cell_type": "code",
   "execution_count": 6,
   "metadata": {},
   "outputs": [
    {
     "data": {
      "text/plain": [
       "(1626, 1626)"
      ]
     },
     "execution_count": 6,
     "metadata": {},
     "output_type": "execute_result"
    }
   ],
   "source": [
    "test_df[\"Image_ID\"].nunique(), len(files)"
   ]
  },
  {
   "cell_type": "code",
   "execution_count": 7,
   "metadata": {},
   "outputs": [
    {
     "data": {
      "text/plain": [
       "Image_ID      0\n",
       "class         0\n",
       "confidence    0\n",
       "ymin          0\n",
       "xmin          0\n",
       "ymax          0\n",
       "xmax          0\n",
       "dtype: int64"
      ]
     },
     "execution_count": 7,
     "metadata": {},
     "output_type": "execute_result"
    }
   ],
   "source": [
    "test_df.isna().sum()"
   ]
  },
  {
   "cell_type": "code",
   "execution_count": 8,
   "metadata": {},
   "outputs": [
    {
     "data": {
      "text/plain": [
       "[{'Image_ID': 'ID_cWEAQI.jpeg',\n",
       "  'class': 'healthy',\n",
       "  'confidence': 0.7259970903396606,\n",
       "  'ymin': 65.49620056152344,\n",
       "  'xmin': 3.566622495651245,\n",
       "  'ymax': 3809.9296875,\n",
       "  'xmax': 1677.3477783203125},\n",
       " {'Image_ID': 'ID_cWEAQI.jpeg',\n",
       "  'class': 'healthy',\n",
       "  'confidence': 0.0873891338706016,\n",
       "  'ymin': 187.33644104003903,\n",
       "  'xmin': 5.244194984436035,\n",
       "  'ymax': 1441.0733642578125,\n",
       "  'xmax': 472.2084655761719},\n",
       " {'Image_ID': 'ID_cWEAQI.jpeg',\n",
       "  'class': 'healthy',\n",
       "  'confidence': 0.0120519967749714,\n",
       "  'ymin': 245.3444976806641,\n",
       "  'xmin': 11.928021430969238,\n",
       "  'ymax': 1187.61376953125,\n",
       "  'xmax': 593.2365112304688},\n",
       " {'Image_ID': 'ID_NtqErb.jpg',\n",
       "  'class': 'cssvd',\n",
       "  'confidence': 0.8039342761039734,\n",
       "  'ymin': 61.32293701171875,\n",
       "  'xmin': 1.121673583984375,\n",
       "  'ymax': 1259.05419921875,\n",
       "  'xmax': 955.8526611328124},\n",
       " {'Image_ID': 'ID_NtqErb.jpg',\n",
       "  'class': 'cssvd',\n",
       "  'confidence': 0.0270006489008665,\n",
       "  'ymin': 0.03814697265625,\n",
       "  'xmin': 0.0,\n",
       "  'ymax': 870.3853759765625,\n",
       "  'xmax': 127.37220001220705}]"
      ]
     },
     "execution_count": 8,
     "metadata": {},
     "output_type": "execute_result"
    }
   ],
   "source": [
    "test_records = test_df.to_dict(orient=\"records\")\n",
    "\n",
    "test_records[:5]"
   ]
  },
  {
   "cell_type": "code",
   "execution_count": 9,
   "metadata": {},
   "outputs": [
    {
     "data": {
      "text/plain": [
       "['ID_cWEAQI.jpeg', 'ID_NtqErb.jpg']"
      ]
     },
     "execution_count": 9,
     "metadata": {},
     "output_type": "execute_result"
    }
   ],
   "source": [
    "file_id = [i.name for i in files]\n",
    "file_id[:2]"
   ]
  },
  {
   "cell_type": "code",
   "execution_count": 10,
   "metadata": {},
   "outputs": [],
   "source": [
    "file_okay = set(test_df[\"Image_ID\"].values)\n",
    "file_nokay = set(file_id) - file_okay\n",
    "\n",
    "for f in file_nokay:\n",
    "    test_records.append(\n",
    "\t\t{\n",
    "\t\t\t\"Image_ID\": f,\n",
    "\t\t}\n",
    "\t)\n"
   ]
  },
  {
   "cell_type": "code",
   "execution_count": 11,
   "metadata": {},
   "outputs": [
    {
     "data": {
      "text/html": [
       "<div>\n",
       "<style scoped>\n",
       "    .dataframe tbody tr th:only-of-type {\n",
       "        vertical-align: middle;\n",
       "    }\n",
       "\n",
       "    .dataframe tbody tr th {\n",
       "        vertical-align: top;\n",
       "    }\n",
       "\n",
       "    .dataframe thead th {\n",
       "        text-align: right;\n",
       "    }\n",
       "</style>\n",
       "<table border=\"1\" class=\"dataframe\">\n",
       "  <thead>\n",
       "    <tr style=\"text-align: right;\">\n",
       "      <th></th>\n",
       "      <th>Image_ID</th>\n",
       "      <th>class</th>\n",
       "      <th>confidence</th>\n",
       "      <th>ymin</th>\n",
       "      <th>xmin</th>\n",
       "      <th>ymax</th>\n",
       "      <th>xmax</th>\n",
       "    </tr>\n",
       "  </thead>\n",
       "  <tbody>\n",
       "    <tr>\n",
       "      <th>11791</th>\n",
       "      <td>ID_EmeUOz.jpg</td>\n",
       "      <td>healthy</td>\n",
       "      <td>0.316909</td>\n",
       "      <td>18.683371</td>\n",
       "      <td>242.551819</td>\n",
       "      <td>126.648506</td>\n",
       "      <td>375.446136</td>\n",
       "    </tr>\n",
       "    <tr>\n",
       "      <th>9639</th>\n",
       "      <td>ID_ucTw2L.jpg</td>\n",
       "      <td>cssvd</td>\n",
       "      <td>0.493242</td>\n",
       "      <td>986.277161</td>\n",
       "      <td>34.390137</td>\n",
       "      <td>2485.474121</td>\n",
       "      <td>2239.309082</td>\n",
       "    </tr>\n",
       "    <tr>\n",
       "      <th>7394</th>\n",
       "      <td>ID_hdsYyk.jpg</td>\n",
       "      <td>cssvd</td>\n",
       "      <td>0.017045</td>\n",
       "      <td>758.452271</td>\n",
       "      <td>0.060387</td>\n",
       "      <td>1279.797241</td>\n",
       "      <td>191.905548</td>\n",
       "    </tr>\n",
       "    <tr>\n",
       "      <th>13030</th>\n",
       "      <td>ID_vQJj2Y.jpg</td>\n",
       "      <td>healthy</td>\n",
       "      <td>0.086768</td>\n",
       "      <td>755.738831</td>\n",
       "      <td>228.441772</td>\n",
       "      <td>2125.343506</td>\n",
       "      <td>1314.573242</td>\n",
       "    </tr>\n",
       "    <tr>\n",
       "      <th>974</th>\n",
       "      <td>ID_iGN3un.jpg</td>\n",
       "      <td>anthracnose</td>\n",
       "      <td>0.010048</td>\n",
       "      <td>0.194641</td>\n",
       "      <td>748.374512</td>\n",
       "      <td>498.772644</td>\n",
       "      <td>1536.000000</td>\n",
       "    </tr>\n",
       "    <tr>\n",
       "      <th>11567</th>\n",
       "      <td>ID_q6BhHX.jpeg</td>\n",
       "      <td>anthracnose</td>\n",
       "      <td>0.853815</td>\n",
       "      <td>112.459656</td>\n",
       "      <td>21.831511</td>\n",
       "      <td>3565.510498</td>\n",
       "      <td>1774.676514</td>\n",
       "    </tr>\n",
       "    <tr>\n",
       "      <th>9292</th>\n",
       "      <td>ID_d863CL.jpg</td>\n",
       "      <td>healthy</td>\n",
       "      <td>0.815765</td>\n",
       "      <td>337.277527</td>\n",
       "      <td>4.573212</td>\n",
       "      <td>993.474731</td>\n",
       "      <td>959.976074</td>\n",
       "    </tr>\n",
       "    <tr>\n",
       "      <th>302</th>\n",
       "      <td>ID_gUEBGE.jpg</td>\n",
       "      <td>cssvd</td>\n",
       "      <td>0.028909</td>\n",
       "      <td>0.310943</td>\n",
       "      <td>0.672080</td>\n",
       "      <td>602.513672</td>\n",
       "      <td>381.841248</td>\n",
       "    </tr>\n",
       "    <tr>\n",
       "      <th>3599</th>\n",
       "      <td>ID_MRAHmq.jpg</td>\n",
       "      <td>healthy</td>\n",
       "      <td>0.057930</td>\n",
       "      <td>140.382355</td>\n",
       "      <td>0.000000</td>\n",
       "      <td>257.928192</td>\n",
       "      <td>49.321228</td>\n",
       "    </tr>\n",
       "    <tr>\n",
       "      <th>14</th>\n",
       "      <td>ID_qBYpS9.jpg</td>\n",
       "      <td>anthracnose</td>\n",
       "      <td>0.017393</td>\n",
       "      <td>974.296387</td>\n",
       "      <td>1384.883545</td>\n",
       "      <td>1639.831299</td>\n",
       "      <td>1535.958984</td>\n",
       "    </tr>\n",
       "  </tbody>\n",
       "</table>\n",
       "</div>"
      ],
      "text/plain": [
       "             Image_ID        class  confidence        ymin         xmin  \\\n",
       "11791   ID_EmeUOz.jpg      healthy    0.316909   18.683371   242.551819   \n",
       "9639    ID_ucTw2L.jpg        cssvd    0.493242  986.277161    34.390137   \n",
       "7394    ID_hdsYyk.jpg        cssvd    0.017045  758.452271     0.060387   \n",
       "13030   ID_vQJj2Y.jpg      healthy    0.086768  755.738831   228.441772   \n",
       "974     ID_iGN3un.jpg  anthracnose    0.010048    0.194641   748.374512   \n",
       "11567  ID_q6BhHX.jpeg  anthracnose    0.853815  112.459656    21.831511   \n",
       "9292    ID_d863CL.jpg      healthy    0.815765  337.277527     4.573212   \n",
       "302     ID_gUEBGE.jpg        cssvd    0.028909    0.310943     0.672080   \n",
       "3599    ID_MRAHmq.jpg      healthy    0.057930  140.382355     0.000000   \n",
       "14      ID_qBYpS9.jpg  anthracnose    0.017393  974.296387  1384.883545   \n",
       "\n",
       "              ymax         xmax  \n",
       "11791   126.648506   375.446136  \n",
       "9639   2485.474121  2239.309082  \n",
       "7394   1279.797241   191.905548  \n",
       "13030  2125.343506  1314.573242  \n",
       "974     498.772644  1536.000000  \n",
       "11567  3565.510498  1774.676514  \n",
       "9292    993.474731   959.976074  \n",
       "302     602.513672   381.841248  \n",
       "3599    257.928192    49.321228  \n",
       "14     1639.831299  1535.958984  "
      ]
     },
     "execution_count": 11,
     "metadata": {},
     "output_type": "execute_result"
    }
   ],
   "source": [
    "test_df = pd.DataFrame(test_records)\n",
    "\n",
    "test_df.sample(10)"
   ]
  },
  {
   "cell_type": "code",
   "execution_count": 12,
   "metadata": {},
   "outputs": [
    {
     "data": {
      "text/plain": [
       "class\n",
       "healthy        6218\n",
       "cssvd          3636\n",
       "anthracnose    3276\n",
       "Name: count, dtype: int64"
      ]
     },
     "execution_count": 12,
     "metadata": {},
     "output_type": "execute_result"
    }
   ],
   "source": [
    "test_df[\"class\"].value_counts()"
   ]
  },
  {
   "cell_type": "code",
   "execution_count": 13,
   "metadata": {},
   "outputs": [],
   "source": [
    "test_df.to_csv(PREDICTION_PATH.replace(\"-prediction\", \"-submission\"), index=False)"
   ]
  },
  {
   "cell_type": "code",
   "execution_count": 14,
   "metadata": {},
   "outputs": [
    {
     "data": {
      "text/plain": [
       "'dataset/predictions/02-submissions.csv'"
      ]
     },
     "execution_count": 14,
     "metadata": {},
     "output_type": "execute_result"
    }
   ],
   "source": [
    "PREDICTION_PATH.replace(\"-prediction\", \"-submission\")"
   ]
  },
  {
   "cell_type": "code",
   "execution_count": null,
   "metadata": {},
   "outputs": [],
   "source": []
  }
 ],
 "metadata": {
  "kernelspec": {
   "display_name": ".venv",
   "language": "python",
   "name": "python3"
  },
  "language_info": {
   "codemirror_mode": {
    "name": "ipython",
    "version": 3
   },
   "file_extension": ".py",
   "mimetype": "text/x-python",
   "name": "python",
   "nbconvert_exporter": "python",
   "pygments_lexer": "ipython3",
   "version": "3.10.13"
  }
 },
 "nbformat": 4,
 "nbformat_minor": 2
}
