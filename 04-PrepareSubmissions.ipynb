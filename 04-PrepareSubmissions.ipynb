{
 "cells": [
  {
   "cell_type": "code",
   "execution_count": 1,
   "metadata": {},
   "outputs": [],
   "source": [
    "# Import libraries\n",
    "import pandas as pd\n",
    "import os\n",
    "from pathlib import Path\n",
    "from tqdm import tqdm\n",
    "import yaml\n",
    "import matplotlib.pyplot as plt\n",
    "import numpy as np\n",
    "from PIL import Image"
   ]
  },
  {
   "cell_type": "code",
   "execution_count": 2,
   "metadata": {},
   "outputs": [],
   "source": [
    "LEARNED_THR = 0.\n",
    "IOU_THR = 0.6\n",
    "PREDICTION_PATH = \"dataset/predictions/04-predictions.csv\""
   ]
  },
  {
   "cell_type": "code",
   "execution_count": 3,
   "metadata": {},
   "outputs": [
    {
     "data": {
      "text/html": [
       "<div>\n",
       "<style scoped>\n",
       "    .dataframe tbody tr th:only-of-type {\n",
       "        vertical-align: middle;\n",
       "    }\n",
       "\n",
       "    .dataframe tbody tr th {\n",
       "        vertical-align: top;\n",
       "    }\n",
       "\n",
       "    .dataframe thead th {\n",
       "        text-align: right;\n",
       "    }\n",
       "</style>\n",
       "<table border=\"1\" class=\"dataframe\">\n",
       "  <thead>\n",
       "    <tr style=\"text-align: right;\">\n",
       "      <th></th>\n",
       "      <th>Image_ID</th>\n",
       "      <th>confidence</th>\n",
       "      <th>class_id</th>\n",
       "      <th>class</th>\n",
       "      <th>xmin</th>\n",
       "      <th>ymin</th>\n",
       "      <th>xmax</th>\n",
       "      <th>ymax</th>\n",
       "    </tr>\n",
       "  </thead>\n",
       "  <tbody>\n",
       "    <tr>\n",
       "      <th>17783</th>\n",
       "      <td>ID_CjxpRk.JPG</td>\n",
       "      <td>0.086723</td>\n",
       "      <td>0</td>\n",
       "      <td>anthracnose</td>\n",
       "      <td>1525.413574</td>\n",
       "      <td>117.790321</td>\n",
       "      <td>2413.988281</td>\n",
       "      <td>2787.230225</td>\n",
       "    </tr>\n",
       "    <tr>\n",
       "      <th>15333</th>\n",
       "      <td>ID_hLLkip.jpg</td>\n",
       "      <td>0.737704</td>\n",
       "      <td>2</td>\n",
       "      <td>healthy</td>\n",
       "      <td>878.841675</td>\n",
       "      <td>1169.795776</td>\n",
       "      <td>1325.228882</td>\n",
       "      <td>1948.375366</td>\n",
       "    </tr>\n",
       "    <tr>\n",
       "      <th>10731</th>\n",
       "      <td>ID_iPhQrE.jpg</td>\n",
       "      <td>0.238383</td>\n",
       "      <td>1</td>\n",
       "      <td>cssvd</td>\n",
       "      <td>592.755798</td>\n",
       "      <td>33.074036</td>\n",
       "      <td>932.445374</td>\n",
       "      <td>1061.696533</td>\n",
       "    </tr>\n",
       "    <tr>\n",
       "      <th>11552</th>\n",
       "      <td>ID_CRgjeZ.jpg</td>\n",
       "      <td>0.084483</td>\n",
       "      <td>2</td>\n",
       "      <td>healthy</td>\n",
       "      <td>14.779973</td>\n",
       "      <td>1014.721313</td>\n",
       "      <td>348.219696</td>\n",
       "      <td>1781.357300</td>\n",
       "    </tr>\n",
       "    <tr>\n",
       "      <th>8810</th>\n",
       "      <td>ID_EmaVCt.jpg</td>\n",
       "      <td>0.181484</td>\n",
       "      <td>2</td>\n",
       "      <td>healthy</td>\n",
       "      <td>29.523699</td>\n",
       "      <td>9.237042</td>\n",
       "      <td>140.938828</td>\n",
       "      <td>121.371651</td>\n",
       "    </tr>\n",
       "  </tbody>\n",
       "</table>\n",
       "</div>"
      ],
      "text/plain": [
       "            Image_ID  confidence  class_id        class         xmin  \\\n",
       "17783  ID_CjxpRk.JPG    0.086723         0  anthracnose  1525.413574   \n",
       "15333  ID_hLLkip.jpg    0.737704         2      healthy   878.841675   \n",
       "10731  ID_iPhQrE.jpg    0.238383         1        cssvd   592.755798   \n",
       "11552  ID_CRgjeZ.jpg    0.084483         2      healthy    14.779973   \n",
       "8810   ID_EmaVCt.jpg    0.181484         2      healthy    29.523699   \n",
       "\n",
       "              ymin         xmax         ymax  \n",
       "17783   117.790321  2413.988281  2787.230225  \n",
       "15333  1169.795776  1325.228882  1948.375366  \n",
       "10731    33.074036   932.445374  1061.696533  \n",
       "11552  1014.721313   348.219696  1781.357300  \n",
       "8810      9.237042   140.938828   121.371651  "
      ]
     },
     "execution_count": 3,
     "metadata": {},
     "output_type": "execute_result"
    }
   ],
   "source": [
    "PREDICTION_IMAGE_PATH = Path(\"dataset/images/test\")\n",
    "\n",
    "test_df = pd.read_csv(PREDICTION_PATH).rename(\n",
    "    columns={\"x_min\": \"xmin\", \"y_min\": \"ymin\", \"x_max\": \"xmax\", \"y_max\": \"ymax\"}\n",
    ")\n",
    "test_df.sample(5)"
   ]
  },
  {
   "cell_type": "code",
   "execution_count": 4,
   "metadata": {},
   "outputs": [
    {
     "data": {
      "text/plain": [
       "{'anthracnose': 0, 'cssvd': 1, 'healthy': 2}"
      ]
     },
     "execution_count": 4,
     "metadata": {},
     "output_type": "execute_result"
    }
   ],
   "source": [
    "class_id = {j: i for i, j in enumerate(sorted(test_df[\"class\"].unique()))}\n",
    "test_df[\"class_id\"] = test_df[\"class\"].map(class_id)\n",
    "class_id"
   ]
  },
  {
   "cell_type": "code",
   "execution_count": 5,
   "metadata": {},
   "outputs": [
    {
     "data": {
      "text/html": [
       "<div>\n",
       "<style scoped>\n",
       "    .dataframe tbody tr th:only-of-type {\n",
       "        vertical-align: middle;\n",
       "    }\n",
       "\n",
       "    .dataframe tbody tr th {\n",
       "        vertical-align: top;\n",
       "    }\n",
       "\n",
       "    .dataframe thead th {\n",
       "        text-align: right;\n",
       "    }\n",
       "</style>\n",
       "<table border=\"1\" class=\"dataframe\">\n",
       "  <thead>\n",
       "    <tr style=\"text-align: right;\">\n",
       "      <th></th>\n",
       "      <th>Image_ID</th>\n",
       "      <th>confidence</th>\n",
       "      <th>class_id</th>\n",
       "      <th>class</th>\n",
       "      <th>xmin</th>\n",
       "      <th>ymin</th>\n",
       "      <th>xmax</th>\n",
       "      <th>ymax</th>\n",
       "    </tr>\n",
       "  </thead>\n",
       "  <tbody>\n",
       "    <tr>\n",
       "      <th>0</th>\n",
       "      <td>ID_cWEAQI.jpeg</td>\n",
       "      <td>0.432404</td>\n",
       "      <td>2</td>\n",
       "      <td>healthy</td>\n",
       "      <td>-15.221375</td>\n",
       "      <td>56.677937</td>\n",
       "      <td>1572.595459</td>\n",
       "      <td>3975.569824</td>\n",
       "    </tr>\n",
       "    <tr>\n",
       "      <th>1</th>\n",
       "      <td>ID_cWEAQI.jpeg</td>\n",
       "      <td>0.143457</td>\n",
       "      <td>2</td>\n",
       "      <td>healthy</td>\n",
       "      <td>1410.376099</td>\n",
       "      <td>322.058899</td>\n",
       "      <td>1739.138550</td>\n",
       "      <td>1089.723755</td>\n",
       "    </tr>\n",
       "    <tr>\n",
       "      <th>2</th>\n",
       "      <td>ID_cWEAQI.jpeg</td>\n",
       "      <td>0.088023</td>\n",
       "      <td>2</td>\n",
       "      <td>healthy</td>\n",
       "      <td>13.658841</td>\n",
       "      <td>148.699219</td>\n",
       "      <td>449.274506</td>\n",
       "      <td>1109.639893</td>\n",
       "    </tr>\n",
       "    <tr>\n",
       "      <th>3</th>\n",
       "      <td>ID_cWEAQI.jpeg</td>\n",
       "      <td>0.078814</td>\n",
       "      <td>2</td>\n",
       "      <td>healthy</td>\n",
       "      <td>1120.934204</td>\n",
       "      <td>14.121279</td>\n",
       "      <td>1699.360962</td>\n",
       "      <td>474.832306</td>\n",
       "    </tr>\n",
       "    <tr>\n",
       "      <th>4</th>\n",
       "      <td>ID_cWEAQI.jpeg</td>\n",
       "      <td>0.065425</td>\n",
       "      <td>2</td>\n",
       "      <td>healthy</td>\n",
       "      <td>0.516278</td>\n",
       "      <td>756.302246</td>\n",
       "      <td>213.454803</td>\n",
       "      <td>1553.445190</td>\n",
       "    </tr>\n",
       "  </tbody>\n",
       "</table>\n",
       "</div>"
      ],
      "text/plain": [
       "         Image_ID  confidence  class_id    class         xmin        ymin  \\\n",
       "0  ID_cWEAQI.jpeg    0.432404         2  healthy   -15.221375   56.677937   \n",
       "1  ID_cWEAQI.jpeg    0.143457         2  healthy  1410.376099  322.058899   \n",
       "2  ID_cWEAQI.jpeg    0.088023         2  healthy    13.658841  148.699219   \n",
       "3  ID_cWEAQI.jpeg    0.078814         2  healthy  1120.934204   14.121279   \n",
       "4  ID_cWEAQI.jpeg    0.065425         2  healthy     0.516278  756.302246   \n",
       "\n",
       "          xmax         ymax  \n",
       "0  1572.595459  3975.569824  \n",
       "1  1739.138550  1089.723755  \n",
       "2   449.274506  1109.639893  \n",
       "3  1699.360962   474.832306  \n",
       "4   213.454803  1553.445190  "
      ]
     },
     "execution_count": 5,
     "metadata": {},
     "output_type": "execute_result"
    }
   ],
   "source": [
    "test_df.head()"
   ]
  },
  {
   "cell_type": "code",
   "execution_count": 6,
   "metadata": {},
   "outputs": [],
   "source": [
    "import torch\n",
    "\n",
    "def convert_df(df: pd.DataFrame):\n",
    "\tdf = df.copy().dropna()\n",
    "\treturn {\n",
    "\t\timg_id: {\n",
    "\t\t\t\"boxes\": torch.tensor(raw[[\"xmin\", \"ymin\", \"xmax\", \"ymax\"]].values, dtype=torch.float32),\n",
    "\t\t\t\"scores\": (\n",
    "\t\t\t\ttorch.tensor(raw[\"confidence\"].values, dtype=torch.float32)\n",
    "\t\t\t\tif \"confidence\" in raw.columns\n",
    "\t\t\t\telse None\n",
    "\t\t\t),\n",
    "\t\t\t\"labels\": torch.tensor(raw[\"class_id\"].values, dtype=torch.int32),\n",
    "\t\t}\n",
    "\t\tfor (img_id, ), raw in df.groupby([\"Image_ID\"])\n",
    "\t}\n",
    "\n",
    "def default_value():\n",
    "\treturn {\n",
    "\t\t\"boxes\": torch.empty((0, 4), dtype=torch.float32),\n",
    "\t\t\"scores\": torch.empty((0,), dtype=torch.float32),\n",
    "\t\t\"labels\": torch.empty((0,), dtype=torch.int32),\n",
    "\t}\n",
    "\n",
    "\n",
    "converted_labels = list(PREDICTION_IMAGE_PATH.glob(\"*\"))\n",
    "converted_labels = [i.name for i in converted_labels]\n",
    "\n",
    "def get_preds_data(preds, thr: float = 0.5):\n",
    "\tif thr is not None:\n",
    "\t\tpreds = preds[preds[\"confidence\"] >= thr]\n",
    "\tpreds = convert_df(preds)\n",
    "\tprint(len(preds))\n",
    "\tprint(list(preds.keys())[:10])\n",
    "\td = default_value()\n",
    "\treturn {i: preds.get(i, d) for i in converted_labels}"
   ]
  },
  {
   "cell_type": "code",
   "execution_count": 7,
   "metadata": {},
   "outputs": [
    {
     "data": {
      "text/html": [
       "<div>\n",
       "<style scoped>\n",
       "    .dataframe tbody tr th:only-of-type {\n",
       "        vertical-align: middle;\n",
       "    }\n",
       "\n",
       "    .dataframe tbody tr th {\n",
       "        vertical-align: top;\n",
       "    }\n",
       "\n",
       "    .dataframe thead th {\n",
       "        text-align: right;\n",
       "    }\n",
       "</style>\n",
       "<table border=\"1\" class=\"dataframe\">\n",
       "  <thead>\n",
       "    <tr style=\"text-align: right;\">\n",
       "      <th></th>\n",
       "      <th>Image_ID</th>\n",
       "      <th>confidence</th>\n",
       "      <th>class_id</th>\n",
       "      <th>class</th>\n",
       "      <th>xmin</th>\n",
       "      <th>ymin</th>\n",
       "      <th>xmax</th>\n",
       "      <th>ymax</th>\n",
       "    </tr>\n",
       "  </thead>\n",
       "  <tbody>\n",
       "    <tr>\n",
       "      <th>7203</th>\n",
       "      <td>ID_qQRBL9.jpeg</td>\n",
       "      <td>0.452241</td>\n",
       "      <td>2</td>\n",
       "      <td>healthy</td>\n",
       "      <td>-3.560677</td>\n",
       "      <td>80.323433</td>\n",
       "      <td>1089.573975</td>\n",
       "      <td>513.825684</td>\n",
       "    </tr>\n",
       "    <tr>\n",
       "      <th>16031</th>\n",
       "      <td>ID_HiEYk8.jpg</td>\n",
       "      <td>0.115299</td>\n",
       "      <td>2</td>\n",
       "      <td>healthy</td>\n",
       "      <td>0.379518</td>\n",
       "      <td>1341.371338</td>\n",
       "      <td>634.127930</td>\n",
       "      <td>1834.378784</td>\n",
       "    </tr>\n",
       "  </tbody>\n",
       "</table>\n",
       "</div>"
      ],
      "text/plain": [
       "             Image_ID  confidence  class_id    class      xmin         ymin  \\\n",
       "7203   ID_qQRBL9.jpeg    0.452241         2  healthy -3.560677    80.323433   \n",
       "16031   ID_HiEYk8.jpg    0.115299         2  healthy  0.379518  1341.371338   \n",
       "\n",
       "              xmax         ymax  \n",
       "7203   1089.573975   513.825684  \n",
       "16031   634.127930  1834.378784  "
      ]
     },
     "execution_count": 7,
     "metadata": {},
     "output_type": "execute_result"
    }
   ],
   "source": [
    "test_df.sample(2)"
   ]
  },
  {
   "cell_type": "code",
   "execution_count": 8,
   "metadata": {},
   "outputs": [
    {
     "name": "stdout",
     "output_type": "stream",
     "text": [
      "1626\n",
      "['ID_A16nzu.jpg', 'ID_A1Euyz.jpg', 'ID_A1HcV0.jpeg', 'ID_A4ZdJC.jpeg', 'ID_A5SFUW.jpeg', 'ID_A6Fogi.jpeg', 'ID_ABDCyn.jpeg', 'ID_ACg6Qf.jpeg', 'ID_AFi8A1.jpg', 'ID_AHlc9P.jpg']\n"
     ]
    },
    {
     "data": {
      "text/plain": [
       "1626"
      ]
     },
     "execution_count": 8,
     "metadata": {},
     "output_type": "execute_result"
    }
   ],
   "source": [
    "predictions = get_preds_data(test_df, thr=None)\n",
    "\n",
    "len(predictions)"
   ]
  },
  {
   "cell_type": "code",
   "execution_count": 9,
   "metadata": {},
   "outputs": [
    {
     "data": {
      "text/plain": [
       "{'boxes': tensor([[   3.4422,   22.8539,  700.2789, 1273.0865],\n",
       "         [ 605.8710,   45.9294,  940.0273, 1141.3771],\n",
       "         [ 455.4386,   26.7915,  936.0859,  337.5445],\n",
       "         [ 616.6327,  285.8711,  829.3041,  692.5198],\n",
       "         [  60.3104,   16.0185,  544.8130,  435.8484]]),\n",
       " 'scores': tensor([0.6946, 0.4088, 0.1437, 0.0652, 0.0613]),\n",
       " 'labels': tensor([1, 1, 1, 1, 1], dtype=torch.int32)}"
      ]
     },
     "execution_count": 9,
     "metadata": {},
     "output_type": "execute_result"
    }
   ],
   "source": [
    "predictions[\"ID_CGnAYP.jpg\"]"
   ]
  },
  {
   "cell_type": "code",
   "execution_count": 10,
   "metadata": {},
   "outputs": [
    {
     "data": {
      "text/plain": [
       "dict_keys(['boxes', 'scores', 'labels'])"
      ]
     },
     "execution_count": 10,
     "metadata": {},
     "output_type": "execute_result"
    }
   ],
   "source": [
    "predictions[\"ID_CGnAYP.jpg\"].keys()"
   ]
  },
  {
   "cell_type": "code",
   "execution_count": 11,
   "metadata": {},
   "outputs": [],
   "source": [
    "from torchvision.ops import nms\n",
    "\n",
    "def apply_nms(predictions: dict[str, torch.Tensor], iou_threshold=0.5):\n",
    "    \"\"\"\n",
    "    Apply Non-Maximum Suppression (NMS) to reduce overlapping boxes.\n",
    "\n",
    "    Args:\n",
    "        predictions (dict): Dictionary containing keys ['boxes', 'scores', 'labels'].\n",
    "        iou_threshold (float): Intersection over Union (IoU) threshold for NMS.\n",
    "\n",
    "    Returns:\n",
    "        dict: Filtered predictions after applying NMS.\n",
    "    \"\"\"\n",
    "    filtered_predictions = {}\n",
    "    for image_id, data in predictions.items():\n",
    "        boxes = data[\"boxes\"]\n",
    "        scores = data[\"scores\"]\n",
    "        labels = data[\"labels\"]\n",
    "\n",
    "        if boxes.numel() == 0:\n",
    "            # If no boxes, skip this image\n",
    "            filtered_predictions[image_id] = data\n",
    "            continue\n",
    "\n",
    "        # Perform NMS for each class separately\n",
    "        keep_indices = []\n",
    "        for label in labels.unique():\n",
    "            label_mask = labels == label\n",
    "            label_boxes = boxes[label_mask]\n",
    "            label_scores = scores[label_mask]\n",
    "            indices = nms(label_boxes, label_scores, iou_threshold)\n",
    "            keep_indices.extend(label_mask.nonzero(as_tuple=True)[0][indices].tolist())\n",
    "\n",
    "        # Filter boxes, scores, and labels based on NMS results\n",
    "        keep_indices = torch.tensor(keep_indices, dtype=torch.long)\n",
    "        filtered_predictions[image_id] = {\n",
    "            \"boxes\": boxes[keep_indices],\n",
    "            \"scores\": scores[keep_indices],\n",
    "            \"labels\": labels[keep_indices],\n",
    "        }\n",
    "\n",
    "    return filtered_predictions\n",
    "\n",
    "# Apply NMS to predictions\n",
    "filtered_predictions = apply_nms(predictions, iou_threshold=IOU_THR)"
   ]
  },
  {
   "cell_type": "code",
   "execution_count": 12,
   "metadata": {},
   "outputs": [],
   "source": [
    "for k, v in predictions.items():\n",
    "    r = filtered_predictions[k]\n",
    "    if len(v[\"boxes\"]) != len(r[\"boxes\"]):\n",
    "        print(k, len(v[\"boxes\"]), len(r[\"boxes\"]))\n",
    "        print(\"Boxes before NMS:\", v[\"boxes\"])\n",
    "        print(\"Boxes after NMS:\", r[\"boxes\"])\n",
    "        print(\"Scores before NMS:\", v[\"scores\"])\n",
    "        print(\"Scores after NMS:\", r[\"scores\"])\n",
    "        print(\"Labels before NMS:\", v[\"labels\"])\n",
    "        print(\"Labels after NMS:\", r[\"labels\"])\n",
    "        print()\n",
    "        break"
   ]
  },
  {
   "cell_type": "code",
   "execution_count": 13,
   "metadata": {},
   "outputs": [
    {
     "data": {
      "text/html": [
       "<div>\n",
       "<style scoped>\n",
       "    .dataframe tbody tr th:only-of-type {\n",
       "        vertical-align: middle;\n",
       "    }\n",
       "\n",
       "    .dataframe tbody tr th {\n",
       "        vertical-align: top;\n",
       "    }\n",
       "\n",
       "    .dataframe thead th {\n",
       "        text-align: right;\n",
       "    }\n",
       "</style>\n",
       "<table border=\"1\" class=\"dataframe\">\n",
       "  <thead>\n",
       "    <tr style=\"text-align: right;\">\n",
       "      <th></th>\n",
       "      <th>Image_ID</th>\n",
       "      <th>class</th>\n",
       "      <th>confidence</th>\n",
       "      <th>ymin</th>\n",
       "      <th>xmin</th>\n",
       "      <th>ymax</th>\n",
       "      <th>xmax</th>\n",
       "      <th>class_id</th>\n",
       "    </tr>\n",
       "  </thead>\n",
       "  <tbody>\n",
       "    <tr>\n",
       "      <th>0</th>\n",
       "      <td>ID_cWEAQI.jpeg</td>\n",
       "      <td>anthracnose</td>\n",
       "      <td>0.050378</td>\n",
       "      <td>2879.414062</td>\n",
       "      <td>935.048828</td>\n",
       "      <td>3668.637207</td>\n",
       "      <td>1365.869995</td>\n",
       "      <td>0</td>\n",
       "    </tr>\n",
       "    <tr>\n",
       "      <th>1</th>\n",
       "      <td>ID_cWEAQI.jpeg</td>\n",
       "      <td>healthy</td>\n",
       "      <td>0.432404</td>\n",
       "      <td>56.677937</td>\n",
       "      <td>-15.221375</td>\n",
       "      <td>3975.569824</td>\n",
       "      <td>1572.595459</td>\n",
       "      <td>2</td>\n",
       "    </tr>\n",
       "    <tr>\n",
       "      <th>2</th>\n",
       "      <td>ID_cWEAQI.jpeg</td>\n",
       "      <td>healthy</td>\n",
       "      <td>0.143457</td>\n",
       "      <td>322.058899</td>\n",
       "      <td>1410.376099</td>\n",
       "      <td>1089.723755</td>\n",
       "      <td>1739.138550</td>\n",
       "      <td>2</td>\n",
       "    </tr>\n",
       "    <tr>\n",
       "      <th>3</th>\n",
       "      <td>ID_cWEAQI.jpeg</td>\n",
       "      <td>healthy</td>\n",
       "      <td>0.088023</td>\n",
       "      <td>148.699219</td>\n",
       "      <td>13.658841</td>\n",
       "      <td>1109.639893</td>\n",
       "      <td>449.274506</td>\n",
       "      <td>2</td>\n",
       "    </tr>\n",
       "    <tr>\n",
       "      <th>4</th>\n",
       "      <td>ID_cWEAQI.jpeg</td>\n",
       "      <td>healthy</td>\n",
       "      <td>0.078814</td>\n",
       "      <td>14.121279</td>\n",
       "      <td>1120.934204</td>\n",
       "      <td>474.832306</td>\n",
       "      <td>1699.360962</td>\n",
       "      <td>2</td>\n",
       "    </tr>\n",
       "  </tbody>\n",
       "</table>\n",
       "</div>"
      ],
      "text/plain": [
       "         Image_ID        class  confidence         ymin         xmin  \\\n",
       "0  ID_cWEAQI.jpeg  anthracnose    0.050378  2879.414062   935.048828   \n",
       "1  ID_cWEAQI.jpeg      healthy    0.432404    56.677937   -15.221375   \n",
       "2  ID_cWEAQI.jpeg      healthy    0.143457   322.058899  1410.376099   \n",
       "3  ID_cWEAQI.jpeg      healthy    0.088023   148.699219    13.658841   \n",
       "4  ID_cWEAQI.jpeg      healthy    0.078814    14.121279  1120.934204   \n",
       "\n",
       "          ymax         xmax  class_id  \n",
       "0  3668.637207  1365.869995         0  \n",
       "1  3975.569824  1572.595459         2  \n",
       "2  1089.723755  1739.138550         2  \n",
       "3  1109.639893   449.274506         2  \n",
       "4   474.832306  1699.360962         2  "
      ]
     },
     "execution_count": 13,
     "metadata": {},
     "output_type": "execute_result"
    }
   ],
   "source": [
    "filtered_data = []\n",
    "id_to_label = {v: k for k, v in class_id.items()}\n",
    "for image_id, data in filtered_predictions.items():\n",
    "    boxes = data[\"boxes\"].tolist()\n",
    "    scores = data[\"scores\"].tolist()\n",
    "    labels = data[\"labels\"].tolist()\n",
    "    for box, score, label in zip(boxes, scores, labels):\n",
    "        filtered_data.append({\n",
    "            \"Image_ID\": image_id,\n",
    "            \"class\": id_to_label[label],\n",
    "            \"confidence\": score,\n",
    "            \"ymin\": box[1],\n",
    "            \"xmin\": box[0],\n",
    "            \"ymax\": box[3],\n",
    "            \"xmax\": box[2],\n",
    "            \"class_id\": label\n",
    "        })\n",
    "\n",
    "filtered_df = pd.DataFrame(filtered_data)\n",
    "filtered_df.head()"
   ]
  },
  {
   "cell_type": "code",
   "execution_count": 14,
   "metadata": {},
   "outputs": [
    {
     "data": {
      "text/plain": [
       "(18368, 18368)"
      ]
     },
     "execution_count": 14,
     "metadata": {},
     "output_type": "execute_result"
    }
   ],
   "source": [
    "len(filtered_df), len(test_df)"
   ]
  },
  {
   "cell_type": "code",
   "execution_count": 15,
   "metadata": {},
   "outputs": [
    {
     "data": {
      "text/plain": [
       "class\n",
       "healthy        8226\n",
       "cssvd          5185\n",
       "anthracnose    4957\n",
       "Name: count, dtype: int64"
      ]
     },
     "execution_count": 15,
     "metadata": {},
     "output_type": "execute_result"
    }
   ],
   "source": [
    "filtered_df[\"class\"].value_counts()"
   ]
  },
  {
   "cell_type": "code",
   "execution_count": 16,
   "metadata": {},
   "outputs": [],
   "source": [
    "files = list(PREDICTION_IMAGE_PATH.glob(\"*\"))"
   ]
  },
  {
   "cell_type": "code",
   "execution_count": 17,
   "metadata": {},
   "outputs": [],
   "source": [
    "test_df: pd.DataFrame = filtered_df.copy()"
   ]
  },
  {
   "cell_type": "code",
   "execution_count": 18,
   "metadata": {},
   "outputs": [
    {
     "data": {
      "text/plain": [
       "[{'Image_ID': 'ID_cWEAQI.jpeg',\n",
       "  'class': 'anthracnose',\n",
       "  'confidence': 0.05037793517112732,\n",
       "  'ymin': 2879.4140625,\n",
       "  'xmin': 935.048828125,\n",
       "  'ymax': 3668.63720703125,\n",
       "  'xmax': 1365.8699951171875,\n",
       "  'class_id': 0},\n",
       " {'Image_ID': 'ID_cWEAQI.jpeg',\n",
       "  'class': 'healthy',\n",
       "  'confidence': 0.4324035346508026,\n",
       "  'ymin': 56.67793655395508,\n",
       "  'xmin': -15.221375465393066,\n",
       "  'ymax': 3975.56982421875,\n",
       "  'xmax': 1572.595458984375,\n",
       "  'class_id': 2},\n",
       " {'Image_ID': 'ID_cWEAQI.jpeg',\n",
       "  'class': 'healthy',\n",
       "  'confidence': 0.14345668256282806,\n",
       "  'ymin': 322.05889892578125,\n",
       "  'xmin': 1410.3760986328125,\n",
       "  'ymax': 1089.7237548828125,\n",
       "  'xmax': 1739.1385498046875,\n",
       "  'class_id': 2},\n",
       " {'Image_ID': 'ID_cWEAQI.jpeg',\n",
       "  'class': 'healthy',\n",
       "  'confidence': 0.08802306652069092,\n",
       "  'ymin': 148.69921875,\n",
       "  'xmin': 13.658841133117676,\n",
       "  'ymax': 1109.639892578125,\n",
       "  'xmax': 449.2745056152344,\n",
       "  'class_id': 2},\n",
       " {'Image_ID': 'ID_cWEAQI.jpeg',\n",
       "  'class': 'healthy',\n",
       "  'confidence': 0.07881356030702591,\n",
       "  'ymin': 14.121278762817383,\n",
       "  'xmin': 1120.9342041015625,\n",
       "  'ymax': 474.8323059082031,\n",
       "  'xmax': 1699.3609619140625,\n",
       "  'class_id': 2}]"
      ]
     },
     "execution_count": 18,
     "metadata": {},
     "output_type": "execute_result"
    }
   ],
   "source": [
    "test_records = test_df.to_dict(orient=\"records\")\n",
    "\n",
    "test_records[:5]"
   ]
  },
  {
   "cell_type": "code",
   "execution_count": 19,
   "metadata": {},
   "outputs": [
    {
     "data": {
      "text/plain": [
       "['ID_cWEAQI.jpeg', 'ID_NtqErb.jpg']"
      ]
     },
     "execution_count": 19,
     "metadata": {},
     "output_type": "execute_result"
    }
   ],
   "source": [
    "file_id = [i.name for i in files]\n",
    "file_id[:2]"
   ]
  },
  {
   "cell_type": "code",
   "execution_count": 20,
   "metadata": {},
   "outputs": [],
   "source": [
    "file_okay = set(test_df[\"Image_ID\"].values)\n",
    "file_nokay = set(file_id) - file_okay\n",
    "\n",
    "for f in file_nokay:\n",
    "    test_records.append(\n",
    "\t\t{\n",
    "\t\t\t\"Image_ID\": f,\n",
    "\t\t}\n",
    "\t)"
   ]
  },
  {
   "cell_type": "code",
   "execution_count": 21,
   "metadata": {},
   "outputs": [
    {
     "data": {
      "text/html": [
       "<div>\n",
       "<style scoped>\n",
       "    .dataframe tbody tr th:only-of-type {\n",
       "        vertical-align: middle;\n",
       "    }\n",
       "\n",
       "    .dataframe tbody tr th {\n",
       "        vertical-align: top;\n",
       "    }\n",
       "\n",
       "    .dataframe thead th {\n",
       "        text-align: right;\n",
       "    }\n",
       "</style>\n",
       "<table border=\"1\" class=\"dataframe\">\n",
       "  <thead>\n",
       "    <tr style=\"text-align: right;\">\n",
       "      <th></th>\n",
       "      <th>Image_ID</th>\n",
       "      <th>class</th>\n",
       "      <th>confidence</th>\n",
       "      <th>ymin</th>\n",
       "      <th>xmin</th>\n",
       "      <th>ymax</th>\n",
       "      <th>xmax</th>\n",
       "      <th>class_id</th>\n",
       "    </tr>\n",
       "  </thead>\n",
       "  <tbody>\n",
       "    <tr>\n",
       "      <th>16105</th>\n",
       "      <td>ID_qfbYv3.jpg</td>\n",
       "      <td>anthracnose</td>\n",
       "      <td>0.101511</td>\n",
       "      <td>496.230896</td>\n",
       "      <td>-9.659603</td>\n",
       "      <td>1595.764160</td>\n",
       "      <td>272.354004</td>\n",
       "      <td>0</td>\n",
       "    </tr>\n",
       "    <tr>\n",
       "      <th>6530</th>\n",
       "      <td>ID_tUm5mY.jpg</td>\n",
       "      <td>healthy</td>\n",
       "      <td>0.291516</td>\n",
       "      <td>2629.395752</td>\n",
       "      <td>18.211262</td>\n",
       "      <td>3253.189697</td>\n",
       "      <td>660.640686</td>\n",
       "      <td>2</td>\n",
       "    </tr>\n",
       "    <tr>\n",
       "      <th>6347</th>\n",
       "      <td>ID_Cy2zVL.jpg</td>\n",
       "      <td>cssvd</td>\n",
       "      <td>0.654104</td>\n",
       "      <td>28.934364</td>\n",
       "      <td>12.140007</td>\n",
       "      <td>1262.935547</td>\n",
       "      <td>589.335266</td>\n",
       "      <td>1</td>\n",
       "    </tr>\n",
       "    <tr>\n",
       "      <th>18046</th>\n",
       "      <td>ID_ZR2coE.jpg</td>\n",
       "      <td>healthy</td>\n",
       "      <td>0.096812</td>\n",
       "      <td>115.609085</td>\n",
       "      <td>198.383469</td>\n",
       "      <td>156.913239</td>\n",
       "      <td>267.835419</td>\n",
       "      <td>2</td>\n",
       "    </tr>\n",
       "    <tr>\n",
       "      <th>14573</th>\n",
       "      <td>ID_sNijYN.jpg</td>\n",
       "      <td>healthy</td>\n",
       "      <td>0.270816</td>\n",
       "      <td>1794.406128</td>\n",
       "      <td>4.282996</td>\n",
       "      <td>3192.399170</td>\n",
       "      <td>1045.734253</td>\n",
       "      <td>2</td>\n",
       "    </tr>\n",
       "    <tr>\n",
       "      <th>14394</th>\n",
       "      <td>ID_ORZ9Bi.jpg</td>\n",
       "      <td>healthy</td>\n",
       "      <td>0.057966</td>\n",
       "      <td>84.674576</td>\n",
       "      <td>364.492188</td>\n",
       "      <td>167.912949</td>\n",
       "      <td>408.514465</td>\n",
       "      <td>2</td>\n",
       "    </tr>\n",
       "    <tr>\n",
       "      <th>2822</th>\n",
       "      <td>ID_ynZOCB.jpeg</td>\n",
       "      <td>anthracnose</td>\n",
       "      <td>0.112698</td>\n",
       "      <td>3344.731689</td>\n",
       "      <td>426.577698</td>\n",
       "      <td>4034.945068</td>\n",
       "      <td>905.530273</td>\n",
       "      <td>0</td>\n",
       "    </tr>\n",
       "    <tr>\n",
       "      <th>13206</th>\n",
       "      <td>ID_h4waf5.jpeg</td>\n",
       "      <td>healthy</td>\n",
       "      <td>0.744963</td>\n",
       "      <td>825.986938</td>\n",
       "      <td>-4.167011</td>\n",
       "      <td>1755.193970</td>\n",
       "      <td>3402.234375</td>\n",
       "      <td>2</td>\n",
       "    </tr>\n",
       "    <tr>\n",
       "      <th>3336</th>\n",
       "      <td>ID_Egf8mv.jpg</td>\n",
       "      <td>healthy</td>\n",
       "      <td>0.125444</td>\n",
       "      <td>13.969364</td>\n",
       "      <td>104.084198</td>\n",
       "      <td>396.188049</td>\n",
       "      <td>395.074646</td>\n",
       "      <td>2</td>\n",
       "    </tr>\n",
       "    <tr>\n",
       "      <th>102</th>\n",
       "      <td>ID_fk4Rso.jpeg</td>\n",
       "      <td>healthy</td>\n",
       "      <td>0.480804</td>\n",
       "      <td>175.766449</td>\n",
       "      <td>269.264648</td>\n",
       "      <td>4017.348633</td>\n",
       "      <td>2857.361572</td>\n",
       "      <td>2</td>\n",
       "    </tr>\n",
       "  </tbody>\n",
       "</table>\n",
       "</div>"
      ],
      "text/plain": [
       "             Image_ID        class  confidence         ymin        xmin  \\\n",
       "16105   ID_qfbYv3.jpg  anthracnose    0.101511   496.230896   -9.659603   \n",
       "6530    ID_tUm5mY.jpg      healthy    0.291516  2629.395752   18.211262   \n",
       "6347    ID_Cy2zVL.jpg        cssvd    0.654104    28.934364   12.140007   \n",
       "18046   ID_ZR2coE.jpg      healthy    0.096812   115.609085  198.383469   \n",
       "14573   ID_sNijYN.jpg      healthy    0.270816  1794.406128    4.282996   \n",
       "14394   ID_ORZ9Bi.jpg      healthy    0.057966    84.674576  364.492188   \n",
       "2822   ID_ynZOCB.jpeg  anthracnose    0.112698  3344.731689  426.577698   \n",
       "13206  ID_h4waf5.jpeg      healthy    0.744963   825.986938   -4.167011   \n",
       "3336    ID_Egf8mv.jpg      healthy    0.125444    13.969364  104.084198   \n",
       "102    ID_fk4Rso.jpeg      healthy    0.480804   175.766449  269.264648   \n",
       "\n",
       "              ymax         xmax  class_id  \n",
       "16105  1595.764160   272.354004         0  \n",
       "6530   3253.189697   660.640686         2  \n",
       "6347   1262.935547   589.335266         1  \n",
       "18046   156.913239   267.835419         2  \n",
       "14573  3192.399170  1045.734253         2  \n",
       "14394   167.912949   408.514465         2  \n",
       "2822   4034.945068   905.530273         0  \n",
       "13206  1755.193970  3402.234375         2  \n",
       "3336    396.188049   395.074646         2  \n",
       "102    4017.348633  2857.361572         2  "
      ]
     },
     "execution_count": 21,
     "metadata": {},
     "output_type": "execute_result"
    }
   ],
   "source": [
    "test_df = pd.DataFrame(test_records)\n",
    "\n",
    "test_df.sample(10)"
   ]
  },
  {
   "cell_type": "code",
   "execution_count": 22,
   "metadata": {},
   "outputs": [
    {
     "data": {
      "text/plain": [
       "class\n",
       "healthy        8226\n",
       "cssvd          5185\n",
       "anthracnose    4957\n",
       "Name: count, dtype: int64"
      ]
     },
     "execution_count": 22,
     "metadata": {},
     "output_type": "execute_result"
    }
   ],
   "source": [
    "test_df[\"class\"].value_counts()"
   ]
  },
  {
   "cell_type": "code",
   "execution_count": 23,
   "metadata": {},
   "outputs": [],
   "source": [
    "test_df.to_csv(PREDICTION_PATH.replace(\"-prediction\", \"-submission\"), index=False)"
   ]
  },
  {
   "cell_type": "code",
   "execution_count": 24,
   "metadata": {},
   "outputs": [
    {
     "data": {
      "text/plain": [
       "'dataset/predictions/04-submissions.csv'"
      ]
     },
     "execution_count": 24,
     "metadata": {},
     "output_type": "execute_result"
    }
   ],
   "source": [
    "PREDICTION_PATH.replace(\"-prediction\", \"-submission\")"
   ]
  }
 ],
 "metadata": {
  "kernelspec": {
   "display_name": ".venv",
   "language": "python",
   "name": "python3"
  },
  "language_info": {
   "codemirror_mode": {
    "name": "ipython",
    "version": 3
   },
   "file_extension": ".py",
   "mimetype": "text/x-python",
   "name": "python",
   "nbconvert_exporter": "python",
   "pygments_lexer": "ipython3",
   "version": "3.10.13"
  }
 },
 "nbformat": 4,
 "nbformat_minor": 2
}
