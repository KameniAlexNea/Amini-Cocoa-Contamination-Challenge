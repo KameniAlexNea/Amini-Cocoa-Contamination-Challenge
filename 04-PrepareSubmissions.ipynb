{
 "cells": [
  {
   "cell_type": "code",
   "execution_count": 1,
   "metadata": {},
   "outputs": [],
   "source": [
    "# Import libraries\n",
    "import pandas as pd\n",
    "import os\n",
    "from pathlib import Path\n",
    "from tqdm import tqdm\n",
    "import yaml\n",
    "import matplotlib.pyplot as plt\n",
    "import numpy as np\n",
    "from PIL import Image"
   ]
  },
  {
   "cell_type": "code",
   "execution_count": 2,
   "metadata": {},
   "outputs": [],
   "source": [
    "LEARNED_THR = 0.00001\n",
    "IOU_THR = 0.7\n",
    "PREDICTION_PATH = \"dataset/predictions/09-predictions.csv\""
   ]
  },
  {
   "cell_type": "code",
   "execution_count": 3,
   "metadata": {},
   "outputs": [
    {
     "data": {
      "text/html": [
       "<div>\n",
       "<style scoped>\n",
       "    .dataframe tbody tr th:only-of-type {\n",
       "        vertical-align: middle;\n",
       "    }\n",
       "\n",
       "    .dataframe tbody tr th {\n",
       "        vertical-align: top;\n",
       "    }\n",
       "\n",
       "    .dataframe thead th {\n",
       "        text-align: right;\n",
       "    }\n",
       "</style>\n",
       "<table border=\"1\" class=\"dataframe\">\n",
       "  <thead>\n",
       "    <tr style=\"text-align: right;\">\n",
       "      <th></th>\n",
       "      <th>Image_ID</th>\n",
       "      <th>class</th>\n",
       "      <th>confidence</th>\n",
       "      <th>ymin</th>\n",
       "      <th>xmin</th>\n",
       "      <th>ymax</th>\n",
       "      <th>xmax</th>\n",
       "    </tr>\n",
       "  </thead>\n",
       "  <tbody>\n",
       "    <tr>\n",
       "      <th>28262</th>\n",
       "      <td>ID_AVXfJI.jpg</td>\n",
       "      <td>cssvd</td>\n",
       "      <td>0.000046</td>\n",
       "      <td>5.341148</td>\n",
       "      <td>3.300514</td>\n",
       "      <td>489.491821</td>\n",
       "      <td>327.946442</td>\n",
       "    </tr>\n",
       "    <tr>\n",
       "      <th>20576</th>\n",
       "      <td>ID_xRuM49.jpg</td>\n",
       "      <td>healthy</td>\n",
       "      <td>0.001925</td>\n",
       "      <td>0.000000</td>\n",
       "      <td>523.858765</td>\n",
       "      <td>125.888214</td>\n",
       "      <td>950.162476</td>\n",
       "    </tr>\n",
       "    <tr>\n",
       "      <th>14909</th>\n",
       "      <td>ID_eQxB51.jpg</td>\n",
       "      <td>healthy</td>\n",
       "      <td>0.000010</td>\n",
       "      <td>311.175903</td>\n",
       "      <td>810.000000</td>\n",
       "      <td>355.965118</td>\n",
       "      <td>810.000000</td>\n",
       "    </tr>\n",
       "    <tr>\n",
       "      <th>67097</th>\n",
       "      <td>ID_UbtyYv.jpg</td>\n",
       "      <td>cssvd</td>\n",
       "      <td>0.000035</td>\n",
       "      <td>1045.279907</td>\n",
       "      <td>231.740479</td>\n",
       "      <td>1079.963867</td>\n",
       "      <td>421.496948</td>\n",
       "    </tr>\n",
       "    <tr>\n",
       "      <th>198941</th>\n",
       "      <td>ID_Q1sJBq.jpg</td>\n",
       "      <td>anthracnose</td>\n",
       "      <td>0.000041</td>\n",
       "      <td>1239.282593</td>\n",
       "      <td>486.060181</td>\n",
       "      <td>1279.770386</td>\n",
       "      <td>906.444214</td>\n",
       "    </tr>\n",
       "  </tbody>\n",
       "</table>\n",
       "</div>"
      ],
      "text/plain": [
       "             Image_ID        class  confidence         ymin        xmin  \\\n",
       "28262   ID_AVXfJI.jpg        cssvd    0.000046     5.341148    3.300514   \n",
       "20576   ID_xRuM49.jpg      healthy    0.001925     0.000000  523.858765   \n",
       "14909   ID_eQxB51.jpg      healthy    0.000010   311.175903  810.000000   \n",
       "67097   ID_UbtyYv.jpg        cssvd    0.000035  1045.279907  231.740479   \n",
       "198941  ID_Q1sJBq.jpg  anthracnose    0.000041  1239.282593  486.060181   \n",
       "\n",
       "               ymax        xmax  \n",
       "28262    489.491821  327.946442  \n",
       "20576    125.888214  950.162476  \n",
       "14909    355.965118  810.000000  \n",
       "67097   1079.963867  421.496948  \n",
       "198941  1279.770386  906.444214  "
      ]
     },
     "execution_count": 3,
     "metadata": {},
     "output_type": "execute_result"
    }
   ],
   "source": [
    "PREDICTION_IMAGE_PATH = Path(\"dataset/images/test\")\n",
    "\n",
    "test_df = pd.read_csv(PREDICTION_PATH).rename(\n",
    "    columns={\"x_min\": \"xmin\", \"y_min\": \"ymin\", \"x_max\": \"xmax\", \"y_max\": \"ymax\"}\n",
    ")\n",
    "test_df.sample(5)"
   ]
  },
  {
   "cell_type": "code",
   "execution_count": 4,
   "metadata": {},
   "outputs": [
    {
     "data": {
      "text/plain": [
       "{'anthracnose': 0, 'cssvd': 1, 'healthy': 2}"
      ]
     },
     "execution_count": 4,
     "metadata": {},
     "output_type": "execute_result"
    }
   ],
   "source": [
    "class_id = {j: i for i, j in enumerate(sorted(test_df[\"class\"].unique()))}\n",
    "test_df[\"class_id\"] = test_df[\"class\"].map(class_id)\n",
    "class_id"
   ]
  },
  {
   "cell_type": "code",
   "execution_count": 5,
   "metadata": {},
   "outputs": [
    {
     "data": {
      "text/html": [
       "<div>\n",
       "<style scoped>\n",
       "    .dataframe tbody tr th:only-of-type {\n",
       "        vertical-align: middle;\n",
       "    }\n",
       "\n",
       "    .dataframe tbody tr th {\n",
       "        vertical-align: top;\n",
       "    }\n",
       "\n",
       "    .dataframe thead th {\n",
       "        text-align: right;\n",
       "    }\n",
       "</style>\n",
       "<table border=\"1\" class=\"dataframe\">\n",
       "  <thead>\n",
       "    <tr style=\"text-align: right;\">\n",
       "      <th></th>\n",
       "      <th>Image_ID</th>\n",
       "      <th>class</th>\n",
       "      <th>confidence</th>\n",
       "      <th>ymin</th>\n",
       "      <th>xmin</th>\n",
       "      <th>ymax</th>\n",
       "      <th>xmax</th>\n",
       "      <th>class_id</th>\n",
       "    </tr>\n",
       "  </thead>\n",
       "  <tbody>\n",
       "    <tr>\n",
       "      <th>0</th>\n",
       "      <td>ID_cWEAQI.jpeg</td>\n",
       "      <td>healthy</td>\n",
       "      <td>0.752511</td>\n",
       "      <td>66.324226</td>\n",
       "      <td>0.000000</td>\n",
       "      <td>3809.420410</td>\n",
       "      <td>1697.234009</td>\n",
       "      <td>2</td>\n",
       "    </tr>\n",
       "    <tr>\n",
       "      <th>1</th>\n",
       "      <td>ID_cWEAQI.jpeg</td>\n",
       "      <td>healthy</td>\n",
       "      <td>0.064991</td>\n",
       "      <td>338.524902</td>\n",
       "      <td>1380.339478</td>\n",
       "      <td>1116.079102</td>\n",
       "      <td>1796.825317</td>\n",
       "      <td>2</td>\n",
       "    </tr>\n",
       "    <tr>\n",
       "      <th>2</th>\n",
       "      <td>ID_cWEAQI.jpeg</td>\n",
       "      <td>anthracnose</td>\n",
       "      <td>0.016846</td>\n",
       "      <td>2950.380615</td>\n",
       "      <td>606.978638</td>\n",
       "      <td>3975.202393</td>\n",
       "      <td>1475.716309</td>\n",
       "      <td>0</td>\n",
       "    </tr>\n",
       "    <tr>\n",
       "      <th>3</th>\n",
       "      <td>ID_cWEAQI.jpeg</td>\n",
       "      <td>healthy</td>\n",
       "      <td>0.005849</td>\n",
       "      <td>168.384781</td>\n",
       "      <td>0.000000</td>\n",
       "      <td>1498.166260</td>\n",
       "      <td>472.348175</td>\n",
       "      <td>2</td>\n",
       "    </tr>\n",
       "    <tr>\n",
       "      <th>4</th>\n",
       "      <td>ID_cWEAQI.jpeg</td>\n",
       "      <td>anthracnose</td>\n",
       "      <td>0.002263</td>\n",
       "      <td>3206.231445</td>\n",
       "      <td>821.201416</td>\n",
       "      <td>3986.431396</td>\n",
       "      <td>1348.242676</td>\n",
       "      <td>0</td>\n",
       "    </tr>\n",
       "  </tbody>\n",
       "</table>\n",
       "</div>"
      ],
      "text/plain": [
       "         Image_ID        class  confidence         ymin         xmin  \\\n",
       "0  ID_cWEAQI.jpeg      healthy    0.752511    66.324226     0.000000   \n",
       "1  ID_cWEAQI.jpeg      healthy    0.064991   338.524902  1380.339478   \n",
       "2  ID_cWEAQI.jpeg  anthracnose    0.016846  2950.380615   606.978638   \n",
       "3  ID_cWEAQI.jpeg      healthy    0.005849   168.384781     0.000000   \n",
       "4  ID_cWEAQI.jpeg  anthracnose    0.002263  3206.231445   821.201416   \n",
       "\n",
       "          ymax         xmax  class_id  \n",
       "0  3809.420410  1697.234009         2  \n",
       "1  1116.079102  1796.825317         2  \n",
       "2  3975.202393  1475.716309         0  \n",
       "3  1498.166260   472.348175         2  \n",
       "4  3986.431396  1348.242676         0  "
      ]
     },
     "execution_count": 5,
     "metadata": {},
     "output_type": "execute_result"
    }
   ],
   "source": [
    "test_df.head()"
   ]
  },
  {
   "cell_type": "code",
   "execution_count": 6,
   "metadata": {},
   "outputs": [],
   "source": [
    "import torch\n",
    "\n",
    "def convert_df(df: pd.DataFrame):\n",
    "\tdf = df.copy().dropna()\n",
    "\treturn {\n",
    "\t\timg_id: {\n",
    "\t\t\t\"boxes\": torch.tensor(raw[[\"xmin\", \"ymin\", \"xmax\", \"ymax\"]].values, dtype=torch.float32),\n",
    "\t\t\t\"scores\": (\n",
    "\t\t\t\ttorch.tensor(raw[\"confidence\"].values, dtype=torch.float32)\n",
    "\t\t\t\tif \"confidence\" in raw.columns\n",
    "\t\t\t\telse None\n",
    "\t\t\t),\n",
    "\t\t\t\"labels\": torch.tensor(raw[\"class_id\"].values, dtype=torch.int32),\n",
    "\t\t}\n",
    "\t\tfor (img_id, ), raw in df.groupby([\"Image_ID\"])\n",
    "\t}\n",
    "\n",
    "def default_value():\n",
    "\treturn {\n",
    "\t\t\"boxes\": torch.empty((0, 4), dtype=torch.float32),\n",
    "\t\t\"scores\": torch.empty((0,), dtype=torch.float32),\n",
    "\t\t\"labels\": torch.empty((0,), dtype=torch.int32),\n",
    "\t}\n",
    "\n",
    "\n",
    "converted_labels = list(PREDICTION_IMAGE_PATH.glob(\"*\"))\n",
    "converted_labels = [i.name for i in converted_labels]\n",
    "\n",
    "def get_preds_data(preds, thr: float = 0.5):\n",
    "\tif thr is not None:\n",
    "\t\tpreds = preds[preds[\"confidence\"] >= thr]\n",
    "\tpreds = convert_df(preds)\n",
    "\tprint(len(preds))\n",
    "\tprint(list(preds.keys())[:10])\n",
    "\td = default_value()\n",
    "\treturn {i: preds.get(i, d) for i in converted_labels}"
   ]
  },
  {
   "cell_type": "code",
   "execution_count": 7,
   "metadata": {},
   "outputs": [
    {
     "data": {
      "text/html": [
       "<div>\n",
       "<style scoped>\n",
       "    .dataframe tbody tr th:only-of-type {\n",
       "        vertical-align: middle;\n",
       "    }\n",
       "\n",
       "    .dataframe tbody tr th {\n",
       "        vertical-align: top;\n",
       "    }\n",
       "\n",
       "    .dataframe thead th {\n",
       "        text-align: right;\n",
       "    }\n",
       "</style>\n",
       "<table border=\"1\" class=\"dataframe\">\n",
       "  <thead>\n",
       "    <tr style=\"text-align: right;\">\n",
       "      <th></th>\n",
       "      <th>Image_ID</th>\n",
       "      <th>class</th>\n",
       "      <th>confidence</th>\n",
       "      <th>ymin</th>\n",
       "      <th>xmin</th>\n",
       "      <th>ymax</th>\n",
       "      <th>xmax</th>\n",
       "      <th>class_id</th>\n",
       "    </tr>\n",
       "  </thead>\n",
       "  <tbody>\n",
       "    <tr>\n",
       "      <th>98540</th>\n",
       "      <td>ID_vfelPl.jpg</td>\n",
       "      <td>anthracnose</td>\n",
       "      <td>0.000012</td>\n",
       "      <td>0.121983</td>\n",
       "      <td>1227.896851</td>\n",
       "      <td>143.486084</td>\n",
       "      <td>1750.469360</td>\n",
       "      <td>0</td>\n",
       "    </tr>\n",
       "    <tr>\n",
       "      <th>101074</th>\n",
       "      <td>ID_jr7JD5.jpg</td>\n",
       "      <td>anthracnose</td>\n",
       "      <td>0.000006</td>\n",
       "      <td>846.668518</td>\n",
       "      <td>435.631470</td>\n",
       "      <td>1418.477539</td>\n",
       "      <td>873.159302</td>\n",
       "      <td>0</td>\n",
       "    </tr>\n",
       "  </tbody>\n",
       "</table>\n",
       "</div>"
      ],
      "text/plain": [
       "             Image_ID        class  confidence        ymin         xmin  \\\n",
       "98540   ID_vfelPl.jpg  anthracnose    0.000012    0.121983  1227.896851   \n",
       "101074  ID_jr7JD5.jpg  anthracnose    0.000006  846.668518   435.631470   \n",
       "\n",
       "               ymax         xmax  class_id  \n",
       "98540    143.486084  1750.469360         0  \n",
       "101074  1418.477539   873.159302         0  "
      ]
     },
     "execution_count": 7,
     "metadata": {},
     "output_type": "execute_result"
    }
   ],
   "source": [
    "test_df.sample(2)"
   ]
  },
  {
   "cell_type": "code",
   "execution_count": 8,
   "metadata": {},
   "outputs": [
    {
     "name": "stdout",
     "output_type": "stream",
     "text": [
      "1626\n",
      "['ID_A16nzu.jpg', 'ID_A1Euyz.jpg', 'ID_A1HcV0.jpeg', 'ID_A4ZdJC.jpeg', 'ID_A5SFUW.jpeg', 'ID_A6Fogi.jpeg', 'ID_ABDCyn.jpeg', 'ID_ACg6Qf.jpeg', 'ID_AFi8A1.jpg', 'ID_AHlc9P.jpg']\n"
     ]
    },
    {
     "data": {
      "text/plain": [
       "1626"
      ]
     },
     "execution_count": 8,
     "metadata": {},
     "output_type": "execute_result"
    }
   ],
   "source": [
    "predictions = get_preds_data(test_df, thr=None)\n",
    "\n",
    "len(predictions)"
   ]
  },
  {
   "cell_type": "code",
   "execution_count": 9,
   "metadata": {},
   "outputs": [],
   "source": [
    "# predictions[\"ID_CGnAYP.jpg\"]"
   ]
  },
  {
   "cell_type": "code",
   "execution_count": 10,
   "metadata": {},
   "outputs": [
    {
     "data": {
      "text/plain": [
       "dict_keys(['boxes', 'scores', 'labels'])"
      ]
     },
     "execution_count": 10,
     "metadata": {},
     "output_type": "execute_result"
    }
   ],
   "source": [
    "predictions[\"ID_CGnAYP.jpg\"].keys()"
   ]
  },
  {
   "cell_type": "code",
   "execution_count": 11,
   "metadata": {},
   "outputs": [],
   "source": [
    "from torchvision.ops import nms\n",
    "\n",
    "def apply_nms(predictions: dict[str, torch.Tensor], iou_threshold=0.5):\n",
    "    \"\"\"\n",
    "    Apply Non-Maximum Suppression (NMS) to reduce overlapping boxes.\n",
    "\n",
    "    Args:\n",
    "        predictions (dict): Dictionary containing keys ['boxes', 'scores', 'labels'].\n",
    "        iou_threshold (float): Intersection over Union (IoU) threshold for NMS.\n",
    "\n",
    "    Returns:\n",
    "        dict: Filtered predictions after applying NMS.\n",
    "    \"\"\"\n",
    "    filtered_predictions = {}\n",
    "    for image_id, data in predictions.items():\n",
    "        boxes = data[\"boxes\"]\n",
    "        scores = data[\"scores\"]\n",
    "        labels = data[\"labels\"]\n",
    "\n",
    "        if boxes.numel() == 0:\n",
    "            # If no boxes, skip this image\n",
    "            filtered_predictions[image_id] = data\n",
    "            continue\n",
    "\n",
    "        # Perform NMS for each class separately\n",
    "        keep_indices = []\n",
    "        for label in labels.unique():\n",
    "            label_mask = labels == label\n",
    "            label_boxes = boxes[label_mask]\n",
    "            label_scores = scores[label_mask]\n",
    "            indices = nms(label_boxes, label_scores, iou_threshold)\n",
    "            keep_indices.extend(label_mask.nonzero(as_tuple=True)[0][indices].tolist())\n",
    "\n",
    "        # Filter boxes, scores, and labels based on NMS results\n",
    "        keep_indices = torch.tensor(keep_indices, dtype=torch.long)\n",
    "        filtered_predictions[image_id] = {\n",
    "            \"boxes\": boxes[keep_indices],\n",
    "            \"scores\": scores[keep_indices],\n",
    "            \"labels\": labels[keep_indices],\n",
    "        }\n",
    "\n",
    "    return filtered_predictions\n",
    "\n",
    "# Apply NMS to predictions\n",
    "filtered_predictions = apply_nms(predictions, iou_threshold=IOU_THR)"
   ]
  },
  {
   "cell_type": "code",
   "execution_count": 12,
   "metadata": {},
   "outputs": [],
   "source": [
    "# for k, v in predictions.items():\n",
    "#     r = filtered_predictions[k]\n",
    "#     if len(v[\"boxes\"]) != len(r[\"boxes\"]):\n",
    "#         print(k, len(v[\"boxes\"]), len(r[\"boxes\"]))\n",
    "#         print(\"Boxes before NMS:\", v[\"boxes\"])\n",
    "#         print(\"Boxes after NMS:\", r[\"boxes\"])\n",
    "#         print(\"Scores before NMS:\", v[\"scores\"])\n",
    "#         print(\"Scores after NMS:\", r[\"scores\"])\n",
    "#         print(\"Labels before NMS:\", v[\"labels\"])\n",
    "#         print(\"Labels after NMS:\", r[\"labels\"])\n",
    "#         print()\n",
    "#         break"
   ]
  },
  {
   "cell_type": "code",
   "execution_count": 13,
   "metadata": {},
   "outputs": [
    {
     "data": {
      "text/html": [
       "<div>\n",
       "<style scoped>\n",
       "    .dataframe tbody tr th:only-of-type {\n",
       "        vertical-align: middle;\n",
       "    }\n",
       "\n",
       "    .dataframe tbody tr th {\n",
       "        vertical-align: top;\n",
       "    }\n",
       "\n",
       "    .dataframe thead th {\n",
       "        text-align: right;\n",
       "    }\n",
       "</style>\n",
       "<table border=\"1\" class=\"dataframe\">\n",
       "  <thead>\n",
       "    <tr style=\"text-align: right;\">\n",
       "      <th></th>\n",
       "      <th>Image_ID</th>\n",
       "      <th>class</th>\n",
       "      <th>confidence</th>\n",
       "      <th>ymin</th>\n",
       "      <th>xmin</th>\n",
       "      <th>ymax</th>\n",
       "      <th>xmax</th>\n",
       "      <th>class_id</th>\n",
       "    </tr>\n",
       "  </thead>\n",
       "  <tbody>\n",
       "    <tr>\n",
       "      <th>0</th>\n",
       "      <td>ID_cWEAQI.jpeg</td>\n",
       "      <td>anthracnose</td>\n",
       "      <td>0.016846</td>\n",
       "      <td>2950.380615</td>\n",
       "      <td>606.978638</td>\n",
       "      <td>3975.202393</td>\n",
       "      <td>1475.716309</td>\n",
       "      <td>0</td>\n",
       "    </tr>\n",
       "    <tr>\n",
       "      <th>1</th>\n",
       "      <td>ID_cWEAQI.jpeg</td>\n",
       "      <td>anthracnose</td>\n",
       "      <td>0.002263</td>\n",
       "      <td>3206.231445</td>\n",
       "      <td>821.201416</td>\n",
       "      <td>3986.431396</td>\n",
       "      <td>1348.242676</td>\n",
       "      <td>0</td>\n",
       "    </tr>\n",
       "    <tr>\n",
       "      <th>2</th>\n",
       "      <td>ID_cWEAQI.jpeg</td>\n",
       "      <td>anthracnose</td>\n",
       "      <td>0.001027</td>\n",
       "      <td>3613.622803</td>\n",
       "      <td>0.000000</td>\n",
       "      <td>4000.000000</td>\n",
       "      <td>720.362122</td>\n",
       "      <td>0</td>\n",
       "    </tr>\n",
       "    <tr>\n",
       "      <th>3</th>\n",
       "      <td>ID_cWEAQI.jpeg</td>\n",
       "      <td>anthracnose</td>\n",
       "      <td>0.000755</td>\n",
       "      <td>2752.107910</td>\n",
       "      <td>51.489349</td>\n",
       "      <td>3995.725830</td>\n",
       "      <td>1658.611694</td>\n",
       "      <td>0</td>\n",
       "    </tr>\n",
       "    <tr>\n",
       "      <th>4</th>\n",
       "      <td>ID_cWEAQI.jpeg</td>\n",
       "      <td>anthracnose</td>\n",
       "      <td>0.000599</td>\n",
       "      <td>2968.642090</td>\n",
       "      <td>869.716614</td>\n",
       "      <td>3623.279297</td>\n",
       "      <td>1310.144775</td>\n",
       "      <td>0</td>\n",
       "    </tr>\n",
       "  </tbody>\n",
       "</table>\n",
       "</div>"
      ],
      "text/plain": [
       "         Image_ID        class  confidence         ymin        xmin  \\\n",
       "0  ID_cWEAQI.jpeg  anthracnose    0.016846  2950.380615  606.978638   \n",
       "1  ID_cWEAQI.jpeg  anthracnose    0.002263  3206.231445  821.201416   \n",
       "2  ID_cWEAQI.jpeg  anthracnose    0.001027  3613.622803    0.000000   \n",
       "3  ID_cWEAQI.jpeg  anthracnose    0.000755  2752.107910   51.489349   \n",
       "4  ID_cWEAQI.jpeg  anthracnose    0.000599  2968.642090  869.716614   \n",
       "\n",
       "          ymax         xmax  class_id  \n",
       "0  3975.202393  1475.716309         0  \n",
       "1  3986.431396  1348.242676         0  \n",
       "2  4000.000000   720.362122         0  \n",
       "3  3995.725830  1658.611694         0  \n",
       "4  3623.279297  1310.144775         0  "
      ]
     },
     "execution_count": 13,
     "metadata": {},
     "output_type": "execute_result"
    }
   ],
   "source": [
    "filtered_data = []\n",
    "id_to_label = {v: k for k, v in class_id.items()}\n",
    "for image_id, data in filtered_predictions.items():\n",
    "    boxes = data[\"boxes\"].tolist()\n",
    "    scores = data[\"scores\"].tolist()\n",
    "    labels = data[\"labels\"].tolist()\n",
    "    for box, score, label in zip(boxes, scores, labels):\n",
    "        filtered_data.append({\n",
    "            \"Image_ID\": image_id,\n",
    "            \"class\": id_to_label[label],\n",
    "            \"confidence\": score,\n",
    "            \"ymin\": box[1],\n",
    "            \"xmin\": box[0],\n",
    "            \"ymax\": box[3],\n",
    "            \"xmax\": box[2],\n",
    "            \"class_id\": label\n",
    "        })\n",
    "\n",
    "filtered_df = pd.DataFrame(filtered_data)\n",
    "filtered_df.head()"
   ]
  },
  {
   "cell_type": "code",
   "execution_count": 14,
   "metadata": {},
   "outputs": [
    {
     "data": {
      "text/plain": [
       "(242592, 243900)"
      ]
     },
     "execution_count": 14,
     "metadata": {},
     "output_type": "execute_result"
    }
   ],
   "source": [
    "len(filtered_df), len(test_df)"
   ]
  },
  {
   "cell_type": "code",
   "execution_count": 15,
   "metadata": {},
   "outputs": [
    {
     "data": {
      "text/plain": [
       "class\n",
       "healthy        102924\n",
       "cssvd           75439\n",
       "anthracnose     64229\n",
       "Name: count, dtype: int64"
      ]
     },
     "execution_count": 15,
     "metadata": {},
     "output_type": "execute_result"
    }
   ],
   "source": [
    "filtered_df[\"class\"].value_counts()"
   ]
  },
  {
   "cell_type": "code",
   "execution_count": 16,
   "metadata": {},
   "outputs": [
    {
     "data": {
      "text/plain": [
       "class\n",
       "healthy        0.424268\n",
       "cssvd          0.310971\n",
       "anthracnose    0.264761\n",
       "Name: proportion, dtype: float64"
      ]
     },
     "execution_count": 16,
     "metadata": {},
     "output_type": "execute_result"
    }
   ],
   "source": [
    "filtered_df[\"class\"].value_counts(normalize=True)"
   ]
  },
  {
   "cell_type": "code",
   "execution_count": 17,
   "metadata": {},
   "outputs": [],
   "source": [
    "files = list(PREDICTION_IMAGE_PATH.glob(\"*\"))"
   ]
  },
  {
   "cell_type": "code",
   "execution_count": 18,
   "metadata": {},
   "outputs": [],
   "source": [
    "test_df: pd.DataFrame = filtered_df.copy()"
   ]
  },
  {
   "cell_type": "code",
   "execution_count": 19,
   "metadata": {},
   "outputs": [
    {
     "data": {
      "text/plain": [
       "[{'Image_ID': 'ID_cWEAQI.jpeg',\n",
       "  'class': 'anthracnose',\n",
       "  'confidence': 0.016845766454935074,\n",
       "  'ymin': 2950.380615234375,\n",
       "  'xmin': 606.9786376953125,\n",
       "  'ymax': 3975.202392578125,\n",
       "  'xmax': 1475.71630859375,\n",
       "  'class_id': 0},\n",
       " {'Image_ID': 'ID_cWEAQI.jpeg',\n",
       "  'class': 'anthracnose',\n",
       "  'confidence': 0.0022628314327448606,\n",
       "  'ymin': 3206.2314453125,\n",
       "  'xmin': 821.201416015625,\n",
       "  'ymax': 3986.431396484375,\n",
       "  'xmax': 1348.24267578125,\n",
       "  'class_id': 0},\n",
       " {'Image_ID': 'ID_cWEAQI.jpeg',\n",
       "  'class': 'anthracnose',\n",
       "  'confidence': 0.0010270517086610198,\n",
       "  'ymin': 3613.622802734375,\n",
       "  'xmin': 0.0,\n",
       "  'ymax': 4000.0,\n",
       "  'xmax': 720.3621215820312,\n",
       "  'class_id': 0},\n",
       " {'Image_ID': 'ID_cWEAQI.jpeg',\n",
       "  'class': 'anthracnose',\n",
       "  'confidence': 0.0007548005087301135,\n",
       "  'ymin': 2752.10791015625,\n",
       "  'xmin': 51.489349365234375,\n",
       "  'ymax': 3995.725830078125,\n",
       "  'xmax': 1658.6116943359375,\n",
       "  'class_id': 0},\n",
       " {'Image_ID': 'ID_cWEAQI.jpeg',\n",
       "  'class': 'anthracnose',\n",
       "  'confidence': 0.0005994461826048791,\n",
       "  'ymin': 2968.64208984375,\n",
       "  'xmin': 869.7166137695312,\n",
       "  'ymax': 3623.279296875,\n",
       "  'xmax': 1310.144775390625,\n",
       "  'class_id': 0}]"
      ]
     },
     "execution_count": 19,
     "metadata": {},
     "output_type": "execute_result"
    }
   ],
   "source": [
    "test_records = test_df.to_dict(orient=\"records\")\n",
    "\n",
    "test_records[:5]"
   ]
  },
  {
   "cell_type": "code",
   "execution_count": 20,
   "metadata": {},
   "outputs": [
    {
     "data": {
      "text/plain": [
       "['ID_cWEAQI.jpeg', 'ID_NtqErb.jpg']"
      ]
     },
     "execution_count": 20,
     "metadata": {},
     "output_type": "execute_result"
    }
   ],
   "source": [
    "file_id = [i.name for i in files]\n",
    "file_id[:2]"
   ]
  },
  {
   "cell_type": "code",
   "execution_count": 21,
   "metadata": {},
   "outputs": [],
   "source": [
    "file_okay = set(test_df[\"Image_ID\"].values)\n",
    "file_nokay = set(file_id) - file_okay\n",
    "\n",
    "for f in file_nokay:\n",
    "    test_records.append(\n",
    "\t\t{\n",
    "\t\t\t\"Image_ID\": f,\n",
    "\t\t}\n",
    "\t)"
   ]
  },
  {
   "cell_type": "code",
   "execution_count": 22,
   "metadata": {},
   "outputs": [
    {
     "data": {
      "text/html": [
       "<div>\n",
       "<style scoped>\n",
       "    .dataframe tbody tr th:only-of-type {\n",
       "        vertical-align: middle;\n",
       "    }\n",
       "\n",
       "    .dataframe tbody tr th {\n",
       "        vertical-align: top;\n",
       "    }\n",
       "\n",
       "    .dataframe thead th {\n",
       "        text-align: right;\n",
       "    }\n",
       "</style>\n",
       "<table border=\"1\" class=\"dataframe\">\n",
       "  <thead>\n",
       "    <tr style=\"text-align: right;\">\n",
       "      <th></th>\n",
       "      <th>Image_ID</th>\n",
       "      <th>class</th>\n",
       "      <th>confidence</th>\n",
       "      <th>ymin</th>\n",
       "      <th>xmin</th>\n",
       "      <th>ymax</th>\n",
       "      <th>xmax</th>\n",
       "      <th>class_id</th>\n",
       "    </tr>\n",
       "  </thead>\n",
       "  <tbody>\n",
       "    <tr>\n",
       "      <th>89994</th>\n",
       "      <td>ID_Ivijgf.jpg</td>\n",
       "      <td>anthracnose</td>\n",
       "      <td>0.000108</td>\n",
       "      <td>0.000000</td>\n",
       "      <td>344.714417</td>\n",
       "      <td>30.341446</td>\n",
       "      <td>603.604675</td>\n",
       "      <td>0</td>\n",
       "    </tr>\n",
       "    <tr>\n",
       "      <th>197292</th>\n",
       "      <td>ID_AuxMUi.jpeg</td>\n",
       "      <td>healthy</td>\n",
       "      <td>0.000137</td>\n",
       "      <td>2778.057129</td>\n",
       "      <td>3024.000000</td>\n",
       "      <td>2975.129883</td>\n",
       "      <td>3024.000000</td>\n",
       "      <td>2</td>\n",
       "    </tr>\n",
       "    <tr>\n",
       "      <th>5125</th>\n",
       "      <td>ID_MISf6G.jpeg</td>\n",
       "      <td>anthracnose</td>\n",
       "      <td>0.000012</td>\n",
       "      <td>923.500000</td>\n",
       "      <td>805.786194</td>\n",
       "      <td>1420.819702</td>\n",
       "      <td>1358.097778</td>\n",
       "      <td>0</td>\n",
       "    </tr>\n",
       "    <tr>\n",
       "      <th>94375</th>\n",
       "      <td>ID_VLFJSv.jpg</td>\n",
       "      <td>anthracnose</td>\n",
       "      <td>0.000020</td>\n",
       "      <td>870.469849</td>\n",
       "      <td>0.000000</td>\n",
       "      <td>1262.002319</td>\n",
       "      <td>62.525909</td>\n",
       "      <td>0</td>\n",
       "    </tr>\n",
       "    <tr>\n",
       "      <th>236539</th>\n",
       "      <td>ID_GMWGve.jpg</td>\n",
       "      <td>cssvd</td>\n",
       "      <td>0.000007</td>\n",
       "      <td>1016.283508</td>\n",
       "      <td>568.519165</td>\n",
       "      <td>1079.885742</td>\n",
       "      <td>781.297852</td>\n",
       "      <td>1</td>\n",
       "    </tr>\n",
       "    <tr>\n",
       "      <th>18826</th>\n",
       "      <td>ID_JgQ193.jpg</td>\n",
       "      <td>anthracnose</td>\n",
       "      <td>0.000015</td>\n",
       "      <td>585.394287</td>\n",
       "      <td>122.200867</td>\n",
       "      <td>701.264160</td>\n",
       "      <td>230.452347</td>\n",
       "      <td>0</td>\n",
       "    </tr>\n",
       "    <tr>\n",
       "      <th>198479</th>\n",
       "      <td>ID_zxvYPO.jpeg</td>\n",
       "      <td>anthracnose</td>\n",
       "      <td>0.000009</td>\n",
       "      <td>0.000000</td>\n",
       "      <td>975.839905</td>\n",
       "      <td>358.819519</td>\n",
       "      <td>2870.478271</td>\n",
       "      <td>0</td>\n",
       "    </tr>\n",
       "    <tr>\n",
       "      <th>12308</th>\n",
       "      <td>ID_V7syTo.jpg</td>\n",
       "      <td>anthracnose</td>\n",
       "      <td>0.000039</td>\n",
       "      <td>1.651108</td>\n",
       "      <td>19.337585</td>\n",
       "      <td>225.556229</td>\n",
       "      <td>319.822632</td>\n",
       "      <td>0</td>\n",
       "    </tr>\n",
       "    <tr>\n",
       "      <th>101077</th>\n",
       "      <td>ID_ft52kR.jpg</td>\n",
       "      <td>cssvd</td>\n",
       "      <td>0.000028</td>\n",
       "      <td>16.761703</td>\n",
       "      <td>249.625092</td>\n",
       "      <td>576.891846</td>\n",
       "      <td>624.434326</td>\n",
       "      <td>1</td>\n",
       "    </tr>\n",
       "    <tr>\n",
       "      <th>218660</th>\n",
       "      <td>ID_EmeUOz.jpg</td>\n",
       "      <td>healthy</td>\n",
       "      <td>0.000326</td>\n",
       "      <td>20.472578</td>\n",
       "      <td>93.852570</td>\n",
       "      <td>61.553406</td>\n",
       "      <td>132.014084</td>\n",
       "      <td>2</td>\n",
       "    </tr>\n",
       "  </tbody>\n",
       "</table>\n",
       "</div>"
      ],
      "text/plain": [
       "              Image_ID        class  confidence         ymin         xmin  \\\n",
       "89994    ID_Ivijgf.jpg  anthracnose    0.000108     0.000000   344.714417   \n",
       "197292  ID_AuxMUi.jpeg      healthy    0.000137  2778.057129  3024.000000   \n",
       "5125    ID_MISf6G.jpeg  anthracnose    0.000012   923.500000   805.786194   \n",
       "94375    ID_VLFJSv.jpg  anthracnose    0.000020   870.469849     0.000000   \n",
       "236539   ID_GMWGve.jpg        cssvd    0.000007  1016.283508   568.519165   \n",
       "18826    ID_JgQ193.jpg  anthracnose    0.000015   585.394287   122.200867   \n",
       "198479  ID_zxvYPO.jpeg  anthracnose    0.000009     0.000000   975.839905   \n",
       "12308    ID_V7syTo.jpg  anthracnose    0.000039     1.651108    19.337585   \n",
       "101077   ID_ft52kR.jpg        cssvd    0.000028    16.761703   249.625092   \n",
       "218660   ID_EmeUOz.jpg      healthy    0.000326    20.472578    93.852570   \n",
       "\n",
       "               ymax         xmax  class_id  \n",
       "89994     30.341446   603.604675         0  \n",
       "197292  2975.129883  3024.000000         2  \n",
       "5125    1420.819702  1358.097778         0  \n",
       "94375   1262.002319    62.525909         0  \n",
       "236539  1079.885742   781.297852         1  \n",
       "18826    701.264160   230.452347         0  \n",
       "198479   358.819519  2870.478271         0  \n",
       "12308    225.556229   319.822632         0  \n",
       "101077   576.891846   624.434326         1  \n",
       "218660    61.553406   132.014084         2  "
      ]
     },
     "execution_count": 22,
     "metadata": {},
     "output_type": "execute_result"
    }
   ],
   "source": [
    "test_df = pd.DataFrame(test_records)\n",
    "\n",
    "test_df.sample(10)"
   ]
  },
  {
   "cell_type": "code",
   "execution_count": 23,
   "metadata": {},
   "outputs": [
    {
     "data": {
      "text/plain": [
       "class\n",
       "healthy        102924\n",
       "cssvd           75439\n",
       "anthracnose     64229\n",
       "Name: count, dtype: int64"
      ]
     },
     "execution_count": 23,
     "metadata": {},
     "output_type": "execute_result"
    }
   ],
   "source": [
    "test_df[\"class\"].value_counts()"
   ]
  },
  {
   "cell_type": "code",
   "execution_count": 24,
   "metadata": {},
   "outputs": [],
   "source": [
    "test_df.to_csv(PREDICTION_PATH.replace(\"-prediction\", \"-submission\"), index=False)"
   ]
  },
  {
   "cell_type": "code",
   "execution_count": 25,
   "metadata": {},
   "outputs": [
    {
     "data": {
      "text/plain": [
       "'dataset/predictions/09-submissions.csv'"
      ]
     },
     "execution_count": 25,
     "metadata": {},
     "output_type": "execute_result"
    }
   ],
   "source": [
    "PREDICTION_PATH.replace(\"-prediction\", \"-submission\")"
   ]
  }
 ],
 "metadata": {
  "kernelspec": {
   "display_name": ".venv",
   "language": "python",
   "name": "python3"
  },
  "language_info": {
   "codemirror_mode": {
    "name": "ipython",
    "version": 3
   },
   "file_extension": ".py",
   "mimetype": "text/x-python",
   "name": "python",
   "nbconvert_exporter": "python",
   "pygments_lexer": "ipython3",
   "version": "3.10.13"
  }
 },
 "nbformat": 4,
 "nbformat_minor": 2
}
