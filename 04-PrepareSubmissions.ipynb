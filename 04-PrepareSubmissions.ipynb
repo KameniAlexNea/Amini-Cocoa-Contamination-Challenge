{
 "cells": [
  {
   "cell_type": "code",
   "execution_count": 1,
   "metadata": {},
   "outputs": [],
   "source": [
    "# Import libraries\n",
    "import pandas as pd\n",
    "import os\n",
    "from pathlib import Path\n",
    "from tqdm import tqdm\n",
    "import yaml\n",
    "import matplotlib.pyplot as plt\n",
    "import numpy as np\n",
    "from PIL import Image"
   ]
  },
  {
   "cell_type": "code",
   "execution_count": 2,
   "metadata": {},
   "outputs": [],
   "source": [
    "LEARNED_THR = 0.00001\n",
    "IOU_THR = 0.7\n",
    "PREDICTION_PATH = \"dataset/predictions/09-predictions.csv\""
   ]
  },
  {
   "cell_type": "code",
   "execution_count": 3,
   "metadata": {},
   "outputs": [
    {
     "data": {
      "text/html": [
       "<div>\n",
       "<style scoped>\n",
       "    .dataframe tbody tr th:only-of-type {\n",
       "        vertical-align: middle;\n",
       "    }\n",
       "\n",
       "    .dataframe tbody tr th {\n",
       "        vertical-align: top;\n",
       "    }\n",
       "\n",
       "    .dataframe thead th {\n",
       "        text-align: right;\n",
       "    }\n",
       "</style>\n",
       "<table border=\"1\" class=\"dataframe\">\n",
       "  <thead>\n",
       "    <tr style=\"text-align: right;\">\n",
       "      <th></th>\n",
       "      <th>Image_ID</th>\n",
       "      <th>class</th>\n",
       "      <th>confidence</th>\n",
       "      <th>ymin</th>\n",
       "      <th>xmin</th>\n",
       "      <th>ymax</th>\n",
       "      <th>xmax</th>\n",
       "    </tr>\n",
       "  </thead>\n",
       "  <tbody>\n",
       "    <tr>\n",
       "      <th>29282</th>\n",
       "      <td>ID_XDDvmd.jpg</td>\n",
       "      <td>cssvd</td>\n",
       "      <td>0.000107</td>\n",
       "      <td>3142.875000</td>\n",
       "      <td>0.000000</td>\n",
       "      <td>3264.000000</td>\n",
       "      <td>1286.156250</td>\n",
       "    </tr>\n",
       "    <tr>\n",
       "      <th>8934</th>\n",
       "      <td>ID_VqylTD.jpeg</td>\n",
       "      <td>healthy</td>\n",
       "      <td>0.000140</td>\n",
       "      <td>68.125000</td>\n",
       "      <td>0.000000</td>\n",
       "      <td>236.875000</td>\n",
       "      <td>102.187500</td>\n",
       "    </tr>\n",
       "    <tr>\n",
       "      <th>241628</th>\n",
       "      <td>ID_tf5cZg.jpeg</td>\n",
       "      <td>healthy</td>\n",
       "      <td>0.000249</td>\n",
       "      <td>0.000000</td>\n",
       "      <td>0.000000</td>\n",
       "      <td>299.742157</td>\n",
       "      <td>314.999969</td>\n",
       "    </tr>\n",
       "    <tr>\n",
       "      <th>102495</th>\n",
       "      <td>ID_GRoUWA.JPG</td>\n",
       "      <td>healthy</td>\n",
       "      <td>0.013023</td>\n",
       "      <td>617.976562</td>\n",
       "      <td>14.343750</td>\n",
       "      <td>1153.875000</td>\n",
       "      <td>615.187500</td>\n",
       "    </tr>\n",
       "    <tr>\n",
       "      <th>183511</th>\n",
       "      <td>ID_TNiZUE.jpg</td>\n",
       "      <td>cssvd</td>\n",
       "      <td>0.000043</td>\n",
       "      <td>0.131836</td>\n",
       "      <td>387.070312</td>\n",
       "      <td>45.120850</td>\n",
       "      <td>810.000000</td>\n",
       "    </tr>\n",
       "  </tbody>\n",
       "</table>\n",
       "</div>"
      ],
      "text/plain": [
       "              Image_ID    class  confidence         ymin        xmin  \\\n",
       "29282    ID_XDDvmd.jpg    cssvd    0.000107  3142.875000    0.000000   \n",
       "8934    ID_VqylTD.jpeg  healthy    0.000140    68.125000    0.000000   \n",
       "241628  ID_tf5cZg.jpeg  healthy    0.000249     0.000000    0.000000   \n",
       "102495   ID_GRoUWA.JPG  healthy    0.013023   617.976562   14.343750   \n",
       "183511   ID_TNiZUE.jpg    cssvd    0.000043     0.131836  387.070312   \n",
       "\n",
       "               ymax         xmax  \n",
       "29282   3264.000000  1286.156250  \n",
       "8934     236.875000   102.187500  \n",
       "241628   299.742157   314.999969  \n",
       "102495  1153.875000   615.187500  \n",
       "183511    45.120850   810.000000  "
      ]
     },
     "execution_count": 3,
     "metadata": {},
     "output_type": "execute_result"
    }
   ],
   "source": [
    "PREDICTION_IMAGE_PATH = Path(\"dataset/images/test\")\n",
    "\n",
    "test_df = pd.read_csv(PREDICTION_PATH).rename(\n",
    "    columns={\"x_min\": \"xmin\", \"y_min\": \"ymin\", \"x_max\": \"xmax\", \"y_max\": \"ymax\"}\n",
    ")\n",
    "test_df.sample(5)"
   ]
  },
  {
   "cell_type": "code",
   "execution_count": 4,
   "metadata": {},
   "outputs": [
    {
     "data": {
      "text/plain": [
       "{'anthracnose': 0, 'cssvd': 1, 'healthy': 2}"
      ]
     },
     "execution_count": 4,
     "metadata": {},
     "output_type": "execute_result"
    }
   ],
   "source": [
    "class_id = {j: i for i, j in enumerate(sorted(test_df[\"class\"].unique()))}\n",
    "test_df[\"class_id\"] = test_df[\"class\"].map(class_id)\n",
    "class_id"
   ]
  },
  {
   "cell_type": "code",
   "execution_count": 5,
   "metadata": {},
   "outputs": [
    {
     "data": {
      "text/html": [
       "<div>\n",
       "<style scoped>\n",
       "    .dataframe tbody tr th:only-of-type {\n",
       "        vertical-align: middle;\n",
       "    }\n",
       "\n",
       "    .dataframe tbody tr th {\n",
       "        vertical-align: top;\n",
       "    }\n",
       "\n",
       "    .dataframe thead th {\n",
       "        text-align: right;\n",
       "    }\n",
       "</style>\n",
       "<table border=\"1\" class=\"dataframe\">\n",
       "  <thead>\n",
       "    <tr style=\"text-align: right;\">\n",
       "      <th></th>\n",
       "      <th>Image_ID</th>\n",
       "      <th>class</th>\n",
       "      <th>confidence</th>\n",
       "      <th>ymin</th>\n",
       "      <th>xmin</th>\n",
       "      <th>ymax</th>\n",
       "      <th>xmax</th>\n",
       "      <th>class_id</th>\n",
       "    </tr>\n",
       "  </thead>\n",
       "  <tbody>\n",
       "    <tr>\n",
       "      <th>0</th>\n",
       "      <td>ID_cWEAQI.jpeg</td>\n",
       "      <td>healthy</td>\n",
       "      <td>0.698242</td>\n",
       "      <td>72.265617</td>\n",
       "      <td>0.000000</td>\n",
       "      <td>3810.546631</td>\n",
       "      <td>1687.499878</td>\n",
       "      <td>2</td>\n",
       "    </tr>\n",
       "    <tr>\n",
       "      <th>1</th>\n",
       "      <td>ID_cWEAQI.jpeg</td>\n",
       "      <td>anthracnose</td>\n",
       "      <td>0.010094</td>\n",
       "      <td>2726.562256</td>\n",
       "      <td>638.671814</td>\n",
       "      <td>3874.999756</td>\n",
       "      <td>1568.359253</td>\n",
       "      <td>0</td>\n",
       "    </tr>\n",
       "    <tr>\n",
       "      <th>2</th>\n",
       "      <td>ID_cWEAQI.jpeg</td>\n",
       "      <td>healthy</td>\n",
       "      <td>0.006073</td>\n",
       "      <td>166.015610</td>\n",
       "      <td>0.000000</td>\n",
       "      <td>1314.453003</td>\n",
       "      <td>544.921814</td>\n",
       "      <td>2</td>\n",
       "    </tr>\n",
       "    <tr>\n",
       "      <th>3</th>\n",
       "      <td>ID_cWEAQI.jpeg</td>\n",
       "      <td>anthracnose</td>\n",
       "      <td>0.004757</td>\n",
       "      <td>3523.437256</td>\n",
       "      <td>7.812500</td>\n",
       "      <td>3999.999756</td>\n",
       "      <td>753.906189</td>\n",
       "      <td>0</td>\n",
       "    </tr>\n",
       "    <tr>\n",
       "      <th>4</th>\n",
       "      <td>ID_cWEAQI.jpeg</td>\n",
       "      <td>healthy</td>\n",
       "      <td>0.002958</td>\n",
       "      <td>366.210907</td>\n",
       "      <td>1406.249878</td>\n",
       "      <td>1158.203003</td>\n",
       "      <td>1800.000000</td>\n",
       "      <td>2</td>\n",
       "    </tr>\n",
       "  </tbody>\n",
       "</table>\n",
       "</div>"
      ],
      "text/plain": [
       "         Image_ID        class  confidence         ymin         xmin  \\\n",
       "0  ID_cWEAQI.jpeg      healthy    0.698242    72.265617     0.000000   \n",
       "1  ID_cWEAQI.jpeg  anthracnose    0.010094  2726.562256   638.671814   \n",
       "2  ID_cWEAQI.jpeg      healthy    0.006073   166.015610     0.000000   \n",
       "3  ID_cWEAQI.jpeg  anthracnose    0.004757  3523.437256     7.812500   \n",
       "4  ID_cWEAQI.jpeg      healthy    0.002958   366.210907  1406.249878   \n",
       "\n",
       "          ymax         xmax  class_id  \n",
       "0  3810.546631  1687.499878         2  \n",
       "1  3874.999756  1568.359253         0  \n",
       "2  1314.453003   544.921814         2  \n",
       "3  3999.999756   753.906189         0  \n",
       "4  1158.203003  1800.000000         2  "
      ]
     },
     "execution_count": 5,
     "metadata": {},
     "output_type": "execute_result"
    }
   ],
   "source": [
    "test_df.head()"
   ]
  },
  {
   "cell_type": "code",
   "execution_count": 6,
   "metadata": {},
   "outputs": [],
   "source": [
    "import torch\n",
    "\n",
    "def convert_df(df: pd.DataFrame):\n",
    "\tdf = df.copy().dropna()\n",
    "\treturn {\n",
    "\t\timg_id: {\n",
    "\t\t\t\"boxes\": torch.tensor(raw[[\"xmin\", \"ymin\", \"xmax\", \"ymax\"]].values, dtype=torch.float32),\n",
    "\t\t\t\"scores\": (\n",
    "\t\t\t\ttorch.tensor(raw[\"confidence\"].values, dtype=torch.float32)\n",
    "\t\t\t\tif \"confidence\" in raw.columns\n",
    "\t\t\t\telse None\n",
    "\t\t\t),\n",
    "\t\t\t\"labels\": torch.tensor(raw[\"class_id\"].values, dtype=torch.int32),\n",
    "\t\t}\n",
    "\t\tfor (img_id, ), raw in df.groupby([\"Image_ID\"])\n",
    "\t}\n",
    "\n",
    "def default_value():\n",
    "\treturn {\n",
    "\t\t\"boxes\": torch.empty((0, 4), dtype=torch.float32),\n",
    "\t\t\"scores\": torch.empty((0,), dtype=torch.float32),\n",
    "\t\t\"labels\": torch.empty((0,), dtype=torch.int32),\n",
    "\t}\n",
    "\n",
    "\n",
    "converted_labels = list(PREDICTION_IMAGE_PATH.glob(\"*\"))\n",
    "converted_labels = [i.name for i in converted_labels]\n",
    "\n",
    "def get_preds_data(preds, thr: float = 0.5):\n",
    "\tif thr is not None:\n",
    "\t\tpreds = preds[preds[\"confidence\"] >= thr]\n",
    "\tpreds = convert_df(preds)\n",
    "\tprint(len(preds))\n",
    "\tprint(list(preds.keys())[:10])\n",
    "\td = default_value()\n",
    "\treturn {i: preds.get(i, d) for i in converted_labels}"
   ]
  },
  {
   "cell_type": "code",
   "execution_count": 7,
   "metadata": {},
   "outputs": [
    {
     "data": {
      "text/html": [
       "<div>\n",
       "<style scoped>\n",
       "    .dataframe tbody tr th:only-of-type {\n",
       "        vertical-align: middle;\n",
       "    }\n",
       "\n",
       "    .dataframe tbody tr th {\n",
       "        vertical-align: top;\n",
       "    }\n",
       "\n",
       "    .dataframe thead th {\n",
       "        text-align: right;\n",
       "    }\n",
       "</style>\n",
       "<table border=\"1\" class=\"dataframe\">\n",
       "  <thead>\n",
       "    <tr style=\"text-align: right;\">\n",
       "      <th></th>\n",
       "      <th>Image_ID</th>\n",
       "      <th>class</th>\n",
       "      <th>confidence</th>\n",
       "      <th>ymin</th>\n",
       "      <th>xmin</th>\n",
       "      <th>ymax</th>\n",
       "      <th>xmax</th>\n",
       "      <th>class_id</th>\n",
       "    </tr>\n",
       "  </thead>\n",
       "  <tbody>\n",
       "    <tr>\n",
       "      <th>66888</th>\n",
       "      <td>ID_S1PHIl.jpg</td>\n",
       "      <td>healthy</td>\n",
       "      <td>0.00090</td>\n",
       "      <td>948.164062</td>\n",
       "      <td>406.054688</td>\n",
       "      <td>1038.867188</td>\n",
       "      <td>486.210938</td>\n",
       "      <td>2</td>\n",
       "    </tr>\n",
       "    <tr>\n",
       "      <th>163467</th>\n",
       "      <td>ID_ZQ6oNQ.jpeg</td>\n",
       "      <td>healthy</td>\n",
       "      <td>0.00014</td>\n",
       "      <td>3130.312256</td>\n",
       "      <td>1846.687378</td>\n",
       "      <td>4028.062256</td>\n",
       "      <td>2555.437256</td>\n",
       "      <td>2</td>\n",
       "    </tr>\n",
       "  </tbody>\n",
       "</table>\n",
       "</div>"
      ],
      "text/plain": [
       "              Image_ID    class  confidence         ymin         xmin  \\\n",
       "66888    ID_S1PHIl.jpg  healthy     0.00090   948.164062   406.054688   \n",
       "163467  ID_ZQ6oNQ.jpeg  healthy     0.00014  3130.312256  1846.687378   \n",
       "\n",
       "               ymax         xmax  class_id  \n",
       "66888   1038.867188   486.210938         2  \n",
       "163467  4028.062256  2555.437256         2  "
      ]
     },
     "execution_count": 7,
     "metadata": {},
     "output_type": "execute_result"
    }
   ],
   "source": [
    "test_df.sample(2)"
   ]
  },
  {
   "cell_type": "code",
   "execution_count": 8,
   "metadata": {},
   "outputs": [
    {
     "name": "stdout",
     "output_type": "stream",
     "text": [
      "1626\n",
      "['ID_A16nzu.jpg', 'ID_A1Euyz.jpg', 'ID_A1HcV0.jpeg', 'ID_A4ZdJC.jpeg', 'ID_A5SFUW.jpeg', 'ID_A6Fogi.jpeg', 'ID_ABDCyn.jpeg', 'ID_ACg6Qf.jpeg', 'ID_AFi8A1.jpg', 'ID_AHlc9P.jpg']\n"
     ]
    },
    {
     "data": {
      "text/plain": [
       "1626"
      ]
     },
     "execution_count": 8,
     "metadata": {},
     "output_type": "execute_result"
    }
   ],
   "source": [
    "predictions = get_preds_data(test_df, thr=None)\n",
    "\n",
    "len(predictions)"
   ]
  },
  {
   "cell_type": "code",
   "execution_count": 9,
   "metadata": {},
   "outputs": [],
   "source": [
    "# predictions[\"ID_CGnAYP.jpg\"]"
   ]
  },
  {
   "cell_type": "code",
   "execution_count": 10,
   "metadata": {},
   "outputs": [
    {
     "data": {
      "text/plain": [
       "dict_keys(['boxes', 'scores', 'labels'])"
      ]
     },
     "execution_count": 10,
     "metadata": {},
     "output_type": "execute_result"
    }
   ],
   "source": [
    "predictions[\"ID_CGnAYP.jpg\"].keys()"
   ]
  },
  {
   "cell_type": "code",
   "execution_count": 11,
   "metadata": {},
   "outputs": [],
   "source": [
    "from torchvision.ops import nms\n",
    "\n",
    "def apply_nms(predictions: dict[str, torch.Tensor], iou_threshold=0.5):\n",
    "    \"\"\"\n",
    "    Apply Non-Maximum Suppression (NMS) to reduce overlapping boxes.\n",
    "\n",
    "    Args:\n",
    "        predictions (dict): Dictionary containing keys ['boxes', 'scores', 'labels'].\n",
    "        iou_threshold (float): Intersection over Union (IoU) threshold for NMS.\n",
    "\n",
    "    Returns:\n",
    "        dict: Filtered predictions after applying NMS.\n",
    "    \"\"\"\n",
    "    filtered_predictions = {}\n",
    "    for image_id, data in predictions.items():\n",
    "        boxes = data[\"boxes\"]\n",
    "        scores = data[\"scores\"]\n",
    "        labels = data[\"labels\"]\n",
    "\n",
    "        if boxes.numel() == 0:\n",
    "            # If no boxes, skip this image\n",
    "            filtered_predictions[image_id] = data\n",
    "            continue\n",
    "\n",
    "        # Perform NMS for each class separately\n",
    "        keep_indices = []\n",
    "        for label in labels.unique():\n",
    "            label_mask = labels == label\n",
    "            label_boxes = boxes[label_mask]\n",
    "            label_scores = scores[label_mask]\n",
    "            indices = nms(label_boxes, label_scores, iou_threshold)\n",
    "            keep_indices.extend(label_mask.nonzero(as_tuple=True)[0][indices].tolist())\n",
    "\n",
    "        # Filter boxes, scores, and labels based on NMS results\n",
    "        keep_indices = torch.tensor(keep_indices, dtype=torch.long)\n",
    "        filtered_predictions[image_id] = {\n",
    "            \"boxes\": boxes[keep_indices],\n",
    "            \"scores\": scores[keep_indices],\n",
    "            \"labels\": labels[keep_indices],\n",
    "        }\n",
    "\n",
    "    return filtered_predictions\n",
    "\n",
    "# Apply NMS to predictions\n",
    "filtered_predictions = apply_nms(predictions, iou_threshold=IOU_THR)"
   ]
  },
  {
   "cell_type": "code",
   "execution_count": 12,
   "metadata": {},
   "outputs": [],
   "source": [
    "# for k, v in predictions.items():\n",
    "#     r = filtered_predictions[k]\n",
    "#     if len(v[\"boxes\"]) != len(r[\"boxes\"]):\n",
    "#         print(k, len(v[\"boxes\"]), len(r[\"boxes\"]))\n",
    "#         print(\"Boxes before NMS:\", v[\"boxes\"])\n",
    "#         print(\"Boxes after NMS:\", r[\"boxes\"])\n",
    "#         print(\"Scores before NMS:\", v[\"scores\"])\n",
    "#         print(\"Scores after NMS:\", r[\"scores\"])\n",
    "#         print(\"Labels before NMS:\", v[\"labels\"])\n",
    "#         print(\"Labels after NMS:\", r[\"labels\"])\n",
    "#         print()\n",
    "#         break"
   ]
  },
  {
   "cell_type": "code",
   "execution_count": 13,
   "metadata": {},
   "outputs": [
    {
     "data": {
      "text/html": [
       "<div>\n",
       "<style scoped>\n",
       "    .dataframe tbody tr th:only-of-type {\n",
       "        vertical-align: middle;\n",
       "    }\n",
       "\n",
       "    .dataframe tbody tr th {\n",
       "        vertical-align: top;\n",
       "    }\n",
       "\n",
       "    .dataframe thead th {\n",
       "        text-align: right;\n",
       "    }\n",
       "</style>\n",
       "<table border=\"1\" class=\"dataframe\">\n",
       "  <thead>\n",
       "    <tr style=\"text-align: right;\">\n",
       "      <th></th>\n",
       "      <th>Image_ID</th>\n",
       "      <th>class</th>\n",
       "      <th>confidence</th>\n",
       "      <th>ymin</th>\n",
       "      <th>xmin</th>\n",
       "      <th>ymax</th>\n",
       "      <th>xmax</th>\n",
       "      <th>class_id</th>\n",
       "    </tr>\n",
       "  </thead>\n",
       "  <tbody>\n",
       "    <tr>\n",
       "      <th>0</th>\n",
       "      <td>ID_cWEAQI.jpeg</td>\n",
       "      <td>anthracnose</td>\n",
       "      <td>0.010094</td>\n",
       "      <td>2726.562256</td>\n",
       "      <td>638.671814</td>\n",
       "      <td>3874.999756</td>\n",
       "      <td>1568.359253</td>\n",
       "      <td>0</td>\n",
       "    </tr>\n",
       "    <tr>\n",
       "      <th>1</th>\n",
       "      <td>ID_cWEAQI.jpeg</td>\n",
       "      <td>anthracnose</td>\n",
       "      <td>0.004757</td>\n",
       "      <td>3523.437256</td>\n",
       "      <td>7.812500</td>\n",
       "      <td>3999.999756</td>\n",
       "      <td>753.906189</td>\n",
       "      <td>0</td>\n",
       "    </tr>\n",
       "    <tr>\n",
       "      <th>2</th>\n",
       "      <td>ID_cWEAQI.jpeg</td>\n",
       "      <td>anthracnose</td>\n",
       "      <td>0.001561</td>\n",
       "      <td>3316.406006</td>\n",
       "      <td>1.953125</td>\n",
       "      <td>4000.000000</td>\n",
       "      <td>1019.531189</td>\n",
       "      <td>0</td>\n",
       "    </tr>\n",
       "    <tr>\n",
       "      <th>3</th>\n",
       "      <td>ID_cWEAQI.jpeg</td>\n",
       "      <td>anthracnose</td>\n",
       "      <td>0.001536</td>\n",
       "      <td>3757.812256</td>\n",
       "      <td>1.953125</td>\n",
       "      <td>3999.999756</td>\n",
       "      <td>833.984314</td>\n",
       "      <td>0</td>\n",
       "    </tr>\n",
       "    <tr>\n",
       "      <th>4</th>\n",
       "      <td>ID_cWEAQI.jpeg</td>\n",
       "      <td>anthracnose</td>\n",
       "      <td>0.001519</td>\n",
       "      <td>2949.218506</td>\n",
       "      <td>692.382751</td>\n",
       "      <td>3999.999756</td>\n",
       "      <td>1488.281128</td>\n",
       "      <td>0</td>\n",
       "    </tr>\n",
       "  </tbody>\n",
       "</table>\n",
       "</div>"
      ],
      "text/plain": [
       "         Image_ID        class  confidence         ymin        xmin  \\\n",
       "0  ID_cWEAQI.jpeg  anthracnose    0.010094  2726.562256  638.671814   \n",
       "1  ID_cWEAQI.jpeg  anthracnose    0.004757  3523.437256    7.812500   \n",
       "2  ID_cWEAQI.jpeg  anthracnose    0.001561  3316.406006    1.953125   \n",
       "3  ID_cWEAQI.jpeg  anthracnose    0.001536  3757.812256    1.953125   \n",
       "4  ID_cWEAQI.jpeg  anthracnose    0.001519  2949.218506  692.382751   \n",
       "\n",
       "          ymax         xmax  class_id  \n",
       "0  3874.999756  1568.359253         0  \n",
       "1  3999.999756   753.906189         0  \n",
       "2  4000.000000  1019.531189         0  \n",
       "3  3999.999756   833.984314         0  \n",
       "4  3999.999756  1488.281128         0  "
      ]
     },
     "execution_count": 13,
     "metadata": {},
     "output_type": "execute_result"
    }
   ],
   "source": [
    "filtered_data = []\n",
    "id_to_label = {v: k for k, v in class_id.items()}\n",
    "for image_id, data in filtered_predictions.items():\n",
    "    boxes = data[\"boxes\"].tolist()\n",
    "    scores = data[\"scores\"].tolist()\n",
    "    labels = data[\"labels\"].tolist()\n",
    "    for box, score, label in zip(boxes, scores, labels):\n",
    "        filtered_data.append({\n",
    "            \"Image_ID\": image_id,\n",
    "            \"class\": id_to_label[label],\n",
    "            \"confidence\": score,\n",
    "            \"ymin\": box[1],\n",
    "            \"xmin\": box[0],\n",
    "            \"ymax\": box[3],\n",
    "            \"xmax\": box[2],\n",
    "            \"class_id\": label\n",
    "        })\n",
    "\n",
    "filtered_df = pd.DataFrame(filtered_data)\n",
    "filtered_df.head()"
   ]
  },
  {
   "cell_type": "code",
   "execution_count": 14,
   "metadata": {},
   "outputs": [
    {
     "data": {
      "text/plain": [
       "(241830, 243900)"
      ]
     },
     "execution_count": 14,
     "metadata": {},
     "output_type": "execute_result"
    }
   ],
   "source": [
    "len(filtered_df), len(test_df)"
   ]
  },
  {
   "cell_type": "code",
   "execution_count": 15,
   "metadata": {},
   "outputs": [
    {
     "data": {
      "text/plain": [
       "class\n",
       "healthy        92990\n",
       "cssvd          84383\n",
       "anthracnose    64457\n",
       "Name: count, dtype: int64"
      ]
     },
     "execution_count": 15,
     "metadata": {},
     "output_type": "execute_result"
    }
   ],
   "source": [
    "filtered_df[\"class\"].value_counts()"
   ]
  },
  {
   "cell_type": "code",
   "execution_count": 16,
   "metadata": {},
   "outputs": [
    {
     "data": {
      "text/plain": [
       "class\n",
       "healthy        0.384526\n",
       "cssvd          0.348935\n",
       "anthracnose    0.266538\n",
       "Name: proportion, dtype: float64"
      ]
     },
     "execution_count": 16,
     "metadata": {},
     "output_type": "execute_result"
    }
   ],
   "source": [
    "filtered_df[\"class\"].value_counts(normalize=True)"
   ]
  },
  {
   "cell_type": "code",
   "execution_count": 17,
   "metadata": {},
   "outputs": [],
   "source": [
    "files = list(PREDICTION_IMAGE_PATH.glob(\"*\"))"
   ]
  },
  {
   "cell_type": "code",
   "execution_count": 18,
   "metadata": {},
   "outputs": [],
   "source": [
    "test_df: pd.DataFrame = filtered_df.copy()"
   ]
  },
  {
   "cell_type": "code",
   "execution_count": 19,
   "metadata": {},
   "outputs": [
    {
     "data": {
      "text/plain": [
       "[{'Image_ID': 'ID_cWEAQI.jpeg',\n",
       "  'class': 'anthracnose',\n",
       "  'confidence': 0.01009368896484375,\n",
       "  'ymin': 2726.562255859375,\n",
       "  'xmin': 638.6718139648438,\n",
       "  'ymax': 3874.999755859375,\n",
       "  'xmax': 1568.3592529296875,\n",
       "  'class_id': 0},\n",
       " {'Image_ID': 'ID_cWEAQI.jpeg',\n",
       "  'class': 'anthracnose',\n",
       "  'confidence': 0.004756927490234375,\n",
       "  'ymin': 3523.437255859375,\n",
       "  'xmin': 7.812499523162842,\n",
       "  'ymax': 3999.999755859375,\n",
       "  'xmax': 753.9061889648438,\n",
       "  'class_id': 0},\n",
       " {'Image_ID': 'ID_cWEAQI.jpeg',\n",
       "  'class': 'anthracnose',\n",
       "  'confidence': 0.0015611648559570312,\n",
       "  'ymin': 3316.406005859375,\n",
       "  'xmin': 1.9531248807907104,\n",
       "  'ymax': 4000.0,\n",
       "  'xmax': 1019.5311889648438,\n",
       "  'class_id': 0},\n",
       " {'Image_ID': 'ID_cWEAQI.jpeg',\n",
       "  'class': 'anthracnose',\n",
       "  'confidence': 0.0015363693237304688,\n",
       "  'ymin': 3757.812255859375,\n",
       "  'xmin': 1.9531248807907104,\n",
       "  'ymax': 3999.999755859375,\n",
       "  'xmax': 833.9843139648438,\n",
       "  'class_id': 0},\n",
       " {'Image_ID': 'ID_cWEAQI.jpeg',\n",
       "  'class': 'anthracnose',\n",
       "  'confidence': 0.0015192031860351562,\n",
       "  'ymin': 2949.218505859375,\n",
       "  'xmin': 692.3827514648438,\n",
       "  'ymax': 3999.999755859375,\n",
       "  'xmax': 1488.2811279296875,\n",
       "  'class_id': 0}]"
      ]
     },
     "execution_count": 19,
     "metadata": {},
     "output_type": "execute_result"
    }
   ],
   "source": [
    "test_records = test_df.to_dict(orient=\"records\")\n",
    "\n",
    "test_records[:5]"
   ]
  },
  {
   "cell_type": "code",
   "execution_count": 20,
   "metadata": {},
   "outputs": [
    {
     "data": {
      "text/plain": [
       "['ID_cWEAQI.jpeg', 'ID_NtqErb.jpg']"
      ]
     },
     "execution_count": 20,
     "metadata": {},
     "output_type": "execute_result"
    }
   ],
   "source": [
    "file_id = [i.name for i in files]\n",
    "file_id[:2]"
   ]
  },
  {
   "cell_type": "code",
   "execution_count": 21,
   "metadata": {},
   "outputs": [],
   "source": [
    "file_okay = set(test_df[\"Image_ID\"].values)\n",
    "file_nokay = set(file_id) - file_okay\n",
    "\n",
    "for f in file_nokay:\n",
    "    test_records.append(\n",
    "\t\t{\n",
    "\t\t\t\"Image_ID\": f,\n",
    "\t\t}\n",
    "\t)"
   ]
  },
  {
   "cell_type": "code",
   "execution_count": 22,
   "metadata": {},
   "outputs": [
    {
     "data": {
      "text/html": [
       "<div>\n",
       "<style scoped>\n",
       "    .dataframe tbody tr th:only-of-type {\n",
       "        vertical-align: middle;\n",
       "    }\n",
       "\n",
       "    .dataframe tbody tr th {\n",
       "        vertical-align: top;\n",
       "    }\n",
       "\n",
       "    .dataframe thead th {\n",
       "        text-align: right;\n",
       "    }\n",
       "</style>\n",
       "<table border=\"1\" class=\"dataframe\">\n",
       "  <thead>\n",
       "    <tr style=\"text-align: right;\">\n",
       "      <th></th>\n",
       "      <th>Image_ID</th>\n",
       "      <th>class</th>\n",
       "      <th>confidence</th>\n",
       "      <th>ymin</th>\n",
       "      <th>xmin</th>\n",
       "      <th>ymax</th>\n",
       "      <th>xmax</th>\n",
       "      <th>class_id</th>\n",
       "    </tr>\n",
       "  </thead>\n",
       "  <tbody>\n",
       "    <tr>\n",
       "      <th>75430</th>\n",
       "      <td>ID_MUYBb1.jpg</td>\n",
       "      <td>healthy</td>\n",
       "      <td>0.001681</td>\n",
       "      <td>166.250000</td>\n",
       "      <td>348.125000</td>\n",
       "      <td>580.000000</td>\n",
       "      <td>620.000000</td>\n",
       "      <td>2</td>\n",
       "    </tr>\n",
       "    <tr>\n",
       "      <th>124905</th>\n",
       "      <td>ID_VQKJAq.jpg</td>\n",
       "      <td>cssvd</td>\n",
       "      <td>0.394287</td>\n",
       "      <td>1524.000000</td>\n",
       "      <td>168.750000</td>\n",
       "      <td>2032.000000</td>\n",
       "      <td>1021.000000</td>\n",
       "      <td>1</td>\n",
       "    </tr>\n",
       "    <tr>\n",
       "      <th>192385</th>\n",
       "      <td>ID_onW3aY.jpg</td>\n",
       "      <td>healthy</td>\n",
       "      <td>0.000203</td>\n",
       "      <td>0.032959</td>\n",
       "      <td>165.058594</td>\n",
       "      <td>48.153076</td>\n",
       "      <td>312.714844</td>\n",
       "      <td>2</td>\n",
       "    </tr>\n",
       "    <tr>\n",
       "      <th>32536</th>\n",
       "      <td>ID_kLKJFt.jpg</td>\n",
       "      <td>healthy</td>\n",
       "      <td>0.000142</td>\n",
       "      <td>0.000000</td>\n",
       "      <td>218.320312</td>\n",
       "      <td>35.299072</td>\n",
       "      <td>410.273438</td>\n",
       "      <td>2</td>\n",
       "    </tr>\n",
       "    <tr>\n",
       "      <th>47090</th>\n",
       "      <td>ID_PzpVJN.jpg</td>\n",
       "      <td>cssvd</td>\n",
       "      <td>0.000223</td>\n",
       "      <td>6.375000</td>\n",
       "      <td>1848.750000</td>\n",
       "      <td>986.531250</td>\n",
       "      <td>2448.000000</td>\n",
       "      <td>1</td>\n",
       "    </tr>\n",
       "    <tr>\n",
       "      <th>4183</th>\n",
       "      <td>ID_bu0b88.jpg</td>\n",
       "      <td>anthracnose</td>\n",
       "      <td>0.000180</td>\n",
       "      <td>2314.125000</td>\n",
       "      <td>758.625000</td>\n",
       "      <td>2856.000000</td>\n",
       "      <td>1673.437500</td>\n",
       "      <td>0</td>\n",
       "    </tr>\n",
       "    <tr>\n",
       "      <th>126423</th>\n",
       "      <td>ID_FbsP3U.JPG</td>\n",
       "      <td>anthracnose</td>\n",
       "      <td>0.000351</td>\n",
       "      <td>585.703125</td>\n",
       "      <td>342.656250</td>\n",
       "      <td>2690.250000</td>\n",
       "      <td>1000.875000</td>\n",
       "      <td>0</td>\n",
       "    </tr>\n",
       "    <tr>\n",
       "      <th>126985</th>\n",
       "      <td>ID_msJc8y.jpg</td>\n",
       "      <td>cssvd</td>\n",
       "      <td>0.001143</td>\n",
       "      <td>0.000000</td>\n",
       "      <td>37.453125</td>\n",
       "      <td>680.929688</td>\n",
       "      <td>756.234375</td>\n",
       "      <td>1</td>\n",
       "    </tr>\n",
       "    <tr>\n",
       "      <th>97619</th>\n",
       "      <td>ID_vfelPl.jpg</td>\n",
       "      <td>healthy</td>\n",
       "      <td>0.000070</td>\n",
       "      <td>5.976562</td>\n",
       "      <td>1778.625000</td>\n",
       "      <td>427.523438</td>\n",
       "      <td>2448.000000</td>\n",
       "      <td>2</td>\n",
       "    </tr>\n",
       "    <tr>\n",
       "      <th>233741</th>\n",
       "      <td>ID_S4UOLv.jpg</td>\n",
       "      <td>healthy</td>\n",
       "      <td>0.000287</td>\n",
       "      <td>71.703117</td>\n",
       "      <td>0.025391</td>\n",
       "      <td>206.781235</td>\n",
       "      <td>48.369137</td>\n",
       "      <td>2</td>\n",
       "    </tr>\n",
       "  </tbody>\n",
       "</table>\n",
       "</div>"
      ],
      "text/plain": [
       "             Image_ID        class  confidence         ymin         xmin  \\\n",
       "75430   ID_MUYBb1.jpg      healthy    0.001681   166.250000   348.125000   \n",
       "124905  ID_VQKJAq.jpg        cssvd    0.394287  1524.000000   168.750000   \n",
       "192385  ID_onW3aY.jpg      healthy    0.000203     0.032959   165.058594   \n",
       "32536   ID_kLKJFt.jpg      healthy    0.000142     0.000000   218.320312   \n",
       "47090   ID_PzpVJN.jpg        cssvd    0.000223     6.375000  1848.750000   \n",
       "4183    ID_bu0b88.jpg  anthracnose    0.000180  2314.125000   758.625000   \n",
       "126423  ID_FbsP3U.JPG  anthracnose    0.000351   585.703125   342.656250   \n",
       "126985  ID_msJc8y.jpg        cssvd    0.001143     0.000000    37.453125   \n",
       "97619   ID_vfelPl.jpg      healthy    0.000070     5.976562  1778.625000   \n",
       "233741  ID_S4UOLv.jpg      healthy    0.000287    71.703117     0.025391   \n",
       "\n",
       "               ymax         xmax  class_id  \n",
       "75430    580.000000   620.000000         2  \n",
       "124905  2032.000000  1021.000000         1  \n",
       "192385    48.153076   312.714844         2  \n",
       "32536     35.299072   410.273438         2  \n",
       "47090    986.531250  2448.000000         1  \n",
       "4183    2856.000000  1673.437500         0  \n",
       "126423  2690.250000  1000.875000         0  \n",
       "126985   680.929688   756.234375         1  \n",
       "97619    427.523438  2448.000000         2  \n",
       "233741   206.781235    48.369137         2  "
      ]
     },
     "execution_count": 22,
     "metadata": {},
     "output_type": "execute_result"
    }
   ],
   "source": [
    "test_df = pd.DataFrame(test_records)\n",
    "\n",
    "test_df.sample(10)"
   ]
  },
  {
   "cell_type": "code",
   "execution_count": 23,
   "metadata": {},
   "outputs": [
    {
     "data": {
      "text/plain": [
       "class\n",
       "healthy        92990\n",
       "cssvd          84383\n",
       "anthracnose    64457\n",
       "Name: count, dtype: int64"
      ]
     },
     "execution_count": 23,
     "metadata": {},
     "output_type": "execute_result"
    }
   ],
   "source": [
    "test_df[\"class\"].value_counts()"
   ]
  },
  {
   "cell_type": "code",
   "execution_count": 24,
   "metadata": {},
   "outputs": [],
   "source": [
    "test_df.to_csv(PREDICTION_PATH.replace(\"-prediction\", \"-submission\"), index=False)"
   ]
  },
  {
   "cell_type": "code",
   "execution_count": 25,
   "metadata": {},
   "outputs": [
    {
     "data": {
      "text/plain": [
       "'dataset/predictions/09-submissions.csv'"
      ]
     },
     "execution_count": 25,
     "metadata": {},
     "output_type": "execute_result"
    }
   ],
   "source": [
    "PREDICTION_PATH.replace(\"-prediction\", \"-submission\")"
   ]
  }
 ],
 "metadata": {
  "kernelspec": {
   "display_name": ".venv",
   "language": "python",
   "name": "python3"
  },
  "language_info": {
   "codemirror_mode": {
    "name": "ipython",
    "version": 3
   },
   "file_extension": ".py",
   "mimetype": "text/x-python",
   "name": "python",
   "nbconvert_exporter": "python",
   "pygments_lexer": "ipython3",
   "version": "3.10.13"
  }
 },
 "nbformat": 4,
 "nbformat_minor": 2
}
