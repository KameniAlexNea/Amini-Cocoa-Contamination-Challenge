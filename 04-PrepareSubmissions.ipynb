{
 "cells": [
  {
   "cell_type": "code",
   "execution_count": 1,
   "metadata": {},
   "outputs": [],
   "source": [
    "# Import libraries\n",
    "import pandas as pd\n",
    "import os\n",
    "from pathlib import Path\n",
    "from tqdm import tqdm\n",
    "import yaml\n",
    "import matplotlib.pyplot as plt\n",
    "import numpy as np\n",
    "from PIL import Image"
   ]
  },
  {
   "cell_type": "code",
   "execution_count": 2,
   "metadata": {},
   "outputs": [],
   "source": [
    "LEARNED_THR = 0.00001\n",
    "IOU_THR = 0.7\n",
    "PREDICTION_PATH = \"dataset/predictions/08-predictions.csv\""
   ]
  },
  {
   "cell_type": "code",
   "execution_count": 3,
   "metadata": {},
   "outputs": [
    {
     "data": {
      "text/html": [
       "<div>\n",
       "<style scoped>\n",
       "    .dataframe tbody tr th:only-of-type {\n",
       "        vertical-align: middle;\n",
       "    }\n",
       "\n",
       "    .dataframe tbody tr th {\n",
       "        vertical-align: top;\n",
       "    }\n",
       "\n",
       "    .dataframe thead th {\n",
       "        text-align: right;\n",
       "    }\n",
       "</style>\n",
       "<table border=\"1\" class=\"dataframe\">\n",
       "  <thead>\n",
       "    <tr style=\"text-align: right;\">\n",
       "      <th></th>\n",
       "      <th>Image_ID</th>\n",
       "      <th>class</th>\n",
       "      <th>confidence</th>\n",
       "      <th>ymin</th>\n",
       "      <th>xmin</th>\n",
       "      <th>ymax</th>\n",
       "      <th>xmax</th>\n",
       "    </tr>\n",
       "  </thead>\n",
       "  <tbody>\n",
       "    <tr>\n",
       "      <th>90523</th>\n",
       "      <td>ID_wnuBs6.jpg</td>\n",
       "      <td>healthy</td>\n",
       "      <td>0.009163</td>\n",
       "      <td>0.000000</td>\n",
       "      <td>153.250092</td>\n",
       "      <td>13.601792</td>\n",
       "      <td>193.023315</td>\n",
       "    </tr>\n",
       "    <tr>\n",
       "      <th>135874</th>\n",
       "      <td>ID_Qe7Lg1.jpeg</td>\n",
       "      <td>healthy</td>\n",
       "      <td>0.001720</td>\n",
       "      <td>1726.634033</td>\n",
       "      <td>0.153779</td>\n",
       "      <td>3008.601562</td>\n",
       "      <td>524.187317</td>\n",
       "    </tr>\n",
       "    <tr>\n",
       "      <th>115967</th>\n",
       "      <td>ID_pIZoja.jpeg</td>\n",
       "      <td>cssvd</td>\n",
       "      <td>0.000094</td>\n",
       "      <td>3553.577148</td>\n",
       "      <td>1324.986328</td>\n",
       "      <td>4000.000000</td>\n",
       "      <td>1800.000000</td>\n",
       "    </tr>\n",
       "    <tr>\n",
       "      <th>84353</th>\n",
       "      <td>ID_QOVg3l.jpg</td>\n",
       "      <td>anthracnose</td>\n",
       "      <td>0.000014</td>\n",
       "      <td>0.000000</td>\n",
       "      <td>266.232971</td>\n",
       "      <td>99.120544</td>\n",
       "      <td>770.942017</td>\n",
       "    </tr>\n",
       "    <tr>\n",
       "      <th>38729</th>\n",
       "      <td>ID_RC0I1m.jpg</td>\n",
       "      <td>anthracnose</td>\n",
       "      <td>0.000024</td>\n",
       "      <td>353.334198</td>\n",
       "      <td>184.377548</td>\n",
       "      <td>810.000000</td>\n",
       "      <td>966.811279</td>\n",
       "    </tr>\n",
       "  </tbody>\n",
       "</table>\n",
       "</div>"
      ],
      "text/plain": [
       "              Image_ID        class  confidence         ymin         xmin  \\\n",
       "90523    ID_wnuBs6.jpg      healthy    0.009163     0.000000   153.250092   \n",
       "135874  ID_Qe7Lg1.jpeg      healthy    0.001720  1726.634033     0.153779   \n",
       "115967  ID_pIZoja.jpeg        cssvd    0.000094  3553.577148  1324.986328   \n",
       "84353    ID_QOVg3l.jpg  anthracnose    0.000014     0.000000   266.232971   \n",
       "38729    ID_RC0I1m.jpg  anthracnose    0.000024   353.334198   184.377548   \n",
       "\n",
       "               ymax         xmax  \n",
       "90523     13.601792   193.023315  \n",
       "135874  3008.601562   524.187317  \n",
       "115967  4000.000000  1800.000000  \n",
       "84353     99.120544   770.942017  \n",
       "38729    810.000000   966.811279  "
      ]
     },
     "execution_count": 3,
     "metadata": {},
     "output_type": "execute_result"
    }
   ],
   "source": [
    "PREDICTION_IMAGE_PATH = Path(\"dataset/images/test\")\n",
    "\n",
    "test_df = pd.read_csv(PREDICTION_PATH).rename(\n",
    "    columns={\"x_min\": \"xmin\", \"y_min\": \"ymin\", \"x_max\": \"xmax\", \"y_max\": \"ymax\"}\n",
    ")\n",
    "test_df.sample(5)"
   ]
  },
  {
   "cell_type": "code",
   "execution_count": 4,
   "metadata": {},
   "outputs": [
    {
     "data": {
      "text/plain": [
       "{'anthracnose': 0, 'cssvd': 1, 'healthy': 2}"
      ]
     },
     "execution_count": 4,
     "metadata": {},
     "output_type": "execute_result"
    }
   ],
   "source": [
    "class_id = {j: i for i, j in enumerate(sorted(test_df[\"class\"].unique()))}\n",
    "test_df[\"class_id\"] = test_df[\"class\"].map(class_id)\n",
    "class_id"
   ]
  },
  {
   "cell_type": "code",
   "execution_count": 5,
   "metadata": {},
   "outputs": [
    {
     "data": {
      "text/html": [
       "<div>\n",
       "<style scoped>\n",
       "    .dataframe tbody tr th:only-of-type {\n",
       "        vertical-align: middle;\n",
       "    }\n",
       "\n",
       "    .dataframe tbody tr th {\n",
       "        vertical-align: top;\n",
       "    }\n",
       "\n",
       "    .dataframe thead th {\n",
       "        text-align: right;\n",
       "    }\n",
       "</style>\n",
       "<table border=\"1\" class=\"dataframe\">\n",
       "  <thead>\n",
       "    <tr style=\"text-align: right;\">\n",
       "      <th></th>\n",
       "      <th>Image_ID</th>\n",
       "      <th>class</th>\n",
       "      <th>confidence</th>\n",
       "      <th>ymin</th>\n",
       "      <th>xmin</th>\n",
       "      <th>ymax</th>\n",
       "      <th>xmax</th>\n",
       "      <th>class_id</th>\n",
       "    </tr>\n",
       "  </thead>\n",
       "  <tbody>\n",
       "    <tr>\n",
       "      <th>0</th>\n",
       "      <td>ID_cWEAQI.jpeg</td>\n",
       "      <td>anthracnose</td>\n",
       "      <td>0.002872</td>\n",
       "      <td>60.666199</td>\n",
       "      <td>15.254377</td>\n",
       "      <td>4000.000000</td>\n",
       "      <td>1679.711670</td>\n",
       "      <td>0</td>\n",
       "    </tr>\n",
       "    <tr>\n",
       "      <th>1</th>\n",
       "      <td>ID_cWEAQI.jpeg</td>\n",
       "      <td>anthracnose</td>\n",
       "      <td>0.000300</td>\n",
       "      <td>3672.035400</td>\n",
       "      <td>84.970467</td>\n",
       "      <td>4000.000000</td>\n",
       "      <td>579.548340</td>\n",
       "      <td>0</td>\n",
       "    </tr>\n",
       "    <tr>\n",
       "      <th>2</th>\n",
       "      <td>ID_cWEAQI.jpeg</td>\n",
       "      <td>anthracnose</td>\n",
       "      <td>0.000245</td>\n",
       "      <td>930.349670</td>\n",
       "      <td>444.719177</td>\n",
       "      <td>2732.435547</td>\n",
       "      <td>1620.193848</td>\n",
       "      <td>0</td>\n",
       "    </tr>\n",
       "    <tr>\n",
       "      <th>3</th>\n",
       "      <td>ID_cWEAQI.jpeg</td>\n",
       "      <td>anthracnose</td>\n",
       "      <td>0.000188</td>\n",
       "      <td>228.629547</td>\n",
       "      <td>0.000000</td>\n",
       "      <td>909.342712</td>\n",
       "      <td>437.895020</td>\n",
       "      <td>0</td>\n",
       "    </tr>\n",
       "    <tr>\n",
       "      <th>4</th>\n",
       "      <td>ID_cWEAQI.jpeg</td>\n",
       "      <td>anthracnose</td>\n",
       "      <td>0.000111</td>\n",
       "      <td>3156.461914</td>\n",
       "      <td>20.296572</td>\n",
       "      <td>3988.080322</td>\n",
       "      <td>1098.258911</td>\n",
       "      <td>0</td>\n",
       "    </tr>\n",
       "  </tbody>\n",
       "</table>\n",
       "</div>"
      ],
      "text/plain": [
       "         Image_ID        class  confidence         ymin        xmin  \\\n",
       "0  ID_cWEAQI.jpeg  anthracnose    0.002872    60.666199   15.254377   \n",
       "1  ID_cWEAQI.jpeg  anthracnose    0.000300  3672.035400   84.970467   \n",
       "2  ID_cWEAQI.jpeg  anthracnose    0.000245   930.349670  444.719177   \n",
       "3  ID_cWEAQI.jpeg  anthracnose    0.000188   228.629547    0.000000   \n",
       "4  ID_cWEAQI.jpeg  anthracnose    0.000111  3156.461914   20.296572   \n",
       "\n",
       "          ymax         xmax  class_id  \n",
       "0  4000.000000  1679.711670         0  \n",
       "1  4000.000000   579.548340         0  \n",
       "2  2732.435547  1620.193848         0  \n",
       "3   909.342712   437.895020         0  \n",
       "4  3988.080322  1098.258911         0  "
      ]
     },
     "execution_count": 5,
     "metadata": {},
     "output_type": "execute_result"
    }
   ],
   "source": [
    "test_df.head()"
   ]
  },
  {
   "cell_type": "code",
   "execution_count": 6,
   "metadata": {},
   "outputs": [],
   "source": [
    "import torch\n",
    "\n",
    "def convert_df(df: pd.DataFrame):\n",
    "\tdf = df.copy().dropna()\n",
    "\treturn {\n",
    "\t\timg_id: {\n",
    "\t\t\t\"boxes\": torch.tensor(raw[[\"xmin\", \"ymin\", \"xmax\", \"ymax\"]].values, dtype=torch.float32),\n",
    "\t\t\t\"scores\": (\n",
    "\t\t\t\ttorch.tensor(raw[\"confidence\"].values, dtype=torch.float32)\n",
    "\t\t\t\tif \"confidence\" in raw.columns\n",
    "\t\t\t\telse None\n",
    "\t\t\t),\n",
    "\t\t\t\"labels\": torch.tensor(raw[\"class_id\"].values, dtype=torch.int32),\n",
    "\t\t}\n",
    "\t\tfor (img_id, ), raw in df.groupby([\"Image_ID\"])\n",
    "\t}\n",
    "\n",
    "def default_value():\n",
    "\treturn {\n",
    "\t\t\"boxes\": torch.empty((0, 4), dtype=torch.float32),\n",
    "\t\t\"scores\": torch.empty((0,), dtype=torch.float32),\n",
    "\t\t\"labels\": torch.empty((0,), dtype=torch.int32),\n",
    "\t}\n",
    "\n",
    "\n",
    "converted_labels = list(PREDICTION_IMAGE_PATH.glob(\"*\"))\n",
    "converted_labels = [i.name for i in converted_labels]\n",
    "\n",
    "def get_preds_data(preds, thr: float = 0.5):\n",
    "\tif thr is not None:\n",
    "\t\tpreds = preds[preds[\"confidence\"] >= thr]\n",
    "\tpreds = convert_df(preds)\n",
    "\tprint(len(preds))\n",
    "\tprint(list(preds.keys())[:10])\n",
    "\td = default_value()\n",
    "\treturn {i: preds.get(i, d) for i in converted_labels}"
   ]
  },
  {
   "cell_type": "code",
   "execution_count": 7,
   "metadata": {},
   "outputs": [
    {
     "data": {
      "text/html": [
       "<div>\n",
       "<style scoped>\n",
       "    .dataframe tbody tr th:only-of-type {\n",
       "        vertical-align: middle;\n",
       "    }\n",
       "\n",
       "    .dataframe tbody tr th {\n",
       "        vertical-align: top;\n",
       "    }\n",
       "\n",
       "    .dataframe thead th {\n",
       "        text-align: right;\n",
       "    }\n",
       "</style>\n",
       "<table border=\"1\" class=\"dataframe\">\n",
       "  <thead>\n",
       "    <tr style=\"text-align: right;\">\n",
       "      <th></th>\n",
       "      <th>Image_ID</th>\n",
       "      <th>class</th>\n",
       "      <th>confidence</th>\n",
       "      <th>ymin</th>\n",
       "      <th>xmin</th>\n",
       "      <th>ymax</th>\n",
       "      <th>xmax</th>\n",
       "      <th>class_id</th>\n",
       "    </tr>\n",
       "  </thead>\n",
       "  <tbody>\n",
       "    <tr>\n",
       "      <th>84969</th>\n",
       "      <td>ID_h8uMuy.jpg</td>\n",
       "      <td>anthracnose</td>\n",
       "      <td>0.000045</td>\n",
       "      <td>0.000000</td>\n",
       "      <td>373.052246</td>\n",
       "      <td>110.937576</td>\n",
       "      <td>611.452881</td>\n",
       "      <td>0</td>\n",
       "    </tr>\n",
       "    <tr>\n",
       "      <th>112809</th>\n",
       "      <td>ID_U0BYn7.jpg</td>\n",
       "      <td>cssvd</td>\n",
       "      <td>0.000013</td>\n",
       "      <td>1736.422729</td>\n",
       "      <td>0.000000</td>\n",
       "      <td>2047.461548</td>\n",
       "      <td>389.568176</td>\n",
       "      <td>1</td>\n",
       "    </tr>\n",
       "  </tbody>\n",
       "</table>\n",
       "</div>"
      ],
      "text/plain": [
       "             Image_ID        class  confidence         ymin        xmin  \\\n",
       "84969   ID_h8uMuy.jpg  anthracnose    0.000045     0.000000  373.052246   \n",
       "112809  ID_U0BYn7.jpg        cssvd    0.000013  1736.422729    0.000000   \n",
       "\n",
       "               ymax        xmax  class_id  \n",
       "84969    110.937576  611.452881         0  \n",
       "112809  2047.461548  389.568176         1  "
      ]
     },
     "execution_count": 7,
     "metadata": {},
     "output_type": "execute_result"
    }
   ],
   "source": [
    "test_df.sample(2)"
   ]
  },
  {
   "cell_type": "code",
   "execution_count": 8,
   "metadata": {},
   "outputs": [
    {
     "name": "stdout",
     "output_type": "stream",
     "text": [
      "1626\n",
      "['ID_A16nzu.jpg', 'ID_A1Euyz.jpg', 'ID_A1HcV0.jpeg', 'ID_A4ZdJC.jpeg', 'ID_A5SFUW.jpeg', 'ID_A6Fogi.jpeg', 'ID_ABDCyn.jpeg', 'ID_ACg6Qf.jpeg', 'ID_AFi8A1.jpg', 'ID_AHlc9P.jpg']\n"
     ]
    },
    {
     "data": {
      "text/plain": [
       "1626"
      ]
     },
     "execution_count": 8,
     "metadata": {},
     "output_type": "execute_result"
    }
   ],
   "source": [
    "predictions = get_preds_data(test_df, thr=None)\n",
    "\n",
    "len(predictions)"
   ]
  },
  {
   "cell_type": "code",
   "execution_count": 9,
   "metadata": {},
   "outputs": [],
   "source": [
    "# predictions[\"ID_CGnAYP.jpg\"]"
   ]
  },
  {
   "cell_type": "code",
   "execution_count": 10,
   "metadata": {},
   "outputs": [
    {
     "data": {
      "text/plain": [
       "dict_keys(['boxes', 'scores', 'labels'])"
      ]
     },
     "execution_count": 10,
     "metadata": {},
     "output_type": "execute_result"
    }
   ],
   "source": [
    "predictions[\"ID_CGnAYP.jpg\"].keys()"
   ]
  },
  {
   "cell_type": "code",
   "execution_count": 11,
   "metadata": {},
   "outputs": [],
   "source": [
    "from torchvision.ops import nms\n",
    "\n",
    "def apply_nms(predictions: dict[str, torch.Tensor], iou_threshold=0.5):\n",
    "    \"\"\"\n",
    "    Apply Non-Maximum Suppression (NMS) to reduce overlapping boxes.\n",
    "\n",
    "    Args:\n",
    "        predictions (dict): Dictionary containing keys ['boxes', 'scores', 'labels'].\n",
    "        iou_threshold (float): Intersection over Union (IoU) threshold for NMS.\n",
    "\n",
    "    Returns:\n",
    "        dict: Filtered predictions after applying NMS.\n",
    "    \"\"\"\n",
    "    filtered_predictions = {}\n",
    "    for image_id, data in predictions.items():\n",
    "        boxes = data[\"boxes\"]\n",
    "        scores = data[\"scores\"]\n",
    "        labels = data[\"labels\"]\n",
    "\n",
    "        if boxes.numel() == 0:\n",
    "            # If no boxes, skip this image\n",
    "            filtered_predictions[image_id] = data\n",
    "            continue\n",
    "\n",
    "        # Perform NMS for each class separately\n",
    "        keep_indices = []\n",
    "        for label in labels.unique():\n",
    "            label_mask = labels == label\n",
    "            label_boxes = boxes[label_mask]\n",
    "            label_scores = scores[label_mask]\n",
    "            indices = nms(label_boxes, label_scores, iou_threshold)\n",
    "            keep_indices.extend(label_mask.nonzero(as_tuple=True)[0][indices].tolist())\n",
    "\n",
    "        # Filter boxes, scores, and labels based on NMS results\n",
    "        keep_indices = torch.tensor(keep_indices, dtype=torch.long)\n",
    "        filtered_predictions[image_id] = {\n",
    "            \"boxes\": boxes[keep_indices],\n",
    "            \"scores\": scores[keep_indices],\n",
    "            \"labels\": labels[keep_indices],\n",
    "        }\n",
    "\n",
    "    return filtered_predictions\n",
    "\n",
    "# Apply NMS to predictions\n",
    "filtered_predictions = apply_nms(predictions, iou_threshold=IOU_THR)"
   ]
  },
  {
   "cell_type": "code",
   "execution_count": 12,
   "metadata": {},
   "outputs": [],
   "source": [
    "# for k, v in predictions.items():\n",
    "#     r = filtered_predictions[k]\n",
    "#     if len(v[\"boxes\"]) != len(r[\"boxes\"]):\n",
    "#         print(k, len(v[\"boxes\"]), len(r[\"boxes\"]))\n",
    "#         print(\"Boxes before NMS:\", v[\"boxes\"])\n",
    "#         print(\"Boxes after NMS:\", r[\"boxes\"])\n",
    "#         print(\"Scores before NMS:\", v[\"scores\"])\n",
    "#         print(\"Scores after NMS:\", r[\"scores\"])\n",
    "#         print(\"Labels before NMS:\", v[\"labels\"])\n",
    "#         print(\"Labels after NMS:\", r[\"labels\"])\n",
    "#         print()\n",
    "#         break"
   ]
  },
  {
   "cell_type": "code",
   "execution_count": 13,
   "metadata": {},
   "outputs": [
    {
     "data": {
      "text/html": [
       "<div>\n",
       "<style scoped>\n",
       "    .dataframe tbody tr th:only-of-type {\n",
       "        vertical-align: middle;\n",
       "    }\n",
       "\n",
       "    .dataframe tbody tr th {\n",
       "        vertical-align: top;\n",
       "    }\n",
       "\n",
       "    .dataframe thead th {\n",
       "        text-align: right;\n",
       "    }\n",
       "</style>\n",
       "<table border=\"1\" class=\"dataframe\">\n",
       "  <thead>\n",
       "    <tr style=\"text-align: right;\">\n",
       "      <th></th>\n",
       "      <th>Image_ID</th>\n",
       "      <th>class</th>\n",
       "      <th>confidence</th>\n",
       "      <th>ymin</th>\n",
       "      <th>xmin</th>\n",
       "      <th>ymax</th>\n",
       "      <th>xmax</th>\n",
       "      <th>class_id</th>\n",
       "    </tr>\n",
       "  </thead>\n",
       "  <tbody>\n",
       "    <tr>\n",
       "      <th>0</th>\n",
       "      <td>ID_cWEAQI.jpeg</td>\n",
       "      <td>anthracnose</td>\n",
       "      <td>0.002872</td>\n",
       "      <td>60.666199</td>\n",
       "      <td>15.254377</td>\n",
       "      <td>4000.000000</td>\n",
       "      <td>1679.711670</td>\n",
       "      <td>0</td>\n",
       "    </tr>\n",
       "    <tr>\n",
       "      <th>1</th>\n",
       "      <td>ID_cWEAQI.jpeg</td>\n",
       "      <td>anthracnose</td>\n",
       "      <td>0.000300</td>\n",
       "      <td>3672.035400</td>\n",
       "      <td>84.970467</td>\n",
       "      <td>4000.000000</td>\n",
       "      <td>579.548340</td>\n",
       "      <td>0</td>\n",
       "    </tr>\n",
       "    <tr>\n",
       "      <th>2</th>\n",
       "      <td>ID_cWEAQI.jpeg</td>\n",
       "      <td>anthracnose</td>\n",
       "      <td>0.000245</td>\n",
       "      <td>930.349670</td>\n",
       "      <td>444.719177</td>\n",
       "      <td>2732.435547</td>\n",
       "      <td>1620.193848</td>\n",
       "      <td>0</td>\n",
       "    </tr>\n",
       "    <tr>\n",
       "      <th>3</th>\n",
       "      <td>ID_cWEAQI.jpeg</td>\n",
       "      <td>anthracnose</td>\n",
       "      <td>0.000188</td>\n",
       "      <td>228.629547</td>\n",
       "      <td>0.000000</td>\n",
       "      <td>909.342712</td>\n",
       "      <td>437.895020</td>\n",
       "      <td>0</td>\n",
       "    </tr>\n",
       "    <tr>\n",
       "      <th>4</th>\n",
       "      <td>ID_cWEAQI.jpeg</td>\n",
       "      <td>anthracnose</td>\n",
       "      <td>0.000111</td>\n",
       "      <td>3156.461914</td>\n",
       "      <td>20.296572</td>\n",
       "      <td>3988.080322</td>\n",
       "      <td>1098.258911</td>\n",
       "      <td>0</td>\n",
       "    </tr>\n",
       "  </tbody>\n",
       "</table>\n",
       "</div>"
      ],
      "text/plain": [
       "         Image_ID        class  confidence         ymin        xmin  \\\n",
       "0  ID_cWEAQI.jpeg  anthracnose    0.002872    60.666199   15.254377   \n",
       "1  ID_cWEAQI.jpeg  anthracnose    0.000300  3672.035400   84.970467   \n",
       "2  ID_cWEAQI.jpeg  anthracnose    0.000245   930.349670  444.719177   \n",
       "3  ID_cWEAQI.jpeg  anthracnose    0.000188   228.629547    0.000000   \n",
       "4  ID_cWEAQI.jpeg  anthracnose    0.000111  3156.461914   20.296572   \n",
       "\n",
       "          ymax         xmax  class_id  \n",
       "0  4000.000000  1679.711670         0  \n",
       "1  4000.000000   579.548340         0  \n",
       "2  2732.435547  1620.193848         0  \n",
       "3   909.342712   437.895020         0  \n",
       "4  3988.080322  1098.258911         0  "
      ]
     },
     "execution_count": 13,
     "metadata": {},
     "output_type": "execute_result"
    }
   ],
   "source": [
    "filtered_data = []\n",
    "id_to_label = {v: k for k, v in class_id.items()}\n",
    "for image_id, data in filtered_predictions.items():\n",
    "    boxes = data[\"boxes\"].tolist()\n",
    "    scores = data[\"scores\"].tolist()\n",
    "    labels = data[\"labels\"].tolist()\n",
    "    for box, score, label in zip(boxes, scores, labels):\n",
    "        filtered_data.append({\n",
    "            \"Image_ID\": image_id,\n",
    "            \"class\": id_to_label[label],\n",
    "            \"confidence\": score,\n",
    "            \"ymin\": box[1],\n",
    "            \"xmin\": box[0],\n",
    "            \"ymax\": box[3],\n",
    "            \"xmax\": box[2],\n",
    "            \"class_id\": label\n",
    "        })\n",
    "\n",
    "filtered_df = pd.DataFrame(filtered_data)\n",
    "filtered_df.head()"
   ]
  },
  {
   "cell_type": "code",
   "execution_count": 14,
   "metadata": {},
   "outputs": [
    {
     "data": {
      "text/plain": [
       "(146305, 146340)"
      ]
     },
     "execution_count": 14,
     "metadata": {},
     "output_type": "execute_result"
    }
   ],
   "source": [
    "len(filtered_df), len(test_df)"
   ]
  },
  {
   "cell_type": "code",
   "execution_count": 15,
   "metadata": {},
   "outputs": [
    {
     "data": {
      "text/plain": [
       "class\n",
       "anthracnose    48775\n",
       "healthy        48770\n",
       "cssvd          48760\n",
       "Name: count, dtype: int64"
      ]
     },
     "execution_count": 15,
     "metadata": {},
     "output_type": "execute_result"
    }
   ],
   "source": [
    "filtered_df[\"class\"].value_counts()"
   ]
  },
  {
   "cell_type": "code",
   "execution_count": 16,
   "metadata": {},
   "outputs": [],
   "source": [
    "files = list(PREDICTION_IMAGE_PATH.glob(\"*\"))"
   ]
  },
  {
   "cell_type": "code",
   "execution_count": 17,
   "metadata": {},
   "outputs": [],
   "source": [
    "test_df: pd.DataFrame = filtered_df.copy()"
   ]
  },
  {
   "cell_type": "code",
   "execution_count": 18,
   "metadata": {},
   "outputs": [
    {
     "data": {
      "text/plain": [
       "[{'Image_ID': 'ID_cWEAQI.jpeg',\n",
       "  'class': 'anthracnose',\n",
       "  'confidence': 0.0028718397952616215,\n",
       "  'ymin': 60.66619873046875,\n",
       "  'xmin': 15.254377365112305,\n",
       "  'ymax': 4000.0,\n",
       "  'xmax': 1679.711669921875,\n",
       "  'class_id': 0},\n",
       " {'Image_ID': 'ID_cWEAQI.jpeg',\n",
       "  'class': 'anthracnose',\n",
       "  'confidence': 0.0003004346799571067,\n",
       "  'ymin': 3672.035400390625,\n",
       "  'xmin': 84.97046661376953,\n",
       "  'ymax': 4000.0,\n",
       "  'xmax': 579.54833984375,\n",
       "  'class_id': 0},\n",
       " {'Image_ID': 'ID_cWEAQI.jpeg',\n",
       "  'class': 'anthracnose',\n",
       "  'confidence': 0.00024532550014555454,\n",
       "  'ymin': 930.3496704101562,\n",
       "  'xmin': 444.71917724609375,\n",
       "  'ymax': 2732.435546875,\n",
       "  'xmax': 1620.19384765625,\n",
       "  'class_id': 0},\n",
       " {'Image_ID': 'ID_cWEAQI.jpeg',\n",
       "  'class': 'anthracnose',\n",
       "  'confidence': 0.00018821493722498417,\n",
       "  'ymin': 228.62954711914062,\n",
       "  'xmin': 0.0,\n",
       "  'ymax': 909.3427124023438,\n",
       "  'xmax': 437.89501953125,\n",
       "  'class_id': 0},\n",
       " {'Image_ID': 'ID_cWEAQI.jpeg',\n",
       "  'class': 'anthracnose',\n",
       "  'confidence': 0.00011063480633310974,\n",
       "  'ymin': 3156.4619140625,\n",
       "  'xmin': 20.296571731567383,\n",
       "  'ymax': 3988.080322265625,\n",
       "  'xmax': 1098.2589111328125,\n",
       "  'class_id': 0}]"
      ]
     },
     "execution_count": 18,
     "metadata": {},
     "output_type": "execute_result"
    }
   ],
   "source": [
    "test_records = test_df.to_dict(orient=\"records\")\n",
    "\n",
    "test_records[:5]"
   ]
  },
  {
   "cell_type": "code",
   "execution_count": 19,
   "metadata": {},
   "outputs": [
    {
     "data": {
      "text/plain": [
       "['ID_cWEAQI.jpeg', 'ID_NtqErb.jpg']"
      ]
     },
     "execution_count": 19,
     "metadata": {},
     "output_type": "execute_result"
    }
   ],
   "source": [
    "file_id = [i.name for i in files]\n",
    "file_id[:2]"
   ]
  },
  {
   "cell_type": "code",
   "execution_count": 20,
   "metadata": {},
   "outputs": [],
   "source": [
    "file_okay = set(test_df[\"Image_ID\"].values)\n",
    "file_nokay = set(file_id) - file_okay\n",
    "\n",
    "for f in file_nokay:\n",
    "    test_records.append(\n",
    "\t\t{\n",
    "\t\t\t\"Image_ID\": f,\n",
    "\t\t}\n",
    "\t)"
   ]
  },
  {
   "cell_type": "code",
   "execution_count": 21,
   "metadata": {},
   "outputs": [
    {
     "data": {
      "text/html": [
       "<div>\n",
       "<style scoped>\n",
       "    .dataframe tbody tr th:only-of-type {\n",
       "        vertical-align: middle;\n",
       "    }\n",
       "\n",
       "    .dataframe tbody tr th {\n",
       "        vertical-align: top;\n",
       "    }\n",
       "\n",
       "    .dataframe thead th {\n",
       "        text-align: right;\n",
       "    }\n",
       "</style>\n",
       "<table border=\"1\" class=\"dataframe\">\n",
       "  <thead>\n",
       "    <tr style=\"text-align: right;\">\n",
       "      <th></th>\n",
       "      <th>Image_ID</th>\n",
       "      <th>class</th>\n",
       "      <th>confidence</th>\n",
       "      <th>ymin</th>\n",
       "      <th>xmin</th>\n",
       "      <th>ymax</th>\n",
       "      <th>xmax</th>\n",
       "      <th>class_id</th>\n",
       "    </tr>\n",
       "  </thead>\n",
       "  <tbody>\n",
       "    <tr>\n",
       "      <th>70504</th>\n",
       "      <td>ID_wVucYf.jpg</td>\n",
       "      <td>cssvd</td>\n",
       "      <td>0.000145</td>\n",
       "      <td>578.748962</td>\n",
       "      <td>112.342033</td>\n",
       "      <td>985.176208</td>\n",
       "      <td>453.612640</td>\n",
       "      <td>1</td>\n",
       "    </tr>\n",
       "    <tr>\n",
       "      <th>70080</th>\n",
       "      <td>ID_XzSqhK.JPG</td>\n",
       "      <td>healthy</td>\n",
       "      <td>0.000126</td>\n",
       "      <td>2691.659668</td>\n",
       "      <td>317.179352</td>\n",
       "      <td>2984.715820</td>\n",
       "      <td>690.513000</td>\n",
       "      <td>2</td>\n",
       "    </tr>\n",
       "    <tr>\n",
       "      <th>106979</th>\n",
       "      <td>ID_Hp6I1X.jpg</td>\n",
       "      <td>healthy</td>\n",
       "      <td>0.000939</td>\n",
       "      <td>9.654806</td>\n",
       "      <td>260.260498</td>\n",
       "      <td>70.364113</td>\n",
       "      <td>340.545197</td>\n",
       "      <td>2</td>\n",
       "    </tr>\n",
       "    <tr>\n",
       "      <th>135292</th>\n",
       "      <td>ID_SxZRvt.jpg</td>\n",
       "      <td>cssvd</td>\n",
       "      <td>0.000110</td>\n",
       "      <td>457.339539</td>\n",
       "      <td>12.926865</td>\n",
       "      <td>1280.000000</td>\n",
       "      <td>302.216431</td>\n",
       "      <td>1</td>\n",
       "    </tr>\n",
       "    <tr>\n",
       "      <th>118254</th>\n",
       "      <td>ID_l7Rbyv.jpeg</td>\n",
       "      <td>anthracnose</td>\n",
       "      <td>0.000059</td>\n",
       "      <td>0.000000</td>\n",
       "      <td>2549.964355</td>\n",
       "      <td>376.218384</td>\n",
       "      <td>3019.970215</td>\n",
       "      <td>0</td>\n",
       "    </tr>\n",
       "    <tr>\n",
       "      <th>114753</th>\n",
       "      <td>ID_kFZBmo.jpg</td>\n",
       "      <td>anthracnose</td>\n",
       "      <td>0.000006</td>\n",
       "      <td>317.687714</td>\n",
       "      <td>1462.158569</td>\n",
       "      <td>660.097290</td>\n",
       "      <td>1763.766479</td>\n",
       "      <td>0</td>\n",
       "    </tr>\n",
       "    <tr>\n",
       "      <th>141812</th>\n",
       "      <td>ID_lDkNRk.jpeg</td>\n",
       "      <td>anthracnose</td>\n",
       "      <td>0.000676</td>\n",
       "      <td>489.822571</td>\n",
       "      <td>890.065002</td>\n",
       "      <td>1808.115234</td>\n",
       "      <td>1625.627319</td>\n",
       "      <td>0</td>\n",
       "    </tr>\n",
       "    <tr>\n",
       "      <th>26353</th>\n",
       "      <td>ID_d0gpda.jpg</td>\n",
       "      <td>healthy</td>\n",
       "      <td>0.000182</td>\n",
       "      <td>2731.615967</td>\n",
       "      <td>285.903015</td>\n",
       "      <td>3049.183350</td>\n",
       "      <td>503.163147</td>\n",
       "      <td>2</td>\n",
       "    </tr>\n",
       "    <tr>\n",
       "      <th>93899</th>\n",
       "      <td>ID_WYxe7D.jpeg</td>\n",
       "      <td>cssvd</td>\n",
       "      <td>0.000346</td>\n",
       "      <td>1385.986694</td>\n",
       "      <td>1105.578247</td>\n",
       "      <td>2170.759277</td>\n",
       "      <td>2165.531006</td>\n",
       "      <td>1</td>\n",
       "    </tr>\n",
       "    <tr>\n",
       "      <th>145903</th>\n",
       "      <td>ID_EWolCN.jpeg</td>\n",
       "      <td>cssvd</td>\n",
       "      <td>0.000043</td>\n",
       "      <td>3654.948975</td>\n",
       "      <td>724.952759</td>\n",
       "      <td>4032.000000</td>\n",
       "      <td>2135.825928</td>\n",
       "      <td>1</td>\n",
       "    </tr>\n",
       "  </tbody>\n",
       "</table>\n",
       "</div>"
      ],
      "text/plain": [
       "              Image_ID        class  confidence         ymin         xmin  \\\n",
       "70504    ID_wVucYf.jpg        cssvd    0.000145   578.748962   112.342033   \n",
       "70080    ID_XzSqhK.JPG      healthy    0.000126  2691.659668   317.179352   \n",
       "106979   ID_Hp6I1X.jpg      healthy    0.000939     9.654806   260.260498   \n",
       "135292   ID_SxZRvt.jpg        cssvd    0.000110   457.339539    12.926865   \n",
       "118254  ID_l7Rbyv.jpeg  anthracnose    0.000059     0.000000  2549.964355   \n",
       "114753   ID_kFZBmo.jpg  anthracnose    0.000006   317.687714  1462.158569   \n",
       "141812  ID_lDkNRk.jpeg  anthracnose    0.000676   489.822571   890.065002   \n",
       "26353    ID_d0gpda.jpg      healthy    0.000182  2731.615967   285.903015   \n",
       "93899   ID_WYxe7D.jpeg        cssvd    0.000346  1385.986694  1105.578247   \n",
       "145903  ID_EWolCN.jpeg        cssvd    0.000043  3654.948975   724.952759   \n",
       "\n",
       "               ymax         xmax  class_id  \n",
       "70504    985.176208   453.612640         1  \n",
       "70080   2984.715820   690.513000         2  \n",
       "106979    70.364113   340.545197         2  \n",
       "135292  1280.000000   302.216431         1  \n",
       "118254   376.218384  3019.970215         0  \n",
       "114753   660.097290  1763.766479         0  \n",
       "141812  1808.115234  1625.627319         0  \n",
       "26353   3049.183350   503.163147         2  \n",
       "93899   2170.759277  2165.531006         1  \n",
       "145903  4032.000000  2135.825928         1  "
      ]
     },
     "execution_count": 21,
     "metadata": {},
     "output_type": "execute_result"
    }
   ],
   "source": [
    "test_df = pd.DataFrame(test_records)\n",
    "\n",
    "test_df.sample(10)"
   ]
  },
  {
   "cell_type": "code",
   "execution_count": 22,
   "metadata": {},
   "outputs": [
    {
     "data": {
      "text/plain": [
       "class\n",
       "anthracnose    48775\n",
       "healthy        48770\n",
       "cssvd          48760\n",
       "Name: count, dtype: int64"
      ]
     },
     "execution_count": 22,
     "metadata": {},
     "output_type": "execute_result"
    }
   ],
   "source": [
    "test_df[\"class\"].value_counts()"
   ]
  },
  {
   "cell_type": "code",
   "execution_count": 23,
   "metadata": {},
   "outputs": [],
   "source": [
    "test_df.to_csv(PREDICTION_PATH.replace(\"-prediction\", \"-submission\"), index=False)"
   ]
  },
  {
   "cell_type": "code",
   "execution_count": 24,
   "metadata": {},
   "outputs": [
    {
     "data": {
      "text/plain": [
       "'dataset/predictions/08-submissions.csv'"
      ]
     },
     "execution_count": 24,
     "metadata": {},
     "output_type": "execute_result"
    }
   ],
   "source": [
    "PREDICTION_PATH.replace(\"-prediction\", \"-submission\")"
   ]
  }
 ],
 "metadata": {
  "kernelspec": {
   "display_name": ".venv",
   "language": "python",
   "name": "python3"
  },
  "language_info": {
   "codemirror_mode": {
    "name": "ipython",
    "version": 3
   },
   "file_extension": ".py",
   "mimetype": "text/x-python",
   "name": "python",
   "nbconvert_exporter": "python",
   "pygments_lexer": "ipython3",
   "version": "3.10.13"
  }
 },
 "nbformat": 4,
 "nbformat_minor": 2
}
