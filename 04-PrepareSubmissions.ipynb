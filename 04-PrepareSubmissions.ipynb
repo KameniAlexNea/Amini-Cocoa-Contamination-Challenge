{
 "cells": [
  {
   "cell_type": "code",
   "execution_count": 1,
   "metadata": {},
   "outputs": [],
   "source": [
    "# Import libraries\n",
    "import pandas as pd\n",
    "import os\n",
    "from pathlib import Path\n",
    "from tqdm import tqdm\n",
    "import yaml\n",
    "import matplotlib.pyplot as plt\n",
    "import numpy as np\n",
    "from PIL import Image"
   ]
  },
  {
   "cell_type": "code",
   "execution_count": 2,
   "metadata": {},
   "outputs": [],
   "source": [
    "LEARNED_THR = 0.00001\n",
    "IOU_THR = 0.7\n",
    "PREDICTION_PATH = \"dataset/predictions/06-2-predictions.csv\""
   ]
  },
  {
   "cell_type": "code",
   "execution_count": 3,
   "metadata": {},
   "outputs": [
    {
     "data": {
      "text/html": [
       "<div>\n",
       "<style scoped>\n",
       "    .dataframe tbody tr th:only-of-type {\n",
       "        vertical-align: middle;\n",
       "    }\n",
       "\n",
       "    .dataframe tbody tr th {\n",
       "        vertical-align: top;\n",
       "    }\n",
       "\n",
       "    .dataframe thead th {\n",
       "        text-align: right;\n",
       "    }\n",
       "</style>\n",
       "<table border=\"1\" class=\"dataframe\">\n",
       "  <thead>\n",
       "    <tr style=\"text-align: right;\">\n",
       "      <th></th>\n",
       "      <th>Image_ID</th>\n",
       "      <th>class</th>\n",
       "      <th>confidence</th>\n",
       "      <th>ymin</th>\n",
       "      <th>xmin</th>\n",
       "      <th>ymax</th>\n",
       "      <th>xmax</th>\n",
       "    </tr>\n",
       "  </thead>\n",
       "  <tbody>\n",
       "    <tr>\n",
       "      <th>107048</th>\n",
       "      <td>ID_GDhaPT.jpg</td>\n",
       "      <td>healthy</td>\n",
       "      <td>0.000007</td>\n",
       "      <td>1048.359375</td>\n",
       "      <td>645.468750</td>\n",
       "      <td>1080.000000</td>\n",
       "      <td>810.000000</td>\n",
       "    </tr>\n",
       "    <tr>\n",
       "      <th>139762</th>\n",
       "      <td>ID_i0dF6K.jpeg</td>\n",
       "      <td>healthy</td>\n",
       "      <td>0.000009</td>\n",
       "      <td>3961.124756</td>\n",
       "      <td>1397.812378</td>\n",
       "      <td>4031.999756</td>\n",
       "      <td>2075.062256</td>\n",
       "    </tr>\n",
       "    <tr>\n",
       "      <th>3093</th>\n",
       "      <td>ID_mcczYA.jpg</td>\n",
       "      <td>anthracnose</td>\n",
       "      <td>0.000031</td>\n",
       "      <td>615.000000</td>\n",
       "      <td>586.500000</td>\n",
       "      <td>1211.000000</td>\n",
       "      <td>1122.000000</td>\n",
       "    </tr>\n",
       "    <tr>\n",
       "      <th>73045</th>\n",
       "      <td>ID_LeHkk9.jpg</td>\n",
       "      <td>anthracnose</td>\n",
       "      <td>0.000005</td>\n",
       "      <td>343.750000</td>\n",
       "      <td>414.062500</td>\n",
       "      <td>606.250000</td>\n",
       "      <td>598.750000</td>\n",
       "    </tr>\n",
       "    <tr>\n",
       "      <th>220136</th>\n",
       "      <td>ID_ykD8wr.JPG</td>\n",
       "      <td>healthy</td>\n",
       "      <td>0.000014</td>\n",
       "      <td>0.896484</td>\n",
       "      <td>628.734375</td>\n",
       "      <td>361.382812</td>\n",
       "      <td>1571.437500</td>\n",
       "    </tr>\n",
       "  </tbody>\n",
       "</table>\n",
       "</div>"
      ],
      "text/plain": [
       "              Image_ID        class  confidence         ymin         xmin  \\\n",
       "107048   ID_GDhaPT.jpg      healthy    0.000007  1048.359375   645.468750   \n",
       "139762  ID_i0dF6K.jpeg      healthy    0.000009  3961.124756  1397.812378   \n",
       "3093     ID_mcczYA.jpg  anthracnose    0.000031   615.000000   586.500000   \n",
       "73045    ID_LeHkk9.jpg  anthracnose    0.000005   343.750000   414.062500   \n",
       "220136   ID_ykD8wr.JPG      healthy    0.000014     0.896484   628.734375   \n",
       "\n",
       "               ymax         xmax  \n",
       "107048  1080.000000   810.000000  \n",
       "139762  4031.999756  2075.062256  \n",
       "3093    1211.000000  1122.000000  \n",
       "73045    606.250000   598.750000  \n",
       "220136   361.382812  1571.437500  "
      ]
     },
     "execution_count": 3,
     "metadata": {},
     "output_type": "execute_result"
    }
   ],
   "source": [
    "PREDICTION_IMAGE_PATH = Path(\"dataset/images/test\")\n",
    "\n",
    "test_df = pd.read_csv(PREDICTION_PATH).rename(\n",
    "    columns={\"x_min\": \"xmin\", \"y_min\": \"ymin\", \"x_max\": \"xmax\", \"y_max\": \"ymax\"}\n",
    ")\n",
    "test_df.sample(5)"
   ]
  },
  {
   "cell_type": "code",
   "execution_count": 4,
   "metadata": {},
   "outputs": [
    {
     "data": {
      "text/plain": [
       "{'anthracnose': 0, 'cssvd': 1, 'healthy': 2}"
      ]
     },
     "execution_count": 4,
     "metadata": {},
     "output_type": "execute_result"
    }
   ],
   "source": [
    "class_id = {j: i for i, j in enumerate(sorted(test_df[\"class\"].unique()))}\n",
    "test_df[\"class_id\"] = test_df[\"class\"].map(class_id)\n",
    "class_id"
   ]
  },
  {
   "cell_type": "code",
   "execution_count": 5,
   "metadata": {},
   "outputs": [
    {
     "data": {
      "text/html": [
       "<div>\n",
       "<style scoped>\n",
       "    .dataframe tbody tr th:only-of-type {\n",
       "        vertical-align: middle;\n",
       "    }\n",
       "\n",
       "    .dataframe tbody tr th {\n",
       "        vertical-align: top;\n",
       "    }\n",
       "\n",
       "    .dataframe thead th {\n",
       "        text-align: right;\n",
       "    }\n",
       "</style>\n",
       "<table border=\"1\" class=\"dataframe\">\n",
       "  <thead>\n",
       "    <tr style=\"text-align: right;\">\n",
       "      <th></th>\n",
       "      <th>Image_ID</th>\n",
       "      <th>class</th>\n",
       "      <th>confidence</th>\n",
       "      <th>ymin</th>\n",
       "      <th>xmin</th>\n",
       "      <th>ymax</th>\n",
       "      <th>xmax</th>\n",
       "      <th>class_id</th>\n",
       "    </tr>\n",
       "  </thead>\n",
       "  <tbody>\n",
       "    <tr>\n",
       "      <th>0</th>\n",
       "      <td>ID_cWEAQI.jpeg</td>\n",
       "      <td>healthy</td>\n",
       "      <td>0.673828</td>\n",
       "      <td>5.859375</td>\n",
       "      <td>0.976562</td>\n",
       "      <td>3970.702881</td>\n",
       "      <td>1664.062378</td>\n",
       "      <td>2</td>\n",
       "    </tr>\n",
       "    <tr>\n",
       "      <th>1</th>\n",
       "      <td>ID_cWEAQI.jpeg</td>\n",
       "      <td>healthy</td>\n",
       "      <td>0.108582</td>\n",
       "      <td>329.833954</td>\n",
       "      <td>1316.406128</td>\n",
       "      <td>1249.023315</td>\n",
       "      <td>1800.000000</td>\n",
       "      <td>2</td>\n",
       "    </tr>\n",
       "    <tr>\n",
       "      <th>2</th>\n",
       "      <td>ID_cWEAQI.jpeg</td>\n",
       "      <td>healthy</td>\n",
       "      <td>0.100891</td>\n",
       "      <td>177.734360</td>\n",
       "      <td>0.000000</td>\n",
       "      <td>1560.546753</td>\n",
       "      <td>496.093719</td>\n",
       "      <td>2</td>\n",
       "    </tr>\n",
       "    <tr>\n",
       "      <th>3</th>\n",
       "      <td>ID_cWEAQI.jpeg</td>\n",
       "      <td>anthracnose</td>\n",
       "      <td>0.052246</td>\n",
       "      <td>2710.937256</td>\n",
       "      <td>610.351501</td>\n",
       "      <td>3976.562256</td>\n",
       "      <td>1496.093628</td>\n",
       "      <td>0</td>\n",
       "    </tr>\n",
       "    <tr>\n",
       "      <th>4</th>\n",
       "      <td>ID_cWEAQI.jpeg</td>\n",
       "      <td>anthracnose</td>\n",
       "      <td>0.006123</td>\n",
       "      <td>3234.374756</td>\n",
       "      <td>864.257751</td>\n",
       "      <td>3828.124756</td>\n",
       "      <td>1316.406128</td>\n",
       "      <td>0</td>\n",
       "    </tr>\n",
       "  </tbody>\n",
       "</table>\n",
       "</div>"
      ],
      "text/plain": [
       "         Image_ID        class  confidence         ymin         xmin  \\\n",
       "0  ID_cWEAQI.jpeg      healthy    0.673828     5.859375     0.976562   \n",
       "1  ID_cWEAQI.jpeg      healthy    0.108582   329.833954  1316.406128   \n",
       "2  ID_cWEAQI.jpeg      healthy    0.100891   177.734360     0.000000   \n",
       "3  ID_cWEAQI.jpeg  anthracnose    0.052246  2710.937256   610.351501   \n",
       "4  ID_cWEAQI.jpeg  anthracnose    0.006123  3234.374756   864.257751   \n",
       "\n",
       "          ymax         xmax  class_id  \n",
       "0  3970.702881  1664.062378         2  \n",
       "1  1249.023315  1800.000000         2  \n",
       "2  1560.546753   496.093719         2  \n",
       "3  3976.562256  1496.093628         0  \n",
       "4  3828.124756  1316.406128         0  "
      ]
     },
     "execution_count": 5,
     "metadata": {},
     "output_type": "execute_result"
    }
   ],
   "source": [
    "test_df.head()"
   ]
  },
  {
   "cell_type": "code",
   "execution_count": 6,
   "metadata": {},
   "outputs": [],
   "source": [
    "import torch\n",
    "\n",
    "def convert_df(df: pd.DataFrame):\n",
    "\tdf = df.copy().dropna()\n",
    "\treturn {\n",
    "\t\timg_id: {\n",
    "\t\t\t\"boxes\": torch.tensor(raw[[\"xmin\", \"ymin\", \"xmax\", \"ymax\"]].values, dtype=torch.float32),\n",
    "\t\t\t\"scores\": (\n",
    "\t\t\t\ttorch.tensor(raw[\"confidence\"].values, dtype=torch.float32)\n",
    "\t\t\t\tif \"confidence\" in raw.columns\n",
    "\t\t\t\telse None\n",
    "\t\t\t),\n",
    "\t\t\t\"labels\": torch.tensor(raw[\"class_id\"].values, dtype=torch.int32),\n",
    "\t\t}\n",
    "\t\tfor (img_id, ), raw in df.groupby([\"Image_ID\"])\n",
    "\t}\n",
    "\n",
    "def default_value():\n",
    "\treturn {\n",
    "\t\t\"boxes\": torch.empty((0, 4), dtype=torch.float32),\n",
    "\t\t\"scores\": torch.empty((0,), dtype=torch.float32),\n",
    "\t\t\"labels\": torch.empty((0,), dtype=torch.int32),\n",
    "\t}\n",
    "\n",
    "\n",
    "converted_labels = list(PREDICTION_IMAGE_PATH.glob(\"*\"))\n",
    "converted_labels = [i.name for i in converted_labels]\n",
    "\n",
    "def get_preds_data(preds, thr: float = 0.5):\n",
    "\tif thr is not None:\n",
    "\t\tpreds = preds[preds[\"confidence\"] >= thr]\n",
    "\tpreds = convert_df(preds)\n",
    "\tprint(len(preds))\n",
    "\tprint(list(preds.keys())[:10])\n",
    "\td = default_value()\n",
    "\treturn {i: preds.get(i, d) for i in converted_labels}"
   ]
  },
  {
   "cell_type": "code",
   "execution_count": 7,
   "metadata": {},
   "outputs": [
    {
     "data": {
      "text/html": [
       "<div>\n",
       "<style scoped>\n",
       "    .dataframe tbody tr th:only-of-type {\n",
       "        vertical-align: middle;\n",
       "    }\n",
       "\n",
       "    .dataframe tbody tr th {\n",
       "        vertical-align: top;\n",
       "    }\n",
       "\n",
       "    .dataframe thead th {\n",
       "        text-align: right;\n",
       "    }\n",
       "</style>\n",
       "<table border=\"1\" class=\"dataframe\">\n",
       "  <thead>\n",
       "    <tr style=\"text-align: right;\">\n",
       "      <th></th>\n",
       "      <th>Image_ID</th>\n",
       "      <th>class</th>\n",
       "      <th>confidence</th>\n",
       "      <th>ymin</th>\n",
       "      <th>xmin</th>\n",
       "      <th>ymax</th>\n",
       "      <th>xmax</th>\n",
       "      <th>class_id</th>\n",
       "    </tr>\n",
       "  </thead>\n",
       "  <tbody>\n",
       "    <tr>\n",
       "      <th>236759</th>\n",
       "      <td>ID_N0xnjL.jpg</td>\n",
       "      <td>cssvd</td>\n",
       "      <td>0.000013</td>\n",
       "      <td>749.882812</td>\n",
       "      <td>104.611816</td>\n",
       "      <td>810.000000</td>\n",
       "      <td>260.771484</td>\n",
       "      <td>1</td>\n",
       "    </tr>\n",
       "    <tr>\n",
       "      <th>67130</th>\n",
       "      <td>ID_UbtyYv.jpg</td>\n",
       "      <td>healthy</td>\n",
       "      <td>0.000010</td>\n",
       "      <td>424.775391</td>\n",
       "      <td>0.000000</td>\n",
       "      <td>540.527344</td>\n",
       "      <td>21.357422</td>\n",
       "      <td>2</td>\n",
       "    </tr>\n",
       "  </tbody>\n",
       "</table>\n",
       "</div>"
      ],
      "text/plain": [
       "             Image_ID    class  confidence        ymin        xmin  \\\n",
       "236759  ID_N0xnjL.jpg    cssvd    0.000013  749.882812  104.611816   \n",
       "67130   ID_UbtyYv.jpg  healthy    0.000010  424.775391    0.000000   \n",
       "\n",
       "              ymax        xmax  class_id  \n",
       "236759  810.000000  260.771484         1  \n",
       "67130   540.527344   21.357422         2  "
      ]
     },
     "execution_count": 7,
     "metadata": {},
     "output_type": "execute_result"
    }
   ],
   "source": [
    "test_df.sample(2)"
   ]
  },
  {
   "cell_type": "code",
   "execution_count": 8,
   "metadata": {},
   "outputs": [
    {
     "name": "stdout",
     "output_type": "stream",
     "text": [
      "1626\n",
      "['ID_A16nzu.jpg', 'ID_A1Euyz.jpg', 'ID_A1HcV0.jpeg', 'ID_A4ZdJC.jpeg', 'ID_A5SFUW.jpeg', 'ID_A6Fogi.jpeg', 'ID_ABDCyn.jpeg', 'ID_ACg6Qf.jpeg', 'ID_AFi8A1.jpg', 'ID_AHlc9P.jpg']\n"
     ]
    },
    {
     "data": {
      "text/plain": [
       "1626"
      ]
     },
     "execution_count": 8,
     "metadata": {},
     "output_type": "execute_result"
    }
   ],
   "source": [
    "predictions = get_preds_data(test_df, thr=None)\n",
    "\n",
    "len(predictions)"
   ]
  },
  {
   "cell_type": "code",
   "execution_count": 9,
   "metadata": {},
   "outputs": [],
   "source": [
    "# predictions[\"ID_CGnAYP.jpg\"]"
   ]
  },
  {
   "cell_type": "code",
   "execution_count": 10,
   "metadata": {},
   "outputs": [
    {
     "data": {
      "text/plain": [
       "dict_keys(['boxes', 'scores', 'labels'])"
      ]
     },
     "execution_count": 10,
     "metadata": {},
     "output_type": "execute_result"
    }
   ],
   "source": [
    "predictions[\"ID_CGnAYP.jpg\"].keys()"
   ]
  },
  {
   "cell_type": "code",
   "execution_count": 11,
   "metadata": {},
   "outputs": [],
   "source": [
    "from torchvision.ops import nms\n",
    "\n",
    "def apply_nms(predictions: dict[str, torch.Tensor], iou_threshold=0.5):\n",
    "    \"\"\"\n",
    "    Apply Non-Maximum Suppression (NMS) to reduce overlapping boxes.\n",
    "\n",
    "    Args:\n",
    "        predictions (dict): Dictionary containing keys ['boxes', 'scores', 'labels'].\n",
    "        iou_threshold (float): Intersection over Union (IoU) threshold for NMS.\n",
    "\n",
    "    Returns:\n",
    "        dict: Filtered predictions after applying NMS.\n",
    "    \"\"\"\n",
    "    filtered_predictions = {}\n",
    "    for image_id, data in predictions.items():\n",
    "        boxes = data[\"boxes\"]\n",
    "        scores = data[\"scores\"]\n",
    "        labels = data[\"labels\"]\n",
    "\n",
    "        if boxes.numel() == 0:\n",
    "            # If no boxes, skip this image\n",
    "            filtered_predictions[image_id] = data\n",
    "            continue\n",
    "\n",
    "        # Perform NMS for each class separately\n",
    "        keep_indices = []\n",
    "        for label in labels.unique():\n",
    "            label_mask = labels == label\n",
    "            label_boxes = boxes[label_mask]\n",
    "            label_scores = scores[label_mask]\n",
    "            indices = nms(label_boxes, label_scores, iou_threshold)\n",
    "            keep_indices.extend(label_mask.nonzero(as_tuple=True)[0][indices].tolist())\n",
    "\n",
    "        # Filter boxes, scores, and labels based on NMS results\n",
    "        keep_indices = torch.tensor(keep_indices, dtype=torch.long)\n",
    "        filtered_predictions[image_id] = {\n",
    "            \"boxes\": boxes[keep_indices],\n",
    "            \"scores\": scores[keep_indices],\n",
    "            \"labels\": labels[keep_indices],\n",
    "        }\n",
    "\n",
    "    return filtered_predictions\n",
    "\n",
    "# Apply NMS to predictions\n",
    "filtered_predictions = apply_nms(predictions, iou_threshold=IOU_THR)"
   ]
  },
  {
   "cell_type": "code",
   "execution_count": 12,
   "metadata": {},
   "outputs": [],
   "source": [
    "# for k, v in predictions.items():\n",
    "#     r = filtered_predictions[k]\n",
    "#     if len(v[\"boxes\"]) != len(r[\"boxes\"]):\n",
    "#         print(k, len(v[\"boxes\"]), len(r[\"boxes\"]))\n",
    "#         print(\"Boxes before NMS:\", v[\"boxes\"])\n",
    "#         print(\"Boxes after NMS:\", r[\"boxes\"])\n",
    "#         print(\"Scores before NMS:\", v[\"scores\"])\n",
    "#         print(\"Scores after NMS:\", r[\"scores\"])\n",
    "#         print(\"Labels before NMS:\", v[\"labels\"])\n",
    "#         print(\"Labels after NMS:\", r[\"labels\"])\n",
    "#         print()\n",
    "#         break"
   ]
  },
  {
   "cell_type": "code",
   "execution_count": 13,
   "metadata": {},
   "outputs": [
    {
     "data": {
      "text/html": [
       "<div>\n",
       "<style scoped>\n",
       "    .dataframe tbody tr th:only-of-type {\n",
       "        vertical-align: middle;\n",
       "    }\n",
       "\n",
       "    .dataframe tbody tr th {\n",
       "        vertical-align: top;\n",
       "    }\n",
       "\n",
       "    .dataframe thead th {\n",
       "        text-align: right;\n",
       "    }\n",
       "</style>\n",
       "<table border=\"1\" class=\"dataframe\">\n",
       "  <thead>\n",
       "    <tr style=\"text-align: right;\">\n",
       "      <th></th>\n",
       "      <th>Image_ID</th>\n",
       "      <th>class</th>\n",
       "      <th>confidence</th>\n",
       "      <th>ymin</th>\n",
       "      <th>xmin</th>\n",
       "      <th>ymax</th>\n",
       "      <th>xmax</th>\n",
       "      <th>class_id</th>\n",
       "    </tr>\n",
       "  </thead>\n",
       "  <tbody>\n",
       "    <tr>\n",
       "      <th>0</th>\n",
       "      <td>ID_cWEAQI.jpeg</td>\n",
       "      <td>anthracnose</td>\n",
       "      <td>0.052246</td>\n",
       "      <td>2710.937256</td>\n",
       "      <td>610.351501</td>\n",
       "      <td>3976.562256</td>\n",
       "      <td>1496.093628</td>\n",
       "      <td>0</td>\n",
       "    </tr>\n",
       "    <tr>\n",
       "      <th>1</th>\n",
       "      <td>ID_cWEAQI.jpeg</td>\n",
       "      <td>anthracnose</td>\n",
       "      <td>0.006123</td>\n",
       "      <td>3234.374756</td>\n",
       "      <td>864.257751</td>\n",
       "      <td>3828.124756</td>\n",
       "      <td>1316.406128</td>\n",
       "      <td>0</td>\n",
       "    </tr>\n",
       "    <tr>\n",
       "      <th>2</th>\n",
       "      <td>ID_cWEAQI.jpeg</td>\n",
       "      <td>anthracnose</td>\n",
       "      <td>0.005039</td>\n",
       "      <td>2130.859131</td>\n",
       "      <td>60.546871</td>\n",
       "      <td>3939.452881</td>\n",
       "      <td>1583.984253</td>\n",
       "      <td>0</td>\n",
       "    </tr>\n",
       "    <tr>\n",
       "      <th>3</th>\n",
       "      <td>ID_cWEAQI.jpeg</td>\n",
       "      <td>anthracnose</td>\n",
       "      <td>0.004280</td>\n",
       "      <td>1759.765503</td>\n",
       "      <td>0.000000</td>\n",
       "      <td>3380.859131</td>\n",
       "      <td>729.492126</td>\n",
       "      <td>0</td>\n",
       "    </tr>\n",
       "    <tr>\n",
       "      <th>4</th>\n",
       "      <td>ID_cWEAQI.jpeg</td>\n",
       "      <td>anthracnose</td>\n",
       "      <td>0.002632</td>\n",
       "      <td>2210.937256</td>\n",
       "      <td>0.000000</td>\n",
       "      <td>3035.156006</td>\n",
       "      <td>402.343719</td>\n",
       "      <td>0</td>\n",
       "    </tr>\n",
       "  </tbody>\n",
       "</table>\n",
       "</div>"
      ],
      "text/plain": [
       "         Image_ID        class  confidence         ymin        xmin  \\\n",
       "0  ID_cWEAQI.jpeg  anthracnose    0.052246  2710.937256  610.351501   \n",
       "1  ID_cWEAQI.jpeg  anthracnose    0.006123  3234.374756  864.257751   \n",
       "2  ID_cWEAQI.jpeg  anthracnose    0.005039  2130.859131   60.546871   \n",
       "3  ID_cWEAQI.jpeg  anthracnose    0.004280  1759.765503    0.000000   \n",
       "4  ID_cWEAQI.jpeg  anthracnose    0.002632  2210.937256    0.000000   \n",
       "\n",
       "          ymax         xmax  class_id  \n",
       "0  3976.562256  1496.093628         0  \n",
       "1  3828.124756  1316.406128         0  \n",
       "2  3939.452881  1583.984253         0  \n",
       "3  3380.859131   729.492126         0  \n",
       "4  3035.156006   402.343719         0  "
      ]
     },
     "execution_count": 13,
     "metadata": {},
     "output_type": "execute_result"
    }
   ],
   "source": [
    "filtered_data = []\n",
    "id_to_label = {v: k for k, v in class_id.items()}\n",
    "for image_id, data in filtered_predictions.items():\n",
    "    boxes = data[\"boxes\"].tolist()\n",
    "    scores = data[\"scores\"].tolist()\n",
    "    labels = data[\"labels\"].tolist()\n",
    "    for box, score, label in zip(boxes, scores, labels):\n",
    "        filtered_data.append({\n",
    "            \"Image_ID\": image_id,\n",
    "            \"class\": id_to_label[label],\n",
    "            \"confidence\": score,\n",
    "            \"ymin\": box[1],\n",
    "            \"xmin\": box[0],\n",
    "            \"ymax\": box[3],\n",
    "            \"xmax\": box[2],\n",
    "            \"class_id\": label\n",
    "        })\n",
    "\n",
    "filtered_df = pd.DataFrame(filtered_data)\n",
    "filtered_df.head()"
   ]
  },
  {
   "cell_type": "code",
   "execution_count": 14,
   "metadata": {},
   "outputs": [
    {
     "data": {
      "text/plain": [
       "(243603, 243900)"
      ]
     },
     "execution_count": 14,
     "metadata": {},
     "output_type": "execute_result"
    }
   ],
   "source": [
    "len(filtered_df), len(test_df)"
   ]
  },
  {
   "cell_type": "code",
   "execution_count": 15,
   "metadata": {},
   "outputs": [
    {
     "data": {
      "text/plain": [
       "class\n",
       "healthy        99249\n",
       "cssvd          75240\n",
       "anthracnose    69114\n",
       "Name: count, dtype: int64"
      ]
     },
     "execution_count": 15,
     "metadata": {},
     "output_type": "execute_result"
    }
   ],
   "source": [
    "filtered_df[\"class\"].value_counts()"
   ]
  },
  {
   "cell_type": "code",
   "execution_count": 16,
   "metadata": {},
   "outputs": [],
   "source": [
    "files = list(PREDICTION_IMAGE_PATH.glob(\"*\"))"
   ]
  },
  {
   "cell_type": "code",
   "execution_count": 17,
   "metadata": {},
   "outputs": [],
   "source": [
    "test_df: pd.DataFrame = filtered_df.copy()"
   ]
  },
  {
   "cell_type": "code",
   "execution_count": 18,
   "metadata": {},
   "outputs": [
    {
     "data": {
      "text/plain": [
       "[{'Image_ID': 'ID_cWEAQI.jpeg',\n",
       "  'class': 'anthracnose',\n",
       "  'confidence': 0.05224609375,\n",
       "  'ymin': 2710.937255859375,\n",
       "  'xmin': 610.3515014648438,\n",
       "  'ymax': 3976.562255859375,\n",
       "  'xmax': 1496.0936279296875,\n",
       "  'class_id': 0},\n",
       " {'Image_ID': 'ID_cWEAQI.jpeg',\n",
       "  'class': 'anthracnose',\n",
       "  'confidence': 0.006122589111328125,\n",
       "  'ymin': 3234.374755859375,\n",
       "  'xmin': 864.2577514648438,\n",
       "  'ymax': 3828.124755859375,\n",
       "  'xmax': 1316.4061279296875,\n",
       "  'class_id': 0},\n",
       " {'Image_ID': 'ID_cWEAQI.jpeg',\n",
       "  'class': 'anthracnose',\n",
       "  'confidence': 0.005039215087890625,\n",
       "  'ymin': 2130.859130859375,\n",
       "  'xmin': 60.546871185302734,\n",
       "  'ymax': 3939.452880859375,\n",
       "  'xmax': 1583.9842529296875,\n",
       "  'class_id': 0},\n",
       " {'Image_ID': 'ID_cWEAQI.jpeg',\n",
       "  'class': 'anthracnose',\n",
       "  'confidence': 0.00428009033203125,\n",
       "  'ymin': 1759.7655029296875,\n",
       "  'xmin': 0.0,\n",
       "  'ymax': 3380.859130859375,\n",
       "  'xmax': 729.4921264648438,\n",
       "  'class_id': 0},\n",
       " {'Image_ID': 'ID_cWEAQI.jpeg',\n",
       "  'class': 'anthracnose',\n",
       "  'confidence': 0.00263214111328125,\n",
       "  'ymin': 2210.937255859375,\n",
       "  'xmin': 0.0,\n",
       "  'ymax': 3035.156005859375,\n",
       "  'xmax': 402.3437194824219,\n",
       "  'class_id': 0}]"
      ]
     },
     "execution_count": 18,
     "metadata": {},
     "output_type": "execute_result"
    }
   ],
   "source": [
    "test_records = test_df.to_dict(orient=\"records\")\n",
    "\n",
    "test_records[:5]"
   ]
  },
  {
   "cell_type": "code",
   "execution_count": 19,
   "metadata": {},
   "outputs": [
    {
     "data": {
      "text/plain": [
       "['ID_cWEAQI.jpeg', 'ID_NtqErb.jpg']"
      ]
     },
     "execution_count": 19,
     "metadata": {},
     "output_type": "execute_result"
    }
   ],
   "source": [
    "file_id = [i.name for i in files]\n",
    "file_id[:2]"
   ]
  },
  {
   "cell_type": "code",
   "execution_count": 20,
   "metadata": {},
   "outputs": [],
   "source": [
    "file_okay = set(test_df[\"Image_ID\"].values)\n",
    "file_nokay = set(file_id) - file_okay\n",
    "\n",
    "for f in file_nokay:\n",
    "    test_records.append(\n",
    "\t\t{\n",
    "\t\t\t\"Image_ID\": f,\n",
    "\t\t}\n",
    "\t)"
   ]
  },
  {
   "cell_type": "code",
   "execution_count": 21,
   "metadata": {},
   "outputs": [
    {
     "data": {
      "text/html": [
       "<div>\n",
       "<style scoped>\n",
       "    .dataframe tbody tr th:only-of-type {\n",
       "        vertical-align: middle;\n",
       "    }\n",
       "\n",
       "    .dataframe tbody tr th {\n",
       "        vertical-align: top;\n",
       "    }\n",
       "\n",
       "    .dataframe thead th {\n",
       "        text-align: right;\n",
       "    }\n",
       "</style>\n",
       "<table border=\"1\" class=\"dataframe\">\n",
       "  <thead>\n",
       "    <tr style=\"text-align: right;\">\n",
       "      <th></th>\n",
       "      <th>Image_ID</th>\n",
       "      <th>class</th>\n",
       "      <th>confidence</th>\n",
       "      <th>ymin</th>\n",
       "      <th>xmin</th>\n",
       "      <th>ymax</th>\n",
       "      <th>xmax</th>\n",
       "      <th>class_id</th>\n",
       "    </tr>\n",
       "  </thead>\n",
       "  <tbody>\n",
       "    <tr>\n",
       "      <th>223322</th>\n",
       "      <td>ID_yFxM4p.jpg</td>\n",
       "      <td>healthy</td>\n",
       "      <td>0.000047</td>\n",
       "      <td>723.960938</td>\n",
       "      <td>1606.500000</td>\n",
       "      <td>975.375000</td>\n",
       "      <td>1823.250000</td>\n",
       "      <td>2</td>\n",
       "    </tr>\n",
       "    <tr>\n",
       "      <th>102827</th>\n",
       "      <td>ID_m0or8l.jpg</td>\n",
       "      <td>anthracnose</td>\n",
       "      <td>0.000047</td>\n",
       "      <td>552.000000</td>\n",
       "      <td>570.000000</td>\n",
       "      <td>1250.000000</td>\n",
       "      <td>1122.000000</td>\n",
       "      <td>0</td>\n",
       "    </tr>\n",
       "    <tr>\n",
       "      <th>230744</th>\n",
       "      <td>ID_GX6BsX.jpeg</td>\n",
       "      <td>anthracnose</td>\n",
       "      <td>0.000009</td>\n",
       "      <td>185.062485</td>\n",
       "      <td>2179.406006</td>\n",
       "      <td>1840.781128</td>\n",
       "      <td>2860.593506</td>\n",
       "      <td>0</td>\n",
       "    </tr>\n",
       "    <tr>\n",
       "      <th>221615</th>\n",
       "      <td>ID_bwH4Zt.jpg</td>\n",
       "      <td>anthracnose</td>\n",
       "      <td>0.000017</td>\n",
       "      <td>970.500000</td>\n",
       "      <td>650.500000</td>\n",
       "      <td>1334.000000</td>\n",
       "      <td>1186.000000</td>\n",
       "      <td>0</td>\n",
       "    </tr>\n",
       "    <tr>\n",
       "      <th>89630</th>\n",
       "      <td>ID_g3WNqx.jpg</td>\n",
       "      <td>cssvd</td>\n",
       "      <td>0.000012</td>\n",
       "      <td>0.498047</td>\n",
       "      <td>2073.468750</td>\n",
       "      <td>74.756836</td>\n",
       "      <td>2448.000000</td>\n",
       "      <td>1</td>\n",
       "    </tr>\n",
       "    <tr>\n",
       "      <th>154593</th>\n",
       "      <td>ID_a76tQV.jpg</td>\n",
       "      <td>cssvd</td>\n",
       "      <td>0.000007</td>\n",
       "      <td>612.773438</td>\n",
       "      <td>0.000000</td>\n",
       "      <td>650.742188</td>\n",
       "      <td>2.900391</td>\n",
       "      <td>1</td>\n",
       "    </tr>\n",
       "    <tr>\n",
       "      <th>157404</th>\n",
       "      <td>ID_zfVZ2p.jpg</td>\n",
       "      <td>cssvd</td>\n",
       "      <td>0.000007</td>\n",
       "      <td>567.949219</td>\n",
       "      <td>0.000000</td>\n",
       "      <td>691.347656</td>\n",
       "      <td>0.000000</td>\n",
       "      <td>1</td>\n",
       "    </tr>\n",
       "    <tr>\n",
       "      <th>38448</th>\n",
       "      <td>ID_MZzLPS.jpg</td>\n",
       "      <td>cssvd</td>\n",
       "      <td>0.000005</td>\n",
       "      <td>554.238281</td>\n",
       "      <td>810.000000</td>\n",
       "      <td>600.644531</td>\n",
       "      <td>810.000000</td>\n",
       "      <td>1</td>\n",
       "    </tr>\n",
       "    <tr>\n",
       "      <th>54010</th>\n",
       "      <td>ID_Nbmn82.jpg</td>\n",
       "      <td>healthy</td>\n",
       "      <td>0.000152</td>\n",
       "      <td>0.000000</td>\n",
       "      <td>846.000000</td>\n",
       "      <td>58.937500</td>\n",
       "      <td>1278.000000</td>\n",
       "      <td>2</td>\n",
       "    </tr>\n",
       "    <tr>\n",
       "      <th>196645</th>\n",
       "      <td>ID_rV6NA8.jpg</td>\n",
       "      <td>cssvd</td>\n",
       "      <td>0.000004</td>\n",
       "      <td>678.164062</td>\n",
       "      <td>0.000000</td>\n",
       "      <td>1080.000000</td>\n",
       "      <td>0.000000</td>\n",
       "      <td>1</td>\n",
       "    </tr>\n",
       "  </tbody>\n",
       "</table>\n",
       "</div>"
      ],
      "text/plain": [
       "              Image_ID        class  confidence        ymin         xmin  \\\n",
       "223322   ID_yFxM4p.jpg      healthy    0.000047  723.960938  1606.500000   \n",
       "102827   ID_m0or8l.jpg  anthracnose    0.000047  552.000000   570.000000   \n",
       "230744  ID_GX6BsX.jpeg  anthracnose    0.000009  185.062485  2179.406006   \n",
       "221615   ID_bwH4Zt.jpg  anthracnose    0.000017  970.500000   650.500000   \n",
       "89630    ID_g3WNqx.jpg        cssvd    0.000012    0.498047  2073.468750   \n",
       "154593   ID_a76tQV.jpg        cssvd    0.000007  612.773438     0.000000   \n",
       "157404   ID_zfVZ2p.jpg        cssvd    0.000007  567.949219     0.000000   \n",
       "38448    ID_MZzLPS.jpg        cssvd    0.000005  554.238281   810.000000   \n",
       "54010    ID_Nbmn82.jpg      healthy    0.000152    0.000000   846.000000   \n",
       "196645   ID_rV6NA8.jpg        cssvd    0.000004  678.164062     0.000000   \n",
       "\n",
       "               ymax         xmax  class_id  \n",
       "223322   975.375000  1823.250000         2  \n",
       "102827  1250.000000  1122.000000         0  \n",
       "230744  1840.781128  2860.593506         0  \n",
       "221615  1334.000000  1186.000000         0  \n",
       "89630     74.756836  2448.000000         1  \n",
       "154593   650.742188     2.900391         1  \n",
       "157404   691.347656     0.000000         1  \n",
       "38448    600.644531   810.000000         1  \n",
       "54010     58.937500  1278.000000         2  \n",
       "196645  1080.000000     0.000000         1  "
      ]
     },
     "execution_count": 21,
     "metadata": {},
     "output_type": "execute_result"
    }
   ],
   "source": [
    "test_df = pd.DataFrame(test_records)\n",
    "\n",
    "test_df.sample(10)"
   ]
  },
  {
   "cell_type": "code",
   "execution_count": 22,
   "metadata": {},
   "outputs": [
    {
     "data": {
      "text/plain": [
       "class\n",
       "healthy        99249\n",
       "cssvd          75240\n",
       "anthracnose    69114\n",
       "Name: count, dtype: int64"
      ]
     },
     "execution_count": 22,
     "metadata": {},
     "output_type": "execute_result"
    }
   ],
   "source": [
    "test_df[\"class\"].value_counts()"
   ]
  },
  {
   "cell_type": "code",
   "execution_count": 23,
   "metadata": {},
   "outputs": [],
   "source": [
    "test_df.to_csv(PREDICTION_PATH.replace(\"-prediction\", \"-submission\"), index=False)"
   ]
  },
  {
   "cell_type": "code",
   "execution_count": 24,
   "metadata": {},
   "outputs": [
    {
     "data": {
      "text/plain": [
       "'dataset/predictions/06-2-submissions.csv'"
      ]
     },
     "execution_count": 24,
     "metadata": {},
     "output_type": "execute_result"
    }
   ],
   "source": [
    "PREDICTION_PATH.replace(\"-prediction\", \"-submission\")"
   ]
  }
 ],
 "metadata": {
  "kernelspec": {
   "display_name": ".venv",
   "language": "python",
   "name": "python3"
  },
  "language_info": {
   "codemirror_mode": {
    "name": "ipython",
    "version": 3
   },
   "file_extension": ".py",
   "mimetype": "text/x-python",
   "name": "python",
   "nbconvert_exporter": "python",
   "pygments_lexer": "ipython3",
   "version": "3.10.13"
  }
 },
 "nbformat": 4,
 "nbformat_minor": 2
}
