{
 "cells": [
  {
   "cell_type": "code",
   "execution_count": 1,
   "metadata": {},
   "outputs": [],
   "source": [
    "# Import libraries\n",
    "import pandas as pd\n",
    "import os\n",
    "from pathlib import Path\n",
    "from tqdm import tqdm\n",
    "import yaml\n",
    "import matplotlib.pyplot as plt\n",
    "import numpy as np\n",
    "from PIL import Image"
   ]
  },
  {
   "cell_type": "code",
   "execution_count": 2,
   "metadata": {},
   "outputs": [],
   "source": [
    "LEARNED_THR = 0.001\n",
    "PREDICTION_PATH = \"dataset/predictions/02-predictions.csv\""
   ]
  },
  {
   "cell_type": "code",
   "execution_count": 3,
   "metadata": {},
   "outputs": [
    {
     "data": {
      "text/html": [
       "<div>\n",
       "<style scoped>\n",
       "    .dataframe tbody tr th:only-of-type {\n",
       "        vertical-align: middle;\n",
       "    }\n",
       "\n",
       "    .dataframe tbody tr th {\n",
       "        vertical-align: top;\n",
       "    }\n",
       "\n",
       "    .dataframe thead th {\n",
       "        text-align: right;\n",
       "    }\n",
       "</style>\n",
       "<table border=\"1\" class=\"dataframe\">\n",
       "  <thead>\n",
       "    <tr style=\"text-align: right;\">\n",
       "      <th></th>\n",
       "      <th>Image_ID</th>\n",
       "      <th>class</th>\n",
       "      <th>confidence</th>\n",
       "      <th>ymin</th>\n",
       "      <th>xmin</th>\n",
       "      <th>ymax</th>\n",
       "      <th>xmax</th>\n",
       "    </tr>\n",
       "  </thead>\n",
       "  <tbody>\n",
       "    <tr>\n",
       "      <th>36781</th>\n",
       "      <td>ID_x9OuTG.jpeg</td>\n",
       "      <td>healthy</td>\n",
       "      <td>0.253555</td>\n",
       "      <td>320.663788</td>\n",
       "      <td>1163.428955</td>\n",
       "      <td>1484.858521</td>\n",
       "      <td>1797.367188</td>\n",
       "    </tr>\n",
       "    <tr>\n",
       "      <th>22698</th>\n",
       "      <td>ID_xUtJVT.jpg</td>\n",
       "      <td>cssvd</td>\n",
       "      <td>0.000328</td>\n",
       "      <td>0.000000</td>\n",
       "      <td>0.000000</td>\n",
       "      <td>296.327545</td>\n",
       "      <td>200.119705</td>\n",
       "    </tr>\n",
       "    <tr>\n",
       "      <th>10518</th>\n",
       "      <td>ID_bl3IBt.jpeg</td>\n",
       "      <td>healthy</td>\n",
       "      <td>0.002112</td>\n",
       "      <td>3352.116943</td>\n",
       "      <td>0.000000</td>\n",
       "      <td>3999.424805</td>\n",
       "      <td>989.017883</td>\n",
       "    </tr>\n",
       "    <tr>\n",
       "      <th>15511</th>\n",
       "      <td>ID_F7a5DB.jpg</td>\n",
       "      <td>cssvd</td>\n",
       "      <td>0.018570</td>\n",
       "      <td>5.590732</td>\n",
       "      <td>653.035950</td>\n",
       "      <td>678.489014</td>\n",
       "      <td>1079.270508</td>\n",
       "    </tr>\n",
       "    <tr>\n",
       "      <th>2952</th>\n",
       "      <td>ID_LEiRHI.jpg</td>\n",
       "      <td>anthracnose</td>\n",
       "      <td>0.022028</td>\n",
       "      <td>2946.677490</td>\n",
       "      <td>1473.029419</td>\n",
       "      <td>3264.000000</td>\n",
       "      <td>2222.378418</td>\n",
       "    </tr>\n",
       "  </tbody>\n",
       "</table>\n",
       "</div>"
      ],
      "text/plain": [
       "             Image_ID        class  confidence         ymin         xmin  \\\n",
       "36781  ID_x9OuTG.jpeg      healthy    0.253555   320.663788  1163.428955   \n",
       "22698   ID_xUtJVT.jpg        cssvd    0.000328     0.000000     0.000000   \n",
       "10518  ID_bl3IBt.jpeg      healthy    0.002112  3352.116943     0.000000   \n",
       "15511   ID_F7a5DB.jpg        cssvd    0.018570     5.590732   653.035950   \n",
       "2952    ID_LEiRHI.jpg  anthracnose    0.022028  2946.677490  1473.029419   \n",
       "\n",
       "              ymax         xmax  \n",
       "36781  1484.858521  1797.367188  \n",
       "22698   296.327545   200.119705  \n",
       "10518  3999.424805   989.017883  \n",
       "15511   678.489014  1079.270508  \n",
       "2952   3264.000000  2222.378418  "
      ]
     },
     "execution_count": 3,
     "metadata": {},
     "output_type": "execute_result"
    }
   ],
   "source": [
    "PREDICTION_IMAGE_PATH = Path(\"dataset/images/test\")\n",
    "\n",
    "test_df = pd.read_csv(PREDICTION_PATH)\n",
    "test_df.sample(5)"
   ]
  },
  {
   "cell_type": "code",
   "execution_count": 4,
   "metadata": {},
   "outputs": [
    {
     "data": {
      "text/plain": [
       "1626"
      ]
     },
     "execution_count": 4,
     "metadata": {},
     "output_type": "execute_result"
    }
   ],
   "source": [
    "files = list(PREDICTION_IMAGE_PATH.glob(\"*.*\"))\n",
    "len(files)"
   ]
  },
  {
   "cell_type": "code",
   "execution_count": 5,
   "metadata": {},
   "outputs": [
    {
     "name": "stdout",
     "output_type": "stream",
     "text": [
      "Size 48780\n"
     ]
    },
    {
     "data": {
      "text/plain": [
       "43280"
      ]
     },
     "execution_count": 5,
     "metadata": {},
     "output_type": "execute_result"
    }
   ],
   "source": [
    "print(\"Size\", len(test_df))\n",
    "test_df: pd.DataFrame = test_df[test_df[\"confidence\"] > LEARNED_THR]\n",
    "len(test_df)"
   ]
  },
  {
   "cell_type": "code",
   "execution_count": 6,
   "metadata": {},
   "outputs": [
    {
     "data": {
      "text/plain": [
       "(1626, 1626)"
      ]
     },
     "execution_count": 6,
     "metadata": {},
     "output_type": "execute_result"
    }
   ],
   "source": [
    "test_df[\"Image_ID\"].nunique(), len(files)"
   ]
  },
  {
   "cell_type": "code",
   "execution_count": 7,
   "metadata": {},
   "outputs": [
    {
     "data": {
      "text/plain": [
       "Image_ID      0\n",
       "class         0\n",
       "confidence    0\n",
       "ymin          0\n",
       "xmin          0\n",
       "ymax          0\n",
       "xmax          0\n",
       "dtype: int64"
      ]
     },
     "execution_count": 7,
     "metadata": {},
     "output_type": "execute_result"
    }
   ],
   "source": [
    "test_df.isna().sum()"
   ]
  },
  {
   "cell_type": "code",
   "execution_count": 8,
   "metadata": {},
   "outputs": [
    {
     "data": {
      "text/plain": [
       "[{'Image_ID': 'ID_cWEAQI.jpeg',\n",
       "  'class': 'healthy',\n",
       "  'confidence': 0.5879385471343994,\n",
       "  'ymin': 196.29763793945312,\n",
       "  'xmin': 10.367511749267578,\n",
       "  'ymax': 3934.84912109375,\n",
       "  'xmax': 1636.239013671875},\n",
       " {'Image_ID': 'ID_cWEAQI.jpeg',\n",
       "  'class': 'healthy',\n",
       "  'confidence': 0.0414691306650638,\n",
       "  'ymin': 174.48638916015625,\n",
       "  'xmin': 0.0,\n",
       "  'ymax': 1687.7427978515625,\n",
       "  'xmax': 498.4138793945313},\n",
       " {'Image_ID': 'ID_cWEAQI.jpeg',\n",
       "  'class': 'healthy',\n",
       "  'confidence': 0.0302038863301277,\n",
       "  'ymin': 349.4897766113281,\n",
       "  'xmin': 1338.6968994140625,\n",
       "  'ymax': 1136.139892578125,\n",
       "  'xmax': 1795.4088134765625},\n",
       " {'Image_ID': 'ID_cWEAQI.jpeg',\n",
       "  'class': 'healthy',\n",
       "  'confidence': 0.0201799571514129,\n",
       "  'ymin': 101.95970153808594,\n",
       "  'xmin': 1.0755060911178589,\n",
       "  'ymax': 2287.603271484375,\n",
       "  'xmax': 567.26904296875},\n",
       " {'Image_ID': 'ID_cWEAQI.jpeg',\n",
       "  'class': 'healthy',\n",
       "  'confidence': 0.0146580608561635,\n",
       "  'ymin': 0.9587704539299012,\n",
       "  'xmin': 1253.0130615234375,\n",
       "  'ymax': 477.12994384765625,\n",
       "  'xmax': 1795.9903564453125}]"
      ]
     },
     "execution_count": 8,
     "metadata": {},
     "output_type": "execute_result"
    }
   ],
   "source": [
    "test_records = test_df.to_dict(orient=\"records\")\n",
    "\n",
    "test_records[:5]"
   ]
  },
  {
   "cell_type": "code",
   "execution_count": 9,
   "metadata": {},
   "outputs": [
    {
     "data": {
      "text/plain": [
       "['ID_cWEAQI.jpeg', 'ID_NtqErb.jpg']"
      ]
     },
     "execution_count": 9,
     "metadata": {},
     "output_type": "execute_result"
    }
   ],
   "source": [
    "file_id = [i.name for i in files]\n",
    "file_id[:2]"
   ]
  },
  {
   "cell_type": "code",
   "execution_count": 10,
   "metadata": {},
   "outputs": [],
   "source": [
    "file_okay = set(test_df[\"Image_ID\"].values)\n",
    "file_nokay = set(file_id) - file_okay\n",
    "\n",
    "for f in file_nokay:\n",
    "    test_records.append(\n",
    "\t\t{\n",
    "\t\t\t\"Image_ID\": f,\n",
    "\t\t}\n",
    "\t)\n"
   ]
  },
  {
   "cell_type": "code",
   "execution_count": 11,
   "metadata": {},
   "outputs": [
    {
     "data": {
      "text/html": [
       "<div>\n",
       "<style scoped>\n",
       "    .dataframe tbody tr th:only-of-type {\n",
       "        vertical-align: middle;\n",
       "    }\n",
       "\n",
       "    .dataframe tbody tr th {\n",
       "        vertical-align: top;\n",
       "    }\n",
       "\n",
       "    .dataframe thead th {\n",
       "        text-align: right;\n",
       "    }\n",
       "</style>\n",
       "<table border=\"1\" class=\"dataframe\">\n",
       "  <thead>\n",
       "    <tr style=\"text-align: right;\">\n",
       "      <th></th>\n",
       "      <th>Image_ID</th>\n",
       "      <th>class</th>\n",
       "      <th>confidence</th>\n",
       "      <th>ymin</th>\n",
       "      <th>xmin</th>\n",
       "      <th>ymax</th>\n",
       "      <th>xmax</th>\n",
       "    </tr>\n",
       "  </thead>\n",
       "  <tbody>\n",
       "    <tr>\n",
       "      <th>4819</th>\n",
       "      <td>ID_FiJeqW.jpg</td>\n",
       "      <td>healthy</td>\n",
       "      <td>0.011257</td>\n",
       "      <td>0.000000</td>\n",
       "      <td>1615.074219</td>\n",
       "      <td>738.362732</td>\n",
       "      <td>2445.506348</td>\n",
       "    </tr>\n",
       "    <tr>\n",
       "      <th>18269</th>\n",
       "      <td>ID_cCtxAa.jpeg</td>\n",
       "      <td>healthy</td>\n",
       "      <td>0.003804</td>\n",
       "      <td>0.000000</td>\n",
       "      <td>999.107849</td>\n",
       "      <td>227.940567</td>\n",
       "      <td>2470.634521</td>\n",
       "    </tr>\n",
       "    <tr>\n",
       "      <th>38608</th>\n",
       "      <td>ID_rGRsVE.jpg</td>\n",
       "      <td>healthy</td>\n",
       "      <td>0.007422</td>\n",
       "      <td>0.009766</td>\n",
       "      <td>0.137520</td>\n",
       "      <td>406.518127</td>\n",
       "      <td>280.764496</td>\n",
       "    </tr>\n",
       "    <tr>\n",
       "      <th>33907</th>\n",
       "      <td>ID_KNTwFY.jpg</td>\n",
       "      <td>anthracnose</td>\n",
       "      <td>0.002846</td>\n",
       "      <td>934.409546</td>\n",
       "      <td>903.187012</td>\n",
       "      <td>2044.366333</td>\n",
       "      <td>1466.911377</td>\n",
       "    </tr>\n",
       "    <tr>\n",
       "      <th>2174</th>\n",
       "      <td>ID_FZdNUn.jpeg</td>\n",
       "      <td>healthy</td>\n",
       "      <td>0.004395</td>\n",
       "      <td>0.000000</td>\n",
       "      <td>7.574051</td>\n",
       "      <td>277.597900</td>\n",
       "      <td>853.185486</td>\n",
       "    </tr>\n",
       "    <tr>\n",
       "      <th>5259</th>\n",
       "      <td>ID_qSCHkr.JPG</td>\n",
       "      <td>healthy</td>\n",
       "      <td>0.008525</td>\n",
       "      <td>0.373499</td>\n",
       "      <td>1883.629761</td>\n",
       "      <td>436.367371</td>\n",
       "      <td>2448.000000</td>\n",
       "    </tr>\n",
       "    <tr>\n",
       "      <th>18240</th>\n",
       "      <td>ID_s8kkQp.jpg</td>\n",
       "      <td>healthy</td>\n",
       "      <td>0.004592</td>\n",
       "      <td>216.180374</td>\n",
       "      <td>248.958405</td>\n",
       "      <td>262.313751</td>\n",
       "      <td>292.712494</td>\n",
       "    </tr>\n",
       "    <tr>\n",
       "      <th>35152</th>\n",
       "      <td>ID_WBEKHx.jpeg</td>\n",
       "      <td>healthy</td>\n",
       "      <td>0.008058</td>\n",
       "      <td>0.000000</td>\n",
       "      <td>0.161980</td>\n",
       "      <td>242.232620</td>\n",
       "      <td>820.535278</td>\n",
       "    </tr>\n",
       "    <tr>\n",
       "      <th>15836</th>\n",
       "      <td>ID_svY6TG.jpg</td>\n",
       "      <td>healthy</td>\n",
       "      <td>0.007355</td>\n",
       "      <td>268.972137</td>\n",
       "      <td>352.766449</td>\n",
       "      <td>405.521271</td>\n",
       "      <td>415.989197</td>\n",
       "    </tr>\n",
       "    <tr>\n",
       "      <th>2165</th>\n",
       "      <td>ID_Ho3Skn.jpg</td>\n",
       "      <td>healthy</td>\n",
       "      <td>0.001099</td>\n",
       "      <td>0.428696</td>\n",
       "      <td>0.000000</td>\n",
       "      <td>326.453888</td>\n",
       "      <td>179.607925</td>\n",
       "    </tr>\n",
       "  </tbody>\n",
       "</table>\n",
       "</div>"
      ],
      "text/plain": [
       "             Image_ID        class  confidence        ymin         xmin  \\\n",
       "4819    ID_FiJeqW.jpg      healthy    0.011257    0.000000  1615.074219   \n",
       "18269  ID_cCtxAa.jpeg      healthy    0.003804    0.000000   999.107849   \n",
       "38608   ID_rGRsVE.jpg      healthy    0.007422    0.009766     0.137520   \n",
       "33907   ID_KNTwFY.jpg  anthracnose    0.002846  934.409546   903.187012   \n",
       "2174   ID_FZdNUn.jpeg      healthy    0.004395    0.000000     7.574051   \n",
       "5259    ID_qSCHkr.JPG      healthy    0.008525    0.373499  1883.629761   \n",
       "18240   ID_s8kkQp.jpg      healthy    0.004592  216.180374   248.958405   \n",
       "35152  ID_WBEKHx.jpeg      healthy    0.008058    0.000000     0.161980   \n",
       "15836   ID_svY6TG.jpg      healthy    0.007355  268.972137   352.766449   \n",
       "2165    ID_Ho3Skn.jpg      healthy    0.001099    0.428696     0.000000   \n",
       "\n",
       "              ymax         xmax  \n",
       "4819    738.362732  2445.506348  \n",
       "18269   227.940567  2470.634521  \n",
       "38608   406.518127   280.764496  \n",
       "33907  2044.366333  1466.911377  \n",
       "2174    277.597900   853.185486  \n",
       "5259    436.367371  2448.000000  \n",
       "18240   262.313751   292.712494  \n",
       "35152   242.232620   820.535278  \n",
       "15836   405.521271   415.989197  \n",
       "2165    326.453888   179.607925  "
      ]
     },
     "execution_count": 11,
     "metadata": {},
     "output_type": "execute_result"
    }
   ],
   "source": [
    "test_df = pd.DataFrame(test_records)\n",
    "\n",
    "test_df.sample(10)"
   ]
  },
  {
   "cell_type": "code",
   "execution_count": 12,
   "metadata": {},
   "outputs": [
    {
     "data": {
      "text/plain": [
       "class\n",
       "healthy        19656\n",
       "cssvd          12155\n",
       "anthracnose    11469\n",
       "Name: count, dtype: int64"
      ]
     },
     "execution_count": 12,
     "metadata": {},
     "output_type": "execute_result"
    }
   ],
   "source": [
    "test_df[\"class\"].value_counts()"
   ]
  },
  {
   "cell_type": "code",
   "execution_count": 13,
   "metadata": {},
   "outputs": [],
   "source": [
    "test_df.to_csv(PREDICTION_PATH.replace(\"-prediction\", \"-submission\"), index=False)"
   ]
  },
  {
   "cell_type": "code",
   "execution_count": 14,
   "metadata": {},
   "outputs": [
    {
     "data": {
      "text/plain": [
       "'dataset/predictions/02-submissions.csv'"
      ]
     },
     "execution_count": 14,
     "metadata": {},
     "output_type": "execute_result"
    }
   ],
   "source": [
    "PREDICTION_PATH.replace(\"-prediction\", \"-submission\")"
   ]
  },
  {
   "cell_type": "code",
   "execution_count": null,
   "metadata": {},
   "outputs": [],
   "source": []
  }
 ],
 "metadata": {
  "kernelspec": {
   "display_name": ".venv",
   "language": "python",
   "name": "python3"
  },
  "language_info": {
   "codemirror_mode": {
    "name": "ipython",
    "version": 3
   },
   "file_extension": ".py",
   "mimetype": "text/x-python",
   "name": "python",
   "nbconvert_exporter": "python",
   "pygments_lexer": "ipython3",
   "version": "3.10.13"
  }
 },
 "nbformat": 4,
 "nbformat_minor": 2
}
