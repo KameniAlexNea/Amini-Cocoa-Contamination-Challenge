{
 "cells": [
  {
   "cell_type": "code",
   "execution_count": 1,
   "metadata": {},
   "outputs": [],
   "source": [
    "# Import libraries\n",
    "import pandas as pd\n",
    "import os\n",
    "from pathlib import Path\n",
    "from tqdm import tqdm\n",
    "import yaml\n",
    "import matplotlib.pyplot as plt\n",
    "import numpy as np\n",
    "from PIL import Image"
   ]
  },
  {
   "cell_type": "code",
   "execution_count": 2,
   "metadata": {},
   "outputs": [],
   "source": [
    "LEARNED_THR = 0.00001\n",
    "IOU_THR = 0.7\n",
    "PREDICTION_PATH = \"dataset/predictions/11-predictions.csv\""
   ]
  },
  {
   "cell_type": "code",
   "execution_count": 3,
   "metadata": {},
   "outputs": [
    {
     "data": {
      "text/html": [
       "<div>\n",
       "<style scoped>\n",
       "    .dataframe tbody tr th:only-of-type {\n",
       "        vertical-align: middle;\n",
       "    }\n",
       "\n",
       "    .dataframe tbody tr th {\n",
       "        vertical-align: top;\n",
       "    }\n",
       "\n",
       "    .dataframe thead th {\n",
       "        text-align: right;\n",
       "    }\n",
       "</style>\n",
       "<table border=\"1\" class=\"dataframe\">\n",
       "  <thead>\n",
       "    <tr style=\"text-align: right;\">\n",
       "      <th></th>\n",
       "      <th>Image_ID</th>\n",
       "      <th>class</th>\n",
       "      <th>confidence</th>\n",
       "      <th>ymin</th>\n",
       "      <th>xmin</th>\n",
       "      <th>ymax</th>\n",
       "      <th>xmax</th>\n",
       "    </tr>\n",
       "  </thead>\n",
       "  <tbody>\n",
       "    <tr>\n",
       "      <th>110868</th>\n",
       "      <td>ID_UkxRz8.jpg</td>\n",
       "      <td>healthy</td>\n",
       "      <td>0.002495</td>\n",
       "      <td>0.709486</td>\n",
       "      <td>7.307233</td>\n",
       "      <td>172.228775</td>\n",
       "      <td>524.275635</td>\n",
       "    </tr>\n",
       "    <tr>\n",
       "      <th>98103</th>\n",
       "      <td>ID_eFBxoD.jpg</td>\n",
       "      <td>cssvd</td>\n",
       "      <td>0.008252</td>\n",
       "      <td>0.000000</td>\n",
       "      <td>578.398132</td>\n",
       "      <td>215.805939</td>\n",
       "      <td>951.877319</td>\n",
       "    </tr>\n",
       "    <tr>\n",
       "      <th>156347</th>\n",
       "      <td>ID_coFJm9.jpg</td>\n",
       "      <td>healthy</td>\n",
       "      <td>0.001070</td>\n",
       "      <td>0.000000</td>\n",
       "      <td>393.652649</td>\n",
       "      <td>162.612518</td>\n",
       "      <td>416.000000</td>\n",
       "    </tr>\n",
       "    <tr>\n",
       "      <th>243269</th>\n",
       "      <td>ID_EWolCN.jpeg</td>\n",
       "      <td>cssvd</td>\n",
       "      <td>0.000029</td>\n",
       "      <td>3673.874756</td>\n",
       "      <td>1982.941162</td>\n",
       "      <td>4032.000000</td>\n",
       "      <td>3022.166016</td>\n",
       "    </tr>\n",
       "    <tr>\n",
       "      <th>13662</th>\n",
       "      <td>ID_bgDyl3.JPG</td>\n",
       "      <td>healthy</td>\n",
       "      <td>0.005362</td>\n",
       "      <td>0.005751</td>\n",
       "      <td>862.137817</td>\n",
       "      <td>176.183121</td>\n",
       "      <td>1962.579834</td>\n",
       "    </tr>\n",
       "  </tbody>\n",
       "</table>\n",
       "</div>"
      ],
      "text/plain": [
       "              Image_ID    class  confidence         ymin         xmin  \\\n",
       "110868   ID_UkxRz8.jpg  healthy    0.002495     0.709486     7.307233   \n",
       "98103    ID_eFBxoD.jpg    cssvd    0.008252     0.000000   578.398132   \n",
       "156347   ID_coFJm9.jpg  healthy    0.001070     0.000000   393.652649   \n",
       "243269  ID_EWolCN.jpeg    cssvd    0.000029  3673.874756  1982.941162   \n",
       "13662    ID_bgDyl3.JPG  healthy    0.005362     0.005751   862.137817   \n",
       "\n",
       "               ymax         xmax  \n",
       "110868   172.228775   524.275635  \n",
       "98103    215.805939   951.877319  \n",
       "156347   162.612518   416.000000  \n",
       "243269  4032.000000  3022.166016  \n",
       "13662    176.183121  1962.579834  "
      ]
     },
     "execution_count": 3,
     "metadata": {},
     "output_type": "execute_result"
    }
   ],
   "source": [
    "PREDICTION_IMAGE_PATH = Path(\"dataset/images/test\")\n",
    "\n",
    "test_df = pd.read_csv(PREDICTION_PATH).rename(\n",
    "    columns={\"x_min\": \"xmin\", \"y_min\": \"ymin\", \"x_max\": \"xmax\", \"y_max\": \"ymax\"}\n",
    ")\n",
    "test_df.sample(5)"
   ]
  },
  {
   "cell_type": "code",
   "execution_count": 4,
   "metadata": {},
   "outputs": [
    {
     "data": {
      "text/plain": [
       "{'anthracnose': 0, 'cssvd': 1, 'healthy': 2}"
      ]
     },
     "execution_count": 4,
     "metadata": {},
     "output_type": "execute_result"
    }
   ],
   "source": [
    "class_id = {j: i for i, j in enumerate(sorted(test_df[\"class\"].unique()))}\n",
    "test_df[\"class_id\"] = test_df[\"class\"].map(class_id)\n",
    "class_id"
   ]
  },
  {
   "cell_type": "code",
   "execution_count": 5,
   "metadata": {},
   "outputs": [
    {
     "data": {
      "text/html": [
       "<div>\n",
       "<style scoped>\n",
       "    .dataframe tbody tr th:only-of-type {\n",
       "        vertical-align: middle;\n",
       "    }\n",
       "\n",
       "    .dataframe tbody tr th {\n",
       "        vertical-align: top;\n",
       "    }\n",
       "\n",
       "    .dataframe thead th {\n",
       "        text-align: right;\n",
       "    }\n",
       "</style>\n",
       "<table border=\"1\" class=\"dataframe\">\n",
       "  <thead>\n",
       "    <tr style=\"text-align: right;\">\n",
       "      <th></th>\n",
       "      <th>Image_ID</th>\n",
       "      <th>class</th>\n",
       "      <th>confidence</th>\n",
       "      <th>ymin</th>\n",
       "      <th>xmin</th>\n",
       "      <th>ymax</th>\n",
       "      <th>xmax</th>\n",
       "      <th>class_id</th>\n",
       "    </tr>\n",
       "  </thead>\n",
       "  <tbody>\n",
       "    <tr>\n",
       "      <th>0</th>\n",
       "      <td>ID_cWEAQI.jpeg</td>\n",
       "      <td>healthy</td>\n",
       "      <td>0.543476</td>\n",
       "      <td>12.096285</td>\n",
       "      <td>4.124999</td>\n",
       "      <td>4000.000000</td>\n",
       "      <td>1639.684082</td>\n",
       "      <td>2</td>\n",
       "    </tr>\n",
       "    <tr>\n",
       "      <th>1</th>\n",
       "      <td>ID_cWEAQI.jpeg</td>\n",
       "      <td>healthy</td>\n",
       "      <td>0.044651</td>\n",
       "      <td>290.501282</td>\n",
       "      <td>1408.081909</td>\n",
       "      <td>1155.421631</td>\n",
       "      <td>1788.485474</td>\n",
       "      <td>2</td>\n",
       "    </tr>\n",
       "    <tr>\n",
       "      <th>2</th>\n",
       "      <td>ID_cWEAQI.jpeg</td>\n",
       "      <td>healthy</td>\n",
       "      <td>0.036566</td>\n",
       "      <td>272.056458</td>\n",
       "      <td>0.000000</td>\n",
       "      <td>1397.510864</td>\n",
       "      <td>449.755157</td>\n",
       "      <td>2</td>\n",
       "    </tr>\n",
       "    <tr>\n",
       "      <th>3</th>\n",
       "      <td>ID_cWEAQI.jpeg</td>\n",
       "      <td>anthracnose</td>\n",
       "      <td>0.021089</td>\n",
       "      <td>1302.949341</td>\n",
       "      <td>824.583374</td>\n",
       "      <td>2883.873779</td>\n",
       "      <td>1613.518188</td>\n",
       "      <td>0</td>\n",
       "    </tr>\n",
       "    <tr>\n",
       "      <th>4</th>\n",
       "      <td>ID_cWEAQI.jpeg</td>\n",
       "      <td>healthy</td>\n",
       "      <td>0.015316</td>\n",
       "      <td>16.070602</td>\n",
       "      <td>83.582870</td>\n",
       "      <td>2406.208252</td>\n",
       "      <td>1603.114502</td>\n",
       "      <td>2</td>\n",
       "    </tr>\n",
       "  </tbody>\n",
       "</table>\n",
       "</div>"
      ],
      "text/plain": [
       "         Image_ID        class  confidence         ymin         xmin  \\\n",
       "0  ID_cWEAQI.jpeg      healthy    0.543476    12.096285     4.124999   \n",
       "1  ID_cWEAQI.jpeg      healthy    0.044651   290.501282  1408.081909   \n",
       "2  ID_cWEAQI.jpeg      healthy    0.036566   272.056458     0.000000   \n",
       "3  ID_cWEAQI.jpeg  anthracnose    0.021089  1302.949341   824.583374   \n",
       "4  ID_cWEAQI.jpeg      healthy    0.015316    16.070602    83.582870   \n",
       "\n",
       "          ymax         xmax  class_id  \n",
       "0  4000.000000  1639.684082         2  \n",
       "1  1155.421631  1788.485474         2  \n",
       "2  1397.510864   449.755157         2  \n",
       "3  2883.873779  1613.518188         0  \n",
       "4  2406.208252  1603.114502         2  "
      ]
     },
     "execution_count": 5,
     "metadata": {},
     "output_type": "execute_result"
    }
   ],
   "source": [
    "test_df.head()"
   ]
  },
  {
   "cell_type": "code",
   "execution_count": 6,
   "metadata": {},
   "outputs": [],
   "source": [
    "import torch\n",
    "\n",
    "def convert_df(df: pd.DataFrame):\n",
    "\tdf = df.copy().dropna()\n",
    "\treturn {\n",
    "\t\timg_id: {\n",
    "\t\t\t\"boxes\": torch.tensor(raw[[\"xmin\", \"ymin\", \"xmax\", \"ymax\"]].values, dtype=torch.float32),\n",
    "\t\t\t\"scores\": (\n",
    "\t\t\t\ttorch.tensor(raw[\"confidence\"].values, dtype=torch.float32)\n",
    "\t\t\t\tif \"confidence\" in raw.columns\n",
    "\t\t\t\telse None\n",
    "\t\t\t),\n",
    "\t\t\t\"labels\": torch.tensor(raw[\"class_id\"].values, dtype=torch.int32),\n",
    "\t\t}\n",
    "\t\tfor (img_id, ), raw in df.groupby([\"Image_ID\"])\n",
    "\t}\n",
    "\n",
    "def default_value():\n",
    "\treturn {\n",
    "\t\t\"boxes\": torch.empty((0, 4), dtype=torch.float32),\n",
    "\t\t\"scores\": torch.empty((0,), dtype=torch.float32),\n",
    "\t\t\"labels\": torch.empty((0,), dtype=torch.int32),\n",
    "\t}\n",
    "\n",
    "\n",
    "converted_labels = list(PREDICTION_IMAGE_PATH.glob(\"*\"))\n",
    "converted_labels = [i.name for i in converted_labels]\n",
    "\n",
    "def get_preds_data(preds, thr: float = 0.5):\n",
    "\tif thr is not None:\n",
    "\t\tpreds = preds[preds[\"confidence\"] >= thr]\n",
    "\tpreds = convert_df(preds)\n",
    "\tprint(len(preds))\n",
    "\tprint(list(preds.keys())[:10])\n",
    "\td = default_value()\n",
    "\treturn {i: preds.get(i, d) for i in converted_labels}"
   ]
  },
  {
   "cell_type": "code",
   "execution_count": 7,
   "metadata": {},
   "outputs": [
    {
     "data": {
      "text/html": [
       "<div>\n",
       "<style scoped>\n",
       "    .dataframe tbody tr th:only-of-type {\n",
       "        vertical-align: middle;\n",
       "    }\n",
       "\n",
       "    .dataframe tbody tr th {\n",
       "        vertical-align: top;\n",
       "    }\n",
       "\n",
       "    .dataframe thead th {\n",
       "        text-align: right;\n",
       "    }\n",
       "</style>\n",
       "<table border=\"1\" class=\"dataframe\">\n",
       "  <thead>\n",
       "    <tr style=\"text-align: right;\">\n",
       "      <th></th>\n",
       "      <th>Image_ID</th>\n",
       "      <th>class</th>\n",
       "      <th>confidence</th>\n",
       "      <th>ymin</th>\n",
       "      <th>xmin</th>\n",
       "      <th>ymax</th>\n",
       "      <th>xmax</th>\n",
       "      <th>class_id</th>\n",
       "    </tr>\n",
       "  </thead>\n",
       "  <tbody>\n",
       "    <tr>\n",
       "      <th>236985</th>\n",
       "      <td>ID_MAbZNE.jpg</td>\n",
       "      <td>anthracnose</td>\n",
       "      <td>0.000029</td>\n",
       "      <td>423.871307</td>\n",
       "      <td>0.630432</td>\n",
       "      <td>710.953613</td>\n",
       "      <td>67.064026</td>\n",
       "      <td>0</td>\n",
       "    </tr>\n",
       "    <tr>\n",
       "      <th>57843</th>\n",
       "      <td>ID_xQCzG9.jpg</td>\n",
       "      <td>cssvd</td>\n",
       "      <td>0.000168</td>\n",
       "      <td>0.119004</td>\n",
       "      <td>124.447662</td>\n",
       "      <td>254.193207</td>\n",
       "      <td>906.999573</td>\n",
       "      <td>1</td>\n",
       "    </tr>\n",
       "  </tbody>\n",
       "</table>\n",
       "</div>"
      ],
      "text/plain": [
       "             Image_ID        class  confidence        ymin        xmin  \\\n",
       "236985  ID_MAbZNE.jpg  anthracnose    0.000029  423.871307    0.630432   \n",
       "57843   ID_xQCzG9.jpg        cssvd    0.000168    0.119004  124.447662   \n",
       "\n",
       "              ymax        xmax  class_id  \n",
       "236985  710.953613   67.064026         0  \n",
       "57843   254.193207  906.999573         1  "
      ]
     },
     "execution_count": 7,
     "metadata": {},
     "output_type": "execute_result"
    }
   ],
   "source": [
    "test_df.sample(2)"
   ]
  },
  {
   "cell_type": "code",
   "execution_count": 8,
   "metadata": {},
   "outputs": [
    {
     "name": "stdout",
     "output_type": "stream",
     "text": [
      "1626\n",
      "['ID_A16nzu.jpg', 'ID_A1Euyz.jpg', 'ID_A1HcV0.jpeg', 'ID_A4ZdJC.jpeg', 'ID_A5SFUW.jpeg', 'ID_A6Fogi.jpeg', 'ID_ABDCyn.jpeg', 'ID_ACg6Qf.jpeg', 'ID_AFi8A1.jpg', 'ID_AHlc9P.jpg']\n"
     ]
    },
    {
     "data": {
      "text/plain": [
       "1626"
      ]
     },
     "execution_count": 8,
     "metadata": {},
     "output_type": "execute_result"
    }
   ],
   "source": [
    "predictions = get_preds_data(test_df, thr=None)\n",
    "\n",
    "len(predictions)"
   ]
  },
  {
   "cell_type": "code",
   "execution_count": 9,
   "metadata": {},
   "outputs": [],
   "source": [
    "# predictions[\"ID_CGnAYP.jpg\"]"
   ]
  },
  {
   "cell_type": "code",
   "execution_count": 10,
   "metadata": {},
   "outputs": [
    {
     "data": {
      "text/plain": [
       "dict_keys(['boxes', 'scores', 'labels'])"
      ]
     },
     "execution_count": 10,
     "metadata": {},
     "output_type": "execute_result"
    }
   ],
   "source": [
    "predictions[\"ID_CGnAYP.jpg\"].keys()"
   ]
  },
  {
   "cell_type": "code",
   "execution_count": 11,
   "metadata": {},
   "outputs": [],
   "source": [
    "from torchvision.ops import nms\n",
    "\n",
    "def apply_nms(predictions: dict[str, torch.Tensor], iou_threshold=0.5):\n",
    "    \"\"\"\n",
    "    Apply Non-Maximum Suppression (NMS) to reduce overlapping boxes.\n",
    "\n",
    "    Args:\n",
    "        predictions (dict): Dictionary containing keys ['boxes', 'scores', 'labels'].\n",
    "        iou_threshold (float): Intersection over Union (IoU) threshold for NMS.\n",
    "\n",
    "    Returns:\n",
    "        dict: Filtered predictions after applying NMS.\n",
    "    \"\"\"\n",
    "    filtered_predictions = {}\n",
    "    for image_id, data in predictions.items():\n",
    "        boxes = data[\"boxes\"]\n",
    "        scores = data[\"scores\"]\n",
    "        labels = data[\"labels\"]\n",
    "\n",
    "        if boxes.numel() == 0:\n",
    "            # If no boxes, skip this image\n",
    "            filtered_predictions[image_id] = data\n",
    "            continue\n",
    "\n",
    "        # Perform NMS for each class separately\n",
    "        keep_indices = []\n",
    "        for label in labels.unique():\n",
    "            label_mask = labels == label\n",
    "            label_boxes = boxes[label_mask]\n",
    "            label_scores = scores[label_mask]\n",
    "            indices = nms(label_boxes, label_scores, iou_threshold)\n",
    "            keep_indices.extend(label_mask.nonzero(as_tuple=True)[0][indices].tolist())\n",
    "\n",
    "        # Filter boxes, scores, and labels based on NMS results\n",
    "        keep_indices = torch.tensor(keep_indices, dtype=torch.long)\n",
    "        filtered_predictions[image_id] = {\n",
    "            \"boxes\": boxes[keep_indices],\n",
    "            \"scores\": scores[keep_indices],\n",
    "            \"labels\": labels[keep_indices],\n",
    "        }\n",
    "\n",
    "    return filtered_predictions\n",
    "\n",
    "# Apply NMS to predictions\n",
    "filtered_predictions = apply_nms(predictions, iou_threshold=IOU_THR)"
   ]
  },
  {
   "cell_type": "code",
   "execution_count": 12,
   "metadata": {},
   "outputs": [],
   "source": [
    "# for k, v in predictions.items():\n",
    "#     r = filtered_predictions[k]\n",
    "#     if len(v[\"boxes\"]) != len(r[\"boxes\"]):\n",
    "#         print(k, len(v[\"boxes\"]), len(r[\"boxes\"]))\n",
    "#         print(\"Boxes before NMS:\", v[\"boxes\"])\n",
    "#         print(\"Boxes after NMS:\", r[\"boxes\"])\n",
    "#         print(\"Scores before NMS:\", v[\"scores\"])\n",
    "#         print(\"Scores after NMS:\", r[\"scores\"])\n",
    "#         print(\"Labels before NMS:\", v[\"labels\"])\n",
    "#         print(\"Labels after NMS:\", r[\"labels\"])\n",
    "#         print()\n",
    "#         break"
   ]
  },
  {
   "cell_type": "code",
   "execution_count": 13,
   "metadata": {},
   "outputs": [
    {
     "data": {
      "text/html": [
       "<div>\n",
       "<style scoped>\n",
       "    .dataframe tbody tr th:only-of-type {\n",
       "        vertical-align: middle;\n",
       "    }\n",
       "\n",
       "    .dataframe tbody tr th {\n",
       "        vertical-align: top;\n",
       "    }\n",
       "\n",
       "    .dataframe thead th {\n",
       "        text-align: right;\n",
       "    }\n",
       "</style>\n",
       "<table border=\"1\" class=\"dataframe\">\n",
       "  <thead>\n",
       "    <tr style=\"text-align: right;\">\n",
       "      <th></th>\n",
       "      <th>Image_ID</th>\n",
       "      <th>class</th>\n",
       "      <th>confidence</th>\n",
       "      <th>ymin</th>\n",
       "      <th>xmin</th>\n",
       "      <th>ymax</th>\n",
       "      <th>xmax</th>\n",
       "      <th>class_id</th>\n",
       "    </tr>\n",
       "  </thead>\n",
       "  <tbody>\n",
       "    <tr>\n",
       "      <th>0</th>\n",
       "      <td>ID_cWEAQI.jpeg</td>\n",
       "      <td>anthracnose</td>\n",
       "      <td>0.021089</td>\n",
       "      <td>1302.949341</td>\n",
       "      <td>824.583374</td>\n",
       "      <td>2883.873779</td>\n",
       "      <td>1613.518188</td>\n",
       "      <td>0</td>\n",
       "    </tr>\n",
       "    <tr>\n",
       "      <th>1</th>\n",
       "      <td>ID_cWEAQI.jpeg</td>\n",
       "      <td>anthracnose</td>\n",
       "      <td>0.014170</td>\n",
       "      <td>772.970886</td>\n",
       "      <td>647.254883</td>\n",
       "      <td>2418.604736</td>\n",
       "      <td>1616.861206</td>\n",
       "      <td>0</td>\n",
       "    </tr>\n",
       "    <tr>\n",
       "      <th>2</th>\n",
       "      <td>ID_cWEAQI.jpeg</td>\n",
       "      <td>anthracnose</td>\n",
       "      <td>0.005855</td>\n",
       "      <td>1645.428467</td>\n",
       "      <td>744.967163</td>\n",
       "      <td>3189.329834</td>\n",
       "      <td>1587.856445</td>\n",
       "      <td>0</td>\n",
       "    </tr>\n",
       "    <tr>\n",
       "      <th>3</th>\n",
       "      <td>ID_cWEAQI.jpeg</td>\n",
       "      <td>anthracnose</td>\n",
       "      <td>0.005826</td>\n",
       "      <td>764.870300</td>\n",
       "      <td>8.801698</td>\n",
       "      <td>2300.326660</td>\n",
       "      <td>790.475098</td>\n",
       "      <td>0</td>\n",
       "    </tr>\n",
       "    <tr>\n",
       "      <th>4</th>\n",
       "      <td>ID_cWEAQI.jpeg</td>\n",
       "      <td>anthracnose</td>\n",
       "      <td>0.005553</td>\n",
       "      <td>896.456665</td>\n",
       "      <td>932.427612</td>\n",
       "      <td>2597.975098</td>\n",
       "      <td>1597.602539</td>\n",
       "      <td>0</td>\n",
       "    </tr>\n",
       "  </tbody>\n",
       "</table>\n",
       "</div>"
      ],
      "text/plain": [
       "         Image_ID        class  confidence         ymin        xmin  \\\n",
       "0  ID_cWEAQI.jpeg  anthracnose    0.021089  1302.949341  824.583374   \n",
       "1  ID_cWEAQI.jpeg  anthracnose    0.014170   772.970886  647.254883   \n",
       "2  ID_cWEAQI.jpeg  anthracnose    0.005855  1645.428467  744.967163   \n",
       "3  ID_cWEAQI.jpeg  anthracnose    0.005826   764.870300    8.801698   \n",
       "4  ID_cWEAQI.jpeg  anthracnose    0.005553   896.456665  932.427612   \n",
       "\n",
       "          ymax         xmax  class_id  \n",
       "0  2883.873779  1613.518188         0  \n",
       "1  2418.604736  1616.861206         0  \n",
       "2  3189.329834  1587.856445         0  \n",
       "3  2300.326660   790.475098         0  \n",
       "4  2597.975098  1597.602539         0  "
      ]
     },
     "execution_count": 13,
     "metadata": {},
     "output_type": "execute_result"
    }
   ],
   "source": [
    "filtered_data = []\n",
    "id_to_label = {v: k for k, v in class_id.items()}\n",
    "for image_id, data in filtered_predictions.items():\n",
    "    boxes = data[\"boxes\"].tolist()\n",
    "    scores = data[\"scores\"].tolist()\n",
    "    labels = data[\"labels\"].tolist()\n",
    "    for box, score, label in zip(boxes, scores, labels):\n",
    "        filtered_data.append({\n",
    "            \"Image_ID\": image_id,\n",
    "            \"class\": id_to_label[label],\n",
    "            \"confidence\": score,\n",
    "            \"ymin\": box[1],\n",
    "            \"xmin\": box[0],\n",
    "            \"ymax\": box[3],\n",
    "            \"xmax\": box[2],\n",
    "            \"class_id\": label\n",
    "        })\n",
    "\n",
    "filtered_df = pd.DataFrame(filtered_data)\n",
    "filtered_df.head()"
   ]
  },
  {
   "cell_type": "code",
   "execution_count": 14,
   "metadata": {},
   "outputs": [
    {
     "data": {
      "text/plain": [
       "(243586, 243900)"
      ]
     },
     "execution_count": 14,
     "metadata": {},
     "output_type": "execute_result"
    }
   ],
   "source": [
    "len(filtered_df), len(test_df)"
   ]
  },
  {
   "cell_type": "code",
   "execution_count": 15,
   "metadata": {},
   "outputs": [
    {
     "data": {
      "text/plain": [
       "class\n",
       "healthy        91495\n",
       "cssvd          83317\n",
       "anthracnose    68774\n",
       "Name: count, dtype: int64"
      ]
     },
     "execution_count": 15,
     "metadata": {},
     "output_type": "execute_result"
    }
   ],
   "source": [
    "filtered_df[\"class\"].value_counts()"
   ]
  },
  {
   "cell_type": "code",
   "execution_count": 16,
   "metadata": {},
   "outputs": [
    {
     "data": {
      "text/plain": [
       "class\n",
       "healthy        0.375617\n",
       "cssvd          0.342043\n",
       "anthracnose    0.282340\n",
       "Name: proportion, dtype: float64"
      ]
     },
     "execution_count": 16,
     "metadata": {},
     "output_type": "execute_result"
    }
   ],
   "source": [
    "filtered_df[\"class\"].value_counts(normalize=True)"
   ]
  },
  {
   "cell_type": "code",
   "execution_count": 17,
   "metadata": {},
   "outputs": [],
   "source": [
    "files = list(PREDICTION_IMAGE_PATH.glob(\"*\"))"
   ]
  },
  {
   "cell_type": "code",
   "execution_count": 18,
   "metadata": {},
   "outputs": [],
   "source": [
    "test_df: pd.DataFrame = filtered_df.copy()"
   ]
  },
  {
   "cell_type": "code",
   "execution_count": 19,
   "metadata": {},
   "outputs": [
    {
     "data": {
      "text/plain": [
       "[{'Image_ID': 'ID_cWEAQI.jpeg',\n",
       "  'class': 'anthracnose',\n",
       "  'confidence': 0.021089378744363785,\n",
       "  'ymin': 1302.9493408203125,\n",
       "  'xmin': 824.5833740234375,\n",
       "  'ymax': 2883.873779296875,\n",
       "  'xmax': 1613.5181884765625,\n",
       "  'class_id': 0},\n",
       " {'Image_ID': 'ID_cWEAQI.jpeg',\n",
       "  'class': 'anthracnose',\n",
       "  'confidence': 0.014170008711516857,\n",
       "  'ymin': 772.9708862304688,\n",
       "  'xmin': 647.2548828125,\n",
       "  'ymax': 2418.604736328125,\n",
       "  'xmax': 1616.8612060546875,\n",
       "  'class_id': 0},\n",
       " {'Image_ID': 'ID_cWEAQI.jpeg',\n",
       "  'class': 'anthracnose',\n",
       "  'confidence': 0.005854760762304068,\n",
       "  'ymin': 1645.428466796875,\n",
       "  'xmin': 744.9671630859375,\n",
       "  'ymax': 3189.329833984375,\n",
       "  'xmax': 1587.8564453125,\n",
       "  'class_id': 0},\n",
       " {'Image_ID': 'ID_cWEAQI.jpeg',\n",
       "  'class': 'anthracnose',\n",
       "  'confidence': 0.005825720727443695,\n",
       "  'ymin': 764.8703002929688,\n",
       "  'xmin': 8.801697731018066,\n",
       "  'ymax': 2300.32666015625,\n",
       "  'xmax': 790.47509765625,\n",
       "  'class_id': 0},\n",
       " {'Image_ID': 'ID_cWEAQI.jpeg',\n",
       "  'class': 'anthracnose',\n",
       "  'confidence': 0.0055526308715343475,\n",
       "  'ymin': 896.4566650390625,\n",
       "  'xmin': 932.4276123046875,\n",
       "  'ymax': 2597.97509765625,\n",
       "  'xmax': 1597.6025390625,\n",
       "  'class_id': 0}]"
      ]
     },
     "execution_count": 19,
     "metadata": {},
     "output_type": "execute_result"
    }
   ],
   "source": [
    "test_records = test_df.to_dict(orient=\"records\")\n",
    "\n",
    "test_records[:5]"
   ]
  },
  {
   "cell_type": "code",
   "execution_count": 20,
   "metadata": {},
   "outputs": [
    {
     "data": {
      "text/plain": [
       "['ID_cWEAQI.jpeg', 'ID_NtqErb.jpg']"
      ]
     },
     "execution_count": 20,
     "metadata": {},
     "output_type": "execute_result"
    }
   ],
   "source": [
    "file_id = [i.name for i in files]\n",
    "file_id[:2]"
   ]
  },
  {
   "cell_type": "code",
   "execution_count": 21,
   "metadata": {},
   "outputs": [],
   "source": [
    "file_okay = set(test_df[\"Image_ID\"].values)\n",
    "file_nokay = set(file_id) - file_okay\n",
    "\n",
    "for f in file_nokay:\n",
    "    test_records.append(\n",
    "\t\t{\n",
    "\t\t\t\"Image_ID\": f,\n",
    "\t\t}\n",
    "\t)"
   ]
  },
  {
   "cell_type": "code",
   "execution_count": 22,
   "metadata": {},
   "outputs": [
    {
     "data": {
      "text/html": [
       "<div>\n",
       "<style scoped>\n",
       "    .dataframe tbody tr th:only-of-type {\n",
       "        vertical-align: middle;\n",
       "    }\n",
       "\n",
       "    .dataframe tbody tr th {\n",
       "        vertical-align: top;\n",
       "    }\n",
       "\n",
       "    .dataframe thead th {\n",
       "        text-align: right;\n",
       "    }\n",
       "</style>\n",
       "<table border=\"1\" class=\"dataframe\">\n",
       "  <thead>\n",
       "    <tr style=\"text-align: right;\">\n",
       "      <th></th>\n",
       "      <th>Image_ID</th>\n",
       "      <th>class</th>\n",
       "      <th>confidence</th>\n",
       "      <th>ymin</th>\n",
       "      <th>xmin</th>\n",
       "      <th>ymax</th>\n",
       "      <th>xmax</th>\n",
       "      <th>class_id</th>\n",
       "    </tr>\n",
       "  </thead>\n",
       "  <tbody>\n",
       "    <tr>\n",
       "      <th>86411</th>\n",
       "      <td>ID_JfmHHi.jpeg</td>\n",
       "      <td>healthy</td>\n",
       "      <td>0.000059</td>\n",
       "      <td>0.191690</td>\n",
       "      <td>2607.409668</td>\n",
       "      <td>416.230896</td>\n",
       "      <td>3024.000000</td>\n",
       "      <td>2</td>\n",
       "    </tr>\n",
       "    <tr>\n",
       "      <th>31351</th>\n",
       "      <td>ID_bu374h.jpg</td>\n",
       "      <td>healthy</td>\n",
       "      <td>0.000508</td>\n",
       "      <td>0.080720</td>\n",
       "      <td>271.531067</td>\n",
       "      <td>27.658695</td>\n",
       "      <td>368.768433</td>\n",
       "      <td>2</td>\n",
       "    </tr>\n",
       "    <tr>\n",
       "      <th>177955</th>\n",
       "      <td>ID_tvu9FP.jpg</td>\n",
       "      <td>healthy</td>\n",
       "      <td>0.000029</td>\n",
       "      <td>0.006561</td>\n",
       "      <td>0.000000</td>\n",
       "      <td>90.482864</td>\n",
       "      <td>412.995453</td>\n",
       "      <td>2</td>\n",
       "    </tr>\n",
       "    <tr>\n",
       "      <th>141362</th>\n",
       "      <td>ID_zgeF64.jpg</td>\n",
       "      <td>healthy</td>\n",
       "      <td>0.000022</td>\n",
       "      <td>1944.174805</td>\n",
       "      <td>724.781738</td>\n",
       "      <td>2043.114258</td>\n",
       "      <td>989.582031</td>\n",
       "      <td>2</td>\n",
       "    </tr>\n",
       "    <tr>\n",
       "      <th>66404</th>\n",
       "      <td>ID_L9vR9c.jpeg</td>\n",
       "      <td>healthy</td>\n",
       "      <td>0.000357</td>\n",
       "      <td>43.374382</td>\n",
       "      <td>0.000000</td>\n",
       "      <td>2447.706055</td>\n",
       "      <td>382.753265</td>\n",
       "      <td>2</td>\n",
       "    </tr>\n",
       "    <tr>\n",
       "      <th>225729</th>\n",
       "      <td>ID_XkOWhr.jpg</td>\n",
       "      <td>healthy</td>\n",
       "      <td>0.000037</td>\n",
       "      <td>350.160767</td>\n",
       "      <td>576.483521</td>\n",
       "      <td>473.925079</td>\n",
       "      <td>706.552551</td>\n",
       "      <td>2</td>\n",
       "    </tr>\n",
       "    <tr>\n",
       "      <th>210995</th>\n",
       "      <td>ID_FmDuR4.jpeg</td>\n",
       "      <td>cssvd</td>\n",
       "      <td>0.000208</td>\n",
       "      <td>1235.845825</td>\n",
       "      <td>300.777435</td>\n",
       "      <td>1280.000000</td>\n",
       "      <td>517.844971</td>\n",
       "      <td>1</td>\n",
       "    </tr>\n",
       "    <tr>\n",
       "      <th>160550</th>\n",
       "      <td>ID_F5v3g7.JPG</td>\n",
       "      <td>healthy</td>\n",
       "      <td>0.000079</td>\n",
       "      <td>3095.697510</td>\n",
       "      <td>1346.247192</td>\n",
       "      <td>3264.000000</td>\n",
       "      <td>2320.577393</td>\n",
       "      <td>2</td>\n",
       "    </tr>\n",
       "    <tr>\n",
       "      <th>5679</th>\n",
       "      <td>ID_rtVHRR.jpg</td>\n",
       "      <td>cssvd</td>\n",
       "      <td>0.000016</td>\n",
       "      <td>9.163094</td>\n",
       "      <td>656.826904</td>\n",
       "      <td>248.110123</td>\n",
       "      <td>911.141357</td>\n",
       "      <td>1</td>\n",
       "    </tr>\n",
       "    <tr>\n",
       "      <th>172727</th>\n",
       "      <td>ID_OwHyW3.jpg</td>\n",
       "      <td>anthracnose</td>\n",
       "      <td>0.000044</td>\n",
       "      <td>1949.741211</td>\n",
       "      <td>1081.470947</td>\n",
       "      <td>2046.866211</td>\n",
       "      <td>1534.252197</td>\n",
       "      <td>0</td>\n",
       "    </tr>\n",
       "  </tbody>\n",
       "</table>\n",
       "</div>"
      ],
      "text/plain": [
       "              Image_ID        class  confidence         ymin         xmin  \\\n",
       "86411   ID_JfmHHi.jpeg      healthy    0.000059     0.191690  2607.409668   \n",
       "31351    ID_bu374h.jpg      healthy    0.000508     0.080720   271.531067   \n",
       "177955   ID_tvu9FP.jpg      healthy    0.000029     0.006561     0.000000   \n",
       "141362   ID_zgeF64.jpg      healthy    0.000022  1944.174805   724.781738   \n",
       "66404   ID_L9vR9c.jpeg      healthy    0.000357    43.374382     0.000000   \n",
       "225729   ID_XkOWhr.jpg      healthy    0.000037   350.160767   576.483521   \n",
       "210995  ID_FmDuR4.jpeg        cssvd    0.000208  1235.845825   300.777435   \n",
       "160550   ID_F5v3g7.JPG      healthy    0.000079  3095.697510  1346.247192   \n",
       "5679     ID_rtVHRR.jpg        cssvd    0.000016     9.163094   656.826904   \n",
       "172727   ID_OwHyW3.jpg  anthracnose    0.000044  1949.741211  1081.470947   \n",
       "\n",
       "               ymax         xmax  class_id  \n",
       "86411    416.230896  3024.000000         2  \n",
       "31351     27.658695   368.768433         2  \n",
       "177955    90.482864   412.995453         2  \n",
       "141362  2043.114258   989.582031         2  \n",
       "66404   2447.706055   382.753265         2  \n",
       "225729   473.925079   706.552551         2  \n",
       "210995  1280.000000   517.844971         1  \n",
       "160550  3264.000000  2320.577393         2  \n",
       "5679     248.110123   911.141357         1  \n",
       "172727  2046.866211  1534.252197         0  "
      ]
     },
     "execution_count": 22,
     "metadata": {},
     "output_type": "execute_result"
    }
   ],
   "source": [
    "test_df = pd.DataFrame(test_records)\n",
    "\n",
    "test_df.sample(10)"
   ]
  },
  {
   "cell_type": "code",
   "execution_count": 23,
   "metadata": {},
   "outputs": [
    {
     "data": {
      "text/plain": [
       "class\n",
       "healthy        91495\n",
       "cssvd          83317\n",
       "anthracnose    68774\n",
       "Name: count, dtype: int64"
      ]
     },
     "execution_count": 23,
     "metadata": {},
     "output_type": "execute_result"
    }
   ],
   "source": [
    "test_df[\"class\"].value_counts()"
   ]
  },
  {
   "cell_type": "code",
   "execution_count": 24,
   "metadata": {},
   "outputs": [],
   "source": [
    "test_df.to_csv(PREDICTION_PATH.replace(\"-prediction\", \"-submission\"), index=False)"
   ]
  },
  {
   "cell_type": "code",
   "execution_count": 25,
   "metadata": {},
   "outputs": [
    {
     "data": {
      "text/plain": [
       "'dataset/predictions/11-submissions.csv'"
      ]
     },
     "execution_count": 25,
     "metadata": {},
     "output_type": "execute_result"
    }
   ],
   "source": [
    "PREDICTION_PATH.replace(\"-prediction\", \"-submission\")"
   ]
  }
 ],
 "metadata": {
  "kernelspec": {
   "display_name": ".venv",
   "language": "python",
   "name": "python3"
  },
  "language_info": {
   "codemirror_mode": {
    "name": "ipython",
    "version": 3
   },
   "file_extension": ".py",
   "mimetype": "text/x-python",
   "name": "python",
   "nbconvert_exporter": "python",
   "pygments_lexer": "ipython3",
   "version": "3.10.13"
  }
 },
 "nbformat": 4,
 "nbformat_minor": 2
}
