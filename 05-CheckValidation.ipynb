{
 "cells": [
  {
   "cell_type": "code",
   "execution_count": 1,
   "id": "1209d022",
   "metadata": {},
   "outputs": [],
   "source": [
    "import os\n",
    "\n",
    "os.environ[\"CUDA_VISIBLE_DEVICES\"] = \"1\""
   ]
  },
  {
   "cell_type": "code",
   "execution_count": 2,
   "id": "77e1b145",
   "metadata": {},
   "outputs": [],
   "source": [
    "# Import libraries\n",
    "import pandas as pd\n",
    "import os\n",
    "from pathlib import Path\n",
    "from tqdm import tqdm\n",
    "import yaml\n",
    "import matplotlib.pyplot as plt\n",
    "from ultralytics import YOLO\n",
    "import numpy as np\n",
    "from PIL import Image\n",
    "import torch"
   ]
  },
  {
   "cell_type": "code",
   "execution_count": 3,
   "id": "648339ff",
   "metadata": {},
   "outputs": [
    {
     "data": {
      "text/plain": [
       "'runs/detect/train5/weights/best.pt'"
      ]
     },
     "execution_count": 3,
     "metadata": {},
     "output_type": "execute_result"
    }
   ],
   "source": [
    "from glob import glob\n",
    "\n",
    "# Validate the model on the validation set\n",
    "BEST_PATH = sorted(glob(\"runs/detect/train*/weights/best.pt\"))[-1]\n",
    "BEST_PATH"
   ]
  },
  {
   "cell_type": "code",
   "execution_count": 4,
   "id": "3a2bad64",
   "metadata": {},
   "outputs": [],
   "source": [
    "# Load the trained YOLO model\n",
    "model = YOLO(BEST_PATH)"
   ]
  },
  {
   "cell_type": "code",
   "execution_count": 5,
   "id": "2649f0d8",
   "metadata": {},
   "outputs": [
    {
     "name": "stdout",
     "output_type": "stream",
     "text": [
      "Ultralytics 8.3.111 🚀 Python-3.10.13 torch-2.6.0+cu124 CUDA:0 (NVIDIA RTX A6000, 48577MiB)\n",
      "YOLO11n summary (fused): 100 layers, 2,582,737 parameters, 0 gradients, 6.3 GFLOPs\n",
      "\u001b[34m\u001b[1mval: \u001b[0mFast image access ✅ (ping: 0.0±0.0 ms, read: 1901.0±465.3 MB/s, size: 603.3 KB)\n"
     ]
    },
    {
     "name": "stderr",
     "output_type": "stream",
     "text": [
      "\u001b[34m\u001b[1mval: \u001b[0mScanning /data/home/eak/learning/nganga_ai/AminiCocoa/Amini-Cocoa-Contamination-Challenge/dataset/labels/val.cache... 1106 images, 0 backgrounds, 0 corrupt: 100%|██████████| 1106/1106 [00:00<?, ?it/s]"
     ]
    },
    {
     "name": "stdout",
     "output_type": "stream",
     "text": [
      "\u001b[34m\u001b[1mval: \u001b[0mWARNING ⚠️ /data/home/eak/learning/nganga_ai/AminiCocoa/Amini-Cocoa-Contamination-Challenge/dataset/images/val/ID_BQih4N.jpg: corrupt JPEG restored and saved\n",
      "\u001b[34m\u001b[1mval: \u001b[0mWARNING ⚠️ /data/home/eak/learning/nganga_ai/AminiCocoa/Amini-Cocoa-Contamination-Challenge/dataset/images/val/ID_BXIM9U.jpeg: corrupt JPEG restored and saved\n",
      "\u001b[34m\u001b[1mval: \u001b[0mWARNING ⚠️ /data/home/eak/learning/nganga_ai/AminiCocoa/Amini-Cocoa-Contamination-Challenge/dataset/images/val/ID_By57N4.jpeg: corrupt JPEG restored and saved\n",
      "\u001b[34m\u001b[1mval: \u001b[0mWARNING ⚠️ /data/home/eak/learning/nganga_ai/AminiCocoa/Amini-Cocoa-Contamination-Challenge/dataset/images/val/ID_DNHsfS.jpg: corrupt JPEG restored and saved\n",
      "\u001b[34m\u001b[1mval: \u001b[0mWARNING ⚠️ /data/home/eak/learning/nganga_ai/AminiCocoa/Amini-Cocoa-Contamination-Challenge/dataset/images/val/ID_DOTVrd.jpg: corrupt JPEG restored and saved\n",
      "\u001b[34m\u001b[1mval: \u001b[0mWARNING ⚠️ /data/home/eak/learning/nganga_ai/AminiCocoa/Amini-Cocoa-Contamination-Challenge/dataset/images/val/ID_ET34jY.jpeg: corrupt JPEG restored and saved\n",
      "\u001b[34m\u001b[1mval: \u001b[0mWARNING ⚠️ /data/home/eak/learning/nganga_ai/AminiCocoa/Amini-Cocoa-Contamination-Challenge/dataset/images/val/ID_EqJVm9.jpg: corrupt JPEG restored and saved\n",
      "\u001b[34m\u001b[1mval: \u001b[0mWARNING ⚠️ /data/home/eak/learning/nganga_ai/AminiCocoa/Amini-Cocoa-Contamination-Challenge/dataset/images/val/ID_FBviFm.jpg: corrupt JPEG restored and saved\n",
      "\u001b[34m\u001b[1mval: \u001b[0mWARNING ⚠️ /data/home/eak/learning/nganga_ai/AminiCocoa/Amini-Cocoa-Contamination-Challenge/dataset/images/val/ID_FH5WPo.jpg: corrupt JPEG restored and saved\n",
      "\u001b[34m\u001b[1mval: \u001b[0mWARNING ⚠️ /data/home/eak/learning/nganga_ai/AminiCocoa/Amini-Cocoa-Contamination-Challenge/dataset/images/val/ID_FNLeWz.jpg: corrupt JPEG restored and saved\n",
      "\u001b[34m\u001b[1mval: \u001b[0mWARNING ⚠️ /data/home/eak/learning/nganga_ai/AminiCocoa/Amini-Cocoa-Contamination-Challenge/dataset/images/val/ID_FtYRqz.jpeg: corrupt JPEG restored and saved\n",
      "\u001b[34m\u001b[1mval: \u001b[0mWARNING ⚠️ /data/home/eak/learning/nganga_ai/AminiCocoa/Amini-Cocoa-Contamination-Challenge/dataset/images/val/ID_GkZMVQ.jpeg: corrupt JPEG restored and saved\n",
      "\u001b[34m\u001b[1mval: \u001b[0mWARNING ⚠️ /data/home/eak/learning/nganga_ai/AminiCocoa/Amini-Cocoa-Contamination-Challenge/dataset/images/val/ID_GmNfRI.jpg: corrupt JPEG restored and saved\n",
      "\u001b[34m\u001b[1mval: \u001b[0mWARNING ⚠️ /data/home/eak/learning/nganga_ai/AminiCocoa/Amini-Cocoa-Contamination-Challenge/dataset/images/val/ID_H7QQ2I.jpg: corrupt JPEG restored and saved\n",
      "\u001b[34m\u001b[1mval: \u001b[0mWARNING ⚠️ /data/home/eak/learning/nganga_ai/AminiCocoa/Amini-Cocoa-Contamination-Challenge/dataset/images/val/ID_H9qAYr.jpg: corrupt JPEG restored and saved\n",
      "\u001b[34m\u001b[1mval: \u001b[0mWARNING ⚠️ /data/home/eak/learning/nganga_ai/AminiCocoa/Amini-Cocoa-Contamination-Challenge/dataset/images/val/ID_Itd6eF.jpg: corrupt JPEG restored and saved\n",
      "\u001b[34m\u001b[1mval: \u001b[0mWARNING ⚠️ /data/home/eak/learning/nganga_ai/AminiCocoa/Amini-Cocoa-Contamination-Challenge/dataset/images/val/ID_J26p8u.jpg: corrupt JPEG restored and saved\n",
      "\u001b[34m\u001b[1mval: \u001b[0mWARNING ⚠️ /data/home/eak/learning/nganga_ai/AminiCocoa/Amini-Cocoa-Contamination-Challenge/dataset/images/val/ID_JRjOWi.jpeg: corrupt JPEG restored and saved\n",
      "\u001b[34m\u001b[1mval: \u001b[0mWARNING ⚠️ /data/home/eak/learning/nganga_ai/AminiCocoa/Amini-Cocoa-Contamination-Challenge/dataset/images/val/ID_KJ3Eoi.jpg: corrupt JPEG restored and saved\n",
      "\u001b[34m\u001b[1mval: \u001b[0mWARNING ⚠️ /data/home/eak/learning/nganga_ai/AminiCocoa/Amini-Cocoa-Contamination-Challenge/dataset/images/val/ID_KTP6kp.jpg: corrupt JPEG restored and saved\n",
      "\u001b[34m\u001b[1mval: \u001b[0mWARNING ⚠️ /data/home/eak/learning/nganga_ai/AminiCocoa/Amini-Cocoa-Contamination-Challenge/dataset/images/val/ID_Ko4fL3.jpg: corrupt JPEG restored and saved\n",
      "\u001b[34m\u001b[1mval: \u001b[0mWARNING ⚠️ /data/home/eak/learning/nganga_ai/AminiCocoa/Amini-Cocoa-Contamination-Challenge/dataset/images/val/ID_LkJ8Zz.jpg: corrupt JPEG restored and saved\n",
      "\u001b[34m\u001b[1mval: \u001b[0mWARNING ⚠️ /data/home/eak/learning/nganga_ai/AminiCocoa/Amini-Cocoa-Contamination-Challenge/dataset/images/val/ID_M7eiBX.jpg: corrupt JPEG restored and saved\n",
      "\u001b[34m\u001b[1mval: \u001b[0mWARNING ⚠️ /data/home/eak/learning/nganga_ai/AminiCocoa/Amini-Cocoa-Contamination-Challenge/dataset/images/val/ID_MBg7Wu.jpg: corrupt JPEG restored and saved\n",
      "\u001b[34m\u001b[1mval: \u001b[0mWARNING ⚠️ /data/home/eak/learning/nganga_ai/AminiCocoa/Amini-Cocoa-Contamination-Challenge/dataset/images/val/ID_MPIvc5.jpg: corrupt JPEG restored and saved\n",
      "\u001b[34m\u001b[1mval: \u001b[0mWARNING ⚠️ /data/home/eak/learning/nganga_ai/AminiCocoa/Amini-Cocoa-Contamination-Challenge/dataset/images/val/ID_MQt7CR.jpg: corrupt JPEG restored and saved\n",
      "\u001b[34m\u001b[1mval: \u001b[0mWARNING ⚠️ /data/home/eak/learning/nganga_ai/AminiCocoa/Amini-Cocoa-Contamination-Challenge/dataset/images/val/ID_MmvaQa.jpeg: corrupt JPEG restored and saved\n",
      "\u001b[34m\u001b[1mval: \u001b[0mWARNING ⚠️ /data/home/eak/learning/nganga_ai/AminiCocoa/Amini-Cocoa-Contamination-Challenge/dataset/images/val/ID_MztPy0.jpeg: corrupt JPEG restored and saved\n",
      "\u001b[34m\u001b[1mval: \u001b[0mWARNING ⚠️ /data/home/eak/learning/nganga_ai/AminiCocoa/Amini-Cocoa-Contamination-Challenge/dataset/images/val/ID_OP42MI.jpeg: corrupt JPEG restored and saved\n",
      "\u001b[34m\u001b[1mval: \u001b[0mWARNING ⚠️ /data/home/eak/learning/nganga_ai/AminiCocoa/Amini-Cocoa-Contamination-Challenge/dataset/images/val/ID_Q0OwpE.jpg: corrupt JPEG restored and saved\n",
      "\u001b[34m\u001b[1mval: \u001b[0mWARNING ⚠️ /data/home/eak/learning/nganga_ai/AminiCocoa/Amini-Cocoa-Contamination-Challenge/dataset/images/val/ID_QopCWu.jpeg: corrupt JPEG restored and saved\n",
      "\u001b[34m\u001b[1mval: \u001b[0mWARNING ⚠️ /data/home/eak/learning/nganga_ai/AminiCocoa/Amini-Cocoa-Contamination-Challenge/dataset/images/val/ID_R0gFs3.jpeg: corrupt JPEG restored and saved\n",
      "\u001b[34m\u001b[1mval: \u001b[0mWARNING ⚠️ /data/home/eak/learning/nganga_ai/AminiCocoa/Amini-Cocoa-Contamination-Challenge/dataset/images/val/ID_T9Sifn.jpeg: corrupt JPEG restored and saved\n",
      "\u001b[34m\u001b[1mval: \u001b[0mWARNING ⚠️ /data/home/eak/learning/nganga_ai/AminiCocoa/Amini-Cocoa-Contamination-Challenge/dataset/images/val/ID_Ui8E1j.jpg: corrupt JPEG restored and saved\n",
      "\u001b[34m\u001b[1mval: \u001b[0mWARNING ⚠️ /data/home/eak/learning/nganga_ai/AminiCocoa/Amini-Cocoa-Contamination-Challenge/dataset/images/val/ID_UjkxXW.jpg: corrupt JPEG restored and saved\n",
      "\u001b[34m\u001b[1mval: \u001b[0mWARNING ⚠️ /data/home/eak/learning/nganga_ai/AminiCocoa/Amini-Cocoa-Contamination-Challenge/dataset/images/val/ID_UrKjY8.jpeg: corrupt JPEG restored and saved\n",
      "\u001b[34m\u001b[1mval: \u001b[0mWARNING ⚠️ /data/home/eak/learning/nganga_ai/AminiCocoa/Amini-Cocoa-Contamination-Challenge/dataset/images/val/ID_W3tZGh.jpg: corrupt JPEG restored and saved\n",
      "\u001b[34m\u001b[1mval: \u001b[0mWARNING ⚠️ /data/home/eak/learning/nganga_ai/AminiCocoa/Amini-Cocoa-Contamination-Challenge/dataset/images/val/ID_WB25bW.jpeg: corrupt JPEG restored and saved\n",
      "\u001b[34m\u001b[1mval: \u001b[0mWARNING ⚠️ /data/home/eak/learning/nganga_ai/AminiCocoa/Amini-Cocoa-Contamination-Challenge/dataset/images/val/ID_WKcQeb.jpg: corrupt JPEG restored and saved\n",
      "\u001b[34m\u001b[1mval: \u001b[0mWARNING ⚠️ /data/home/eak/learning/nganga_ai/AminiCocoa/Amini-Cocoa-Contamination-Challenge/dataset/images/val/ID_WULBQy.jpeg: corrupt JPEG restored and saved\n",
      "\u001b[34m\u001b[1mval: \u001b[0mWARNING ⚠️ /data/home/eak/learning/nganga_ai/AminiCocoa/Amini-Cocoa-Contamination-Challenge/dataset/images/val/ID_WzxXRK.jpeg: corrupt JPEG restored and saved\n",
      "\u001b[34m\u001b[1mval: \u001b[0mWARNING ⚠️ /data/home/eak/learning/nganga_ai/AminiCocoa/Amini-Cocoa-Contamination-Challenge/dataset/images/val/ID_XifZNH.jpg: corrupt JPEG restored and saved\n",
      "\u001b[34m\u001b[1mval: \u001b[0mWARNING ⚠️ /data/home/eak/learning/nganga_ai/AminiCocoa/Amini-Cocoa-Contamination-Challenge/dataset/images/val/ID_Xr3yGD.jpeg: corrupt JPEG restored and saved\n",
      "\u001b[34m\u001b[1mval: \u001b[0mWARNING ⚠️ /data/home/eak/learning/nganga_ai/AminiCocoa/Amini-Cocoa-Contamination-Challenge/dataset/images/val/ID_XuMRrm.jpeg: corrupt JPEG restored and saved\n",
      "\u001b[34m\u001b[1mval: \u001b[0mWARNING ⚠️ /data/home/eak/learning/nganga_ai/AminiCocoa/Amini-Cocoa-Contamination-Challenge/dataset/images/val/ID_YHBAKF.jpg: corrupt JPEG restored and saved\n",
      "\u001b[34m\u001b[1mval: \u001b[0mWARNING ⚠️ /data/home/eak/learning/nganga_ai/AminiCocoa/Amini-Cocoa-Contamination-Challenge/dataset/images/val/ID_YVrqE6.jpg: corrupt JPEG restored and saved\n",
      "\u001b[34m\u001b[1mval: \u001b[0mWARNING ⚠️ /data/home/eak/learning/nganga_ai/AminiCocoa/Amini-Cocoa-Contamination-Challenge/dataset/images/val/ID_YXkAP3.jpg: corrupt JPEG restored and saved\n",
      "\u001b[34m\u001b[1mval: \u001b[0mWARNING ⚠️ /data/home/eak/learning/nganga_ai/AminiCocoa/Amini-Cocoa-Contamination-Challenge/dataset/images/val/ID_aEWltK.jpg: corrupt JPEG restored and saved\n",
      "\u001b[34m\u001b[1mval: \u001b[0mWARNING ⚠️ /data/home/eak/learning/nganga_ai/AminiCocoa/Amini-Cocoa-Contamination-Challenge/dataset/images/val/ID_atEszE.jpg: corrupt JPEG restored and saved\n",
      "\u001b[34m\u001b[1mval: \u001b[0mWARNING ⚠️ /data/home/eak/learning/nganga_ai/AminiCocoa/Amini-Cocoa-Contamination-Challenge/dataset/images/val/ID_bnU2qZ.jpg: corrupt JPEG restored and saved\n",
      "\u001b[34m\u001b[1mval: \u001b[0mWARNING ⚠️ /data/home/eak/learning/nganga_ai/AminiCocoa/Amini-Cocoa-Contamination-Challenge/dataset/images/val/ID_bouUUL.jpeg: corrupt JPEG restored and saved\n",
      "\u001b[34m\u001b[1mval: \u001b[0mWARNING ⚠️ /data/home/eak/learning/nganga_ai/AminiCocoa/Amini-Cocoa-Contamination-Challenge/dataset/images/val/ID_bq4JF6.jpg: corrupt JPEG restored and saved\n",
      "\u001b[34m\u001b[1mval: \u001b[0mWARNING ⚠️ /data/home/eak/learning/nganga_ai/AminiCocoa/Amini-Cocoa-Contamination-Challenge/dataset/images/val/ID_cGrCAD.jpg: corrupt JPEG restored and saved\n",
      "\u001b[34m\u001b[1mval: \u001b[0mWARNING ⚠️ /data/home/eak/learning/nganga_ai/AminiCocoa/Amini-Cocoa-Contamination-Challenge/dataset/images/val/ID_csx6y8.jpeg: corrupt JPEG restored and saved\n",
      "\u001b[34m\u001b[1mval: \u001b[0mWARNING ⚠️ /data/home/eak/learning/nganga_ai/AminiCocoa/Amini-Cocoa-Contamination-Challenge/dataset/images/val/ID_dH0o4x.jpeg: corrupt JPEG restored and saved\n",
      "\u001b[34m\u001b[1mval: \u001b[0mWARNING ⚠️ /data/home/eak/learning/nganga_ai/AminiCocoa/Amini-Cocoa-Contamination-Challenge/dataset/images/val/ID_dvs1xy.jpg: corrupt JPEG restored and saved\n",
      "\u001b[34m\u001b[1mval: \u001b[0mWARNING ⚠️ /data/home/eak/learning/nganga_ai/AminiCocoa/Amini-Cocoa-Contamination-Challenge/dataset/images/val/ID_edNUod.jpg: corrupt JPEG restored and saved\n",
      "\u001b[34m\u001b[1mval: \u001b[0mWARNING ⚠️ /data/home/eak/learning/nganga_ai/AminiCocoa/Amini-Cocoa-Contamination-Challenge/dataset/images/val/ID_fLhKY2.jpeg: corrupt JPEG restored and saved\n",
      "\u001b[34m\u001b[1mval: \u001b[0mWARNING ⚠️ /data/home/eak/learning/nganga_ai/AminiCocoa/Amini-Cocoa-Contamination-Challenge/dataset/images/val/ID_gC5IgG.jpg: corrupt JPEG restored and saved\n",
      "\u001b[34m\u001b[1mval: \u001b[0mWARNING ⚠️ /data/home/eak/learning/nganga_ai/AminiCocoa/Amini-Cocoa-Contamination-Challenge/dataset/images/val/ID_gKZt2c.jpg: corrupt JPEG restored and saved\n",
      "\u001b[34m\u001b[1mval: \u001b[0mWARNING ⚠️ /data/home/eak/learning/nganga_ai/AminiCocoa/Amini-Cocoa-Contamination-Challenge/dataset/images/val/ID_gOeLwX.jpg: corrupt JPEG restored and saved\n",
      "\u001b[34m\u001b[1mval: \u001b[0mWARNING ⚠️ /data/home/eak/learning/nganga_ai/AminiCocoa/Amini-Cocoa-Contamination-Challenge/dataset/images/val/ID_h0qMvf.jpg: corrupt JPEG restored and saved\n",
      "\u001b[34m\u001b[1mval: \u001b[0mWARNING ⚠️ /data/home/eak/learning/nganga_ai/AminiCocoa/Amini-Cocoa-Contamination-Challenge/dataset/images/val/ID_hADR5u.jpeg: corrupt JPEG restored and saved\n",
      "\u001b[34m\u001b[1mval: \u001b[0mWARNING ⚠️ /data/home/eak/learning/nganga_ai/AminiCocoa/Amini-Cocoa-Contamination-Challenge/dataset/images/val/ID_hOWY3t.jpg: corrupt JPEG restored and saved\n",
      "\u001b[34m\u001b[1mval: \u001b[0mWARNING ⚠️ /data/home/eak/learning/nganga_ai/AminiCocoa/Amini-Cocoa-Contamination-Challenge/dataset/images/val/ID_hUfLpX.jpg: corrupt JPEG restored and saved\n",
      "\u001b[34m\u001b[1mval: \u001b[0mWARNING ⚠️ /data/home/eak/learning/nganga_ai/AminiCocoa/Amini-Cocoa-Contamination-Challenge/dataset/images/val/ID_iG2aj8.jpeg: corrupt JPEG restored and saved\n",
      "\u001b[34m\u001b[1mval: \u001b[0mWARNING ⚠️ /data/home/eak/learning/nganga_ai/AminiCocoa/Amini-Cocoa-Contamination-Challenge/dataset/images/val/ID_jZ6PSF.jpeg: corrupt JPEG restored and saved\n",
      "\u001b[34m\u001b[1mval: \u001b[0mWARNING ⚠️ /data/home/eak/learning/nganga_ai/AminiCocoa/Amini-Cocoa-Contamination-Challenge/dataset/images/val/ID_jj4SlG.jpeg: corrupt JPEG restored and saved\n",
      "\u001b[34m\u001b[1mval: \u001b[0mWARNING ⚠️ /data/home/eak/learning/nganga_ai/AminiCocoa/Amini-Cocoa-Contamination-Challenge/dataset/images/val/ID_jqgCmS.jpg: corrupt JPEG restored and saved\n",
      "\u001b[34m\u001b[1mval: \u001b[0mWARNING ⚠️ /data/home/eak/learning/nganga_ai/AminiCocoa/Amini-Cocoa-Contamination-Challenge/dataset/images/val/ID_jx5Ekq.jpg: corrupt JPEG restored and saved\n",
      "\u001b[34m\u001b[1mval: \u001b[0mWARNING ⚠️ /data/home/eak/learning/nganga_ai/AminiCocoa/Amini-Cocoa-Contamination-Challenge/dataset/images/val/ID_k6EcBg.jpg: corrupt JPEG restored and saved\n",
      "\u001b[34m\u001b[1mval: \u001b[0mWARNING ⚠️ /data/home/eak/learning/nganga_ai/AminiCocoa/Amini-Cocoa-Contamination-Challenge/dataset/images/val/ID_kASNKy.jpg: corrupt JPEG restored and saved\n",
      "\u001b[34m\u001b[1mval: \u001b[0mWARNING ⚠️ /data/home/eak/learning/nganga_ai/AminiCocoa/Amini-Cocoa-Contamination-Challenge/dataset/images/val/ID_kk7SDW.jpg: corrupt JPEG restored and saved\n",
      "\u001b[34m\u001b[1mval: \u001b[0mWARNING ⚠️ /data/home/eak/learning/nganga_ai/AminiCocoa/Amini-Cocoa-Contamination-Challenge/dataset/images/val/ID_lTXAIY.jpg: corrupt JPEG restored and saved\n",
      "\u001b[34m\u001b[1mval: \u001b[0mWARNING ⚠️ /data/home/eak/learning/nganga_ai/AminiCocoa/Amini-Cocoa-Contamination-Challenge/dataset/images/val/ID_n8PmEh.jpg: corrupt JPEG restored and saved\n",
      "\u001b[34m\u001b[1mval: \u001b[0mWARNING ⚠️ /data/home/eak/learning/nganga_ai/AminiCocoa/Amini-Cocoa-Contamination-Challenge/dataset/images/val/ID_nHlwiJ.jpg: corrupt JPEG restored and saved\n",
      "\u001b[34m\u001b[1mval: \u001b[0mWARNING ⚠️ /data/home/eak/learning/nganga_ai/AminiCocoa/Amini-Cocoa-Contamination-Challenge/dataset/images/val/ID_nIzLHr.jpeg: corrupt JPEG restored and saved\n",
      "\u001b[34m\u001b[1mval: \u001b[0mWARNING ⚠️ /data/home/eak/learning/nganga_ai/AminiCocoa/Amini-Cocoa-Contamination-Challenge/dataset/images/val/ID_pDP6VA.jpg: corrupt JPEG restored and saved\n",
      "\u001b[34m\u001b[1mval: \u001b[0mWARNING ⚠️ /data/home/eak/learning/nganga_ai/AminiCocoa/Amini-Cocoa-Contamination-Challenge/dataset/images/val/ID_pm15xu.jpg: corrupt JPEG restored and saved\n",
      "\u001b[34m\u001b[1mval: \u001b[0mWARNING ⚠️ /data/home/eak/learning/nganga_ai/AminiCocoa/Amini-Cocoa-Contamination-Challenge/dataset/images/val/ID_q8BevT.jpg: corrupt JPEG restored and saved\n",
      "\u001b[34m\u001b[1mval: \u001b[0mWARNING ⚠️ /data/home/eak/learning/nganga_ai/AminiCocoa/Amini-Cocoa-Contamination-Challenge/dataset/images/val/ID_sGmRwf.jpg: corrupt JPEG restored and saved\n",
      "\u001b[34m\u001b[1mval: \u001b[0mWARNING ⚠️ /data/home/eak/learning/nganga_ai/AminiCocoa/Amini-Cocoa-Contamination-Challenge/dataset/images/val/ID_tSdU7L.jpg: corrupt JPEG restored and saved\n",
      "\u001b[34m\u001b[1mval: \u001b[0mWARNING ⚠️ /data/home/eak/learning/nganga_ai/AminiCocoa/Amini-Cocoa-Contamination-Challenge/dataset/images/val/ID_u0KnR0.jpg: corrupt JPEG restored and saved\n",
      "\u001b[34m\u001b[1mval: \u001b[0mWARNING ⚠️ /data/home/eak/learning/nganga_ai/AminiCocoa/Amini-Cocoa-Contamination-Challenge/dataset/images/val/ID_uLcPmF.jpg: corrupt JPEG restored and saved\n",
      "\u001b[34m\u001b[1mval: \u001b[0mWARNING ⚠️ /data/home/eak/learning/nganga_ai/AminiCocoa/Amini-Cocoa-Contamination-Challenge/dataset/images/val/ID_uyPxtk.jpg: corrupt JPEG restored and saved\n",
      "\u001b[34m\u001b[1mval: \u001b[0mWARNING ⚠️ /data/home/eak/learning/nganga_ai/AminiCocoa/Amini-Cocoa-Contamination-Challenge/dataset/images/val/ID_voTg2J.jpg: corrupt JPEG restored and saved\n",
      "\u001b[34m\u001b[1mval: \u001b[0mWARNING ⚠️ /data/home/eak/learning/nganga_ai/AminiCocoa/Amini-Cocoa-Contamination-Challenge/dataset/images/val/ID_xhwazg.jpeg: corrupt JPEG restored and saved\n",
      "\u001b[34m\u001b[1mval: \u001b[0mWARNING ⚠️ /data/home/eak/learning/nganga_ai/AminiCocoa/Amini-Cocoa-Contamination-Challenge/dataset/images/val/ID_y0FHMz.jpg: corrupt JPEG restored and saved\n",
      "\u001b[34m\u001b[1mval: \u001b[0mWARNING ⚠️ /data/home/eak/learning/nganga_ai/AminiCocoa/Amini-Cocoa-Contamination-Challenge/dataset/images/val/ID_y31JbP.jpeg: corrupt JPEG restored and saved\n",
      "\u001b[34m\u001b[1mval: \u001b[0mWARNING ⚠️ /data/home/eak/learning/nganga_ai/AminiCocoa/Amini-Cocoa-Contamination-Challenge/dataset/images/val/ID_y3QgnO.jpg: corrupt JPEG restored and saved\n",
      "\u001b[34m\u001b[1mval: \u001b[0mWARNING ⚠️ /data/home/eak/learning/nganga_ai/AminiCocoa/Amini-Cocoa-Contamination-Challenge/dataset/images/val/ID_yjwlQG.jpeg: corrupt JPEG restored and saved\n",
      "\u001b[34m\u001b[1mval: \u001b[0mWARNING ⚠️ /data/home/eak/learning/nganga_ai/AminiCocoa/Amini-Cocoa-Contamination-Challenge/dataset/images/val/ID_z6gC1L.jpg: corrupt JPEG restored and saved\n"
     ]
    },
    {
     "name": "stderr",
     "output_type": "stream",
     "text": [
      "\n",
      "                 Class     Images  Instances      Box(P          R      mAP50  mAP50-95): 100%|██████████| 70/70 [00:12<00:00,  5.72it/s]\n"
     ]
    },
    {
     "name": "stdout",
     "output_type": "stream",
     "text": [
      "                   all       1106       1962      0.768      0.717      0.787      0.526\n",
      "           anthracnose        315        436      0.763      0.725      0.804      0.552\n",
      "                 cssvd        447        653      0.808      0.692      0.765      0.514\n",
      "               healthy        345        873      0.734      0.733      0.791      0.512\n",
      "Speed: 0.6ms preprocess, 2.6ms inference, 0.0ms loss, 0.9ms postprocess per image\n",
      "Results saved to \u001b[1m/data/home/eak/learning/nganga_ai/AminiCocoa/Amini-Cocoa-Contamination-Challenge/runs/detect/val5\u001b[0m\n"
     ]
    }
   ],
   "source": [
    "metrics = model.val(data=\"data.yaml\", imgsz=1024)"
   ]
  },
  {
   "cell_type": "code",
   "execution_count": 6,
   "id": "63c18d13",
   "metadata": {},
   "outputs": [
    {
     "name": "stdout",
     "output_type": "stream",
     "text": [
      "\n",
      "image 1/1 /data/home/eak/learning/nganga_ai/AminiCocoa/Amini-Cocoa-Contamination-Challenge/dataset/images/val/ID_a8ILTq.JPG: 1024x768 4 healthys, 86.8ms\n",
      "Speed: 7.7ms preprocess, 86.8ms inference, 2.4ms postprocess per image at shape (1, 3, 1024, 768)\n"
     ]
    },
    {
     "data": {
      "text/plain": [
       "[ultralytics.engine.results.Results object with attributes:\n",
       " \n",
       " boxes: ultralytics.engine.results.Boxes object\n",
       " keypoints: None\n",
       " masks: None\n",
       " names: {0: 'anthracnose', 1: 'cssvd', 2: 'healthy'}\n",
       " obb: None\n",
       " orig_img: array([[[132, 139, 142],\n",
       "         [110, 117, 120],\n",
       "         [113, 120, 123],\n",
       "         ...,\n",
       "         [ 16,  21,  22],\n",
       "         [ 14,  19,  20],\n",
       "         [ 11,  16,  17]],\n",
       " \n",
       "        [[ 95, 102, 105],\n",
       "         [ 89,  96,  99],\n",
       "         [ 88,  95,  98],\n",
       "         ...,\n",
       "         [ 16,  21,  22],\n",
       "         [ 16,  21,  22],\n",
       "         [ 14,  19,  20]],\n",
       " \n",
       "        [[ 95, 100, 103],\n",
       "         [ 95, 100, 103],\n",
       "         [ 83,  88,  91],\n",
       "         ...,\n",
       "         [ 16,  21,  22],\n",
       "         [ 16,  21,  22],\n",
       "         [ 15,  20,  21]],\n",
       " \n",
       "        ...,\n",
       " \n",
       "        [[164, 164, 180],\n",
       "         [162, 162, 178],\n",
       "         [159, 159, 175],\n",
       "         ...,\n",
       "         [132, 128, 140],\n",
       "         [128, 124, 136],\n",
       "         [123, 119, 131]],\n",
       " \n",
       "        [[165, 168, 183],\n",
       "         [160, 163, 178],\n",
       "         [156, 159, 174],\n",
       "         ...,\n",
       "         [138, 134, 146],\n",
       "         [139, 135, 147],\n",
       "         [139, 135, 147]],\n",
       " \n",
       "        [[157, 160, 175],\n",
       "         [156, 159, 174],\n",
       "         [156, 159, 174],\n",
       "         ...,\n",
       "         [141, 137, 149],\n",
       "         [140, 136, 148],\n",
       "         [149, 145, 157]]], dtype=uint8)\n",
       " orig_shape: (3264, 2448)\n",
       " path: '/data/home/eak/learning/nganga_ai/AminiCocoa/Amini-Cocoa-Contamination-Challenge/dataset/images/val/ID_a8ILTq.JPG'\n",
       " probs: None\n",
       " save_dir: '/data/home/eak/learning/nganga_ai/AminiCocoa/Amini-Cocoa-Contamination-Challenge/runs/detect/predict'\n",
       " speed: {'preprocess': 7.717997999861836, 'inference': 86.82707196567208, 'postprocess': 2.3834280436858535}]"
      ]
     },
     "execution_count": 6,
     "metadata": {},
     "output_type": "execute_result"
    }
   ],
   "source": [
    "model(\"dataset/images/val/ID_a8ILTq.JPG\")"
   ]
  },
  {
   "cell_type": "code",
   "execution_count": 7,
   "id": "2fccb782",
   "metadata": {},
   "outputs": [
    {
     "name": "stdout",
     "output_type": "stream",
     "text": [
      "\n",
      "image 1/1 /data/home/eak/learning/nganga_ai/AminiCocoa/Amini-Cocoa-Contamination-Challenge/dataset/images/val/ID_a8ILTq.JPG: 1024x768 4 healthys, 13.1ms\n",
      "Speed: 33.6ms preprocess, 13.1ms inference, 1.8ms postprocess per image at shape (1, 3, 1024, 768)\n"
     ]
    },
    {
     "data": {
      "text/plain": [
       "[ultralytics.engine.results.Results object with attributes:\n",
       " \n",
       " boxes: ultralytics.engine.results.Boxes object\n",
       " keypoints: None\n",
       " masks: None\n",
       " names: {0: 'anthracnose', 1: 'cssvd', 2: 'healthy'}\n",
       " obb: None\n",
       " orig_img: array([[[132, 139, 142],\n",
       "         [110, 117, 120],\n",
       "         [113, 120, 123],\n",
       "         ...,\n",
       "         [ 16,  21,  22],\n",
       "         [ 14,  19,  20],\n",
       "         [ 11,  16,  17]],\n",
       " \n",
       "        [[ 95, 102, 105],\n",
       "         [ 89,  96,  99],\n",
       "         [ 88,  95,  98],\n",
       "         ...,\n",
       "         [ 16,  21,  22],\n",
       "         [ 16,  21,  22],\n",
       "         [ 14,  19,  20]],\n",
       " \n",
       "        [[ 95, 100, 103],\n",
       "         [ 95, 100, 103],\n",
       "         [ 83,  88,  91],\n",
       "         ...,\n",
       "         [ 16,  21,  22],\n",
       "         [ 16,  21,  22],\n",
       "         [ 15,  20,  21]],\n",
       " \n",
       "        ...,\n",
       " \n",
       "        [[164, 164, 180],\n",
       "         [162, 162, 178],\n",
       "         [159, 159, 175],\n",
       "         ...,\n",
       "         [132, 128, 140],\n",
       "         [128, 124, 136],\n",
       "         [123, 119, 131]],\n",
       " \n",
       "        [[165, 168, 183],\n",
       "         [160, 163, 178],\n",
       "         [156, 159, 174],\n",
       "         ...,\n",
       "         [138, 134, 146],\n",
       "         [139, 135, 147],\n",
       "         [139, 135, 147]],\n",
       " \n",
       "        [[157, 160, 175],\n",
       "         [156, 159, 174],\n",
       "         [156, 159, 174],\n",
       "         ...,\n",
       "         [141, 137, 149],\n",
       "         [140, 136, 148],\n",
       "         [149, 145, 157]]], dtype=uint8)\n",
       " orig_shape: (3264, 2448)\n",
       " path: '/data/home/eak/learning/nganga_ai/AminiCocoa/Amini-Cocoa-Contamination-Challenge/dataset/images/val/ID_a8ILTq.JPG'\n",
       " probs: None\n",
       " save_dir: '/data/home/eak/learning/nganga_ai/AminiCocoa/Amini-Cocoa-Contamination-Challenge/runs/detect/predict'\n",
       " speed: {'preprocess': 33.617382985539734, 'inference': 13.085981016047299, 'postprocess': 1.7588810296729207}]"
      ]
     },
     "execution_count": 7,
     "metadata": {},
     "output_type": "execute_result"
    }
   ],
   "source": [
    "model(\"dataset/images/val/ID_a8ILTq.JPG\", imgsz=1024)"
   ]
  },
  {
   "cell_type": "code",
   "execution_count": 8,
   "id": "8ae4862f",
   "metadata": {},
   "outputs": [
    {
     "data": {
      "text/plain": [
       "1106"
      ]
     },
     "execution_count": 8,
     "metadata": {},
     "output_type": "execute_result"
    }
   ],
   "source": [
    "files = glob(\"dataset/images/val/*\")\n",
    "len(files)"
   ]
  },
  {
   "cell_type": "code",
   "execution_count": 9,
   "id": "a3173eb4",
   "metadata": {},
   "outputs": [
    {
     "data": {
      "text/plain": [
       "'dataset/images/val/ID_wL0rLJ.jpg'"
      ]
     },
     "execution_count": 9,
     "metadata": {},
     "output_type": "execute_result"
    }
   ],
   "source": [
    "import random\n",
    "\n",
    "file = random.choice(files)\n",
    "file"
   ]
  },
  {
   "cell_type": "code",
   "execution_count": 10,
   "id": "330fc711",
   "metadata": {},
   "outputs": [
    {
     "name": "stdout",
     "output_type": "stream",
     "text": [
      "\n",
      "image 1/1 /data/home/eak/learning/nganga_ai/AminiCocoa/Amini-Cocoa-Contamination-Challenge/dataset/images/val/ID_wL0rLJ.jpg: 1024x768 1 cssvd, 14.3ms\n",
      "Speed: 39.4ms preprocess, 14.3ms inference, 1.8ms postprocess per image at shape (1, 3, 1024, 768)\n",
      "tensor([[ 108.9529,   60.9776,  852.6382, 1259.4216]], device='cuda:0') tensor([0.8289], device='cuda:0') tensor([1.], device='cuda:0')\n"
     ]
    }
   ],
   "source": [
    "results = model(file, )\n",
    "\n",
    "for r in results:\n",
    "    print(r.boxes.xyxy, r.boxes.conf, r.boxes.cls)"
   ]
  },
  {
   "cell_type": "code",
   "execution_count": 12,
   "id": "b78a78d7",
   "metadata": {},
   "outputs": [],
   "source": [
    "from ultralytics.engine.predictor import BasePredictor"
   ]
  },
  {
   "cell_type": "code",
   "execution_count": 13,
   "id": "34f8626c",
   "metadata": {},
   "outputs": [
    {
     "data": {
      "text/plain": [
       "<ultralytics.engine.predictor.BasePredictor at 0x7f23e2d273d0>"
      ]
     },
     "execution_count": 13,
     "metadata": {},
     "output_type": "execute_result"
    }
   ],
   "source": [
    "predictor = BasePredictor(\"runs/detect/train5/args.yaml\")\n",
    "predictor"
   ]
  },
  {
   "cell_type": "code",
   "execution_count": 17,
   "id": "f9bf993b",
   "metadata": {},
   "outputs": [
    {
     "data": {
      "text/plain": [
       "namespace(task='detect',\n",
       "          mode='train',\n",
       "          model='yolo11n.pt',\n",
       "          data='data.yaml',\n",
       "          epochs=100,\n",
       "          time=None,\n",
       "          patience=10,\n",
       "          batch=32,\n",
       "          imgsz=1024,\n",
       "          save=False,\n",
       "          save_period=-1,\n",
       "          cache=False,\n",
       "          device='cuda',\n",
       "          workers=4,\n",
       "          project=None,\n",
       "          name='train5',\n",
       "          exist_ok=False,\n",
       "          pretrained=True,\n",
       "          optimizer='auto',\n",
       "          verbose=False,\n",
       "          seed=0,\n",
       "          deterministic=True,\n",
       "          single_cls=False,\n",
       "          rect=False,\n",
       "          cos_lr=False,\n",
       "          close_mosaic=10,\n",
       "          resume=False,\n",
       "          amp=True,\n",
       "          fraction=1.0,\n",
       "          profile=False,\n",
       "          freeze=None,\n",
       "          multi_scale=True,\n",
       "          overlap_mask=True,\n",
       "          mask_ratio=4,\n",
       "          dropout=0.0,\n",
       "          val=True,\n",
       "          split='val',\n",
       "          save_json=False,\n",
       "          conf=0.25,\n",
       "          iou=0.7,\n",
       "          max_det=30,\n",
       "          half=False,\n",
       "          dnn=False,\n",
       "          plots=True,\n",
       "          source=None,\n",
       "          vid_stride=1,\n",
       "          stream_buffer=False,\n",
       "          visualize=False,\n",
       "          augment=False,\n",
       "          agnostic_nms=False,\n",
       "          classes=None,\n",
       "          retina_masks=False,\n",
       "          embed=None,\n",
       "          show=False,\n",
       "          save_frames=False,\n",
       "          save_txt=False,\n",
       "          save_conf=False,\n",
       "          save_crop=False,\n",
       "          show_labels=True,\n",
       "          show_conf=True,\n",
       "          show_boxes=True,\n",
       "          line_width=None,\n",
       "          format='torchscript',\n",
       "          keras=False,\n",
       "          optimize=False,\n",
       "          int8=False,\n",
       "          dynamic=False,\n",
       "          simplify=True,\n",
       "          opset=None,\n",
       "          workspace=None,\n",
       "          nms=False,\n",
       "          lr0=0.01,\n",
       "          lrf=0.01,\n",
       "          momentum=0.937,\n",
       "          weight_decay=0.0005,\n",
       "          warmup_epochs=3.0,\n",
       "          warmup_momentum=0.8,\n",
       "          warmup_bias_lr=0.1,\n",
       "          box=7.5,\n",
       "          cls=0.5,\n",
       "          dfl=1.5,\n",
       "          pose=12.0,\n",
       "          kobj=1.0,\n",
       "          nbs=64,\n",
       "          hsv_h=0.015,\n",
       "          hsv_s=0.7,\n",
       "          hsv_v=0.4,\n",
       "          degrees=0.0,\n",
       "          translate=0.1,\n",
       "          scale=0.5,\n",
       "          shear=0.0,\n",
       "          perspective=0.0,\n",
       "          flipud=0.0,\n",
       "          fliplr=0.5,\n",
       "          bgr=0.0,\n",
       "          mosaic=1.0,\n",
       "          mixup=0.0,\n",
       "          copy_paste=0.0,\n",
       "          copy_paste_mode='flip',\n",
       "          auto_augment='randaugment',\n",
       "          erasing=0.4,\n",
       "          cfg=None,\n",
       "          tracker='botsort.yaml',\n",
       "          save_dir='/data/home/eak/learning/nganga_ai/AminiCocoa/Amini-Cocoa-Contamination-Challenge/runs/detect/train5')"
      ]
     },
     "execution_count": 17,
     "metadata": {},
     "output_type": "execute_result"
    }
   ],
   "source": [
    "predictor.args.verbose = False\n",
    "predictor.args.save = False\n",
    "predictor.args.save_txt = False\n",
    "predictor.args.show = False\n",
    "\n",
    "predictor.args"
   ]
  },
  {
   "cell_type": "code",
   "execution_count": 18,
   "id": "e6f55e96",
   "metadata": {},
   "outputs": [
    {
     "data": {
      "text/plain": [
       "[tensor([[[3.8681e+00, 1.4261e+01, 2.1930e+01,  ..., 9.5428e+02, 9.6631e+02, 9.7752e+02],\n",
       "          [4.3138e+00, 3.5830e+00, 3.8649e+00,  ..., 9.7085e+02, 9.7025e+02, 9.6414e+02],\n",
       "          [8.7004e+00, 2.8988e+01, 5.0691e+01,  ..., 1.1409e+02, 1.1326e+02, 1.1424e+02],\n",
       "          ...,\n",
       "          [6.8545e-08, 1.9521e-08, 2.6569e-08,  ..., 8.5250e-07, 7.9514e-07, 1.2491e-06],\n",
       "          [6.2662e-08, 3.0133e-08, 3.7450e-08,  ..., 1.2004e-06, 1.1831e-06, 1.1901e-06],\n",
       "          [7.1233e-08, 3.0811e-08, 3.3868e-08,  ..., 1.2686e-06, 1.2023e-06, 1.3577e-06]]], device='cuda:0'),\n",
       " [tensor([[[[  6.9872,   3.7651,   2.0801,  ...,   1.5467,   1.7928,   5.1793],\n",
       "            [  6.5611,   3.4264,   1.6002,  ...,   0.8684,   2.5893,   7.6735],\n",
       "            [  6.4430,   3.2292,   2.6996,  ...,   2.2620,   4.2513,   7.7884],\n",
       "            ...,\n",
       "            [  6.3831,   3.6175,   1.9701,  ...,   2.0749,   4.7184,   8.1266],\n",
       "            [  7.0265,   4.3161,   2.4167,  ...,   2.9857,   4.5060,   7.7702],\n",
       "            [  5.8824,   3.4017,   2.3457,  ...,   2.8809,   3.6944,   6.5428]],\n",
       "  \n",
       "           [[  6.9649,   5.7483,   2.7275,  ...,   2.6194,   2.7712,   5.7633],\n",
       "            [  6.5312,   5.0788,   1.9979,  ...,   1.6342,   3.2711,   6.8273],\n",
       "            [  6.4224,   4.9708,   2.9425,  ...,   2.9054,   4.8011,   6.4729],\n",
       "            ...,\n",
       "            [  6.3607,   5.7100,   2.6974,  ...,   2.9772,   5.4384,   6.8093],\n",
       "            [  7.0335,   5.9751,   3.0049,  ...,   3.6234,   5.0006,   7.2220],\n",
       "            [  5.8701,   4.4801,   2.7737,  ...,   3.3928,   4.1765,   6.4390]],\n",
       "  \n",
       "           [[  3.5137,   5.6100,   3.9559,  ...,   2.8161,   2.9786,   4.6361],\n",
       "            [  3.0844,   5.0573,   2.9679,  ...,   1.8666,   2.7592,   3.7620],\n",
       "            [  3.1880,   4.9584,   3.1664,  ...,   2.9912,   4.2132,   3.3681],\n",
       "            ...,\n",
       "            [  3.3416,   5.6620,   3.6714,  ...,   3.4580,   4.7564,   3.5401],\n",
       "            [  3.0272,   5.9620,   3.6251,  ...,   3.5123,   4.2271,   4.2250],\n",
       "            [  2.9370,   4.1223,   3.0046,  ...,   3.4167,   3.6894,   4.0212]],\n",
       "  \n",
       "           ...,\n",
       "  \n",
       "           [[-16.4958, -17.7518, -17.4435,  ..., -17.2642, -17.3955, -16.7659],\n",
       "            [-17.0650, -17.8380, -17.1823,  ..., -17.0141, -17.5978, -17.0863],\n",
       "            [-17.2973, -17.9986, -17.3080,  ..., -17.4889, -18.1035, -17.1755],\n",
       "            ...,\n",
       "            [-16.7104, -16.9834, -16.6254,  ..., -16.7052, -17.3733, -16.6668],\n",
       "            [-16.6678, -17.3939, -17.2092,  ..., -17.3492, -17.7369, -16.8102],\n",
       "            [-15.8410, -16.4998, -16.3548,  ..., -16.8904, -17.2194, -16.1705]],\n",
       "  \n",
       "           [[-16.5855, -17.3176, -17.1003,  ..., -16.9720, -17.0721, -16.8475],\n",
       "            [-17.2095, -17.5659, -16.9228,  ..., -16.9910, -17.4388, -17.0308],\n",
       "            [-17.2703, -17.7026, -17.1244,  ..., -17.2916, -17.6808, -16.9859],\n",
       "            ...,\n",
       "            [-16.8026, -16.9200, -16.6856,  ..., -16.8209, -17.0953, -16.5307],\n",
       "            [-16.6433, -17.1404, -17.0183,  ..., -17.1709, -17.3003, -16.6720],\n",
       "            [-16.0425, -16.2109, -16.0625,  ..., -16.7339, -16.9594, -16.3453]],\n",
       "  \n",
       "           [[-16.4573, -17.2954, -17.2008,  ..., -16.8045, -16.9749, -16.7189],\n",
       "            [-17.0996, -17.3606, -16.8244,  ..., -16.7793, -17.3485, -16.9746],\n",
       "            [-17.1799, -17.4709, -16.8330,  ..., -16.8870, -17.4901, -16.8966],\n",
       "            ...,\n",
       "            [-16.5454, -16.5364, -16.2961,  ..., -16.4428, -16.7536, -16.4214],\n",
       "            [-16.2786, -16.7608, -16.7414,  ..., -16.9515, -17.1250, -16.6072],\n",
       "            [-15.6417, -15.7833, -15.7143,  ..., -16.5154, -16.7733, -16.4441]]]], device='cuda:0'),\n",
       "  tensor([[[[  5.1221,   3.4967,   2.9551,  ...,   1.4236,   1.7744,   3.7086],\n",
       "            [  5.1056,   3.4928,   3.0700,  ...,   1.3733,   1.7385,   5.0488],\n",
       "            [  5.5424,   4.2343,   3.3048,  ...,   1.2116,   1.4719,   5.3005],\n",
       "            ...,\n",
       "            [  5.7100,   3.9882,   3.0403,  ...,   1.1103,   0.8390,   6.2052],\n",
       "            [  5.9045,   3.4830,   3.2591,  ...,   1.2513,   1.1446,   5.3192],\n",
       "            [  6.3111,   3.7653,   3.0253,  ...,   1.6129,   2.0018,   5.5108]],\n",
       "  \n",
       "           [[  5.0236,   4.8637,   3.8623,  ...,   2.3717,   2.5571,   3.7994],\n",
       "            [  4.8602,   4.6600,   4.1056,  ...,   2.3031,   2.4085,   4.2615],\n",
       "            [  5.3662,   5.2609,   4.4716,  ...,   2.2945,   2.4349,   4.3761],\n",
       "            ...,\n",
       "            [  5.4536,   5.2274,   4.5571,  ...,   2.1068,   2.0377,   5.2776],\n",
       "            [  5.5625,   5.1816,   4.8449,  ...,   2.2018,   2.6051,   4.7044],\n",
       "            [  6.0876,   5.2963,   4.4346,  ...,   2.5585,   3.0965,   5.0343]],\n",
       "  \n",
       "           [[  3.7874,   4.6491,   3.8513,  ...,   3.1046,   3.2934,   3.7153],\n",
       "            [  3.6374,   4.5133,   3.7006,  ...,   2.8024,   3.0219,   3.2403],\n",
       "            [  3.8836,   4.7772,   3.7821,  ...,   2.9988,   3.2656,   3.2621],\n",
       "            ...,\n",
       "            [  3.6424,   4.9230,   4.0707,  ...,   2.7092,   2.6707,   3.7987],\n",
       "            [  3.5830,   5.1620,   4.5482,  ...,   2.9468,   3.1752,   3.8197],\n",
       "            [  4.0297,   5.0196,   4.5386,  ...,   3.3647,   3.7092,   3.9663]],\n",
       "  \n",
       "           ...,\n",
       "  \n",
       "           [[-15.0843, -15.3103, -14.9528,  ..., -15.1662, -15.5149, -15.3082],\n",
       "            [-14.7030, -15.1696, -15.0836,  ..., -15.4352, -15.4429, -15.1458],\n",
       "            [-15.0868, -15.3849, -15.3155,  ..., -15.4648, -15.4270, -15.3034],\n",
       "            ...,\n",
       "            [-14.0347, -14.6741, -15.3274,  ..., -15.9589, -15.3463, -14.8085],\n",
       "            [-13.9467, -14.1632, -14.3594,  ..., -15.1214, -15.0689, -14.8752],\n",
       "            [-14.4483, -14.6865, -14.4079,  ..., -15.2975, -15.1233, -15.1356]],\n",
       "  \n",
       "           [[-15.0829, -15.3338, -15.1332,  ..., -15.0780, -15.3331, -15.1786],\n",
       "            [-14.9421, -15.4506, -15.2725,  ..., -15.0160, -15.2902, -15.0660],\n",
       "            [-15.2371, -15.8897, -15.8033,  ..., -15.1980, -15.4504, -15.1609],\n",
       "            ...,\n",
       "            [-14.4979, -15.3583, -15.6047,  ..., -15.5815, -15.3150, -14.6906],\n",
       "            [-14.3241, -15.0330, -15.2332,  ..., -15.3245, -15.1102, -14.6938],\n",
       "            [-14.3782, -14.6691, -14.5291,  ..., -14.9958, -14.8034, -14.6621]],\n",
       "  \n",
       "           [[-14.3455, -14.5596, -14.0664,  ..., -14.0125, -14.4596, -14.4650],\n",
       "            [-14.0258, -14.5940, -14.3305,  ..., -14.2946, -14.5631, -14.5755],\n",
       "            [-14.0807, -14.8447, -14.6474,  ..., -14.5594, -14.7097, -14.7730],\n",
       "            ...,\n",
       "            [-14.0385, -14.9834, -15.3059,  ..., -15.3253, -15.1693, -14.6610],\n",
       "            [-13.9341, -14.7695, -14.9036,  ..., -15.1442, -15.0563, -14.7051],\n",
       "            [-14.0993, -14.5191, -14.2961,  ..., -14.8182, -14.7160, -14.5812]]]], device='cuda:0'),\n",
       "  tensor([[[[  4.1985,   3.7050,   2.5061,  ...,   3.2114,   2.8668,   2.0587],\n",
       "            [  4.7685,   4.7608,   3.0957,  ...,   3.0900,   3.0584,   2.1366],\n",
       "            [  6.3082,   5.1857,   3.0938,  ...,   3.1788,   3.1333,   2.1868],\n",
       "            ...,\n",
       "            [  7.3510,   4.5840,   2.8587,  ...,   3.3706,   3.2202,   2.6121],\n",
       "            [  6.3183,   4.5009,   2.8385,  ...,   3.4934,   3.2665,   2.5435],\n",
       "            [  4.9532,   4.3038,   2.8758,  ...,   3.9680,   3.3182,   2.5517]],\n",
       "  \n",
       "           [[  4.1565,   5.1385,   3.4833,  ...,   4.4160,   3.4557,   2.9946],\n",
       "            [  4.2711,   6.4332,   4.6432,  ...,   4.4612,   3.6239,   3.1203],\n",
       "            [  5.2461,   6.8684,   5.0652,  ...,   4.5644,   3.6174,   3.0414],\n",
       "            ...,\n",
       "            [  6.5358,   6.8281,   4.7123,  ...,   4.3680,   3.5516,   3.4688],\n",
       "            [  5.6292,   6.8205,   4.4823,  ...,   4.7821,   3.9390,   3.6151],\n",
       "            [  4.6633,   6.1411,   3.8549,  ...,   5.3098,   4.2595,   3.4324]],\n",
       "  \n",
       "           [[  2.9548,   4.3937,   4.5585,  ...,   4.0656,   4.2130,   3.5168],\n",
       "            [  2.9663,   5.0709,   5.7211,  ...,   4.2027,   4.3401,   3.5777],\n",
       "            [  2.7701,   5.0376,   6.3327,  ...,   4.2709,   4.3587,   3.5572],\n",
       "            ...,\n",
       "            [  3.1285,   5.5579,   6.3184,  ...,   3.9600,   3.9343,   3.8088],\n",
       "            [  3.1779,   5.6281,   5.9771,  ...,   4.3956,   4.4794,   3.9948],\n",
       "            [  3.0237,   5.0911,   4.9924,  ...,   4.7859,   4.7789,   3.9390]],\n",
       "  \n",
       "           ...,\n",
       "  \n",
       "           [[-12.8960, -13.4348, -13.1011,  ..., -13.6166, -13.6188, -13.3251],\n",
       "            [-13.5283, -13.0519, -13.5841,  ..., -13.9098, -13.9704, -13.4670],\n",
       "            [-14.0157, -13.9749, -13.6619,  ..., -14.4765, -14.5732, -13.9816],\n",
       "            ...,\n",
       "            [-12.7978, -13.4426, -13.0285,  ..., -14.3152, -14.3228, -13.4978],\n",
       "            [-13.2196, -13.5290, -13.9989,  ..., -14.4484, -14.4984, -13.7004],\n",
       "            [-13.1866, -13.5346, -13.6177,  ..., -13.9751, -14.0447, -13.5931]],\n",
       "  \n",
       "           [[-13.5060, -13.6265, -13.5201,  ..., -13.6381, -13.5709, -13.5697],\n",
       "            [-13.7008, -12.8242, -13.4229,  ..., -13.6481, -13.4982, -13.6157],\n",
       "            [-13.7307, -13.3835, -13.3724,  ..., -13.9029, -13.7908, -13.8645],\n",
       "            ...,\n",
       "            [-13.4634, -13.5808, -13.6283,  ..., -13.9949, -13.8447, -13.7120],\n",
       "            [-13.6090, -13.3696, -13.8009,  ..., -13.8707, -13.7386, -13.6539],\n",
       "            [-13.5332, -13.5537, -13.6501,  ..., -13.6329, -13.6473, -13.6415]],\n",
       "  \n",
       "           [[-13.0706, -13.1826, -13.1848,  ..., -13.3424, -13.2606, -13.2183],\n",
       "            [-13.1230, -12.5995, -13.1878,  ..., -13.4110, -13.1972, -13.2121],\n",
       "            [-13.3531, -13.2215, -13.1316,  ..., -13.6362, -13.5436, -13.4606],\n",
       "            ...,\n",
       "            [-13.4257, -13.5488, -13.4694,  ..., -13.7675, -13.8063, -13.5664],\n",
       "            [-13.5066, -13.3247, -13.6858,  ..., -13.9162, -13.8222, -13.6009],\n",
       "            [-13.3093, -13.3182, -13.4197,  ..., -13.5776, -13.6313, -13.5097]]]], device='cuda:0')]]"
      ]
     },
     "execution_count": 18,
     "metadata": {},
     "output_type": "execute_result"
    }
   ],
   "source": [
    "preds = predictor(file,)\n",
    "\n",
    "preds"
   ]
  },
  {
   "cell_type": "code",
   "execution_count": 19,
   "id": "bcebf2ea",
   "metadata": {},
   "outputs": [
    {
     "name": "stdout",
     "output_type": "stream",
     "text": [
      "torch.Size([1, 84, 21504])\n"
     ]
    },
    {
     "ename": "AttributeError",
     "evalue": "'list' object has no attribute 'shape'",
     "output_type": "error",
     "traceback": [
      "\u001b[0;31m---------------------------------------------------------------------------\u001b[0m",
      "\u001b[0;31mAttributeError\u001b[0m                            Traceback (most recent call last)",
      "Cell \u001b[0;32mIn[19], line 2\u001b[0m\n\u001b[1;32m      1\u001b[0m \u001b[38;5;28;01mfor\u001b[39;00m pred \u001b[38;5;129;01min\u001b[39;00m preds:\n\u001b[0;32m----> 2\u001b[0m     \u001b[38;5;28mprint\u001b[39m(\u001b[43mpred\u001b[49m\u001b[38;5;241;43m.\u001b[39;49m\u001b[43mshape\u001b[49m)\n",
      "\u001b[0;31mAttributeError\u001b[0m: 'list' object has no attribute 'shape'"
     ]
    }
   ],
   "source": [
    "for pred in preds:\n",
    "    print(pred.shape)"
   ]
  },
  {
   "cell_type": "code",
   "execution_count": 20,
   "id": "8e85e49d",
   "metadata": {},
   "outputs": [
    {
     "name": "stdout",
     "output_type": "stream",
     "text": [
      "[<class 'torch.Tensor'>, <class 'list'>]\n"
     ]
    }
   ],
   "source": [
    "print([type(i) for i in preds])"
   ]
  },
  {
   "cell_type": "code",
   "execution_count": 22,
   "id": "278cdb5e",
   "metadata": {},
   "outputs": [
    {
     "name": "stdout",
     "output_type": "stream",
     "text": [
      "torch.Size([1, 144, 128, 128])\n",
      "torch.Size([1, 144, 64, 64])\n",
      "torch.Size([1, 144, 32, 32])\n"
     ]
    }
   ],
   "source": [
    "for pred in preds[1]:\n",
    "    print(pred.shape)"
   ]
  },
  {
   "cell_type": "code",
   "execution_count": 23,
   "id": "79460209",
   "metadata": {},
   "outputs": [
    {
     "name": "stdout",
     "output_type": "stream",
     "text": [
      "tensor([[ 108.9529,   60.9776,  852.6382, 1259.4216]], device='cuda:0') tensor([0.8289], device='cuda:0') tensor([1.], device='cuda:0')\n"
     ]
    }
   ],
   "source": [
    "results = model(file, predictor=predictor)\n",
    "\n",
    "for r in results:\n",
    "    print(r.boxes.xyxy, r.boxes.conf, r.boxes.cls)"
   ]
  },
  {
   "cell_type": "code",
   "execution_count": null,
   "id": "b4888077",
   "metadata": {},
   "outputs": [],
   "source": []
  }
 ],
 "metadata": {
  "kernelspec": {
   "display_name": ".venv",
   "language": "python",
   "name": "python3"
  },
  "language_info": {
   "codemirror_mode": {
    "name": "ipython",
    "version": 3
   },
   "file_extension": ".py",
   "mimetype": "text/x-python",
   "name": "python",
   "nbconvert_exporter": "python",
   "pygments_lexer": "ipython3",
   "version": "3.10.13"
  }
 },
 "nbformat": 4,
 "nbformat_minor": 5
}
