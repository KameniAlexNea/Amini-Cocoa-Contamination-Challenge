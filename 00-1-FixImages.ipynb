{
 "cells": [
  {
   "cell_type": "code",
   "execution_count": 1,
   "id": "cbe08f4d",
   "metadata": {},
   "outputs": [],
   "source": [
    "from PIL import Image, ExifTags\n",
    "import os\n",
    "from glob import glob\n",
    "from tqdm import tqdm"
   ]
  },
  {
   "cell_type": "code",
   "execution_count": 2,
   "id": "23def779",
   "metadata": {},
   "outputs": [
    {
     "data": {
      "text/plain": [
       "7155"
      ]
     },
     "execution_count": 2,
     "metadata": {},
     "output_type": "execute_result"
    }
   ],
   "source": [
    "files = glob(\"dataset/images/*/*\")\n",
    "len(files)"
   ]
  },
  {
   "cell_type": "code",
   "execution_count": 3,
   "id": "d30aee5b",
   "metadata": {},
   "outputs": [
    {
     "data": {
      "text/plain": [
       "274"
      ]
     },
     "execution_count": 3,
     "metadata": {},
     "output_type": "execute_result"
    }
   ],
   "source": [
    "for flag, v in ExifTags.TAGS.items():\n",
    "\tif v == \"Orientation\":\n",
    "\t\tbreak\n",
    "\n",
    "\n",
    "def load_image(filepath):\n",
    "\timage = Image.open(filepath)\n",
    "\n",
    "\texif = image._getexif()\n",
    "\tif exif is None:\n",
    "\t\treturn image\n",
    "\n",
    "\torientation_value = exif.get(flag, None)\n",
    "\tchanged = orientation_value in [3, 6, 8]\n",
    "\t\n",
    "\tif orientation_value == 3:\n",
    "\t\timage = image.rotate(180, expand=True)\n",
    "\telif orientation_value == 6:\n",
    "\t\timage = image.rotate(270, expand=True)\n",
    "\telif orientation_value == 8:\n",
    "\t\timage = image.rotate(90, expand=True)\n",
    "\tif changed:\n",
    "\t\tsave_image(image, filepath)\n",
    "\n",
    "def save_image(image: Image.Image, filepath):\n",
    "\timage.save(filepath, quality=95)\n",
    "\timage.close()\n",
    "\n",
    "\n",
    "flag"
   ]
  },
  {
   "cell_type": "code",
   "execution_count": null,
   "id": "61adb3c3",
   "metadata": {},
   "outputs": [
    {
     "name": "stderr",
     "output_type": "stream",
     "text": [
      "  0%|          | 0/7155 [00:00<?, ?it/s]"
     ]
    },
    {
     "name": "stderr",
     "output_type": "stream",
     "text": [
      "100%|██████████| 7155/7155 [05:11<00:00, 22.96it/s]\n"
     ]
    }
   ],
   "source": [
    "from concurrent.futures import ThreadPoolExecutor\n",
    "\n",
    "# for i in tqdm(files):\n",
    "# \ttry:\n",
    "# \t\tload_image(i)\n",
    "# \texcept Exception as e:\n",
    "# \t\tprint(f\"Error processing {i}: {e}\")\n",
    "# \t\tcontinue\n",
    "\n",
    "with ThreadPoolExecutor() as executor:\n",
    "\tfutures = [executor.submit(load_image, file) for file in files]\n",
    "\tfor future in tqdm(futures):\n",
    "\t\ttry:\n",
    "\t\t\tfuture.result()\n",
    "\t\texcept Exception as e:\n",
    "\t\t\tprint(f\"Error processing file: {e}\")"
   ]
  },
  {
   "cell_type": "code",
   "execution_count": null,
   "id": "a1c568eb",
   "metadata": {},
   "outputs": [],
   "source": []
  }
 ],
 "metadata": {
  "kernelspec": {
   "display_name": ".venv",
   "language": "python",
   "name": "python3"
  },
  "language_info": {
   "codemirror_mode": {
    "name": "ipython",
    "version": 3
   },
   "file_extension": ".py",
   "mimetype": "text/x-python",
   "name": "python",
   "nbconvert_exporter": "python",
   "pygments_lexer": "ipython3",
   "version": "3.10.13"
  }
 },
 "nbformat": 4,
 "nbformat_minor": 5
}
